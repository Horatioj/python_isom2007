{
 "cells": [
  {
   "cell_type": "markdown",
   "metadata": {
    "deletable": false,
    "editable": false
   },
   "source": [
    "<h2 style=\"color:blue;\"><b>DATA PROCESSOMG AND ANALYSIS</b></h2>"
   ]
  },
  {
   "cell_type": "markdown",
   "metadata": {
    "deletable": false,
    "editable": false
   },
   "source": [
    "---------------------------\n",
    "\n",
    "<h3 style=\"color:blue;\"><b>Review Reading & Writing Text Files</b></h3>\n",
    "<ul style=\"color:SlateBlue;\">\n",
    "    <li>In previous discussions, we have learnt how to access, write, and append to text files.</li>\n",
    "    <li>Output of programs displayed on the screen will eventually lost.</li>\n",
    "    <li>In most real-life applications, we want to capture inputs from file rather than user at the time of running the programs or output to be preserved in a file in permanent storage instead of on the screen.</li>\n",
    "    </ul>"
   ]
  },
  {
   "cell_type": "markdown",
   "metadata": {
    "deletable": false,
    "editable": false
   },
   "source": [
    "<ul style=\"color:SlateBlue;\">\n",
    "    <li>Reading Text Files (Review):</li>\n",
    "    <ul style=\"color:DodgerBlue;\">\n",
    "        <li>Establish a connection between the program and the file with the statement</li>\n",
    "        <span style=\"color:White;\">..........</span><span style=\"color:orange;\">infile = open(fileName, ‘r’)</span>\n",
    "        <li style=\"color:DodgerBlue;\">The connection can be terminated with the statement</li>\n",
    "        <span style=\"color:White;\">..........</span><span style=\"color:orange;\">infile.close()</span>\n",
    "        <li style=\"color:DodgerBlue;\">The for loop with header below accesses the lines of the file in succession</li>\n",
    "        <span style=\"color:White;\">..........</span><span style=\"color:orange;\">for line in infile:</span>\n",
    "        <li style=\"color:DodgerBlue;\">The statement below creates a list of strings where each item of the list is a line of the file minus its newline (“\\n”) character</li>\n",
    "        <span style=\"color:White;\">..........</span><span style=\"color:orange;\">listVar = [line.rstrip() for line in infile]</span>\n",
    "         <li style=\"color:DodgerBlue;\">The statement of the form below places the entire contents of the file into a single string (i.e. contain the newline (“\\n”) character is exists)</li>\n",
    "<span style=\"color:White;\">..........</span><span style=\"color:orange;\">strVar = infile.read()</span>\n",
    "         <li style=\"color:DodgerBlue;\">The statement of the form below when executed, the current line is assigned to strVar and the pointer advances to the end of that line readline method in the statement below returns an empty string</li>\n",
    "<span style=\"color:White;\">..........</span><span style=\"color:orange;\">strVar = infile.readlin()</span>\n",
    "<li style=\"color:DodgerBlue;\">The statement of the form below places the entire contents of the file into a single string (i.e. contain the newline (“\\n”) character is exists)</li>\n",
    "<span style=\"color:White;\">..........</span><span style=\"color:orange;\">strVar = infile.read()</span>\n",
    "<li style=\"color:DodgerBlue;\">The statement of the form below when executed, the current line is assigned to strVar and the pointer advances to the end of that line readline method in the statement below returns an empty string</li>\n",
    "<span style=\"color:White;\">..........</span><span style=\"color:orange;\">strVar = infile.readlin()</span>\n",
    "<li style=\"color:DodgerBlue;\">The following program read the contents of the file into strVar with the readline method</li>\n",
    "<span style=\"color:White;\">..........</span><span style=\"color:orange;\">infile = open(filename, ‘r’)</span><br>\n",
    "<span style=\"color:White;\">..........</span><span style=\"color:orange;\">line = infile.readline()</span><br>\n",
    "        <span style=\"color:White;\">..........</span><span style=\"color:orange;\">strVar = []</span><br>\n",
    "        <span style=\"color:White;\">..........</span><span style=\"color:orange;\">while line != ‘’:</span><br>\n",
    "<span style=\"color:White;\">.................</span><span style=\"color:orange;\">strVar.append(line)      # use line[0:-2] can remove the ‘\\n</span><br>\n",
    "<span style=\"color:White;\">.................</span><span style=\"color:orange;\">line = infile.readline()</span><br>\n",
    "        <span style=\"color:White;\">..........</span><span style=\"color:orange;\">infile.close()</span>\n",
    "    </ul></ul>"
   ]
  },
  {
   "cell_type": "markdown",
   "metadata": {
    "deletable": false,
    "editable": false
   },
   "source": [
    "<ul style=\"color:SlateBlue;\">\n",
    "    <li>Writing Text Files (Review):</li>\n",
    "    <ul>\n",
    "        <li style=\"color:DodgerBlue;\">Establish a connection between the program and the file with the statement</li>\n",
    " <span style=\"color:White;\">..........</span><span style=\"color:orange;\">outfile = open(fileName, ‘w’)</span>\n",
    "        <li style=\"color:DodgerBlue;\">The connection can be terminated with the statement</li>\n",
    "        <span style=\"color:White;\">..........</span><span style=\"color:orange;\">outfile.close()</span>\n",
    " <li style=\"color:DodgerBlue;\">If list1 is a list of strings, where each string ends with a newline (\\n), the following statement writes each item of the list into the file as a line</li>\n",
    "<span style=\"color:White;\">..........</span><span style=\"color:orange;\">outfile.writelines(list1)</span>\n",
    " <li style=\"color:DodgerBlue;\">If the value of strVar is a string, the statement below adds the value of strVar to the file</li>\n",
    "     <span style=\"color:White;\">..........</span><span style=\"color:orange;\">outfile.write(strVar)</span>\n",
    "    </ul></ul>\n"
   ]
  },
  {
   "cell_type": "markdown",
   "metadata": {
    "deletable": false,
    "editable": false
   },
   "source": [
    "<ul style=\"color:SlateBlue;\">\n",
    "    <li>Adding Lines to an Existing File (Review):</li>\n",
    "    <ul>\n",
    "        <li style=\"color:DodgerBlue;\">\n",
    "            Establish a connection between the program and the file for append with the statement</li>\n",
    "<span style=\"color:White;\">..........</span><span style=\"color:orange;\">outfile = open(fileName, ‘a’)</span>\n",
    "        <li style=\"color:DodgerBlue;\">The connection can be terminated with the statement</li>\n",
    "    <span style=\"color:White;\">..........</span><span style=\"color:orange;\">outfile.close()</span>\n",
    "<li style=\"color:DodgerBlue;\">Adding lines to the file as we are trying to write somethings to the file.</li>\n",
    "    </ul></ul>\n"
   ]
  },
  {
   "cell_type": "markdown",
   "metadata": {
    "deletable": false,
    "editable": false
   },
   "source": [
    "---------------------------------\n",
    "<h3 style=\"color:blue;\"><b>File Management Operation</b></h3>\n",
    "<ul>\n",
    "    <li style=\"color:SlateBlue;\">File management operations: delete file, rename file, and checking the existence of file.</li>\n",
    "<li style=\"color:SlateBlue;\">In order to perform the operations, we must first import the standard library module os with the statement</li>\n",
    "    <span style=\"color:White;\">..........</span><span style=\"color:orange;\">import os</span>\n",
    "    <li style=\"color:SlateBlue;\">The statement below will delete / remove the specified file</li>\n",
    "    <span style=\"color:White;\">..........</span><span style=\"color:orange;\">os.remove(filename)</span>\n",
    "<li style=\"color:SlateBlue;\">The statement below will change the name and possible the path of a file</li>\n",
    "<span style=\"color:White;\">..........</span><span style=\"color:orange;\">os.rename(oldFileName, newFileName)</span>\n",
    "<li style=\"color:SlateBlue;\">An error message is generated if the file to be removed, renamed, or opened does not exist.</li>\n",
    "<li style=\"color:SlateBlue;\">The statement below verify the existence of the file that returns <b>True</b> if the file exists and <b>False</b> otherwise</li>\n",
    "<span style=\"color:White;\">..........</span><span style=\"color:orange;\">os.path.isfile(filename)</span>\n",
    "</ul>\n",
    "\n",
    "---------------------------"
   ]
  },
  {
   "cell_type": "markdown",
   "metadata": {
    "deletable": false,
    "editable": false
   },
   "source": [
    "-----------------------\n",
    "<h3 style=\"color:blue;\"><b>Accessing Data in CSV Files</b></h3>\n",
    "<ul>\n",
    "    <li style=\"color:SlateBlue;\">Data to be processed commonly comes in files containing large tables.</liu>\n",
    "    <li style=\"color:SlateBlue;\">One of these type of files is CSV-formatted file (CSV stands for Comma-Separated Vales), which each item/field separated by a comma.</li>\n",
    "    <li style=\"color:SlateBlue;\">Assume the lines of the file are as follow with a country, continent, population, and area:</li>\n",
    "<span style=\"color:White;\">.....</span><span style=\"color:DodgerBlue;\">Canada, North America, 34.8, 3855000</span><br>\n",
    "<span style=\"color:White;\">.....</span><span style=\"color:DodgerBlue;\">France, Europe, 66.3, 211209</span><br>\n",
    "<span style=\"color:White;\">.....</span><span style=\"color:DodgerBlue;\">Peru, South America, 30.1, 496226</span><br>\n",
    "<span style=\"color:White;\">.....</span><span style=\"color:DodgerBlue;\">New Zealand, Oceanis, 4.4, 103738</span><br>\n",
    "<span style=\"color:White;\">.....</span><span style=\"color:DodgerBlue;\">Pakistan, Asia, 196.2, 310403</span><br>\n",
    "<li style=\"color:SlateBlue;\">The split method is used to access the fields of CSV-formatted files.</li>\n",
    "<li style=\"color:SlateBlue;\">For instance, if the variable line holds the first record and the value of the variable data is the list line.split(“,”), then the value of:</li>\n",
    "<ul style=\"color:DodgerBlue;\">\n",
    "    <li>data[0] is Canada</li>\n",
    "    <li>data[1] is North America</li>\n",
    "    <li>eval(data[2]) is 34.8, and </li>\n",
    "    <li>eval(data[3]) is 3855000</li>\n",
    "    </ul></ul>\n",
    "    \n",
    "----------------------------------------------------------\n"
   ]
  },
  {
   "cell_type": "code",
   "execution_count": 1,
   "metadata": {
    "deletable": false,
    "editable": false
   },
   "outputs": [
    {
     "name": "stdout",
     "output_type": "stream",
     "text": [
      "Canada in North America has pop 34.8 with area 3,855,000.\n",
      "France in Europe has pop 66.3 with area 211,209.\n",
      "Peru in South America has pop 30.1 with area 496,226.\n",
      "New Zealand in Oceanis has pop 4.4 with area 103,738.\n",
      "Pakistan in Asia has pop 196.2 with area 310,403.\n"
     ]
    }
   ],
   "source": [
    "## Example #1 - Use open() to input a .csv file\n",
    "infile = open(\"UN.csv\", \"r\")\n",
    "for line in infile:\n",
    "    line = line.rstrip()       # returns a right trim version of the string \n",
    "    data = line.split(\",\")\n",
    "    print(\"{0} in {1} has pop {2:,.1f} with area {3:,.0f}.\".format(\\\n",
    "            data[0], data[1], eval(data[2]), eval(data[3])))\n",
    "infile.close()\n"
   ]
  },
  {
   "cell_type": "code",
   "execution_count": 2,
   "metadata": {
    "deletable": false,
    "editable": false
   },
   "outputs": [
    {
     "name": "stdout",
     "output_type": "stream",
     "text": [
      "{'Canada': ['Canada', 'North America', '34.8', '3855000'], 'France': ['France', 'Europe', '66.3', '211209'], 'Peru': ['Peru', 'South America', '30.1', '496226'], 'New Zealand': ['New Zealand', 'Oceanis', '4.4', '103738'], 'Pakistan': ['Pakistan', 'Asia', '196.2', '310403']}\n"
     ]
    }
   ],
   "source": [
    "## Example #2 - use open() to input a .csv into a dictionary\n",
    "infile = open(\"UN.csv\", \"r\")\n",
    "unDB = {}\n",
    "for line in infile:\n",
    "    line = line.rstrip()\n",
    "    data = line.split(\",\")\n",
    "    unDB[data[0]] = data\n",
    "infile.close()\n",
    "print(unDB)\n"
   ]
  },
  {
   "cell_type": "markdown",
   "metadata": {
    "deletable": false,
    "editable": false
   },
   "source": [
    "<h3 style=\"color:blue;\"><b>Perform Excel Tasks in Python</b></h3>\n",
    "<ul style=\"color:SlateBlue;\">\n",
    "    <li>MS Excel is a powerful application that commonly used for data processing and data presentation</li>\n",
    "    <li>Before we manipulate the data in an excel file, we need to import the excel data (as in .csv) into panda dataframe first with the read_csv( ).</li>\n",
    "    <li>Pandas is a fast, powerful, flexible and easy to use open source data analysis and manipulation tool,\u000b",
    "built on top of the Python programming language.</i>\n",
    "    <li>You may refer to this link for the detail description of Pandas API (dataframe) References.</li>\n",
    " <span style=\"color:White;\">......</span><span style=\"color:DodgerBlue;\">  \n",
    "https://pandas.pydata.org/pandas-docs/stable/reference/frame.html</span>\n",
    "</ul>\n",
    "\n",
    "-------------------------------------"
   ]
  },
  {
   "cell_type": "code",
   "execution_count": 3,
   "metadata": {
    "deletable": false,
    "editable": false
   },
   "outputs": [
    {
     "name": "stdout",
     "output_type": "stream",
     "text": [
      "<class 'pandas.core.frame.DataFrame'>\n",
      "\n",
      "       SID     Name  DOM  Exercise  Assignment  Mid-term  Exam\n",
      "0  B77666      Leo    4        75          69        83    91\n",
      "1  B97353   Carson    2        75          43        68    79\n",
      "2  B94131   Harper    6        52          46        95    75\n",
      "3  B86056     Liam    5        43          43        47    80\n",
      "4  B95818  Paisley    3        86          44        55    76\n"
     ]
    }
   ],
   "source": [
    "## Use pandas module read_csv to read the .csv file into pandas dataframe\n",
    "import pandas as pd                     ## import pandas as short by pd\n",
    "\n",
    "sData = pd.read_csv('StudentData.csv')   ## read the csv file into sData\n",
    "print(type(sData))\n",
    "print(\"\\n\", sData.head())                ## print only the first 5 rows\n"
   ]
  },
  {
   "cell_type": "markdown",
   "metadata": {
    "deletable": false,
    "editable": false
   },
   "source": [
    "---------------------------\n",
    "<ul style=\"color:SlateBlue;\">\n",
    "    <li>We may also input the data directly from an excel file (i.e. in .xlsx) into a pandas dataframe  with the read_excel( ) as:</li>\n",
    "    </ul>\n",
    "    \n",
    "-----------------------------------"
   ]
  },
  {
   "cell_type": "code",
   "execution_count": 4,
   "metadata": {
    "deletable": false,
    "editable": false
   },
   "outputs": [
    {
     "name": "stdout",
     "output_type": "stream",
     "text": [
      "<class 'pandas.core.frame.DataFrame'>\n",
      "\n",
      "        SID    Name  DOM  Exercise  Assignment  Mid-term  Exam\n",
      "95  B95677     Ava    6        72          85        66    62\n",
      "96  B79507    Levi    2        56          93        64    95\n",
      "97  B92485    Lily    2        55          47        86    63\n",
      "98  B76960    Maya    1        71          58        56    74\n",
      "99  B79775  Peyton    7        83          59        83    76\n"
     ]
    }
   ],
   "source": [
    "## Use pandas module read_excel to read the .xlsx file into pandas dataframe\n",
    "import pandas as pd\n",
    "\n",
    "sData2 = pd.read_excel('StudentData.xlsx')   ## read the excel file into sData\n",
    "print(type(sData2))\n",
    "print(\"\\n\", sData2.tail())                   ## print only the last 5 rows\n"
   ]
  },
  {
   "cell_type": "markdown",
   "metadata": {
    "deletable": false,
    "editable": false
   },
   "source": [
    "---------------------------\n",
    "<ul style=\"color:SlateBlue;\">\n",
    "    <li>Manipulate the index and sequence (i.e. sort and re-index rows).</li>\n",
    "    </ul>\n",
    "    \n",
    "-----------------------------------\n"
   ]
  },
  {
   "cell_type": "code",
   "execution_count": 5,
   "metadata": {
    "deletable": false,
    "editable": false
   },
   "outputs": [
    {
     "name": "stdout",
     "output_type": "stream",
     "text": [
      "      SID    Name  DOM  Exercise  Assignment  Mid-term  Exam\n",
      "0  B77666     Leo    4        75          69        83    91\n",
      "1  B97353  Carson    2        75          43        68    79\n",
      "2  B94131  Harper    6        52          46        95    75\n",
      "3  B86056    Liam    5        43          43        47    80 \n",
      "\n",
      "       SID     Name  DOM  Exercise  Assignment  Mid-term  Exam\n",
      "53  B72476     Lila    5        75          86        83    82\n",
      "62  B72590     Ella    3        56          85        63    80\n",
      "39  B72599  Abigail    1        78          60        90    84\n",
      "35  B72665     Leah    6        80          98        81    68 \n",
      "\n",
      "      SID     Name  DOM  Exercise  Assignment  Mid-term  Exam\n",
      "0  B72476     Lila    5        75          86        83    82\n",
      "1  B72590     Ella    3        56          85        63    80\n",
      "2  B72599  Abigail    1        78          60        90    84\n",
      "3  B72665     Leah    6        80          98        81    68\n"
     ]
    }
   ],
   "source": [
    "## Perform sorting and reset the index of the dataframe\n",
    "import pandas as pd\n",
    "\n",
    "sData = pd.read_excel('StudentData.xlsx')   ## read the excel file into sData\n",
    "print(sData.head(4), \"\\n\")\n",
    "sData = sData.sort_values(\"SID\")            ## sort dataframe by SID\n",
    "print(sData.head(4), \"\\n\")\n",
    "sData = sData.reset_index(drop=True)       ## reset the index\n",
    "print(sData.head(4))\n"
   ]
  },
  {
   "cell_type": "markdown",
   "metadata": {
    "deletable": false,
    "editable": false
   },
   "source": [
    "---------------------------\n",
    "<ul style=\"color:SlateBlue;\">\n",
    "    <li>Manipulate Sum/Total to a Row (i.e. determine the scores for each student).</li>\n",
    "    <li>Noted: in pandas, when we perform an operation it automatically applies to every row at once. In addition, the “formula” used isn’t stored as on excel worksheet, if we want to make adjustment, we’d need to write new code to do it.\n",
    "Manipulate Sum/Total to a Column (i.e. determine the sum/total, mean/average,  maximum, minimum for each assessment component).</li></ul>\n",
    "\n",
    "-----------------------------------\n"
   ]
  },
  {
   "cell_type": "code",
   "execution_count": 6,
   "metadata": {
    "deletable": false,
    "editable": false
   },
   "outputs": [
    {
     "name": "stdout",
     "output_type": "stream",
     "text": [
      "      SID     Name  DOM  Exercise  Assignment  Mid-term  Exam\n",
      "0  B77666      Leo    4        75          69        83    91\n",
      "1  B97353   Carson    2        75          43        68    79\n",
      "2  B94131   Harper    6        52          46        95    75\n",
      "3  B86056     Liam    5        43          43        47    80\n",
      "4  B95818  Paisley    3        86          44        55    76\n",
      "       SID     Name  DOM  Exercise  Assignment  Mid-term  Exam  Scores\n",
      "0   B77666      Leo    4        75          69        83    91    83.0\n",
      "1   B97353   Carson    2        75          43        68    79    68.0\n",
      "2   B94131   Harper    6        52          46        95    75    73.0\n",
      "3   B86056     Liam    5        43          43        47    80    59.0\n",
      "4   B95818  Paisley    3        86          44        55    76    64.0\n",
      "..     ...      ...  ...       ...         ...       ...   ...     ...\n",
      "95  B95677      Ava    6        72          85        66    62    69.0\n",
      "96  B79507     Levi    2        56          93        64    95    81.0\n",
      "97  B92485     Lily    2        55          47        86    63    66.0\n",
      "98  B76960     Maya    1        71          58        56    74    65.0\n",
      "99  B79775   Peyton    7        83          59        83    76    75.0\n",
      "\n",
      "[100 rows x 8 columns]\n"
     ]
    }
   ],
   "source": [
    "## Add a new column Scores to conclude the performance on exercise, assignment, mid-term, and exam.\n",
    "import pandas as pd\n",
    "\n",
    "sData = pd.read_excel('StudentData.xlsx')   ## read the excel file into sData\n",
    "print(sData.head(5))\n",
    "sData[\"Scores\"] = round(sData[\"Exercise\"] * 0.1 + sData[\"Assignment\"] * 0.2 + \\\n",
    "                  sData[\"Mid-term\"] * 0.3 + sData[\"Exam\"] * 0.4, 0)\n",
    "print(sData)\n"
   ]
  },
  {
   "cell_type": "code",
   "execution_count": 7,
   "metadata": {
    "deletable": false,
    "editable": false
   },
   "outputs": [
    {
     "data": {
      "text/plain": [
       "(7039, 69.83, 98, 62)"
      ]
     },
     "execution_count": 7,
     "metadata": {},
     "output_type": "execute_result"
    }
   ],
   "source": [
    "## Determine the statistical analysis on a data column\n",
    "import pandas as pd\n",
    "\n",
    "sData = pd.read_excel('StudentData.xlsx')   ## read the excel file into sData\n",
    "sData[\"Exercise\"].sum(), sData[\"Assignment\"].mean(), \\\n",
    "      sData[\"Mid-term\"].max(), sData[\"Exam\"].min()\n"
   ]
  },
  {
   "cell_type": "code",
   "execution_count": 8,
   "metadata": {
    "deletable": false,
    "editable": false
   },
   "outputs": [
    {
     "name": "stdout",
     "output_type": "stream",
     "text": [
      "Exercise      7039\n",
      "Assignment    6983\n",
      "Mid-term      6883\n",
      "Exam          8048\n",
      "dtype: int64 \n",
      "\n",
      "Exercise      70.39\n",
      "Assignment    69.83\n",
      "Mid-term      68.83\n",
      "Exam          80.48\n",
      "dtype: float64 \n",
      "\n"
     ]
    }
   ],
   "source": [
    "## Determine the statistical analysis on a number of data columns\n",
    "import pandas as pd\n",
    "\n",
    "sData = pd.read_excel('StudentData.xlsx')   ## read the excel file into sData\n",
    "\n",
    "sum_row = sData[[\"Exercise\", \"Assignment\", \"Mid-term\", \"Exam\"]].sum()\n",
    "print(sum_row, \"\\n\")\n",
    "\n",
    "average_row = sData[[\"Exercise\", \"Assignment\", \"Mid-term\", \"Exam\"]].mean()\n",
    "print(average_row, \"\\n\")\n"
   ]
  },
  {
   "cell_type": "markdown",
   "metadata": {
    "deletable": false,
    "editable": false
   },
   "source": [
    "---------------------------------------------------\n",
    "<h3 style=\"color:blue;\"><b>Student Practice #1</b></h3>\n",
    "<p style=\"color:SlateBlue;\">In the empty cells below, try to input the file Agents (i.e. Agents.csv and Agents.xlsx) in different ways (i.e. use open(), read_csv(), and read_excel()) and output only the first/second few rows according to the comments.</p>\n",
    "\n",
    "---------------------------------------------------"
   ]
  },
  {
   "cell_type": "code",
   "execution_count": 9,
   "metadata": {
    "deletable": false,
    "editable": false
   },
   "outputs": [
    {
     "name": "stdout",
     "output_type": "stream",
     "text": [
      "AgentID  AgentName    Supervisor        Q1        Q2        Q3        Q4\n",
      "A77666   Leo          S05           821798   1001980    335727    251269\n",
      "A97353   Carson       S02           194479    311314   1188148    457629\n",
      "A94131   Harper       S01           407671    667749    955013   1173411\n",
      "A86056   Liam         S04           746896    379949   1115037    565669\n",
      "A95818   Paisley      S06           313881    929049    319996    345119\n",
      "A94261   Carter       S07           530812    845415    419223    205795\n"
     ]
    }
   ],
   "source": [
    "## Input the Agents.csv by mean of the open() method and output the first 6 rows\n",
    "infile = open(\"Agents.csv\", \"r\")\n",
    "fVar = []\n",
    "for line in infile:\n",
    "    line = line.rstrip()       # returns a right trim version of the string \n",
    "    data = line.split(\",\")\n",
    "    fVar.append(data)\n",
    "infile.close()\n",
    "\n",
    "## print the first 6 rows\n",
    "idx = 0\n",
    "while idx <= 6:\n",
    "    line = fVar[idx]\n",
    "    print(line[0].ljust(8), line[1].ljust(12), line[2].ljust(11), end=\"\")\n",
    "    print(line[3].rjust(9), line[4].rjust(9), line[5].rjust(9), line[6].rjust(9))\n",
    "    idx += 1\n",
    "    "
   ]
  },
  {
   "cell_type": "code",
   "execution_count": 10,
   "metadata": {
    "deletable": false,
    "editable": false
   },
   "outputs": [
    {
     "name": "stdout",
     "output_type": "stream",
     "text": [
      "  AgentID AgentName Supervisor      Q1       Q2       Q3       Q4\n",
      "0  A77666       Leo        S05  821798  1001980   335727   251269\n",
      "1  A97353    Carson        S02  194479   311314  1188148   457629\n",
      "2  A94131    Harper        S01  407671   667749   955013  1173411\n",
      "3  A86056      Liam        S04  746896   379949  1115037   565669\n",
      "4  A95818   Paisley        S06  313881   929049   319996   345119\n"
     ]
    }
   ],
   "source": [
    "## Input the Agents.csv by mean of the read_csv() method and output the first 5 rows\n",
    "import pandas as pd\n",
    "\n",
    "aData = pd.read_csv('Agents.csv')   ## read the csv file into sData\n",
    "print(aData.head())                 ## print only the first 5 rows\n"
   ]
  },
  {
   "cell_type": "code",
   "execution_count": 11,
   "metadata": {
    "deletable": false,
    "editable": false
   },
   "outputs": [
    {
     "name": "stdout",
     "output_type": "stream",
     "text": [
      "   AgentID AgentName Supervisor       Q1      Q2       Q3      Q4\n",
      "45  A94584    Daniel        S04  1171769  846018   661226  813525\n",
      "46  A87204    Oliver        S05   700529  481378  1104091  290162\n",
      "47  A87277   Madison        S05   175677  572799   659937  421863\n",
      "48  A88207    Julian        S04  1089226  304251   867869  268322\n",
      "49  A74890       Mia        S06  1152031  165434  1011134  210991\n"
     ]
    }
   ],
   "source": [
    "## Input the Agents.xlsx by mean of the read_excel() method and output the last 5 rows\n",
    "import pandas as pd\n",
    "\n",
    "aData = pd.read_excel('Agents.xlsx')   ## read the csv file into sData\n",
    "print(aData.tail())                    ## print only the last 5 rows\n"
   ]
  },
  {
   "cell_type": "markdown",
   "metadata": {
    "deletable": false,
    "editable": false
   },
   "source": [
    "---------------------------------------------------\n",
    "\n",
    "<h3 style=\"color:blue;\"><b>Student Practice #2</b></h3>\n",
    "<p style=\"color:SlateBlue;\">In the empty cell below, input the Agents file, perform the sorting according to AgentID and then re-index the records.</p>\n",
    "\n",
    "--------------------------------------------------"
   ]
  },
  {
   "cell_type": "code",
   "execution_count": 12,
   "metadata": {
    "deletable": false,
    "editable": false
   },
   "outputs": [
    {
     "name": "stdout",
     "output_type": "stream",
     "text": [
      "  AgentID AgentName Supervisor       Q1       Q2       Q3       Q4\n",
      "0  A77666       Leo        S05   821798  1001980   335727   251269\n",
      "1  A97353    Carson        S02   194479   311314  1188148   457629\n",
      "2  A94131    Harper        S01   407671   667749   955013  1173411\n",
      "3  A86056      Liam        S04   746896   379949  1115037   565669\n",
      "4  A95818   Paisley        S06   313881   929049   319996   345119\n",
      "5  A94261    Carter        S07   530812   845415   419223   205795\n",
      "6  A79205     Lucas        S07  1015427   418532   478933   396943\n",
      "7  A82229     Mason        S05   411738   791545  1091017   659842\n",
      "8  A77567     Wyatt        S03   864344   560440  1021992  1056099\n",
      "9  A74694    Hannah        S03   642728   419636   563846  1158453 \n",
      "\n",
      "   AgentID AgentName Supervisor       Q1       Q2       Q3       Q4\n",
      "39  A72599   Abigail        S07   757717   198578  1163366   402267\n",
      "35  A72665      Leah        S01   554840   832659   478633   495427\n",
      "36  A72726     Mateo        S05   853365   574246   726400  1125657\n",
      "11  A72812      Luna        S05   949814  1102871   600057  1092933\n",
      "24  A72915   Gabriel        S05  1164622   747964   915398   873703\n",
      "44  A72947     Miles        S01   602332   130396   422986   117213\n",
      "20  A74315   Charlie        S07   866892   876208  1065248   384603\n",
      "43  A74515    Sophia        S01  1067575  1177622   609708   112245\n",
      "9   A74694    Hannah        S03   642728   419636   563846  1158453\n",
      "49  A74890       Mia        S06  1152031   165434  1011134   210991 \n",
      "\n",
      "  AgentID AgentName Supervisor       Q1       Q2       Q3       Q4\n",
      "0  A72599   Abigail        S07   757717   198578  1163366   402267\n",
      "1  A72665      Leah        S01   554840   832659   478633   495427\n",
      "2  A72726     Mateo        S05   853365   574246   726400  1125657\n",
      "3  A72812      Luna        S05   949814  1102871   600057  1092933\n",
      "4  A72915   Gabriel        S05  1164622   747964   915398   873703\n",
      "5  A72947     Miles        S01   602332   130396   422986   117213\n",
      "6  A74315   Charlie        S07   866892   876208  1065248   384603\n",
      "7  A74515    Sophia        S01  1067575  1177622   609708   112245\n",
      "8  A74694    Hannah        S03   642728   419636   563846  1158453\n",
      "9  A74890       Mia        S06  1152031   165434  1011134   210991\n"
     ]
    }
   ],
   "source": [
    "## Input file Agents, sort by AgentID and re-index the records.\n",
    "import pandas as pd\n",
    "\n",
    "aData = pd.read_excel('Agents.xlsx')   ## read the excel file into sData\n",
    "print(aData.head(10), \"\\n\")\n",
    "aData = aData.sort_values(\"AgentID\")   ## sort dataframe by agentID\n",
    "print(aData.head(10), \"\\n\")\n",
    "aData = aData.reset_index(drop=True)   ## reset the index\n",
    "print(aData.head(10))\n"
   ]
  },
  {
   "cell_type": "markdown",
   "metadata": {
    "deletable": false,
    "editable": false
   },
   "source": [
    "--------------------------\n",
    "\n",
    "<h3 style=\"color:blue;\"><b>Student Practice #3</b></h3>\n",
    "<p style=\"color:SlateBlue;\">In the empty cell below, determine the annual sales and compute the commission (5% on annual sales and rounding to the nearest dollars) for all the agents.</p>\n",
    "\n",
    "-------------------------------"
   ]
  },
  {
   "cell_type": "code",
   "execution_count": 13,
   "metadata": {
    "deletable": false,
    "editable": false
   },
   "outputs": [
    {
     "name": "stdout",
     "output_type": "stream",
     "text": [
      "  AgentID AgentName Supervisor      Q1       Q2       Q3       Q4\n",
      "0  A77666       Leo        S05  821798  1001980   335727   251269\n",
      "1  A97353    Carson        S02  194479   311314  1188148   457629\n",
      "2  A94131    Harper        S01  407671   667749   955013  1173411\n",
      "3  A86056      Liam        S04  746896   379949  1115037   565669\n",
      "4  A95818   Paisley        S06  313881   929049   319996   345119\n",
      "5  A94261    Carter        S07  530812   845415   419223   205795 \n",
      "\n",
      "  AgentID AgentName Supervisor      Q1       Q2       Q3       Q4  \\\n",
      "0  A77666       Leo        S05  821798  1001980   335727   251269   \n",
      "1  A97353    Carson        S02  194479   311314  1188148   457629   \n",
      "2  A94131    Harper        S01  407671   667749   955013  1173411   \n",
      "3  A86056      Liam        S04  746896   379949  1115037   565669   \n",
      "4  A95818   Paisley        S06  313881   929049   319996   345119   \n",
      "5  A94261    Carter        S07  530812   845415   419223   205795   \n",
      "\n",
      "   Annual Sales  Commission  \n",
      "0       2410774    120539.0  \n",
      "1       2151570    107578.0  \n",
      "2       3203844    160192.0  \n",
      "3       2807551    140378.0  \n",
      "4       1908045     95402.0  \n",
      "5       2001245    100062.0  \n"
     ]
    }
   ],
   "source": [
    "## Determine the annual sales and commissions\n",
    "import pandas as pd\n",
    "\n",
    "aData = pd.read_excel('Agents.xlsx')   ## read the excel file into sData\n",
    "print(aData.head(6), \"\\n\")\n",
    "aData[\"Annual Sales\"] = aData[\"Q1\"] + aData[\"Q2\"] + aData[\"Q3\"] + aData[\"Q4\"]\n",
    "aData[\"Commission\"] = round(aData[\"Annual Sales\"] * 0.05 ,0)\n",
    "print(aData.head(6))\n"
   ]
  },
  {
   "cell_type": "markdown",
   "metadata": {
    "deletable": false,
    "editable": false
   },
   "source": [
    "---------------\n",
    "<h3 style = \"color:blue;\"><b>Student Practice #4</b></h3>\n",
    "<p style=\"color:SlateBlue;\">In the empty cells below, perform the statistical analysis (i.e. mean, median, and standard deviation) on annual sales  and perform the statistical analysis (i.e. maximum, minimum, mean, and median) on the sales of the 4 quaters.</p>\n",
    "\n",
    "---------------------"
   ]
  },
  {
   "cell_type": "code",
   "execution_count": 14,
   "metadata": {
    "deletable": false,
    "editable": false
   },
   "outputs": [
    {
     "name": "stdout",
     "output_type": "stream",
     "text": [
      "The Statistical Analysis on the Annual Sales:\n",
      "2,767,629.44  2,630,272.50  685,093.6930\n",
      "\n",
      "The maximum on the four quarter sales:\n",
      "Q1    1171769\n",
      "Q2    1177622\n",
      "Q3    1191588\n",
      "Q4    1173411\n",
      "dtype: int64\n",
      "\n",
      "The minimum on the four quarter sales:\n",
      "Q1    117032\n",
      "Q2    130396\n",
      "Q3    319996\n",
      "Q4    112245\n",
      "dtype: int64\n",
      "\n",
      "The average on the four quarter sales:\n",
      "Q1    665070.06\n",
      "Q2    667763.24\n",
      "Q3    791950.54\n",
      "Q4    642845.60\n",
      "dtype: float64\n",
      "\n",
      "The median on the four quarter sales:\n",
      "Q1    725649.5\n",
      "Q2    712285.0\n",
      "Q3    813194.0\n",
      "Q4    651388.0\n",
      "dtype: float64\n",
      "\n"
     ]
    }
   ],
   "source": [
    "## Perform the statistical analysis on specified items\n",
    "import pandas as pd\n",
    "\n",
    "aData = pd.read_csv('Agents.csv')   ## read the csv file into sData\n",
    "\n",
    "## perform the statistical analysis on annual sales.\n",
    "aData[\"Annual Sales\"] = aData[\"Q1\"] + aData[\"Q2\"] + aData[\"Q3\"] + aData[\"Q4\"]\n",
    "print(\"The Statistical Analysis on the Annual Sales:\")\n",
    "print(\"{0:,.2f}  {1:,.2f}  {2:,.4f}\\n\".format(\\\n",
    "      aData[\"Annual Sales\"].mean(), aData[\"Annual Sales\"].median(), aData[\"Annual Sales\"].std()))\n",
    "\n",
    "## perform the statistical analysis on the sales of the 4 quarters\n",
    "maxRow = aData[[\"Q1\", \"Q2\", \"Q3\", \"Q4\"]].max()\n",
    "print(\"The maximum on the four quarter sales:\\n{}\\n\".format(maxRow))\n",
    "\n",
    "minRow = aData[[\"Q1\", \"Q2\", \"Q3\", \"Q4\"]].min()\n",
    "print(\"The minimum on the four quarter sales:\\n{}\\n\".format(minRow))\n",
    "\n",
    "meanRow = aData[[\"Q1\", \"Q2\", \"Q3\", \"Q4\"]].mean()\n",
    "print(\"The average on the four quarter sales:\\n{}\\n\".format(meanRow))\n",
    "\n",
    "medianRow = aData[[\"Q1\", \"Q2\", \"Q3\", \"Q4\"]].median()\n",
    "print(\"The median on the four quarter sales:\\n{}\\n\".format(medianRow))\n"
   ]
  },
  {
   "cell_type": "code",
   "execution_count": null,
   "metadata": {},
   "outputs": [],
   "source": []
  },
  {
   "cell_type": "code",
   "execution_count": null,
   "metadata": {},
   "outputs": [],
   "source": []
  },
  {
   "cell_type": "code",
   "execution_count": null,
   "metadata": {},
   "outputs": [],
   "source": []
  },
  {
   "cell_type": "code",
   "execution_count": null,
   "metadata": {},
   "outputs": [],
   "source": []
  }
 ],
 "metadata": {
  "kernelspec": {
   "display_name": "Python 3",
   "language": "python",
   "name": "python3"
  },
  "language_info": {
   "codemirror_mode": {
    "name": "ipython",
    "version": 3
   },
   "file_extension": ".py",
   "mimetype": "text/x-python",
   "name": "python",
   "nbconvert_exporter": "python",
   "pygments_lexer": "ipython3",
   "version": "3.8.3"
  }
 },
 "nbformat": 4,
 "nbformat_minor": 4
}
