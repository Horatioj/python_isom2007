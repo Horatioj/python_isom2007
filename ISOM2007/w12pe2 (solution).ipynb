{
 "cells": [
  {
   "cell_type": "markdown",
   "metadata": {
    "deletable": false,
    "editable": false
   },
   "source": [
    "--------------\n",
    "<h2 style=\"color:blue;\"><b>Pandas Data Structures & Operations</b></h2>\n",
    "\n",
    "--------------------------"
   ]
  },
  {
   "cell_type": "markdown",
   "metadata": {
    "deletable": false,
    "editable": false
   },
   "source": [
    "-----------------\n",
    "<h3 style=\"color:blue;\"><b>Student Practice #1</b></h3>\n",
    "<p style=\"color:SlateBlue;\">In the empty cell below, first create a Pandas `DataFrame` with 25 elements ranging from `1` to `25`, with row indices assigned automatically and column labels equal to the characters: `b`, `d`, `f`, `g`, and `j`. Next, select the subset of this `DataFrame` corresponding to the second-fourth rows and columns (so nine total entries). Multiply this new `DataFrame` by `10`, and subtract `5`. Finally, apply the `describe` function to the resultant `DataFrame`.</p>\n",
    "\n",
    "-------------"
   ]
  },
  {
   "cell_type": "code",
   "execution_count": 1,
   "metadata": {
    "deletable": false,
    "editable": false
   },
   "outputs": [
    {
     "name": "stdout",
     "output_type": "stream",
     "text": [
      "   b   d   f   g   j\n",
      "0  1   6  11  16  21\n",
      "1  2   7  12  17  22\n",
      "2  3   8  13  18  23\n",
      "3  4   9  14  19  24\n",
      "4  5  10  15  20  25 \n",
      "\n",
      "    f   g   j\n",
      "2  13  18  23\n",
      "3  14  19  24\n",
      "4  15  20  25 \n",
      "\n",
      "     f    g    j\n",
      "2  125  175  225\n",
      "3  135  185  235\n",
      "4  145  195  245 \n",
      "\n"
     ]
    },
    {
     "data": {
      "text/html": [
       "<div>\n",
       "<style scoped>\n",
       "    .dataframe tbody tr th:only-of-type {\n",
       "        vertical-align: middle;\n",
       "    }\n",
       "\n",
       "    .dataframe tbody tr th {\n",
       "        vertical-align: top;\n",
       "    }\n",
       "\n",
       "    .dataframe thead th {\n",
       "        text-align: right;\n",
       "    }\n",
       "</style>\n",
       "<table border=\"1\" class=\"dataframe\">\n",
       "  <thead>\n",
       "    <tr style=\"text-align: right;\">\n",
       "      <th></th>\n",
       "      <th>f</th>\n",
       "      <th>g</th>\n",
       "      <th>j</th>\n",
       "    </tr>\n",
       "  </thead>\n",
       "  <tbody>\n",
       "    <tr>\n",
       "      <th>count</th>\n",
       "      <td>3.0</td>\n",
       "      <td>3.0</td>\n",
       "      <td>3.0</td>\n",
       "    </tr>\n",
       "    <tr>\n",
       "      <th>mean</th>\n",
       "      <td>135.0</td>\n",
       "      <td>185.0</td>\n",
       "      <td>235.0</td>\n",
       "    </tr>\n",
       "    <tr>\n",
       "      <th>std</th>\n",
       "      <td>10.0</td>\n",
       "      <td>10.0</td>\n",
       "      <td>10.0</td>\n",
       "    </tr>\n",
       "    <tr>\n",
       "      <th>min</th>\n",
       "      <td>125.0</td>\n",
       "      <td>175.0</td>\n",
       "      <td>225.0</td>\n",
       "    </tr>\n",
       "    <tr>\n",
       "      <th>25%</th>\n",
       "      <td>130.0</td>\n",
       "      <td>180.0</td>\n",
       "      <td>230.0</td>\n",
       "    </tr>\n",
       "    <tr>\n",
       "      <th>50%</th>\n",
       "      <td>135.0</td>\n",
       "      <td>185.0</td>\n",
       "      <td>235.0</td>\n",
       "    </tr>\n",
       "    <tr>\n",
       "      <th>75%</th>\n",
       "      <td>140.0</td>\n",
       "      <td>190.0</td>\n",
       "      <td>240.0</td>\n",
       "    </tr>\n",
       "    <tr>\n",
       "      <th>max</th>\n",
       "      <td>145.0</td>\n",
       "      <td>195.0</td>\n",
       "      <td>245.0</td>\n",
       "    </tr>\n",
       "  </tbody>\n",
       "</table>\n",
       "</div>"
      ],
      "text/plain": [
       "           f      g      j\n",
       "count    3.0    3.0    3.0\n",
       "mean   135.0  185.0  235.0\n",
       "std     10.0   10.0   10.0\n",
       "min    125.0  175.0  225.0\n",
       "25%    130.0  180.0  230.0\n",
       "50%    135.0  185.0  235.0\n",
       "75%    140.0  190.0  240.0\n",
       "max    145.0  195.0  245.0"
      ]
     },
     "execution_count": 1,
     "metadata": {},
     "output_type": "execute_result"
    }
   ],
   "source": [
    "import pandas as pd\n",
    "\n",
    "## Create a DataFrame with 25 elements ranging from 1 to 25\n",
    "itemL = range(1,26)\n",
    "dataDict = {\"b\": itemL[0:5],\n",
    "            \"d\": itemL[5:10],\n",
    "            \"f\": itemL[10:15],\n",
    "            \"g\": itemL[15:20],\n",
    "            \"j\": itemL[20:25]}\n",
    "\n",
    "dataDF = pd.DataFrame(dataDict)\n",
    "print(dataDF, \"\\n\")\n",
    "\n",
    "## Select the second-fourth rows and columns\n",
    "subDF = dataDF.iloc[2:5, 2:5]\n",
    "print(subDF, \"\\n\")\n",
    "\n",
    "## Multiple the DataFrame by 10 and substract by 5\n",
    "subDF = subDF * 10 - 5\n",
    "print(subDF, \"\\n\")\n",
    "\n",
    "## Describe the DataFrame subDF\n",
    "subDF.describe()\n"
   ]
  },
  {
   "cell_type": "code",
   "execution_count": 1,
   "metadata": {
    "deletable": false,
    "editable": false
   },
   "outputs": [
    {
     "name": "stdout",
     "output_type": "stream",
     "text": [
      "    b   d   f   g   j\n",
      "0   1   2   3   4   5\n",
      "1   6   7   8   9  10\n",
      "2  11  12  13  14  15\n",
      "3  16  17  18  19  20\n",
      "4  21  22  23  24  25 \n",
      "\n",
      "    f   g   j\n",
      "2  13  14  15\n",
      "3  18  19  20\n",
      "4  23  24  25 \n",
      "\n",
      "     f    g    j\n",
      "2  125  135  145\n",
      "3  175  185  195\n",
      "4  225  235  245 \n",
      "\n"
     ]
    },
    {
     "data": {
      "text/html": [
       "<div>\n",
       "<style scoped>\n",
       "    .dataframe tbody tr th:only-of-type {\n",
       "        vertical-align: middle;\n",
       "    }\n",
       "\n",
       "    .dataframe tbody tr th {\n",
       "        vertical-align: top;\n",
       "    }\n",
       "\n",
       "    .dataframe thead th {\n",
       "        text-align: right;\n",
       "    }\n",
       "</style>\n",
       "<table border=\"1\" class=\"dataframe\">\n",
       "  <thead>\n",
       "    <tr style=\"text-align: right;\">\n",
       "      <th></th>\n",
       "      <th>f</th>\n",
       "      <th>g</th>\n",
       "      <th>j</th>\n",
       "    </tr>\n",
       "  </thead>\n",
       "  <tbody>\n",
       "    <tr>\n",
       "      <th>count</th>\n",
       "      <td>3.0</td>\n",
       "      <td>3.0</td>\n",
       "      <td>3.0</td>\n",
       "    </tr>\n",
       "    <tr>\n",
       "      <th>mean</th>\n",
       "      <td>175.0</td>\n",
       "      <td>185.0</td>\n",
       "      <td>195.0</td>\n",
       "    </tr>\n",
       "    <tr>\n",
       "      <th>std</th>\n",
       "      <td>50.0</td>\n",
       "      <td>50.0</td>\n",
       "      <td>50.0</td>\n",
       "    </tr>\n",
       "    <tr>\n",
       "      <th>min</th>\n",
       "      <td>125.0</td>\n",
       "      <td>135.0</td>\n",
       "      <td>145.0</td>\n",
       "    </tr>\n",
       "    <tr>\n",
       "      <th>25%</th>\n",
       "      <td>150.0</td>\n",
       "      <td>160.0</td>\n",
       "      <td>170.0</td>\n",
       "    </tr>\n",
       "    <tr>\n",
       "      <th>50%</th>\n",
       "      <td>175.0</td>\n",
       "      <td>185.0</td>\n",
       "      <td>195.0</td>\n",
       "    </tr>\n",
       "    <tr>\n",
       "      <th>75%</th>\n",
       "      <td>200.0</td>\n",
       "      <td>210.0</td>\n",
       "      <td>220.0</td>\n",
       "    </tr>\n",
       "    <tr>\n",
       "      <th>max</th>\n",
       "      <td>225.0</td>\n",
       "      <td>235.0</td>\n",
       "      <td>245.0</td>\n",
       "    </tr>\n",
       "  </tbody>\n",
       "</table>\n",
       "</div>"
      ],
      "text/plain": [
       "           f      g      j\n",
       "count    3.0    3.0    3.0\n",
       "mean   175.0  185.0  195.0\n",
       "std     50.0   50.0   50.0\n",
       "min    125.0  135.0  145.0\n",
       "25%    150.0  160.0  170.0\n",
       "50%    175.0  185.0  195.0\n",
       "75%    200.0  210.0  220.0\n",
       "max    225.0  235.0  245.0"
      ]
     },
     "execution_count": 1,
     "metadata": {},
     "output_type": "execute_result"
    }
   ],
   "source": [
    "## Alternative Approach, with functions from NumPy\n",
    "import pandas as pd\n",
    "import numpy as np\n",
    "\n",
    "## Create a DataFrame with 25 elements ranging from 1 to 25\n",
    "itemN = np.arange(1,26)\n",
    "itemM = itemN.reshape(5, 5)         # use the method from NumPy to create a matrix\n",
    "\n",
    "dataDF = pd.DataFrame(itemM, columns=[\"b\", \"d\", \"f\", \"g\", \"j\"])\n",
    "print(dataDF, \"\\n\")\n",
    "\n",
    "## Select the second-fourth rows and columns\n",
    "subDF = dataDF.iloc[2:5, 2:5]\n",
    "print(subDF, \"\\n\")\n",
    "\n",
    "## Multiple the DataFrame by 10 and substract by 5\n",
    "subDF = subDF * 10 - 5\n",
    "print(subDF, \"\\n\")\n",
    "\n",
    "## Describe the DataFrame subDF\n",
    "subDF.describe()\n"
   ]
  },
  {
   "cell_type": "markdown",
   "metadata": {
    "deletable": false,
    "editable": false
   },
   "source": [
    "------------------\n",
    "<h3 style=\"color:blue;\"><b>Student Practice #2</b></h3>\n",
    "<p style=\"color:SlateBlue;\">In the empty cell below, first extract all airports in the state of California. Second, apply a mask to select only those rows with a latitude between 38 and 40. Finally, compute and display the average and standard deviation of the longitude for these masked rows.</p>\n",
    "\n",
    "----------------------"
   ]
  },
  {
   "cell_type": "code",
   "execution_count": 2,
   "metadata": {
    "deletable": false,
    "editable": false
   },
   "outputs": [
    {
     "name": "stdout",
     "output_type": "stream",
     "text": [
      "mean   -121.712719\n",
      "std       0.971565\n",
      "Name: long, dtype: float64\n"
     ]
    },
    {
     "data": {
      "text/html": [
       "<div>\n",
       "<style scoped>\n",
       "    .dataframe tbody tr th:only-of-type {\n",
       "        vertical-align: middle;\n",
       "    }\n",
       "\n",
       "    .dataframe tbody tr th {\n",
       "        vertical-align: top;\n",
       "    }\n",
       "\n",
       "    .dataframe thead th {\n",
       "        text-align: right;\n",
       "    }\n",
       "</style>\n",
       "<table border=\"1\" class=\"dataframe\">\n",
       "  <thead>\n",
       "    <tr style=\"text-align: right;\">\n",
       "      <th></th>\n",
       "      <th>lat</th>\n",
       "      <th>long</th>\n",
       "    </tr>\n",
       "  </thead>\n",
       "  <tbody>\n",
       "    <tr>\n",
       "      <th>count</th>\n",
       "      <td>49.000000</td>\n",
       "      <td>49.000000</td>\n",
       "    </tr>\n",
       "    <tr>\n",
       "      <th>mean</th>\n",
       "      <td>38.893782</td>\n",
       "      <td>-121.712719</td>\n",
       "    </tr>\n",
       "    <tr>\n",
       "      <th>std</th>\n",
       "      <td>0.544841</td>\n",
       "      <td>0.971565</td>\n",
       "    </tr>\n",
       "    <tr>\n",
       "      <th>min</th>\n",
       "      <td>38.030423</td>\n",
       "      <td>-123.753735</td>\n",
       "    </tr>\n",
       "    <tr>\n",
       "      <th>25%</th>\n",
       "      <td>38.508977</td>\n",
       "      <td>-122.280694</td>\n",
       "    </tr>\n",
       "    <tr>\n",
       "      <th>50%</th>\n",
       "      <td>38.774352</td>\n",
       "      <td>-121.616362</td>\n",
       "    </tr>\n",
       "    <tr>\n",
       "      <th>75%</th>\n",
       "      <td>39.262038</td>\n",
       "      <td>-121.082081</td>\n",
       "    </tr>\n",
       "    <tr>\n",
       "      <th>max</th>\n",
       "      <td>39.943781</td>\n",
       "      <td>-119.225709</td>\n",
       "    </tr>\n",
       "  </tbody>\n",
       "</table>\n",
       "</div>"
      ],
      "text/plain": [
       "             lat        long\n",
       "count  49.000000   49.000000\n",
       "mean   38.893782 -121.712719\n",
       "std     0.544841    0.971565\n",
       "min    38.030423 -123.753735\n",
       "25%    38.508977 -122.280694\n",
       "50%    38.774352 -121.616362\n",
       "75%    39.262038 -121.082081\n",
       "max    39.943781 -119.225709"
      ]
     },
     "execution_count": 2,
     "metadata": {},
     "output_type": "execute_result"
    }
   ],
   "source": [
    "import pandas as pd\n",
    "\n",
    "## Input the file airposts.xlsx into a DataFrame\n",
    "airDF = pd.read_excel(\"airports.xlsx\")\n",
    "\n",
    "## Extract all airports in the state of California\n",
    "calDF = airDF[airDF.state == \"CA\"]       # CA - California\n",
    "\n",
    "## Select only those rows with a latitude between 38 and 40\n",
    "latDF = calDF[(calDF.lat >= 38) & (calDF.lat <= 40)]\n",
    "\n",
    "## Determine the average and standard deviation of the longitude\n",
    "print(latDF[\"long\"].aggregate(['mean', 'std']))\n",
    "\n",
    "## Verify the answer\n",
    "latDF.describe()\n"
   ]
  },
  {
   "cell_type": "markdown",
   "metadata": {
    "deletable": false,
    "editable": false
   },
   "source": [
    "------------\n",
    "<h3 style=\"color:blue;\"><b>Student Practice #3</b></h3>\n",
    "<p style=\"color:SlateBlue;\">In the empty Code cell below, first group the DataFrame of tips by the smoker column. Next, compute and display the minimum, maximum, and median values for the new grouped DataFrame by using the aggregate function correctly. Finally, compute the row index for the maximum total_bill for the smoker group.</p>\n",
    "\n",
    "-------------------\n",
    "\n"
   ]
  },
  {
   "cell_type": "code",
   "execution_count": 3,
   "metadata": {
    "deletable": false,
    "editable": false,
    "scrolled": false
   },
   "outputs": [
    {
     "name": "stdout",
     "output_type": "stream",
     "text": [
      "The first two records from each group\n",
      "\n",
      "    Unnamed: 0  total_bill   tip     sex smoker  day    time  size\n",
      "0            0       169.9  10.1  Female     No  Sun  Dinner     2\n",
      "1            1       103.4  16.6    Male     No  Sun  Dinner     3\n",
      "56          56       380.1  30.0    Male    Yes  Sat  Dinner     4\n",
      "58          58       112.4  17.6    Male    Yes  Sat  Dinner     2 \n",
      "\n",
      "The min, max, and median on all numerical columns\n",
      "\n",
      "       Unnamed: 0             total_bill                 tip                \\\n",
      "              min  max median        min    max median   min    max median   \n",
      "smoker                                                                       \n",
      "No              0  243     88       72.5  483.3  175.9  10.0   90.0   27.4   \n",
      "Yes            56  241    184       30.7  508.1  179.2  10.0  100.0   30.0   \n",
      "\n",
      "       size             \n",
      "        min max median  \n",
      "smoker                  \n",
      "No        1   6      2  \n",
      "Yes       1   5      2   \n",
      "\n",
      "The index of the maximum values by smoker group\n",
      "\n",
      "        Unnamed: 0  total_bill  tip  size\n",
      "smoker                                   \n",
      "No             243         212  212   125\n",
      "Yes            241         170  170   187 \n",
      "\n",
      "The max total_bill for the smoker group occurred at row 170.\n"
     ]
    },
    {
     "data": {
      "text/plain": [
       "168    105.9\n",
       "169    106.3\n",
       "170    508.1\n",
       "171    158.1\n",
       "172     72.5\n",
       "Name: total_bill, dtype: float64"
      ]
     },
     "execution_count": 3,
     "metadata": {},
     "output_type": "execute_result"
    }
   ],
   "source": [
    "import pandas as pd\n",
    "\n",
    "## Input the tips.xlsx into DataFrame\n",
    "tipsDF = pd.read_excel(\"tips.xlsx\")\n",
    "\n",
    "## Group the DataFrame by the sex column\n",
    "smoDF = tipsDF.groupby(\"smoker\")\n",
    "print(\"The first two records from each group\\n\")\n",
    "print(smoDF.head(2), \"\\n\")\n",
    "\n",
    "## Compute and display the minimum, maximum, and median values\n",
    "print(\"The min, max, and median on all numerical columns\\n\")\n",
    "print(smoDF.aggregate(['min', 'max', 'median']), \"\\n\")\n",
    "\n",
    "## Compute the row index for the maximum total_bill for the smoker group\n",
    "print(\"The index of the maximum values by smoker group\\n\")\n",
    "print(smoDF.idxmax(), \"\\n\")\n",
    "print(\"The max total_bill for the smoker group occurred at row {}.\".format(smoDF.idxmax().iloc[1,1]))\n",
    "\n",
    "## Verify the answer\n",
    "tipsDF.iloc[168:173, 1]\n"
   ]
  },
  {
   "cell_type": "markdown",
   "metadata": {
    "deletable": false,
    "editable": false
   },
   "source": [
    "---------------\n",
    "<h3 style=\"color:blue;\"><b>Student Practice #4</b></h3>\n",
    "<p style=\"color:SlateBlue;\">In the empty Code cell below, input tips.xlsx as a DataFrame create a pivot table on this DataFrame using the time column as the horizontal index and the sex column as the vertical index. Compute and display the mean and standard deviation for the tips column in this pivot table.</p>\n",
    "\n",
    "----------------------"
   ]
  },
  {
   "cell_type": "code",
   "execution_count": 4,
   "metadata": {
    "deletable": false,
    "editable": false
   },
   "outputs": [
    {
     "name": "stdout",
     "output_type": "stream",
     "text": [
      "sex        Female       Male        All\n",
      "time                                   \n",
      "Dinner  30.021154  31.448387  31.026705\n",
      "Lunch   25.828571  28.821212  27.280882\n",
      "All     28.334483  30.896178  29.982787 \n",
      "\n",
      "        total_bill                                  \n",
      "              mean                    std           \n",
      "sex         Female        Male     Female       Male\n",
      "time                                                \n",
      "Dinner  192.130769  214.614516  82.020855  94.609741\n",
      "Lunch   163.391429  180.484848  75.008028  79.534352\n"
     ]
    }
   ],
   "source": [
    "## Create a pivot table usin¶g the time column as the horizontal index and \n",
    "## the sex column as the vertical index\n",
    "import pandas as pd\n",
    "tips = pd.read_excel(\"tips.xlsx\")\n",
    "\n",
    "## Generate the privot table accordingly\n",
    "print(tips.pivot_table('tip', index='time', columns='sex', margins=all), \"\\n\")\n",
    "\n",
    "## Generate the privot table accordingly\n",
    "print(tips.pivot_table(aggfunc={'total_bill': ['mean', 'std']}, index='time', columns='sex'))\n"
   ]
  },
  {
   "cell_type": "code",
   "execution_count": null,
   "metadata": {},
   "outputs": [],
   "source": []
  }
 ],
 "metadata": {
  "kernelspec": {
   "display_name": "Python 3",
   "language": "python",
   "name": "python3"
  },
  "language_info": {
   "codemirror_mode": {
    "name": "ipython",
    "version": 3
   },
   "file_extension": ".py",
   "mimetype": "text/x-python",
   "name": "python",
   "nbconvert_exporter": "python",
   "pygments_lexer": "ipython3",
   "version": "3.8.5"
  }
 },
 "nbformat": 4,
 "nbformat_minor": 4
}
