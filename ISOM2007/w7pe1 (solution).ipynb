{
 "cells": [
  {
   "cell_type": "markdown",
   "metadata": {
    "deletable": false,
    "editable": false
   },
   "source": [
    "--------------------------\n",
    "\n",
    "<h3 style=\"color:blue;\"><b>Dictionaries in Python</b></h3>\n",
    "<ul style=\"color:DodgerBlue;\">\n",
    "    <li>Python dictionary is defined as a collection of comma-separated pairs of the form “key:value” enclosed in curly braces.</li>\n",
    "    <li>The keys must be immutable objects (such as strings, numbers, or tuples), but the values can have any data types. The keys are unique, but the values needn’t be unique.\n",
    "        The value associated with key1 is given by the expression dictionaryName[key1]. </li>\n",
    "    </ul>\n",
    "    \n",
    "--------------------------------------"
   ]
  },
  {
   "cell_type": "code",
   "execution_count": null,
   "metadata": {
    "deletable": false,
    "editable": false
   },
   "outputs": [],
   "source": [
    "bob = {\"firstName\":\"Robert\", \"lastName\":\"Smith\", \"age\":19}\n",
    "print (bob)\n",
    "print (\"{} {} is {} years old.\".format(bob[\"firstName\"], bob[\"lastName\"], bob[\"age\"]))\n"
   ]
  },
  {
   "cell_type": "code",
   "execution_count": null,
   "metadata": {
    "deletable": false,
    "editable": false
   },
   "outputs": [],
   "source": [
    "bob = {\"firstName\":\"Robert\", \"lastName\":\"Smith\", \"age\":19}\n",
    "print (bob)\n",
    "print (\"{2:s} {1:s} is {0:d} years old.\".format(bob[\"age\"], bob[\"lastName\"], bob[\"firstName\"]))\n"
   ]
  },
  {
   "cell_type": "code",
   "execution_count": null,
   "metadata": {
    "deletable": false,
    "editable": false
   },
   "outputs": [],
   "source": [
    "phoneBook = {\"Sam\":\"5354-8383\", \"Ted\":\"5982-9386\", \"Joe\":\"5937-8374\"}\n",
    "name = input(\"Enter a person's name: \")\n",
    "print (\"{}'s phone number is {}.\".format(name, phoneBook[name]))\n"
   ]
  },
  {
   "cell_type": "code",
   "execution_count": null,
   "metadata": {
    "deletable": false,
    "editable": false
   },
   "outputs": [],
   "source": [
    "phoneBook = {\"Sam\":\"5354-8383\", \"Ted\":\"5982-9386\", \"Joe\":\"5937-8374\"}\n",
    "name = input(\"Enter a person's name: \")\n",
    "\n",
    "if name in phoneBook:\n",
    "    print (\"{}'s phone number is {}.\".format(name, phoneBook[name]))\n",
    "else:\n",
    "    print (\"{} has no phone record\".format(name))\n",
    "    "
   ]
  },
  {
   "cell_type": "code",
   "execution_count": null,
   "metadata": {
    "deletable": false,
    "editable": false
   },
   "outputs": [],
   "source": [
    "phoneBook = {\"Sam\":\"5354-8383\", \"Ted\":\"5982-9386\", \"Joe\":\"5937-8374\"}\n",
    "name = input(\"Enter a person's name: \")\n",
    "print (\"{}'s phone number is {}.\".format(name, phoneBook.get(name, \"no phone record\")))\n"
   ]
  },
  {
   "cell_type": "code",
   "execution_count": null,
   "metadata": {
    "deletable": false,
    "editable": false
   },
   "outputs": [],
   "source": [
    "phoneBook = {\"Sam\":\"5354-8383\", \"Ted\":\"5982-9386\", \"Joe\":\"5937-8374\"}\n",
    "list(phoneBook)\n"
   ]
  },
  {
   "cell_type": "code",
   "execution_count": null,
   "metadata": {
    "deletable": false,
    "editable": false
   },
   "outputs": [],
   "source": [
    "list(phoneBook.keys())\n"
   ]
  },
  {
   "cell_type": "code",
   "execution_count": null,
   "metadata": {
    "deletable": false,
    "editable": false
   },
   "outputs": [],
   "source": [
    "list(phoneBook.values())\n"
   ]
  },
  {
   "cell_type": "code",
   "execution_count": null,
   "metadata": {
    "deletable": false,
    "editable": false
   },
   "outputs": [],
   "source": [
    "list(phoneBook.items())\n"
   ]
  },
  {
   "cell_type": "markdown",
   "metadata": {
    "deletable": false,
    "editable": false
   },
   "source": [
    "---------------------------\n",
    "\n",
    "<h3 style=\"color:blue;\"><b>Dictionary Operations</b></h3>\n",
    "\n",
    "<p style=\"color:DodgerBlue;\">Refer to the following web site for the complete list of dictionary operatiions.</p>\n",
    "\n",
    "<p style=\"color:SlateBlue;\">https://www.w3schools.com/python/python_dictionaries.asp</p>\n",
    "\n"
   ]
  },
  {
   "cell_type": "markdown",
   "metadata": {
    "deletable": false,
    "editable": false
   },
   "source": [
    "<h3 style=\"color:blue;\">The dict Function</b></h3>\n",
    "<ul style=\"color:DodgerBlue;\">\n",
    "    <li>A list of two-item lists or two-item tuples can be converted to a dictionary with the dict function.</li>\n",
    "    <li>For instance if</li>\n",
    "<span style=\"color:white;\">.....</span><span style=\"color:brown;\">list1 = [[\"one\", 1], [\"two\", 2], [\"three\", 3]]</span><br>\n",
    "    <span style=\"color:DodgerBlue;\">or</span><br>\n",
    "<span style=\"color:white;\">.....</span><span style=\"color:brown;\">list1 = [(\"one\", 1), (\"two\", 2), (\"three\", 3)]</span>\n",
    "    <li>The value of dict(list1) will be the dictionary</li>\n",
    "    <span style=\"color:white;\">.....</span><span style=\"color:brown;\">{\"one\": 1, \"two\": 2, \"three\": 3}</span>\n",
    "    </ul>\n"
   ]
  },
  {
   "cell_type": "markdown",
   "metadata": {
    "deletable": false,
    "editable": false
   },
   "source": [
    "<h3 style=\"color:blue;\"><b>Dictionary-Valued Dictionaries</b></h3>\n",
    "<ul style=\"color:DodgerBlue;\">\n",
    "    <li>A dictionary's values can be any type of object, including a dictionary.</li>\n",
    "    <li>When some data are placed as the following dictionary:</li><br>\n",
    "    <span style=\"color:brown;\">nations = {\"Canada\":{\"cont\":\"North America\", \"popl\":34.8, \"area\":3855000}, \"France\":{\"cont\":\"Europe\",\"popl\":66.3},\"area\":211209} ...}</span>\n",
    "    </ul>\n",
    "    \n",
    "---------------------------------"
   ]
  },
  {
   "cell_type": "code",
   "execution_count": null,
   "metadata": {
    "deletable": false,
    "editable": false
   },
   "outputs": [],
   "source": [
    "nat1 = [\"Canada\", {\"cont\":\"North America\", \"popl\":34.8, \"area\":3855000}]\n",
    "nat2 = [\"France\", {\"cont\":\"Europe\", \"popl\":66.3, \"area\":211209}]\n",
    "\n",
    "nations = dict([nat1, nat2])\n",
    "print(nations, \"\\n\")\n",
    "print(nations[\"Canada\"], \"\\n\")\n",
    "print(nations[\"Canada\"][\"cont\"])\n",
    "print(nations[\"Canada\"][\"popl\"])\n",
    "print(nations[\"Canada\"][\"area\"])\n"
   ]
  },
  {
   "cell_type": "markdown",
   "metadata": {
    "deletable": false,
    "editable": false
   },
   "source": [
    "-----------------------\n",
    "\n",
    "<h3 style=\"color:red;\"><b>Student Practice</b></h3>\n",
    "<p style=\"color:DodgerBlue;\">In the empty cell below, create a phone book for your staffs that contains the following information.</p>\n",
    "<table style=\"color:SlateBlue;\">\n",
    "    <tr>\n",
    "        <th style=\"width:60px; text-align:left\">Name</th>\n",
    "        <th style=\"width:140px;\">office phone #</th>\n",
    "        <th style=\"width:140px;\">Cell phone #</th>\n",
    "    </tr>\n",
    "    <tr>\n",
    "        <td style=\"text-align:left;\">Sam</td>\n",
    "        <td>2847-8374</td>\n",
    "        <td>5374-8237</td>\n",
    "    </tr>\n",
    "    <tr>\n",
    "        <td style=\"text-align:left;\">Tony</td>\n",
    "        <td>2882-9374</td>\n",
    "        <td>6384-9474</td>\n",
    "    </tr>\n",
    "    <tr>\n",
    "        <td style=\"text-align:left;\">Steven</td>\n",
    "        <td>2834-9334</td>\n",
    "        <td>4837-8363</td>\n",
    "    </tr>\n",
    "    <tr>\n",
    "        <td style=\"text-align:left;\">Debbie</td>\n",
    "        <td>3767-9783</td>\n",
    "        <td>7637-9934</td>\n",
    "    </tr>\n",
    "    <tr>\n",
    "        <td style=\"text-align:left;\">Mandy</td>\n",
    "        <td>9084-3829</td>\n",
    "        <td>2563-9477</td>\n",
    "    </tr>    \n",
    "</table>\n",
    "    \n",
    "--------------------------"
   ]
  },
  {
   "cell_type": "code",
   "execution_count": null,
   "metadata": {
    "deletable": false,
    "editable": false
   },
   "outputs": [],
   "source": [
    "cont1 = [\"Sam\", {\"office\":\"2847-8374\", \"cell\":\"5374-8237\"}]\n",
    "cont2 = [\"Tony\", {\"office\":\"2882-9374\", \"cell\":\"6384-9474\"}]\n",
    "cont3 = [\"Steven\", {\"office\":\"2834-9334\", \"cell\":\"4837-8363\"}]\n",
    "cont4 = [\"Debbie\", {\"office\":\"3767-9783\", \"cell\":\"7638-9934\"}]\n",
    "cont5 = [\"Mandy\", {\"office\":\"9084-3829\", \"cell\":\"2563-9477\"}]\n",
    "\n",
    "phoneBook = dict([cont1, cont2, cont3, cont4, cont5])\n"
   ]
  },
  {
   "cell_type": "markdown",
   "metadata": {
    "deletable": false,
    "editable": false
   },
   "source": [
    "--------------------------\n",
    "\n",
    "<h3 style=\"color:red;\"><b>Student Practice</b></h3>\n",
    "<p style=\"color:DodgerBlue;\">In the empty cell below, create a phone book enquiry system. Input the name and enquiry type (B, O, or C) from the user and provide the answer to the enquiry accordingly. You need to perform the input validation to avoid adnormal terminaton of your program.</p>\n",
    "\n",
    "------------------------------------"
   ]
  },
  {
   "cell_type": "code",
   "execution_count": null,
   "metadata": {
    "deletable": false,
    "editable": false
   },
   "outputs": [],
   "source": [
    "name = input(\"Please the contact name:  \")\n",
    "sType = input(\"Please enter your search (b/o/c):  \" )\n",
    "name = name.lower().title()\n",
    "sType = sType.lower()\n",
    "\n",
    "if sType not in [\"b\", \"o\", \"c\"]:\n",
    "    print (\"\\nInvaid serach type, it need to be 'B', 'O', or 'C'\")\n",
    "elif name not in phoneBook:\n",
    "    print (\"\\n{} not exist in the current phone book!\".format(name))\n",
    "elif sType == \"b\":\n",
    "    print (\"\\n{}'s office phone #: {}; \".format(name, phoneBook[name][\"office\"]), end=\"\")\n",
    "    print (\"cell #: {}\".format(phoneBook[name][\"cell\"]))\n",
    "elif sType == \"o\":\n",
    "    print (\"\\n{}'s office phone #: {}\".format(name, phoneBook[name][\"office\"]))\n",
    "else:\n",
    "    print (\"\\n{}'s cell phone #: {}\".format(name, phoneBook[name][\"cell\"]))\n",
    " "
   ]
  },
  {
   "cell_type": "markdown",
   "metadata": {
    "deletable": false,
    "editable": false
   },
   "source": [
    "-----------------------------\n",
    "\n",
    "<h3 style=\"color:red;\"><b>Student Practice (Challenge)</b></h3>\n",
    "\n",
    "<p style=\"color:DodgerBlue;\">In the empty cell below, count the number of words and the occurence of each word in the given paragraph (i.e. the sentences in the next cell). Assume it is not case sensitive, that means the word \"An\" and \"an\" are considered to be the same.</p>\n",
    "\n",
    "------------------------------------"
   ]
  },
  {
   "cell_type": "code",
   "execution_count": 1,
   "metadata": {
    "deletable": false,
    "editable": false
   },
   "outputs": [],
   "source": [
    "paraData = \"\"\"An object is an encapsulation of data and code that operates on the data. Objects have\n",
    "properties and respond to methods. The most effective type of programming for complex\n",
    "problems is called object-oriented design. An object-oriented program can be viewed as a\n",
    "collection of cooperating objects. Many modern programmers use a blend of traditional\n",
    "structured programming along with object-oriented design. Python is an object-oriented\n",
    "programming language-in fact, every structure, such as a list or a string is actually an\n",
    "object. This book illustrates the building blocks of Python in the early chapters and then\n",
    "puts them together using object-oriented techniques\"\"\"\n"
   ]
  },
  {
   "cell_type": "code",
   "execution_count": 2,
   "metadata": {
    "deletable": false,
    "editable": false
   },
   "outputs": [],
   "source": [
    "## Function remove all the punctuations, if exists\n",
    "def removePunctuations(para):\n",
    "    punctuations = ('.', ',', ':', \";\", \"?\", \"!\", \"-\", \"$\", \"%\", \"&\", \"#\", \"@\")\n",
    "    for punc in punctuations:\n",
    "        para = para.replace(punc, \" \")\n",
    "    \n",
    "    return para\n"
   ]
  },
  {
   "cell_type": "code",
   "execution_count": 3,
   "metadata": {
    "deletable": false,
    "editable": false
   },
   "outputs": [],
   "source": [
    "## Function create a dictionary to keep track of the frequent\n",
    "def creatFrequent(list):\n",
    "    dictList = {}\n",
    "    for word in listWords:\n",
    "        if word not in dictList:\n",
    "            dictList[word] = 1\n",
    "        else:\n",
    "            dictList[word] += 1\n",
    "    \n",
    "    return (dictList)\n"
   ]
  },
  {
   "cell_type": "code",
   "execution_count": 4,
   "metadata": {
    "deletable": false,
    "editable": false
   },
   "outputs": [],
   "source": [
    "## Function to display frequent of words\n",
    "def displayFrequent(dict):\n",
    "    print(\"{0:<15s}{1:>8s}\".format('Word', 'Frequent'), sep=\"\")\n",
    "    for item in dict:\n",
    "        print (\"{0:<15s}{1:>8d}\".format(item, dict[item]), sep=\"\")\n"
   ]
  },
  {
   "cell_type": "code",
   "execution_count": 5,
   "metadata": {
    "deletable": false,
    "editable": false
   },
   "outputs": [
    {
     "name": "stdout",
     "output_type": "stream",
     "text": [
      "Word           Frequent\n",
      "a                     4\n",
      "actually              1\n",
      "along                 1\n",
      "an                    5\n",
      "and                   3\n",
      "as                    2\n",
      "be                    1\n",
      "blend                 1\n",
      "blocks                1\n",
      "book                  1\n",
      "building              1\n",
      "called                1\n",
      "can                   1\n",
      "chapters              1\n",
      "code                  1\n",
      "collection            1\n",
      "complex               1\n",
      "cooperating           1\n",
      "data                  2\n",
      "design                2\n",
      "early                 1\n",
      "effective             1\n",
      "encapsulation         1\n",
      "every                 1\n",
      "fact                  1\n",
      "for                   1\n",
      "have                  1\n",
      "illustrates           1\n",
      "in                    2\n",
      "is                    4\n",
      "language              1\n",
      "list                  1\n",
      "many                  1\n",
      "methods               1\n",
      "modern                1\n",
      "most                  1\n",
      "object                7\n",
      "objects               2\n",
      "of                    5\n",
      "on                    1\n",
      "operates              1\n",
      "or                    1\n",
      "oriented              5\n",
      "problems              1\n",
      "program               1\n",
      "programmers           1\n",
      "programming           3\n",
      "properties            1\n",
      "puts                  1\n",
      "python                2\n",
      "respond               1\n",
      "string                1\n",
      "structure             1\n",
      "structured            1\n",
      "such                  1\n",
      "techniques            1\n",
      "that                  1\n",
      "the                   4\n",
      "them                  1\n",
      "then                  1\n",
      "this                  1\n",
      "to                    1\n",
      "together              1\n",
      "traditional           1\n",
      "type                  1\n",
      "use                   1\n",
      "using                 1\n",
      "viewed                1\n",
      "with                  1\n"
     ]
    }
   ],
   "source": [
    "## Conver all characters in the paragraph into lower case and sort all words\n",
    "paraData = paraData.lower()\n",
    "\n",
    "## Call the function removePunctuation to remove all punctuations\n",
    "lPara = removePunctuations(paraData)\n",
    "\n",
    "## Split the words in the paragraph into separate words and sort all words\n",
    "listWords = lPara.split()\n",
    "listWords.sort()\n",
    "\n",
    "## Call the function creatFrequent to keep track of the frequent\n",
    "dictList = creatFrequent(listWords)\n",
    "\n",
    "## Call the function displayFrequent to output the results\n",
    "displayFrequent(dictList)\n"
   ]
  },
  {
   "cell_type": "code",
   "execution_count": null,
   "metadata": {},
   "outputs": [],
   "source": []
  }
 ],
 "metadata": {
  "kernelspec": {
   "display_name": "Python 3",
   "language": "python",
   "name": "python3"
  },
  "language_info": {
   "codemirror_mode": {
    "name": "ipython",
    "version": 3
   },
   "file_extension": ".py",
   "mimetype": "text/x-python",
   "name": "python",
   "nbconvert_exporter": "python",
   "pygments_lexer": "ipython3",
   "version": "3.8.5"
  }
 },
 "nbformat": 4,
 "nbformat_minor": 4
}
