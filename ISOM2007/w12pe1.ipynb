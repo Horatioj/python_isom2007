{
 "cells": [
  {
   "cell_type": "markdown",
   "metadata": {
    "deletable": false,
    "editable": false
   },
   "source": [
    "-------------------------------------\n",
    "<h2 style=\"color:blue;\"><b>Perform Excel Tasks in Python (Part II)</b></h2>\n",
    "<br>\n",
    "<p style=\"color:SlateBlue;\">In order to append these rows (i.e. sum_row, average_row, max_row, and min_row) , to your dataframe we need to perform some works.</p>\n",
    "<ul style=\"color:DodgerBlue;\">\n",
    "    <li>Transpose the data</li>\n",
    "    <li>Convert to DataFrame (so it is easier to concatenate onto existing data)</li>\n",
    "    <li>Append to existing data</li>\n",
    "    <li>Reneame the row with meaningful name</li>\n",
    "    </ul>\n",
    "    \n",
    "--------------------------------------    \n"
   ]
  },
  {
   "cell_type": "code",
   "execution_count": 1,
   "metadata": {
    "deletable": false,
    "editable": false
   },
   "outputs": [
    {
     "name": "stdout",
     "output_type": "stream",
     "text": [
      "Exercise      7039\n",
      "Assignment    6983\n",
      "Mid-term      6883\n",
      "Exam          8048\n",
      "dtype: int64 \n",
      "\n",
      "   Exercise  Assignment  Mid-term  Exam\n",
      "0      7039        6983      6883  8048 \n",
      "\n",
      "        SID    Name  DOM  Exercise  Assignment  Mid-term  Exam\n",
      "95   B95677     Ava  6.0        72          85        66    62\n",
      "96   B79507    Levi  2.0        56          93        64    95\n",
      "97   B92485    Lily  2.0        55          47        86    63\n",
      "98   B76960    Maya  1.0        71          58        56    74\n",
      "99   B79775  Peyton  7.0        83          59        83    76\n",
      "Sum     NaN     NaN  NaN      7039        6983      6883  8048\n"
     ]
    }
   ],
   "source": [
    "## append a new row (sum) to the dataframe\n",
    "import pandas as pd\n",
    "\n",
    "sData = pd.read_excel('StudentData.xlsx')   ## read the excel file into sData\n",
    "sumRow = sData[[\"Exercise\", \"Assignment\", \"Mid-term\", \"Exam\"]].sum()\n",
    "print(sumRow, \"\\n\")\n",
    "\n",
    "dfSum = pd.DataFrame(data=sumRow).T             # transpose\n",
    "print(dfSum, \"\\n\")\n",
    "\n",
    "dfSum = dfSum.reindex(columns=sData.columns)    # convert to dataFrame\n",
    "dfNew = sData.append(dfSum, ignore_index=False) # append to existing data\n",
    "dfNew = dfNew.rename(index={0:\"Sum\"})           # rename the row as Sum\n",
    "print(dfNew.tail(6))\n"
   ]
  },
  {
   "cell_type": "code",
   "execution_count": 2,
   "metadata": {
    "deletable": false,
    "editable": false
   },
   "outputs": [
    {
     "name": "stdout",
     "output_type": "stream",
     "text": [
      "        SID    Name  DOM  Exercise  Assignment  Mid-term  Exam\n",
      "96   B79507    Levi  2.0        56          93        64    95\n",
      "97   B92485    Lily  2.0        55          47        86    63\n",
      "98   B76960    Maya  1.0        71          58        56    74\n",
      "99   B79775  Peyton  7.0        83          59        83    76\n",
      "Sum     NaN     NaN  NaN      7039        6983      6883  8048 \n",
      "\n",
      "            SID    Name  DOM  Exercise  Assignment  Mid-term     Exam\n",
      "97       B92485    Lily  2.0     55.00       47.00     86.00    63.00\n",
      "98       B76960    Maya  1.0     71.00       58.00     56.00    74.00\n",
      "99       B79775  Peyton  7.0     83.00       59.00     83.00    76.00\n",
      "Sum         NaN     NaN  NaN   7039.00     6983.00   6883.00  8048.00\n",
      "Average     NaN     NaN  NaN     70.39       69.83     68.83    80.48\n"
     ]
    }
   ],
   "source": [
    "## append more new rows (sum and mean) to the dataframe\n",
    "import pandas as pd\n",
    "\n",
    "sData = pd.read_excel('StudentData.xlsx')   ## read the Excel file into sData\n",
    "sumRow = sData[[\"Exercise\", \"Assignment\", \"Mid-term\", \"Exam\"]].sum()\n",
    "meanRow = sData[[\"Exercise\", \"Assignment\", \"Mid-term\", \"Exam\"]].mean()\n",
    "\n",
    "dfSum = pd.DataFrame(data=sumRow).T             # transpose\n",
    "dfSum = dfSum.reindex(columns=sData.columns)    # convert to dataFrame\n",
    "dfNew = sData.append(dfSum, ignore_index=False) # append to existing data\n",
    "dfNew = dfNew.rename(index={0:\"Sum\"})           # rename the row as Sum\n",
    "print(dfNew.tail(), \"\\n\")\n",
    "\n",
    "dfMean = pd.DataFrame(data=meanRow).T            # transpose\n",
    "dfMean = dfMean.reindex(columns=dfNew.columns)   # convert to dataFrame\n",
    "dfNew = dfNew.append(dfMean, ignore_index=False) # append to existing data\n",
    "dfNew = dfNew.rename(index={0:\"Average\"})        # rename the row as Sum\n",
    "print(dfNew.tail())\n"
   ]
  },
  {
   "cell_type": "markdown",
   "metadata": {
    "deletable": false,
    "editable": false
   },
   "source": [
    "-----------------------\n",
    "<h4 style=\"color:SlateBlue\";>Create your dataframe on the run</h4>\n",
    "           \n",
    "--------------------------"
   ]
  },
  {
   "cell_type": "code",
   "execution_count": 3,
   "metadata": {
    "deletable": false,
    "editable": false
   },
   "outputs": [
    {
     "name": "stdout",
     "output_type": "stream",
     "text": [
      "      A     B     C   D     E\n",
      "0  10.0  20.0  30.0  40  50.0\n",
      "1  11.0  21.0   NaN  41  51.0\n",
      "2  12.0   NaN  32.0  42   NaN\n",
      "3  13.0  23.0  33.0  43   NaN\n",
      "4   NaN  24.0  34.0  44  54.0\n"
     ]
    }
   ],
   "source": [
    "## Create your dataframe on the run\n",
    "import pandas as pd\n",
    "\n",
    "## Define dictionary used to create our DataFrame\n",
    "dt = {\"A\": [10, 11, 12, 13, None],\n",
    "      \"B\": [20, 21, None, 23, 24],\n",
    "      \"C\": [30, None, 32, 33, 34],\n",
    "      \"D\": [40, 41, 42, 43, 44],\n",
    "      \"E\": [50, 51, None, None, 54]}\n",
    "\n",
    "## Create default dataframe\n",
    "df = pd.DataFrame(dt)\n",
    "print(df)\n"
   ]
  },
  {
   "cell_type": "markdown",
   "metadata": {
    "deletable": false,
    "editable": false
   },
   "source": [
    "--------------------\n",
    "<h4 style=\"color:SlateBlue;\">Manipulation of data in more than one dataframe (i.e. similar task as vlookup in excel).\n",
    "<br><br>Watch the outcomes that with the different setting of \"how\".</h4>\n",
    "\n",
    "------------------------------\n"
   ]
  },
  {
   "cell_type": "code",
   "execution_count": 4,
   "metadata": {
    "deletable": false,
    "editable": false
   },
   "outputs": [
    {
     "name": "stdout",
     "output_type": "stream",
     "text": [
      "      SID     Name  DOM  Exercise  Assignment  Mid-term  Exam\n",
      "0  B77666      Leo    4        75          69        83    91\n",
      "1  B97353   Carson    2        75          43        68    79\n",
      "2  B94131   Harper    6        52          46        95    75\n",
      "3  B86056     Liam    5        43          43        47    80\n",
      "4  B95818  Paisley    3        86          44        55    76 \n",
      "\n",
      "   DOM         College\n",
      "0    1  Chao Kuang Piu\n",
      "1    2   Cheng Yu Tung\n",
      "2    3  Cheong Kun Lun\n",
      "3    4     Lui Che Woo\n",
      "4    5       Shiu Pong\n"
     ]
    }
   ],
   "source": [
    "## Prepare the two dataframes to demo the link (similar to vLookUp)\n",
    "import pandas as pd\n",
    "\n",
    "sData = pd.read_excel('StudentData.xlsx')   ## read the excel file into sData\n",
    "print(sData.head(), \"\\n\")\n",
    "\n",
    "# Define dictionary used to create our DataFrame\n",
    "dt = {\"DOM\": [1, 2, 3, 4, 5, 6, 7],\n",
    "      \"College\": [\"Chao Kuang Piu\", \"Cheng Yu Tung\", \"Cheong Kun Lun\", \"Lui Che Woo\", \\\n",
    "                  \"Shiu Pong\", \"Choi Kai Yau\", \"Moon Chun Memorial\"]}\n",
    "cData = pd.DataFrame(dt)\n",
    "print(cData.head())\n"
   ]
  },
  {
   "cell_type": "code",
   "execution_count": 6,
   "metadata": {
    "deletable": false,
    "editable": false
   },
   "outputs": [
    {
     "name": "stdout",
     "output_type": "stream",
     "text": [
      "      SID     Name  DOM             College\n",
      "0  B77666      Leo    4         Lui Che Woo\n",
      "1  B97353   Carson    2       Cheng Yu Tung\n",
      "2  B94131   Harper    6        Choi Kai Yau\n",
      "3  B86056     Liam    5           Shiu Pong\n",
      "4  B95818  Paisley    3      Cheong Kun Lun\n",
      "5  B94261   Carter    3      Cheong Kun Lun\n",
      "6  B79205    Lucas    7  Moon Chun Memorial\n",
      "7  B82229    Mason    1      Chao Kuang Piu \n",
      "\n",
      "       SID    Name  DOM             College\n",
      "96  B79507    Levi    2       Cheng Yu Tung\n",
      "97  B92485    Lily    2       Cheng Yu Tung\n",
      "98  B76960    Maya    1      Chao Kuang Piu\n",
      "99  B79775  Peyton    7  Moon Chun Memorial \n",
      "\n"
     ]
    }
   ],
   "source": [
    "# Join the colleges data to the students data, use pandas.merge()\n",
    "\n",
    "sSimple = sData[[\"SID\", \"Name\", \"DOM\"]]    # create a dataframe contain selected columns\n",
    "\n",
    "## Perform the merge of the two dataframe\n",
    "student_dom = pd.merge(sSimple, cData, how='left', on='DOM')   # how = left\n",
    "print(student_dom.head(8), \"\\n\")\n",
    "print(student_dom.tail(4), \"\\n\")\n",
    "      "
   ]
  },
  {
   "cell_type": "code",
   "execution_count": 7,
   "metadata": {
    "deletable": false,
    "editable": false
   },
   "outputs": [
    {
     "name": "stdout",
     "output_type": "stream",
     "text": [
      "      SID      Name  DOM      College\n",
      "0  B77666       Leo    4  Lui Che Woo\n",
      "1  B77567     Wyatt    4  Lui Che Woo\n",
      "2  B72915   Gabriel    4  Lui Che Woo\n",
      "3  B93404   Cameron    4  Lui Che Woo\n",
      "4  B94018     Logan    4  Lui Che Woo\n",
      "5  B74890       Mia    4  Lui Che Woo\n",
      "6  B77688  Benjamin    4  Lui Che Woo\n",
      "7  B96568     Jacob    4  Lui Che Woo \n",
      "\n",
      "       SID    Name  DOM         College\n",
      "96  B97817   Riley    1  Chao Kuang Piu\n",
      "97  B73420  Gianna    1  Chao Kuang Piu\n",
      "98  B82183    Nova    1  Chao Kuang Piu\n",
      "99  B76960    Maya    1  Chao Kuang Piu \n",
      "\n"
     ]
    }
   ],
   "source": [
    "# Join the colleges data to the students data, use pandas.merge()\n",
    "\n",
    "sSimple = sData[[\"SID\", \"Name\", \"DOM\"]]    # create a dataframe contain selected columns#\n",
    "\n",
    "## Perform the merge of the two dataframe\n",
    "student_dom = pd.merge(sSimple, cData, how='right', on='DOM')  # how = right\n",
    "print(student_dom.head(8), \"\\n\")\n",
    "print(student_dom.tail(4), \"\\n\")\n"
   ]
  },
  {
   "cell_type": "markdown",
   "metadata": {
    "deletable": false,
    "editable": false
   },
   "source": [
    "----------------\n",
    "<h4 style=\"color:SlateBlue;\">Adding IF Conditions on dataframe column (i.e. determine the grade according to scores using the loc, “|”, and “&”)</h4>\n",
    "\n",
    "-----------------------------"
   ]
  },
  {
   "cell_type": "code",
   "execution_count": 1,
   "metadata": {
    "deletable": false,
    "editable": false
   },
   "outputs": [
    {
     "name": "stdout",
     "output_type": "stream",
     "text": [
      "       SID     Name  DOM  Exercise  Assignment  Mid-term  Exam  Scores Grade\n",
      "0   B77666      Leo    4        75          69        83    91    83.0     B\n",
      "1   B97353   Carson    2        75          43        68    79    68.0     D\n",
      "2   B94131   Harper    6        52          46        95    75    73.0     C\n",
      "3   B86056     Liam    5        43          43        47    80    59.0     E\n",
      "4   B95818  Paisley    3        86          44        55    76    64.0     D\n",
      "..     ...      ...  ...       ...         ...       ...   ...     ...   ...\n",
      "95  B95677      Ava    6        72          85        66    62    69.0     D\n",
      "96  B79507     Levi    2        56          93        64    95    81.0     B\n",
      "97  B92485     Lily    2        55          47        86    63    66.0     D\n",
      "98  B76960     Maya    1        71          58        56    74    65.0     D\n",
      "99  B79775   Peyton    7        83          59        83    76    75.0     C\n",
      "\n",
      "[100 rows x 9 columns]\n"
     ]
    }
   ],
   "source": [
    "## Use condition statements to determine the grade accordingly\n",
    "import pandas as pd\n",
    "\n",
    "sData = pd.read_excel('StudentData.xlsx')   ## read the Excel file into sData\n",
    "\n",
    "sData[\"Scores\"] = round(sData[\"Exercise\"] * 0.1 + sData[\"Assignment\"] * 0.2 + \\\n",
    "                  sData[\"Mid-term\"] * 0.3 + sData[\"Exam\"] * 0.4, 0)\n",
    "\n",
    "## Determine the grade according to the scores\n",
    "sData.loc[sData['Scores'] >= 90, 'Grade'] = \"A\"\n",
    "sData.loc[(sData['Scores'] >= 80) & (sData['Scores'] < 90), 'Grade'] = \"B\"\n",
    "sData.loc[(sData['Scores'] >= 70) & (sData['Scores'] < 80), 'Grade'] = \"C\"\n",
    "sData.loc[(sData['Scores'] >= 60) & (sData['Scores'] < 70), 'Grade'] = \"D\"\n",
    "sData.loc[(sData['Scores'] >= 50) & (sData['Scores'] < 60), 'Grade'] = \"E\"\n",
    "sData.loc[sData['Scores'] < 50, 'Grade'] = \"F\"\n",
    "print(sData)\n"
   ]
  },
  {
   "cell_type": "markdown",
   "metadata": {
    "deletable": false,
    "editable": false
   },
   "source": [
    "--------------------\n",
    "<h3 style=\"color:SlateBlue;\"><b>Simple Plotting with Pandas Methods</b></h3>\n",
    "\n",
    "-----------------------------"
   ]
  },
  {
   "cell_type": "code",
   "execution_count": 8,
   "metadata": {
    "deletable": false,
    "editable": false
   },
   "outputs": [
    {
     "data": {
      "text/plain": [
       "<matplotlib.axes._subplots.AxesSubplot at 0x2986868a0a0>"
      ]
     },
     "execution_count": 8,
     "metadata": {},
     "output_type": "execute_result"
    },
    {
     "data": {
      "image/png": "[encoded data removed]",
      "text/plain": [
       "<Figure size 432x288 with 1 Axes>"
      ]
     },
     "metadata": {
      "needs_background": "light"
     },
     "output_type": "display_data"
    }
   ],
   "source": [
    "## Use Pandas method to plot a histogram for one single column\n",
    "import pandas as pd\n",
    "\n",
    "sData = pd.read_excel('StudentData.xlsx')   ## read the Excel file into sData\n",
    "sData[['Exercise']].plot.hist(bins=8, alpha=0.5)\n"
   ]
  },
  {
   "cell_type": "code",
   "execution_count": 9,
   "metadata": {
    "deletable": false,
    "editable": false
   },
   "outputs": [
    {
     "data": {
      "text/plain": [
       "<matplotlib.axes._subplots.AxesSubplot at 0x29868d82910>"
      ]
     },
     "execution_count": 9,
     "metadata": {},
     "output_type": "execute_result"
    },
    {
     "data": {
      "image/png": "[encoded data removed]",
      "text/plain": [
       "<Figure size 432x288 with 1 Axes>"
      ]
     },
     "metadata": {
      "needs_background": "light"
     },
     "output_type": "display_data"
    }
   ],
   "source": [
    "## Use Pandas method to plot a histogram for multiple columns\n",
    "import pandas as pd\n",
    "\n",
    "sData = pd.read_excel('StudentData.xlsx')   ## read the Excel file into sData\n",
    "sData[['Mid-term', \"Exam\" ]].plot.hist(bins=8, alpha=0.5)\n"
   ]
  },
  {
   "cell_type": "code",
   "execution_count": 10,
   "metadata": {
    "deletable": false,
    "editable": false
   },
   "outputs": [
    {
     "data": {
      "text/plain": [
       "<matplotlib.axes._subplots.AxesSubplot at 0x29868ee2190>"
      ]
     },
     "execution_count": 10,
     "metadata": {},
     "output_type": "execute_result"
    },
    {
     "data": {
      "image/png": "[encoded data removed]",
      "text/plain": [
       "<Figure size 432x288 with 1 Axes>"
      ]
     },
     "metadata": {
      "needs_background": "light"
     },
     "output_type": "display_data"
    }
   ],
   "source": [
    "## Use Pandas method to plot a box chart\n",
    "import pandas as pd\n",
    "\n",
    "sData = pd.read_excel('StudentData.xlsx')   ## read the Excel file into sData\n",
    "sData[\"Scores\"] = round(sData[\"Exercise\"] * 0.1 + sData[\"Assignment\"] * 0.2 + \\\n",
    "                  sData[\"Mid-term\"] * 0.3 + sData[\"Exam\"] * 0.4, 0)\n",
    "\n",
    "## Plot the pie chart accordingly\n",
    "sData[[\"Exercise\", \"Assignment\", \"Mid-term\", \"Exam\", \"Scores\"]].plot.box()"
   ]
  },
  {
   "cell_type": "markdown",
   "metadata": {
    "deletable": false,
    "editable": false
   },
   "source": [
    "--------------------\n",
    "<h3 style=\"color:SlateBlue;\"><b>Saving Your Works to either .csv or .xlsx files</b></h3>\n",
    "\n",
    "-------------------"
   ]
  },
  {
   "cell_type": "code",
   "execution_count": 1,
   "metadata": {
    "deletable": false,
    "editable": false
   },
   "outputs": [
    {
     "name": "stdout",
     "output_type": "stream",
     "text": [
      "        SID    Name  DOM  Exercise  Assignment  Mid-term  Exam  Scores\n",
      "96   B79507    Levi  2.0        56          93        64    95    81.0\n",
      "97   B92485    Lily  2.0        55          47        86    63    66.0\n",
      "98   B76960    Maya  1.0        71          58        56    74    65.0\n",
      "99   B79775  Peyton  7.0        83          59        83    76    75.0\n",
      "Sum     NaN     NaN  NaN      7039        6983      6883  8048     NaN \n",
      "\n"
     ]
    }
   ],
   "source": [
    "## Writing to a .xlsx file\n",
    "import pandas as pd\n",
    "import os\n",
    "\n",
    "sData = pd.read_excel('StudentData.xlsx')      # read the Excel.xlsx file into sData\n",
    "sData[\"Scores\"] = round(sData[\"Exercise\"] * 0.1 + sData[\"Assignment\"] * 0.2 + \\\n",
    "                  sData[\"Mid-term\"] * 0.3 + sData[\"Exam\"] * 0.4, 0)\n",
    "\n",
    "sumRow = sData[[\"Exercise\", \"Assignment\", \"Mid-term\", \"Exam\"]].sum()\n",
    "\n",
    "dfSum = pd.DataFrame(data=sumRow).T             # transpose\n",
    "dfSum = dfSum.reindex(columns=sData.columns)    # convert to dataFrame\n",
    "dfNew = sData.append(dfSum, ignore_index=False) # append to existing data\n",
    "dfNew = dfNew.rename(index={0:\"Sum\"})           # rename the row as Sum\n",
    "print(dfNew.tail(), \"\\n\")\n",
    "\n",
    "## write to Excel file\n",
    "if os.path.isfile(\"Students_new.xlsx\"):\n",
    "    os.remove(\"Students_new.xlsx\")              # Ensure that the file not exists\n",
    "    \n",
    "dfNew.to_excel(\"Students_new.xlsx\")\n"
   ]
  },
  {
   "cell_type": "code",
   "execution_count": 1,
   "metadata": {
    "deletable": false,
    "editable": false
   },
   "outputs": [
    {
     "data": {
      "text/html": [
       "<div>\n",
       "<style scoped>\n",
       "    .dataframe tbody tr th:only-of-type {\n",
       "        vertical-align: middle;\n",
       "    }\n",
       "\n",
       "    .dataframe tbody tr th {\n",
       "        vertical-align: top;\n",
       "    }\n",
       "\n",
       "    .dataframe thead th {\n",
       "        text-align: right;\n",
       "    }\n",
       "</style>\n",
       "<table border=\"1\" class=\"dataframe\">\n",
       "  <thead>\n",
       "    <tr style=\"text-align: right;\">\n",
       "      <th></th>\n",
       "      <th>Unnamed: 0</th>\n",
       "      <th>SID</th>\n",
       "      <th>Name</th>\n",
       "      <th>DOM</th>\n",
       "      <th>Exercise</th>\n",
       "      <th>Assignment</th>\n",
       "      <th>Mid-term</th>\n",
       "      <th>Exam</th>\n",
       "      <th>Scores</th>\n",
       "    </tr>\n",
       "  </thead>\n",
       "  <tbody>\n",
       "    <tr>\n",
       "      <th>96</th>\n",
       "      <td>96</td>\n",
       "      <td>B79507</td>\n",
       "      <td>Levi</td>\n",
       "      <td>2.0</td>\n",
       "      <td>56</td>\n",
       "      <td>93</td>\n",
       "      <td>64</td>\n",
       "      <td>95</td>\n",
       "      <td>81.0</td>\n",
       "    </tr>\n",
       "    <tr>\n",
       "      <th>97</th>\n",
       "      <td>97</td>\n",
       "      <td>B92485</td>\n",
       "      <td>Lily</td>\n",
       "      <td>2.0</td>\n",
       "      <td>55</td>\n",
       "      <td>47</td>\n",
       "      <td>86</td>\n",
       "      <td>63</td>\n",
       "      <td>66.0</td>\n",
       "    </tr>\n",
       "    <tr>\n",
       "      <th>98</th>\n",
       "      <td>98</td>\n",
       "      <td>B76960</td>\n",
       "      <td>Maya</td>\n",
       "      <td>1.0</td>\n",
       "      <td>71</td>\n",
       "      <td>58</td>\n",
       "      <td>56</td>\n",
       "      <td>74</td>\n",
       "      <td>65.0</td>\n",
       "    </tr>\n",
       "    <tr>\n",
       "      <th>99</th>\n",
       "      <td>99</td>\n",
       "      <td>B79775</td>\n",
       "      <td>Peyton</td>\n",
       "      <td>7.0</td>\n",
       "      <td>83</td>\n",
       "      <td>59</td>\n",
       "      <td>83</td>\n",
       "      <td>76</td>\n",
       "      <td>75.0</td>\n",
       "    </tr>\n",
       "    <tr>\n",
       "      <th>100</th>\n",
       "      <td>Sum</td>\n",
       "      <td>NaN</td>\n",
       "      <td>NaN</td>\n",
       "      <td>NaN</td>\n",
       "      <td>7039</td>\n",
       "      <td>6983</td>\n",
       "      <td>6883</td>\n",
       "      <td>8048</td>\n",
       "      <td>NaN</td>\n",
       "    </tr>\n",
       "  </tbody>\n",
       "</table>\n",
       "</div>"
      ],
      "text/plain": [
       "    Unnamed: 0     SID    Name  DOM  Exercise  Assignment  Mid-term  Exam  \\\n",
       "96          96  B79507    Levi  2.0        56          93        64    95   \n",
       "97          97  B92485    Lily  2.0        55          47        86    63   \n",
       "98          98  B76960    Maya  1.0        71          58        56    74   \n",
       "99          99  B79775  Peyton  7.0        83          59        83    76   \n",
       "100        Sum     NaN     NaN  NaN      7039        6983      6883  8048   \n",
       "\n",
       "     Scores  \n",
       "96     81.0  \n",
       "97     66.0  \n",
       "98     65.0  \n",
       "99     75.0  \n",
       "100     NaN  "
      ]
     },
     "execution_count": 1,
     "metadata": {},
     "output_type": "execute_result"
    }
   ],
   "source": [
    "## Verify the works of write to an Excel (.xlsx) file\n",
    "## Writing to a .xlsx file\n",
    "import pandas as pd\n",
    "\n",
    "newData = pd.read_excel('Students_new.xlsx')   ## read the Excel.xlsx file into sData\n",
    "newData.tail()"
   ]
  },
  {
   "cell_type": "code",
   "execution_count": 2,
   "metadata": {
    "deletable": false,
    "editable": false
   },
   "outputs": [
    {
     "name": "stdout",
     "output_type": "stream",
     "text": [
      "        SID    Name  DOM  Exercise  Assignment  Mid-term  Exam  Scores\n",
      "96   B79507    Levi  2.0        56          93        64    95    81.0\n",
      "97   B92485    Lily  2.0        55          47        86    63    66.0\n",
      "98   B76960    Maya  1.0        71          58        56    74    65.0\n",
      "99   B79775  Peyton  7.0        83          59        83    76    75.0\n",
      "Sum     NaN     NaN  NaN      7039        6983      6883  8048     NaN \n",
      "\n"
     ]
    }
   ],
   "source": [
    "## Writing to a .csv file\n",
    "import pandas as pd\n",
    "import os\n",
    "\n",
    "sData = pd.read_excel('StudentData.xlsx')   ## read the xlsx file into sData\n",
    "sData[\"Scores\"] = round(sData[\"Exercise\"] * 0.1 + sData[\"Assignment\"] * 0.2 + \\\n",
    "                  sData[\"Mid-term\"] * 0.3 + sData[\"Exam\"] * 0.4, 0)\n",
    "\n",
    "sumRow = sData[[\"Exercise\", \"Assignment\", \"Mid-term\", \"Exam\"]].sum()\n",
    "\n",
    "dfSum = pd.DataFrame(data=sumRow).T             # transpose\n",
    "dfSum = dfSum.reindex(columns=sData.columns)    # convert to dataFrame\n",
    "dfNew = sData.append(dfSum, ignore_index=False) # append to existing data\n",
    "dfNew = dfNew.rename(index={0:\"Sum\"})           # rename the row as Sum\n",
    "print(dfNew.tail(), \"\\n\")\n",
    "\n",
    "## write to Excel file\n",
    "if os.path.isfile(\"Students_new.csv\"):\n",
    "    os.remove(\"Students_new.csv\")              # Ensure that the file not exists\n",
    "    \n",
    "dfNew.to_csv(\"Students_new.csv\")\n"
   ]
  },
  {
   "cell_type": "code",
   "execution_count": 3,
   "metadata": {
    "deletable": false,
    "editable": false
   },
   "outputs": [
    {
     "data": {
      "text/html": [
       "<div>\n",
       "<style scoped>\n",
       "    .dataframe tbody tr th:only-of-type {\n",
       "        vertical-align: middle;\n",
       "    }\n",
       "\n",
       "    .dataframe tbody tr th {\n",
       "        vertical-align: top;\n",
       "    }\n",
       "\n",
       "    .dataframe thead th {\n",
       "        text-align: right;\n",
       "    }\n",
       "</style>\n",
       "<table border=\"1\" class=\"dataframe\">\n",
       "  <thead>\n",
       "    <tr style=\"text-align: right;\">\n",
       "      <th></th>\n",
       "      <th>Unnamed: 0</th>\n",
       "      <th>SID</th>\n",
       "      <th>Name</th>\n",
       "      <th>DOM</th>\n",
       "      <th>Exercise</th>\n",
       "      <th>Assignment</th>\n",
       "      <th>Mid-term</th>\n",
       "      <th>Exam</th>\n",
       "      <th>Scores</th>\n",
       "    </tr>\n",
       "  </thead>\n",
       "  <tbody>\n",
       "    <tr>\n",
       "      <th>96</th>\n",
       "      <td>96</td>\n",
       "      <td>B79507</td>\n",
       "      <td>Levi</td>\n",
       "      <td>2.0</td>\n",
       "      <td>56</td>\n",
       "      <td>93</td>\n",
       "      <td>64</td>\n",
       "      <td>95</td>\n",
       "      <td>81.0</td>\n",
       "    </tr>\n",
       "    <tr>\n",
       "      <th>97</th>\n",
       "      <td>97</td>\n",
       "      <td>B92485</td>\n",
       "      <td>Lily</td>\n",
       "      <td>2.0</td>\n",
       "      <td>55</td>\n",
       "      <td>47</td>\n",
       "      <td>86</td>\n",
       "      <td>63</td>\n",
       "      <td>66.0</td>\n",
       "    </tr>\n",
       "    <tr>\n",
       "      <th>98</th>\n",
       "      <td>98</td>\n",
       "      <td>B76960</td>\n",
       "      <td>Maya</td>\n",
       "      <td>1.0</td>\n",
       "      <td>71</td>\n",
       "      <td>58</td>\n",
       "      <td>56</td>\n",
       "      <td>74</td>\n",
       "      <td>65.0</td>\n",
       "    </tr>\n",
       "    <tr>\n",
       "      <th>99</th>\n",
       "      <td>99</td>\n",
       "      <td>B79775</td>\n",
       "      <td>Peyton</td>\n",
       "      <td>7.0</td>\n",
       "      <td>83</td>\n",
       "      <td>59</td>\n",
       "      <td>83</td>\n",
       "      <td>76</td>\n",
       "      <td>75.0</td>\n",
       "    </tr>\n",
       "    <tr>\n",
       "      <th>100</th>\n",
       "      <td>Sum</td>\n",
       "      <td>NaN</td>\n",
       "      <td>NaN</td>\n",
       "      <td>NaN</td>\n",
       "      <td>7039</td>\n",
       "      <td>6983</td>\n",
       "      <td>6883</td>\n",
       "      <td>8048</td>\n",
       "      <td>NaN</td>\n",
       "    </tr>\n",
       "  </tbody>\n",
       "</table>\n",
       "</div>"
      ],
      "text/plain": [
       "    Unnamed: 0     SID    Name  DOM  Exercise  Assignment  Mid-term  Exam  \\\n",
       "96          96  B79507    Levi  2.0        56          93        64    95   \n",
       "97          97  B92485    Lily  2.0        55          47        86    63   \n",
       "98          98  B76960    Maya  1.0        71          58        56    74   \n",
       "99          99  B79775  Peyton  7.0        83          59        83    76   \n",
       "100        Sum     NaN     NaN  NaN      7039        6983      6883  8048   \n",
       "\n",
       "     Scores  \n",
       "96     81.0  \n",
       "97     66.0  \n",
       "98     65.0  \n",
       "99     75.0  \n",
       "100     NaN  "
      ]
     },
     "execution_count": 3,
     "metadata": {},
     "output_type": "execute_result"
    }
   ],
   "source": [
    "## Verify the works of write to Excel (.csv) file\n",
    "## Writing to an .csv file\n",
    "import pandas as pd\n",
    "\n",
    "newData = pd.read_csv('Students_new.csv')   ## read the csv file into sData\n",
    "newData.tail()\n"
   ]
  },
  {
   "cell_type": "markdown",
   "metadata": {
    "deletable": false,
    "editable": false
   },
   "source": [
    "---------------------------------------------------\n",
    "<h3 style=\"color:blue;\"><b>Student Practice #1</b></h3>\n",
    "<p style=\"color:SlateBlue;\">In the empty cells below, the perform the following accordingly.</p>\n",
    "<ol style=\"color:DodgerBlue;\">\n",
    "    <li>Create your dataframe with the following data as specified:</li>\n",
    "    <table style=\"color:orange;\">\n",
    "        <tr>\n",
    "            <th style=\"text-align:left;width:120px;\">SID</th>\n",
    "            <th style=\"text-align:left;width:200px\">Supervisor</th>\n",
    "        </tr>\n",
    "        <tr>\n",
    "            <td style=\"text-align:left;\">S01</td>\n",
    "            <td style=\"text-align:left;\">Rebecca Chao</td>\n",
    "        </tr>\n",
    "        <tr>\n",
    "            <td style=\"text-align:left;\">S02</td>\n",
    "            <td style=\"text-align:left;\">Desmond Tung</td>\n",
    "        </tr>\n",
    "        <tr>\n",
    "            <td style=\"text-align:left;\">S03</td>\n",
    "            <td style=\"text-align:left;\">Dennis Kun</td>\n",
    "        </tr>\n",
    "        <tr>\n",
    "            <td style=\"text-align:left;\">S04</td>\n",
    "            <td style=\"text-align:left;\">Alexandra Chow</td>\n",
    "        </tr>\n",
    "        <tr>\n",
    "            <td style=\"text-align:left;\">S05</td>\n",
    "            <td style=\"text-align:left;\">Pong Shiu</td>\n",
    "        </tr>\n",
    "        <tr>\n",
    "            <td style=\"text-align:left;\">S06</td>\n",
    "            <td style=\"text-align:left;\">Iris Wong</td>\n",
    "        </tr>\n",
    "        <tr>\n",
    "            <td style=\"text-align:left;\">S07</td>\n",
    "            <td style=\"text-align:left;\">Never Law</td>\n",
    "        </tr>\n",
    "    </table>\n",
    "    <li>Input the Agents file (either .csv or .xlsx)</li>\n",
    "    <li>Link the Agents dataframe with your supervisor dataframe on the SID</li>\n",
    "    </ol>\n",
    "\n",
    "---------------------------------------------------"
   ]
  },
  {
   "cell_type": "code",
   "execution_count": null,
   "metadata": {},
   "outputs": [],
   "source": [
    "## Create your dataframe on the run\n",
    "........\n"
   ]
  },
  {
   "cell_type": "code",
   "execution_count": null,
   "metadata": {},
   "outputs": [],
   "source": [
    "## Link your agents file with the dataframe created on the run\n",
    "........\n"
   ]
  },
  {
   "cell_type": "code",
   "execution_count": null,
   "metadata": {},
   "outputs": [],
   "source": [
    "## Verify the correctness of your work (i.e. the merge of the two dataframes)\n",
    "........\n"
   ]
  },
  {
   "cell_type": "markdown",
   "metadata": {
    "deletable": false,
    "editable": false
   },
   "source": [
    "--------------\n",
    "<h3 style=\"color:blue;\"><b>Student Practice #2</b></h3>\n",
    "<p style=\"color:SlateBlue;\">In the empty cell below, perform the follow works as specified.</p>\n",
    "<ol style=\"color:DodgerBlue;\">\n",
    "    <li>Determine the annual sales for each of the agent.</li>\n",
    "    <li>Perform the appraisal for each of the agent according to the following:</li>\n",
    "    <table style=\"color:orange;\">\n",
    "        <tr>\n",
    "            <th style=\"text-align:left;width:180px;\">Annual Sales</th>\n",
    "            <th style=\"width:120px;\">Apprasial</th>\n",
    "        </tr>\n",
    "        <tr>\n",
    "            <td style=\"text-align:left;\">over 2.0M</td>\n",
    "            <td>Excellent</td>\n",
    "        </tr>\n",
    "        <tr>\n",
    "            <td style=\"text-align:left;\">[1.5M ~ 2.0M)</td>\n",
    "            <td>Good</td>\n",
    "        </tr>\n",
    "        <tr>\n",
    "            <td style=\"text-align:left;\">[1.0M ~ 1.5M)</td>\n",
    "            <td>Fair</td>\n",
    "        </tr>\n",
    "        <tr>\n",
    "            <td style=\"text-align:left;\">less than 1.0M</td>\n",
    "            <td>Poor</td>\n",
    "        </tr>\n",
    "    </table>\n",
    "    </ol>\n",
    "    \n",
    "--------------"
   ]
  },
  {
   "cell_type": "code",
   "execution_count": null,
   "metadata": {},
   "outputs": [],
   "source": [
    "## Determine both the annual sales and apprasial for the dataframe that contains data from Agents\n",
    "..............\n"
   ]
  },
  {
   "cell_type": "markdown",
   "metadata": {
    "deletable": false,
    "editable": false
   },
   "source": [
    "--------------\n",
    "<h3 style=\"color:blue;\"><b>Student Practice #3</b></h3>\n",
    "<p style=\"color:SlateBlue;\">In the empty cells below, perform the followings:</p>\n",
    "<ol style=\"color:DodgerBlue;\">\n",
    "    <li>Determine the sum for all the numerical columns.</li>\n",
    "    <li>Determine the average for all the numerical columns.</li>\n",
    "    <li>Append the sum and average of all the nuerical columns onto your existence dataframe.</li>\n",
    "    <li>Save the works (i.e. the original dataframe with the rows that for sum and average of all numerical columns) to \"Agents_new.xlsx\".</li>\n",
    "    <li>Verify the correctness of your works.</li>\n",
    "    </ol>\n",
    "    \n",
    "----------------    \n"
   ]
  },
  {
   "cell_type": "code",
   "execution_count": null,
   "metadata": {},
   "outputs": [],
   "source": [
    "## Determine the sum and average of all the numerical columns from the Agents file\n",
    ".........\n"
   ]
  },
  {
   "cell_type": "code",
   "execution_count": null,
   "metadata": {},
   "outputs": [],
   "source": [
    "## Append the sum and average of all the numerical columns\n",
    "........\n"
   ]
  },
  {
   "cell_type": "code",
   "execution_count": null,
   "metadata": {},
   "outputs": [],
   "source": [
    "## Save the new dataframe (i.e with the append of sum and average rows)\n",
    "........\n"
   ]
  },
  {
   "cell_type": "code",
   "execution_count": null,
   "metadata": {},
   "outputs": [],
   "source": [
    "## Verify the correctness of your works\n",
    "........\n",
    "\n"
   ]
  },
  {
   "cell_type": "markdown",
   "metadata": {
    "deletable": false,
    "editable": false
   },
   "source": [
    "--------------\n",
    "<h3 style=\"color:blue;\"><b>Student Practice #4</b></h3>\n",
    "<p style=\"color:SlateBlue;\">In the empty cells below, freely generate the histogram or box chart for the numerical columns (i.e. Q1, Q2, Q3, Q4, and/or Annual Sales).</p>\n",
    "\n",
    "------------------"
   ]
  },
  {
   "cell_type": "code",
   "execution_count": null,
   "metadata": {},
   "outputs": [],
   "source": []
  }
 ],
 "metadata": {
  "kernelspec": {
   "display_name": "Python 3",
   "language": "python",
   "name": "python3"
  },
  "language_info": {
   "codemirror_mode": {
    "name": "ipython",
    "version": 3
   },
   "file_extension": ".py",
   "mimetype": "text/x-python",
   "name": "python",
   "nbconvert_exporter": "python",
   "pygments_lexer": "ipython3",
   "version": "3.8.5"
  }
 },
 "nbformat": 4,
 "nbformat_minor": 4
}
