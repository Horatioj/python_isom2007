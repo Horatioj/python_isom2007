{
 "cells": [
  {
   "cell_type": "markdown",
   "metadata": {
    "deletable": false,
    "editable": false
   },
   "source": [
    "-------------\n",
    "<h2 style=color:blue><b>Text Data Processing</b></h2>\n",
    "\n",
    "--------------"
   ]
  },
  {
   "cell_type": "markdown",
   "metadata": {
    "deletable": false,
    "editable": false
   },
   "source": [
    "--------------------\n",
    "<h3 style=\"color:blue;\"><b>Student Practice #1</b></h3>\n",
    "<p style=\"color:SlateBlue;font-size:14px;\">Earlier in this notebook, we have used some text data processing techniques to manipulate the unstructured text data. In this practical exercise you are required to run the code cell that input an e-mail message (or repeat that in your own code) and perform the following tasks:<p>\n",
    "<ol style=\"color:DodgerBlue;font-size:14px;\">\n",
    "    <li>Convert all text to lowercase characters.</li>\n",
    "    <li>Obtain a list of unique words in the text message.</li>\n",
    "    <li>Determine the occurence of each word.</li>\n",
    "    <li>Determine and display the total number of words.</li>\n",
    "    <li>Print the word(s) that occurred more than three times.</li>\n",
    "    </ol>\n",
    "\n",
    "-----------"
   ]
  },
  {
   "cell_type": "code",
   "execution_count": 1,
   "metadata": {
    "deletable": false,
    "editable": false
   },
   "outputs": [
    {
     "ename": "UnicodeDecodeError",
     "evalue": "'gbk' codec can't decode byte 0xa1 in position 857: illegal multibyte sequence",
     "output_type": "error",
     "traceback": [
      "\u001b[1;31m---------------------------------------------------------------------------\u001b[0m",
      "\u001b[1;31mUnicodeDecodeError\u001b[0m                        Traceback (most recent call last)",
      "\u001b[1;32m<ipython-input-1-7c14ad1504f5>\u001b[0m in \u001b[0;36m<module>\u001b[1;34m\u001b[0m\n\u001b[0;32m      1\u001b[0m \u001b[1;31m## Input the content of an email document\u001b[0m\u001b[1;33m\u001b[0m\u001b[1;33m\u001b[0m\u001b[1;33m\u001b[0m\u001b[0m\n\u001b[0;32m      2\u001b[0m \u001b[1;32mwith\u001b[0m \u001b[0mopen\u001b[0m \u001b[1;33m(\u001b[0m\u001b[1;34m'email.txt'\u001b[0m\u001b[1;33m,\u001b[0m \u001b[1;34m'r'\u001b[0m\u001b[1;33m)\u001b[0m \u001b[1;32mas\u001b[0m \u001b[0mmyfile\u001b[0m\u001b[1;33m:\u001b[0m\u001b[1;33m\u001b[0m\u001b[1;33m\u001b[0m\u001b[0m\n\u001b[1;32m----> 3\u001b[1;33m     \u001b[0mmsg\u001b[0m \u001b[1;33m=\u001b[0m \u001b[0mmyfile\u001b[0m\u001b[1;33m.\u001b[0m\u001b[0mread\u001b[0m\u001b[1;33m(\u001b[0m\u001b[1;33m)\u001b[0m\u001b[1;33m\u001b[0m\u001b[1;33m\u001b[0m\u001b[0m\n\u001b[0m\u001b[0;32m      4\u001b[0m \u001b[0mmyfile\u001b[0m\u001b[1;33m.\u001b[0m\u001b[0mclose\u001b[0m\u001b[1;33m(\u001b[0m\u001b[1;33m)\u001b[0m\u001b[1;33m\u001b[0m\u001b[1;33m\u001b[0m\u001b[0m\n\u001b[0;32m      5\u001b[0m \u001b[1;33m\u001b[0m\u001b[0m\n",
      "\u001b[1;31mUnicodeDecodeError\u001b[0m: 'gbk' codec can't decode byte 0xa1 in position 857: illegal multibyte sequence"
     ]
    }
   ],
   "source": [
    "## Input the content of an email document\n",
    "with open ('email.txt', 'r') as myfile:\n",
    "    msg = myfile.read()\n",
    "myfile.close()\n",
    "\n",
    "## Convert the input in lower case letters\n",
    "msg = msg.lower()\n",
    "\n",
    "## Remove the \"\\n\" and all punctuations\n",
    "punctuations = ('.', ',', ':', \";\", \"?\", \"!\", \"-\", \"*\", \"$\", \"%\", \"&\", \"#\", \"@\", \"(\", \")\", \"–\")\n",
    "msg = msg.replace(\"\\n\", \" \")\n",
    "for chr in punctuations:\n",
    "    msg = msg.replace(chr, \" \")\n",
    "    \n",
    "## Tokenize the message (i.e. Identify each words) into Dictionary\n",
    "wordCnt = 0\n",
    "wordDict = {}\n",
    "tokens = msg.split()\n",
    "for word in tokens:\n",
    "    if len(word) == 1:\n",
    "        continue\n",
    "        \n",
    "    wordCnt += 1\n",
    "    if word in wordDict:\n",
    "        wordDict[word] += 1\n",
    "    else:\n",
    "        wordDict[word] = 1\n",
    "        \n",
    "print(\"Number of words in the message\", wordCnt)\n",
    "\n",
    "## Print only those words that occurred more than 3 times\n",
    "print(\"\\n{0:20s} {1:8s}\\n{2:20s} {3:8s}\".format(\"Word\", \"Ocurence\", \"=\"*4, \"=\"*8))\n",
    "for key in wordDict:\n",
    "    if wordDict[key] > 2:\n",
    "        print(\"{0:20s} {1:6d}\".format(key, wordDict[key]))\n",
    "        "
   ]
  },
  {
   "cell_type": "code",
   "execution_count": 11,
   "metadata": {},
   "outputs": [
    {
     "name": "stdout",
     "output_type": "stream",
     "text": [
      "Number of words in the message 235\n",
      "\n",
      "Word                 Ocurence\n",
      "====                 ========\n",
      "to                        5\n",
      "shirleychan               3\n",
      "students                  5\n",
      "not                       3\n",
      "final                     3\n",
      "for                       5\n",
      "will                      4\n",
      "the                      11\n",
      "of                        6\n",
      "and                       7\n",
      "um                        5\n",
      "edu                       5\n",
      "mo                        5\n",
      "ext                       5\n",
      "department                4\n"
     ]
    }
   ],
   "source": [
    "## Input the content of an email document\n",
    "with open (r'D:\\\\Year2\\\\ISOM2007\\\\email.txt', 'r', encoding='utf-8') as myfile:\n",
    "    msg = myfile.read()\n",
    "myfile.close()\n",
    "\n",
    "## Convert the input in lower case letters\n",
    "msg = msg.lower()\n",
    "\n",
    "## Remove the \"\\n\" and all punctuations\n",
    "punctuations = ('.', ',', ':', \";\", \"?\", \"!\", \"-\", \"*\", \"$\", \"%\", \"&\", \"#\", \"@\", \"(\", \")\", \"–\")\n",
    "msg = msg.replace(\"\\n\", \" \")\n",
    "for chr in punctuations:\n",
    "    msg = msg.replace(chr, \" \")\n",
    "    \n",
    "## Tokenize the message (i.e. Identify each words) into Dictionary\n",
    "wordCnt = 0\n",
    "wordDict = {}\n",
    "tokens = msg.split()\n",
    "for word in tokens:\n",
    "    if len(word) == 1:\n",
    "        continue\n",
    "        \n",
    "    wordCnt += 1\n",
    "    if word in wordDict:\n",
    "        wordDict[word] += 1\n",
    "    else:\n",
    "        wordDict[word] = 1\n",
    "        \n",
    "print(\"Number of words in the message\", wordCnt)\n",
    "\n",
    "## Print only those words that occurred more than 3 times\n",
    "print(\"\\n{0:20s} {1:8s}\\n{2:20s} {3:8s}\".format(\"Word\", \"Ocurence\", \"=\"*4, \"=\"*8))\n",
    "for key in wordDict:\n",
    "    if wordDict[key] > 2:\n",
    "        print(\"{0:20s} {1:6d}\".format(key, wordDict[key]))\n",
    "        "
   ]
  },
  {
   "cell_type": "code",
   "execution_count": null,
   "metadata": {
    "deletable": false,
    "editable": false
   },
   "outputs": [],
   "source": [
    "## Alternative way to display the words occurred most\n",
    "\n",
    "import collections as cl\n",
    "\n",
    "## Read in sample email document\n",
    "with open ('email.txt', 'r') as myfile:\n",
    "    msg = myfile.read()\n",
    "myfile.close()\n",
    "\n",
    "## Convert the input in lower case letters\n",
    "msg = msg.lower()\n",
    "\n",
    "## Remove the \"\\n\" and all punctuations\n",
    "punctuations = ('.', ',', ':', \";\", \"?\", \"!\", \"-\", \"*\", \"$\", \"%\", \"&\", \"#\", \"@\", \"(\", \")\", \"–\")\n",
    "msg = msg.replace(\"\\n\", \" \")\n",
    "for chr in punctuations:\n",
    "    msg = msg.replace(chr, \" \")\n",
    "\n",
    "## Tokenized (i.e. convert into list of words)\n",
    "tokens = msg.split()\n",
    "print(\"Number of words in the message\", len(tokens))\n",
    "\n",
    "## Count tokens by using a collection & display the 16 most common tokens \n",
    "mr = cl.Counter(tokens)\n",
    "print(\"\\n{0:20s} {1:8s}\\n{2:20s} {3:8s}\".format(\"Word\", \"Ocurence\", \"=\"*4, \"=\"*8))\n",
    "for wd, num in mr.most_common(16):\n",
    "    print(\"{0:20s} {1:6d}\".format(wd, num))\n"
   ]
  },
  {
   "cell_type": "code",
   "execution_count": 14,
   "metadata": {},
   "outputs": [
    {
     "name": "stdout",
     "output_type": "stream",
     "text": [
      "Number of words in the message 239\n",
      "\n",
      "Word                 Ocurence\n",
      "====                 ========\n",
      "the                      11\n",
      "and                       7\n",
      "of                        6\n",
      "to                        5\n",
      "students                  5\n",
      "for                       5\n",
      "um                        5\n",
      "edu                       5\n",
      "mo                        5\n",
      "ext                       5\n",
      "will                      4\n",
      "department                4\n",
      "shirleychan               3\n",
      "not                       3\n",
      "final                     3\n",
      "from                      2\n"
     ]
    }
   ],
   "source": [
    "## Alternative way to display the words occurred most\n",
    "\n",
    "import collections as cl\n",
    "\n",
    "## Read in sample email document\n",
    "with open (r'D:\\\\Year2\\\\ISOM2007\\\\email.txt', 'r', encoding='utf-8') as myfile:\n",
    "    msg = myfile.read()\n",
    "myfile.close()\n",
    "\n",
    "## Convert the input in lower case letters\n",
    "msg = msg.lower()\n",
    "\n",
    "## Remove the \"\\n\" and all punctuations\n",
    "punctuations = ('.', ',', ':', \";\", \"?\", \"!\", \"-\", \"*\", \"$\", \"%\", \"&\", \"#\", \"@\", \"(\", \")\", \"–\")\n",
    "msg = msg.replace(\"\\n\", \" \")\n",
    "for chr in punctuations:\n",
    "    msg = msg.replace(chr, \" \")\n",
    "\n",
    "## Tokenized (i.e. convert into list of words)\n",
    "tokens = msg.split()\n",
    "print(\"Number of words in the message\", len(tokens))\n",
    "\n",
    "## Count tokens by using a collection & display the 16 most common tokens \n",
    "mr = cl.Counter(tokens)\n",
    "print(\"\\n{0:20s} {1:8s}\\n{2:20s} {3:8s}\".format(\"Word\", \"Ocurence\", \"=\"*4, \"=\"*8))\n",
    "for wd, num in mr.most_common(16):\n",
    "    print(\"{0:20s} {1:6d}\".format(wd, num))\n"
   ]
  },
  {
   "cell_type": "markdown",
   "metadata": {
    "deletable": false,
    "editable": false
   },
   "source": [
    "------------\n",
    "<h3 style=\"color:blue;\"><b>Student Practice #2 (Challenge problem)</b></h3> \n",
    "<p style=\"color:SlateBlue;font-size:14px;\">With the e-mail message in the email.txt file. Determine the followings:</p>\n",
    "<ol style=\"color:DodgerBlue;font-size:14px;\">\n",
    "    <li>The sender information (i.e. name / e-mail address)</li>\n",
    "    <li>The date sent</li>\n",
    "    <li>The recipient(s)</li>\n",
    "    <li>The subject of the e-mail</li>\n",
    "    </ol>\n",
    "    \n",
    "-----------"
   ]
  },
  {
   "cell_type": "code",
   "execution_count": 3,
   "metadata": {
    "deletable": false,
    "editable": false
   },
   "outputs": [
    {
     "ename": "UnicodeDecodeError",
     "evalue": "'gbk' codec can't decode byte 0xa1 in position 857: illegal multibyte sequence",
     "output_type": "error",
     "traceback": [
      "\u001b[1;31m---------------------------------------------------------------------------\u001b[0m",
      "\u001b[1;31mUnicodeDecodeError\u001b[0m                        Traceback (most recent call last)",
      "\u001b[1;32m<ipython-input-3-bcdcb6a0bbd7>\u001b[0m in \u001b[0;36m<module>\u001b[1;34m\u001b[0m\n\u001b[0;32m      1\u001b[0m \u001b[1;31m## Read in sample email document\u001b[0m\u001b[1;33m\u001b[0m\u001b[1;33m\u001b[0m\u001b[1;33m\u001b[0m\u001b[0m\n\u001b[0;32m      2\u001b[0m \u001b[1;32mwith\u001b[0m \u001b[0mopen\u001b[0m \u001b[1;33m(\u001b[0m\u001b[1;34m'email.txt'\u001b[0m\u001b[1;33m,\u001b[0m \u001b[1;34m'r'\u001b[0m\u001b[1;33m)\u001b[0m \u001b[1;32mas\u001b[0m \u001b[0mmyfile\u001b[0m\u001b[1;33m:\u001b[0m\u001b[1;33m\u001b[0m\u001b[1;33m\u001b[0m\u001b[0m\n\u001b[1;32m----> 3\u001b[1;33m     \u001b[0mmsg\u001b[0m \u001b[1;33m=\u001b[0m \u001b[0mmyfile\u001b[0m\u001b[1;33m.\u001b[0m\u001b[0mread\u001b[0m\u001b[1;33m(\u001b[0m\u001b[1;33m)\u001b[0m\u001b[1;33m\u001b[0m\u001b[1;33m\u001b[0m\u001b[0m\n\u001b[0m\u001b[0;32m      4\u001b[0m \u001b[0mmyfile\u001b[0m\u001b[1;33m.\u001b[0m\u001b[0mclose\u001b[0m\u001b[1;33m(\u001b[0m\u001b[1;33m)\u001b[0m\u001b[1;33m\u001b[0m\u001b[1;33m\u001b[0m\u001b[0m\n\u001b[0;32m      5\u001b[0m \u001b[1;33m\u001b[0m\u001b[0m\n",
      "\u001b[1;31mUnicodeDecodeError\u001b[0m: 'gbk' codec can't decode byte 0xa1 in position 857: illegal multibyte sequence"
     ]
    }
   ],
   "source": [
    "## Read in sample email document\n",
    "with open ('email.txt', 'r') as myfile:\n",
    "    msg = myfile.read()\n",
    "myfile.close()\n",
    "\n",
    "## Find the sender information\n",
    "pos1 = msg.find('From:')\n",
    "pos2 = msg.find('\\n', pos1)\n",
    "print(\"The sender of the e-mail: '{}'\".format(msg[pos1+5:pos2].lstrip().rstrip()))\n",
    "\n",
    "## Find the date of the e-mail sent\n",
    "pos1 = msg.find('Sent:')\n",
    "pos2 = msg.find('\\n', pos1)\n",
    "print(\"\\nThe date of the e-mail sent: '{}'\".format(msg[pos1+5:pos2].lstrip().rstrip()))\n",
    "\n",
    "## Find the recipient of the e-mail\n",
    "pos1 = msg.find('To:')\n",
    "pos2 = msg.find('\\n', pos1)\n",
    "rpLst = msg[pos1+5:pos2].lstrip().rstrip().split(\";\")\n",
    "print(\"\\nThe recipient(s) of the e-mail:\")\n",
    "for rpID in rpLst:\n",
    "    print(\"'{}'\".format(rpID.lstrip().rstrip()))\n",
    "\n",
    "## Find the subject of the e-mail\n",
    "pos1 = msg.find('Subject:')\n",
    "pos2 = msg.find('\\n', pos1)\n",
    "print(\"\\nThe subject of the e-mail:\\n'{}'\".format(msg[pos1+8:pos2].lstrip().rstrip()))    \n",
    "    "
   ]
  },
  {
   "cell_type": "code",
   "execution_count": 21,
   "metadata": {},
   "outputs": [
    {
     "name": "stdout",
     "output_type": "stream",
     "text": [
      "The sender of the e-mail: 'tochiitl'\n",
      "\n",
      "The date of the e-mail sent: 'Friday, 11 December 2020 11:21 AM'\n",
      "\n",
      "The recipient(s) of the e-mail:\n",
      "'ba_acad'\n",
      "'alexandrs'\n",
      "'Stella (CHW)'\n",
      "\n",
      "The subject of the e-mail:\n",
      "'Students not permitted to take Final Exams for 2020- 1st semester (for Bachelor Degree)'\n"
     ]
    }
   ],
   "source": [
    "## Input the content of an email document\n",
    "with open(r\"D:\\\\Year2\\\\ISOM2007\\\\email.txt\", \"r\", encoding='utf-8') as myfile:\n",
    "    msg = myfile.read()\n",
    "\n",
    "## Find the sender information\n",
    "pos1 = msg.find('From:')\n",
    "pos2 = msg.find('\\n', pos1)\n",
    "print(\"The sender of the e-mail: '{}'\".format(msg[pos1 + 5:pos2].lstrip().rstrip()))\n",
    "\n",
    "## Find the date of the e-mail sent\n",
    "pos1 = msg.find('Sent:')\n",
    "pos2 = msg.find('\\n', pos1)\n",
    "print(\"\\nThe date of the e-mail sent: '{}'\".format(msg[pos1 + 5:pos2].lstrip().rstrip()))\n",
    "\n",
    "## Find the recipient of the e-mail\n",
    "pos1 = msg.find('To:')\n",
    "pos2 = msg.find('\\n', pos1)\n",
    "rpLst = msg[pos1 + 5:pos2].lstrip().rstrip().split(\";\")\n",
    "print(\"\\nThe recipient(s) of the e-mail:\")\n",
    "for rpID in rpLst:\n",
    "    print(\"'{}'\".format(rpID.lstrip().rstrip()))\n",
    "\n",
    "## Find the subject of the e-mail\n",
    "pos1 = msg.find('Subject:')\n",
    "pos2 = msg.find('\\n', pos1)\n",
    "print(\"\\nThe subject of the e-mail:\\n'{}'\".format(msg[pos1 + 8:pos2].lstrip().rstrip()))\n"
   ]
  }
 ],
 "metadata": {
  "kernelspec": {
   "display_name": "Python 3",
   "language": "python",
   "name": "python3"
  },
  "language_info": {
   "codemirror_mode": {
    "name": "ipython",
    "version": 3
   },
   "file_extension": ".py",
   "mimetype": "text/x-python",
   "name": "python",
   "nbconvert_exporter": "python",
   "pygments_lexer": "ipython3",
   "version": "3.8.5"
  }
 },
 "nbformat": 4,
 "nbformat_minor": 4
}
