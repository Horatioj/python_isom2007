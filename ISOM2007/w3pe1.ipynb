{
 "cells": [
  {
   "cell_type": "markdown",
   "metadata": {
    "deletable": false,
    "editable": false
   },
   "source": [
    "----------------------------------\n",
    "\n",
    "<h3 style=\"color:blue;\"><b>Python Flow Control</b></h3>\n",
    "<ul style=\"color:DodgerBlue;\">\n",
    "    <li>Python provides standard techniques for controlling a programs flow.</li>\n",
    "    <li>In terms of supporting:</li>\n",
    "    <ul>\n",
    "        <li>conditional statements, where different code blocks are evaluated depending on the value of a specific statement;</li>\n",
    "        <li>iterative loop statements that enable repeated evaluation of a code block until some condition is met.</li>\n",
    "    </ul>\n",
    "    </ul>\n"
   ]
  },
  {
   "cell_type": "markdown",
   "metadata": {
    "deletable": false,
    "editable": false
   },
   "source": [
    "<h3 style=\"color:blue;\"><b>Relational Operations in Python</b></h3>\n",
    "\n",
    "<table style=\"color:DodgerBlue;\">\n",
    "  <tr>\n",
    "    <th style=\"text-align:left;\">Notation</th>\n",
    "    <th style=\"text-align:left;\">Logical</th>\n",
    "    <th style=\"text-align:left;\">Behavior</th>\n",
    "  </tr>\n",
    "  <tr>\n",
    "    <td style=\"text-align:left;\">==</td>\n",
    "    <td style=\"text-align:left;\">equal to</td>\n",
    "    <td style=\"text-align:left;\">idential to</td>\n",
    "  </tr>\n",
    "  <tr>\n",
    "    <td style=\"text-align:left;\">!=</td>\n",
    "    <td style=\"text-align:left;\">not equal to</td>\n",
    "    <td style=\"text-align:left;\">different from</td>\n",
    "  </tr>\n",
    "  <tr>\n",
    "    <td style=\"text-align:left;\"><</td>\n",
    "    <td style=\"text-align:left;\">less than</td>\n",
    "    <td style=\"text-align:left;\">precedes lexicographically</td>\n",
    "  </tr>\n",
    "  <tr>\n",
    "    <td style=\"text-align:left;\">></td>\n",
    "    <td style=\"text-align:left;\">greater than</td>\n",
    "    <td style=\"text-align:left;\">follows lexicographically</td>\n",
    "  </tr>\n",
    "  <tr>\n",
    "    <td style=\"text-align:left;\"><=</td>\n",
    "    <td style=\"text-align:left;\">less than or equal to</td>\n",
    "    <td style=\"text-align:left;\">precedes lexicographically or identical to</td>\n",
    "  </tr>\n",
    "  <tr>\n",
    "    <td style=\"text-align:left;\">>=</td>\n",
    "    <td style=\"text-align:left;\">greater than or equal to</td>\n",
    "    <td style=\"text-align:left;\">follows lexicographically or identical to</td>\n",
    "  </tr>\n",
    "  <tr>\n",
    "    <td style=\"text-align:left;\">in</td>\n",
    "    <td style=\"text-align:left;\"> </td>\n",
    "    <td style=\"text-align:left;\">substring of</td>\n",
    "  </tr>\n",
    "  <tr>\n",
    "    <td style=\"text-align:left;\">not in</td>\n",
    "    <td style=\"text-align:left;\"> </td>\n",
    "    <td style=\"text-align:left;\">not a substring of</td>\n",
    "  </tr>    \n",
    "</table>"
   ]
  },
  {
   "cell_type": "markdown",
   "metadata": {
    "deletable": false,
    "editable": false
   },
   "source": [
    "\n",
    "<h3 style=\"color:blue;\"><b>bool Data Type</b></h3>\n",
    "<ul style=\"color:DodgerBlue;\">\n",
    "    <li>Statement of below will display either <span style=\"color:red;\">True</span> of <span style=\"color:red;\">True</span>. The objects <span style=\"color:red;\">True</span> and <span style=\"color:red;\">True</span> are said to have Boolean data type or of data type bool.</li>\n",
    "    <span style=\"color:white;\">.....</span><span style=\"color:green;\">print(condition)</span><br>\n",
    "    <li>The following lines of code display <span style=\"color:red;\">True</span>:</li>\n",
    "<span style=\"color:white;\">.....</span><span style=\"color:green;\">x = 5</span><br>\n",
    "<span style=\"color:white;\">.....</span><span style=\"color:green;\">print((3 + x) < 7)</span><br>\n",
    "    <li>The following lines of code display <span style=\"color:red;\">True</span>:</li>\n",
    "<span style=\"color:white;\">.....</span><span style=\"color:green;\">x = 2</span><br>\n",
    "<span style=\"color:white;\">.....</span><span style=\"color:green;\">y = 3</span><br>\n",
    "<span style=\"color:white;\">.....</span><span style=\"color:green;\">var = x < y</span><br>\n",
    "<span style=\"color:white;\">.....</span><span style=\"color:green;\">print(var)</span><br>\n",
    "    <li>Methods that return either True or False.</li>\n",
    "</ul>\n",
    "  \n",
    "<table style=\"color:DodgerBlue;\">\n",
    "  <tr>\n",
    "    <th style=\"text-align:left;\">Method</th>\n",
    "    <th style=\"text-align:left;\">Return True When</th>\n",
    "  </tr>\n",
    "  <tr>\n",
    "    <td style=\"text-align:left;\">str1.isdigit()</td>\n",
    "    <td style=\"text-align:left;\">all of str1's characters are digits</td>\n",
    "  </tr>\n",
    "  <tr>\n",
    "    <td style=\"text-align:left;\">str1.isalpha()</td>\n",
    "    <td style=\"text-align:left;\">all of str1's characters are letters of alphabet</td>\n",
    "  </tr>\n",
    "  <tr>\n",
    "    <td style=\"text-align:left;\">str1.isalnum()</td>\n",
    "    <td style=\"text-align:left;\">all of str1's characters are letter of the alphabet or digits</td>\n",
    "  </tr>\n",
    "  <tr>\n",
    "    <td style=\"text-align:left;\">str1.islower()</td>\n",
    "    <td style=\"text-align:left;\">str1 has at least 1 alphabetic character and all of its alphabetic characters are lowercase</td>\n",
    "  </tr>\n",
    "  <tr>\n",
    "    <td style=\"text-align:left;\">str1.isupper()</td>\n",
    "    <td style=\"text-align:left;\">str1 has at least 1 alphabetic character and all of its alphabetic characters are uppercase</td>\n",
    "  </tr>\n",
    "  <tr>\n",
    "    <td style=\"text-align:left;\">str1.isspace()</td>\n",
    "    <td style=\"text-align:left;\">str1 contains only whitespace characters</td>\n",
    "  </tr>    \n",
    "</table>\n",
    "    \n"
   ]
  },
  {
   "cell_type": "markdown",
   "metadata": {
    "deletable": false,
    "editable": false
   },
   "source": [
    "\n",
    "<h3 style=\"color:blue;\"><b>Decision Structures</b></h3>\n",
    "<br>\n",
    "<span style=\"color:DodgerBlue;\">Decision Structure can have forms of:\n",
    "    <ul>\n",
    "        <li>if statement</li>\n",
    "        <span style=\"color:white;\">.....</span><span style=\"color:SaddleBrown;\">if condition:</span><br>\n",
    "        <span style=\"color:white;\">..........</span><span style=\"color:SaddleBrown;\">indented block of statement(s)</span><br>\n",
    "        <li>if-else statement</li>\n",
    "<span style=\"color:white;\">.....</span><span style=\"color:SaddleBrown;\">if condition:</span><br>\n",
    "<span style=\"color:white;\">..........</span><span style=\"color:SaddleBrown;\">indented block of statement(s)</span><br>\n",
    "<span style=\"color:white;\">.....</span><span style=\"color:SaddleBrown;\">else:</span><br>\n",
    "<span style=\"color:white;\">..........</span><span style=\"color:SaddleBrown;\">indented block of statement(s)</span><br>\n",
    "        <li>nested if statement</li>\n",
    "<span style=\"color:white;\">.....</span><span style=\"color:SaddleBrown;\">if condition:</span><br>\n",
    "<span style=\"color:white;\">..........</span><span style=\"color:SaddleBrown;\">if condition:</span><br>\n",
    "<span style=\"color:white;\">...............</span><span style=\"color:SaddleBrown;\">indented block of statement(s)</span><br>\n",
    "<span style=\"color:white;\">.....</span><span style=\"color:SaddleBrown;\">else:</span><br>\n",
    "<span style=\"color:white;\">..........</span><span style=\"color:SaddleBrown;\">if condition:</span><br>\n",
    "<span style=\"color:white;\">...............</span><span style=\"color:SaddleBrown;\">indented block of statement(s)</span><br>\n",
    "<span style=\"color:white;\">..........</span><span style=\"color:SaddleBrown;\">else:</span><br>\n",
    "<span style=\"color:white;\">...............</span><span style=\"color:SaddleBrown;\">indented block of statement(s)</span><br>\n",
    "        <li>The elif Clause - An extension of the if-else statement allows for more than two possible alternatives with the inclusion of elif clauses.</li>\n",
    "        </ul>\n",
    "        </span>\n",
    "        \n",
    "--------------------------------"
   ]
  },
  {
   "cell_type": "code",
   "execution_count": 1,
   "metadata": {
    "deletable": false,
    "editable": false
   },
   "outputs": [
    {
     "name": "stdout",
     "output_type": "stream",
     "text": [
      "Can be exempted from taking attendance\n"
     ]
    }
   ],
   "source": [
    "overSeasStudent = True\n",
    "if overSeasStudent:\n",
    "    print(\"Can be exempted from taking attendance\")"
   ]
  },
  {
   "cell_type": "code",
   "execution_count": 1,
   "metadata": {
    "deletable": false,
    "editable": false
   },
   "outputs": [],
   "source": [
    "overSeasStudent = False\n",
    "if overSeasStudent:\n",
    "    print(\"Can be exempted from taking attendance\")"
   ]
  },
  {
   "cell_type": "code",
   "execution_count": 3,
   "metadata": {
    "deletable": false,
    "editable": false
   },
   "outputs": [
    {
     "name": "stdout",
     "output_type": "stream",
     "text": [
      "Enter 1st number: 3\n",
      "Enter 2nd number: -9\n",
      "The larger value input is 3\n"
     ]
    }
   ],
   "source": [
    "num1 = eval(input(\"Enter 1st number: \"))\n",
    "num2 = eval(input(\"Enter 2nd number: \"))\n",
    "if (num1 > num2):\n",
    "    larger = num1\n",
    "else:\n",
    "    larger = num2\n",
    "print(\"The larger value input is {}\".format(larger))\n"
   ]
  },
  {
   "cell_type": "code",
   "execution_count": null,
   "metadata": {
    "deletable": false,
    "editable": false
   },
   "outputs": [],
   "source": [
    "# determine the letter grade of a student\n",
    "# re-take student cannot have grade higher than \"B\"\n",
    "scores = eval(input(\"Enter your scores:  \"))\n",
    "retake = input(\"Retake course? (T/F): \")\n",
    "if retake == \"T\":\n",
    "    if scores < 50:\n",
    "        grade = \"F\"\n",
    "    else:\n",
    "        if scores >= 70:\n",
    "            grade = \"B\"\n",
    "        else:\n",
    "            grade = \"C\"\n",
    "else:\n",
    "    if scores >= 90:\n",
    "        grade = \"A\"\n",
    "    else:\n",
    "        if scores >= 70:\n",
    "            grade = \"B\"\n",
    "        else:\n",
    "            if scores >= 50:\n",
    "                grade = \"C\"\n",
    "            else:\n",
    "                grade = \"F\"\n",
    "\n",
    "print(\"Your grade for the course is {}\".format(grade))\n",
    "        "
   ]
  },
  {
   "cell_type": "markdown",
   "metadata": {
    "deletable": false,
    "editable": false
   },
   "source": [
    "---------------------------------\n",
    "\n",
    "<h3 style=\"color:red;\"><b>Student Practice</b></h3>\n",
    "<br><span style=\"color:DodgerBlue;\">\n",
    "In the empty cell below, modify the previou program segment with elif to miniize the level of nested if. Let's have the letter grade be determined according to the following in this practice:</span>\n",
    "<table style=\"color:SlateBlue;\">\n",
    "    <tr>\n",
    "        <th>Score Range</th>\n",
    "        <th>Regular Student</th>\n",
    "        <th>Re-take Student</th>\n",
    "    </tr>\n",
    "    <tr>            \n",
    "        <td>90~100</td>\n",
    "        <td>A</td>\n",
    "        <td>C</td>\n",
    "    </tr>\n",
    "    <tr>            \n",
    "        <td>80~89.99</td>\n",
    "        <td>B</td>\n",
    "        <td>C</td>\n",
    "    </tr>\n",
    "    <tr>            \n",
    "        <td>70~79.99</td>\n",
    "        <td>C</td>\n",
    "        <td>C</td>\n",
    "    </tr>\n",
    "    <tr>            \n",
    "        <td>50~69.00</td>\n",
    "        <td>D</td>\n",
    "        <td>D</td>\n",
    "    </tr>\n",
    "    <tr>            \n",
    "        <td>0~49.99</td>\n",
    "        <td>F</td>\n",
    "        <td>F</td>\n",
    "    </tr>    \n",
    "</table>\n",
    "\n",
    "---------------------------------------"
   ]
  },
  {
   "cell_type": "code",
   "execution_count": 3,
   "metadata": {},
   "outputs": [
    {
     "name": "stdout",
     "output_type": "stream",
     "text": [
      "Enter your scores:  88\n",
      "Retake course? (T/F): t\n",
      "Your grade for the course is B\n"
     ]
    }
   ],
   "source": [
    "scores = eval(input(\"Enter your scores:  \"))\n",
    "retake = input(\"Retake course? (T/F): \")\n",
    "if retake.lower():\n",
    "    if scores < 50:\n",
    "        grade = \"F\"\n",
    "    elif scores <= 70:\n",
    "            grade = \"D\"\n",
    "    elif scores <= 80:\n",
    "            grade = 'C'\n",
    "    elif scores <90:\n",
    "            grade = \"B\"\n",
    "    else:\n",
    "        grade = \"A\"\n",
    "\n",
    "print(\"Your grade for the course is {}\".format(grade))"
   ]
  },
  {
   "cell_type": "markdown",
   "metadata": {
    "deletable": false,
    "editable": false
   },
   "source": [
    "----------------------------------\n",
    "\n",
    "<h3 style=\"color:red;\"><b>Student Practice</b></h3>\n",
    "<br><span style=\"color:DodgerBlue;\">\n",
    "In the empty cell below, write a program to determine how much to tip the server in a restaurant. The tip should be 15% of the check, with a minimum of $2.</span>\n",
    "\n",
    "--------------------------------------"
   ]
  },
  {
   "cell_type": "code",
   "execution_count": 21,
   "metadata": {},
   "outputs": [
    {
     "name": "stdout",
     "output_type": "stream",
     "text": [
      "the restauran costs: 777\n",
      "did you pay the tips(T/F)?t\n",
      "you need to pay the tips: $117\n"
     ]
    }
   ],
   "source": [
    "bills = eval(input(\"the restauran costs: \"))\n",
    "tips = input(\"did you pay the tips(T/F)?\")\n",
    "if tips.lower():\n",
    "    if bills*0.15 > 2:\n",
    "        tips_y=bills*0.15\n",
    "        print(\"you need to pay the tips: $%d\" % round(tips_y))\n",
    "    else:\n",
    "        print(\"you need to pay the tips: $2\")"
   ]
  },
  {
   "cell_type": "markdown",
   "metadata": {
    "deletable": false,
    "editable": false
   },
   "source": [
    "-------------------------------------------------\n",
    "\n",
    "<h3 style=\"color:red;\"><b>Student Practice</b></h3><br>\n",
    "<span style=\"color:DodgerBlue;\">\n",
    "In the empty cell below, write a program to enter the income of a citizen and then determine the income tax according to the tax rate as shown on the table.</span>\n",
    "\n",
    "<table style=\"color:DodgerBlue;\">\n",
    "  <tr>\n",
    "    <th>Income bracket</th>\n",
    "    <th>Tax rate</th>\n",
    "  </tr>\n",
    "  <tr>\n",
    "    <td>less than 144,000</td>\n",
    "    <td>0%</td>\n",
    "  </tr>\n",
    "  <tr>\n",
    "    <td>next 20,000</td>\n",
    "    <td>7%</td>\n",
    "  </tr>\n",
    "  <tr>\n",
    "    <td>next 20,000</td>\n",
    "    <td>8%</td>\n",
    "  </tr>\n",
    "  <tr>\n",
    "    <td>next 40,000</td>\n",
    "    <td>9%</td>\n",
    "  </tr>\n",
    "  <tr>\n",
    "    <td>next 80,000</td>\n",
    "    <td>10%</td>\n",
    "  </tr>\n",
    "  <tr>\n",
    "    <td>next 120,000</td>\n",
    "    <td>11%</td>\n",
    "  </tr>\n",
    "      <tr>\n",
    "    <td>all above</td>\n",
    "    <td>12%</td>\n",
    "  </tr>\n",
    "</table>\n",
    "\n",
    "------------------------------------------------------------------"
   ]
  },
  {
   "cell_type": "code",
   "execution_count": 7,
   "metadata": {},
   "outputs": [
    {
     "name": "stdout",
     "output_type": "stream",
     "text": [
      "your income: 160000\n",
      "your income tax is 1120.00\n"
     ]
    }
   ],
   "source": [
    "income1=eval(input('your income: ' ))\n",
    "if income1 > 144000:  \n",
    "    if income1 < 164000:\n",
    "        print(\"your income tax is %.2f\" % ((income1-144000)*0.07))\n",
    "    elif income1 < 184000:\n",
    "        print(\"your income tax is %.2f\" % (1400+(income1-164000)*0.08))\n",
    "    elif income1 < 224000:\n",
    "        print(\"your income tax is %.2f\" % (1400+1600+(income1-184000)*0.09))\n",
    "    elif income1 < 304000:\n",
    "        print(\"your income tax is %.2f\" % (1400+1600+3600+(income1-224000)*0.1))\n",
    "    elif income1 < 424000:\n",
    "        print(\"your income tax is %.2f\" % (1400+1600+3600+8000+(income1-304000)*0.11))\n",
    "    elif income1 >= 424000:\n",
    "        print(\"your income tax is %.2f\" % (1400+1600+3600+8000+(income1-424000)*0.12))\n",
    "else:\n",
    "    print(\"you don't have to pay income tax\")"
   ]
  },
  {
   "cell_type": "code",
   "execution_count": 13,
   "metadata": {},
   "outputs": [
    {
     "name": "stdout",
     "output_type": "stream",
     "text": [
      "i love fish.\n",
      "i love python.\n",
      " "
     ]
    }
   ],
   "source": [
    "print(\"i love fish.\", sep='$')\n",
    "print(\"i love python.\", end='\\n ')"
   ]
  }
 ],
 "metadata": {
  "kernelspec": {
   "display_name": "Python 3",
   "language": "python",
   "name": "python3"
  },
  "language_info": {
   "codemirror_mode": {
    "name": "ipython",
    "version": 3
   },
   "file_extension": ".py",
   "mimetype": "text/x-python",
   "name": "python",
   "nbconvert_exporter": "python",
   "pygments_lexer": "ipython3",
   "version": "3.8.3"
  }
 },
 "nbformat": 4,
 "nbformat_minor": 4
}
