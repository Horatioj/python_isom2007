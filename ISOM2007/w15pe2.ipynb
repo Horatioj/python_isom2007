{
 "cells": [
  {
   "cell_type": "markdown",
   "metadata": {
    "deletable": false,
    "editable": false
   },
   "source": [
    "-------------\n",
    "<h2 style=color:blue><b>Text Data Processing</b></h2>\n",
    "\n",
    "--------------"
   ]
  },
  {
   "cell_type": "markdown",
   "metadata": {
    "deletable": false,
    "editable": false
   },
   "source": [
    "<ul style=\"color:SlateBlue;font-size:14px;\">\n",
    "    <li>Explore how to pull text data of interest out of unstructured data sets.</li>\n",
    "    <li>Python tools for the captioned can be used for either</li>\n",
    "    <ul style=\"color:DodgerBlue;font-size:12px;\">\n",
    "        <li>Initial data exploration.</li>\n",
    "        <li>Advanced data processing tasks, for example for e-mails, or web documents.</li>\n",
    "    </ul>\n",
    "    <li>In this lecture, we will present the processes with unstructured or semi-structured text data.</li>\n",
    "    <li>For example, instance messages, email messages, or documents that contain character sequences.</li>\n",
    "    </ul>\n",
    "    \n",
    "----------------"
   ]
  },
  {
   "cell_type": "markdown",
   "metadata": {
    "deletable": false,
    "editable": false
   },
   "source": [
    "-----------\n",
    "<h3 style=\"color:blue;\"><b>Sequence Operators on Strings</b></h3>\n",
    "<ul style=\"color:SlateBlue;font-size:14px;\">\n",
    "    <li>Python string is a standard data structure, the standard Python sequence operators can be used to quickly perform basic text data processing.</li>\n",
    "    <li>Given a value v (a string data type), integer n (an integer), and similar typed sequences s and t (both are strings):</li>\n",
    "    <table style=\"color:DodgerBlue;font-size:12px;\">\n",
    "        <tr>\n",
    "            <th>Operation</th>\n",
    "            <th>Description</th>\n",
    "        </tr>\n",
    "        <tr>\n",
    "            <td>v in s</td>\n",
    "            <td>True if v is in the sequence s, otherwise False</td>\n",
    "        </tr>\n",
    "        <tr>\n",
    "            <td>v not in s</td>\n",
    "            <td>False if v is in the sequence s, otherwise True</td>\n",
    "        </tr>\n",
    "        <tr>\n",
    "            <td>s + t</td>\n",
    "            <td>concatenation of s and t</td>\n",
    "        </tr>\n",
    "        <tr>\n",
    "            <td>s * n or n * s</td>\n",
    "            <td>n shallow copies of s concatenated</td>\n",
    "        </tr>\n",
    "        <tr>\n",
    "            <td>len(s)</td>\n",
    "            <td>tge number of elements in the sequence s</td>\n",
    "        </tr>\n",
    "        <tr>\n",
    "            <td>min(s)</td>\n",
    "            <td>the smallest elements in the sequence s</td>\n",
    "        </tr>\n",
    "        <tr>\n",
    "            <td>max(s)</td>\n",
    "            <td>the largest of elements in the sequence s</td>\n",
    "        </tr>\n",
    "        <tr>\n",
    "            <td>s.count(v)</td>\n",
    "            <td>number of times v appears in s</td>\n",
    "        </tr>\n",
    "    </table><br>\n",
    "    <li>Let’s demonstrate the use of the above operators on our email message. </li>\n",
    "    <ul style=\"color:DodgerBlue;font-size:12px;\">\n",
    "        <li>count and display the number of characters in the message via the len function</li>\n",
    "        <li>test if a character sequence ‘Tochi’ is in the message, which returns True.</li>\n",
    "        <li>count and display the number of times a sequence of characters ‘email’ appears in the message</li>\n",
    "        <li>Find and display the maximum and minimum characters (as in Unicode) in the message.</li>\n",
    "    </ul>\n",
    "    </ul>\n",
    "\n"
   ]
  },
  {
   "cell_type": "code",
   "execution_count": 1,
   "metadata": {
    "deletable": false,
    "editable": false
   },
   "outputs": [
    {
     "name": "stdout",
     "output_type": "stream",
     "text": [
      "Message is encoded as type: <class 'str'>\n",
      "\n",
      "From: tochiitl\n",
      "Sent: Friday, 11 December 2020 11:21 AM\n",
      "To: fba_acad; alexandrs; Stella (CHW)\n",
      "Cc: terrylam; roberton; shirleychan; tinasi; michellekuan; josephcheang\n",
      "Subject: Students not permitted to take Final Exams for 2020- 1st semester (for Bachelor Degree)\n",
      "\n",
      "Dear colleagues,\n",
      "\n",
      "Please advise if there are any students in your class who will not be permitted to take the final exam, for\n",
      "example because he/she missed more than 20% of classes without applying for leave. Kindly send the\n",
      "student(s) name and number to the respective colleagues.\n",
      "\n",
      "- Business Law courses - - Shirley (shirleychan@um.edu.mo, ext. 4747)\n",
      "- Department of Accounting and Information Management - Shirley (shirleychan@um.edu.mo, ext. 4747)\n",
      "- Department of Finance and Business Economics -- Tina ( tinasi@um.edu.mo, ext. 9949)\n",
      "- Department of Management and Marketing – Michelle (Michellekuan@um.edu.mo, ext. 4649)\n",
      "- Department of Integrated Resort and Tourism Management– Joseph Cheang (JosephCheang@um.edu.mo, ext.4731)\n",
      "\n",
      "After you have provided us with the names, we will inform the students by e-mail and input into the\n",
      "system so that a remark will appear on their personal final examination timetable provided through the SI Web.\n",
      "\n",
      "Since students might have printed out their individual timetable before we cross them out from the\n",
      "system, our administrative staff will highlight the students who are not allow to sit for the exam on the\n",
      "attendance sheet.\n",
      "\n",
      "Many Thanks!\n",
      "Tochi\n",
      "**********************************\n",
      "Mr. Tochi Leung\n",
      "E22-G031\n",
      "Functional Head of Academic and Student Affairs\n"
     ]
    }
   ],
   "source": [
    "## Read in sample email document\n",
    "with open ('email.txt', 'r') as myfile:\n",
    "    msg = myfile.read()\n",
    "myfile.close()\n",
    "\n",
    "print(f'Message is encoded as type: {type(msg)}\\n')\n",
    "print(msg)\n"
   ]
  },
  {
   "cell_type": "code",
   "execution_count": 2,
   "metadata": {
    "deletable": false,
    "editable": false
   },
   "outputs": [
    {
     "name": "stdout",
     "output_type": "stream",
     "text": [
      "The number of characters in the message is 1559\n",
      "The existence of character sequence 'Tochi' is True\n",
      "The number of occurence of 'um.edu.mo' is 5\n",
      "The number of occurence of '-' is 13\n",
      "The maximum character is '–' and the minimum character is '\\n'.\n"
     ]
    }
   ],
   "source": [
    "## Read in sample email document\n",
    "with open ('email.txt', 'r') as myfile:\n",
    "    msg = myfile.read()\n",
    "myfile.close()\n",
    "\n",
    "## Count the number of characters\n",
    "print(\"The number of characters in the message is {}\".format(len(msg)))\n",
    "\n",
    "## Determine whether the character sequence 'Tochi' exists or not\n",
    "print(\"The existence of character sequence 'Tochi' is {}\".format('Tochi' in msg))\n",
    "\n",
    "## Count the occurence of the character sequence 'um.edu.mo'\n",
    "print(\"The number of occurence of 'um.edu.mo' is {}\".format(msg.count('um.edu.mo')))\n",
    "print(\"The number of occurence of '-' is {}\".format(msg.count('-')))\n",
    "\n",
    "## Find the maximum and minimum character in the message\n",
    "print(\"The maximum character is {!r}\".format(max(msg)), end=\"\")\n",
    "print(\" and the minimum character is {!r}.\".format(min(msg)))\n"
   ]
  },
  {
   "cell_type": "markdown",
   "metadata": {
    "deletable": false,
    "editable": false
   },
   "source": [
    "----------------\n",
    "<h3 style=\"color:blue;\"><b>String Functions</b></h3>\n",
    "<ul style=\"color:SlateBlue;font-size:14px;\">\n",
    "    <li>The string object also has a number of built-in useful methods:</li>\n",
    "    </ul>\n",
    "    <table style=\"color:DodgerBlue;font-size:12px;\">\n",
    "        <tr>\n",
    "            <th style=\"text-align:left;\">Method</th>\n",
    "            <th style=\"text-align:left;\">Description</th>\n",
    "        </tr>\n",
    "        <tr>\n",
    "            <td style=\"text-align:left;\">split</td>\n",
    "            <td style=\"text-align:left;\">return a list of token strings that are delimited by a character, such as space</td>\n",
    "        </tr>\n",
    "        <tr>\n",
    "            <td style=\"text-align:left;\">find</td>\n",
    "            <td style=\"text-align:left;\">return the lowest index in the string where a substring is located</td>\n",
    "        </tr>\n",
    "        <tr>\n",
    "            <td style=\"text-align:left;\">replace</td>\n",
    "            <td style=\"text-align:left;\">return a new string with all occurrences of a pattern replaced</td>\n",
    "        </tr>\n",
    "        <tr>\n",
    "            <td style=\"text-align:left;\">join</td>\n",
    "            <td style=\"text-align:left;\">return a string that is the combination of the input strings</td>\n",
    "        </tr>\n",
    "        <tr>\n",
    "            <td style=\"text-align:left;\">count</td>\n",
    "            <td style=\"text-align:left;\">return the number of non-overlapping instances of a substring</td>\n",
    "        </tr>\n",
    "        <tr>\n",
    "            <td style=\"text-align:left;\">lower / upper</td>\n",
    "            <td style=\"text-align:left;\">convert text to lowercase / uppercase characters</td>\n",
    "        </tr>\n",
    "        <tr>\n",
    "            <td style=\"text-align:left;\">lstrip / rstrip</td>\n",
    "            <td style=\"text-align:left;\">return a string with the leading/trailing characters</td>\n",
    "        </tr>\n",
    "    </table>\n",
    "\n",
    "    \n",
    "-----------------------------"
   ]
  },
  {
   "cell_type": "markdown",
   "metadata": {
    "deletable": false,
    "editable": false
   },
   "source": [
    "------------\n",
    "<ul style=\"color:SlateBlue;\">\n",
    "    <li>Split the message into list of lines</li>\n",
    "    </ul>\n",
    "    \n",
    "-------------------"
   ]
  },
  {
   "cell_type": "code",
   "execution_count": 1,
   "metadata": {
    "deletable": false,
    "editable": false
   },
   "outputs": [
    {
     "ename": "FileNotFoundError",
     "evalue": "[Errno 2] No such file or directory: 'itemize.txt'",
     "output_type": "error",
     "traceback": [
      "\u001b[1;31m---------------------------------------------------------------------------\u001b[0m",
      "\u001b[1;31mFileNotFoundError\u001b[0m                         Traceback (most recent call last)",
      "\u001b[1;32m<ipython-input-1-466af0830616>\u001b[0m in \u001b[0;36m<module>\u001b[1;34m\u001b[0m\n\u001b[0;32m      1\u001b[0m \u001b[1;31m## Read in a text file and split it into list of lines\u001b[0m\u001b[1;33m\u001b[0m\u001b[1;33m\u001b[0m\u001b[1;33m\u001b[0m\u001b[0m\n\u001b[1;32m----> 2\u001b[1;33m \u001b[1;32mwith\u001b[0m \u001b[0mopen\u001b[0m \u001b[1;33m(\u001b[0m\u001b[1;34m'itemize.txt'\u001b[0m\u001b[1;33m,\u001b[0m \u001b[1;34m'r'\u001b[0m\u001b[1;33m)\u001b[0m \u001b[1;32mas\u001b[0m \u001b[0mmyfile\u001b[0m\u001b[1;33m:\u001b[0m\u001b[1;33m\u001b[0m\u001b[1;33m\u001b[0m\u001b[0m\n\u001b[0m\u001b[0;32m      3\u001b[0m     \u001b[0mmsg\u001b[0m \u001b[1;33m=\u001b[0m \u001b[0mmyfile\u001b[0m\u001b[1;33m.\u001b[0m\u001b[0mread\u001b[0m\u001b[1;33m(\u001b[0m\u001b[1;33m)\u001b[0m\u001b[1;33m\u001b[0m\u001b[1;33m\u001b[0m\u001b[0m\n\u001b[0;32m      4\u001b[0m \u001b[0mmyfile\u001b[0m\u001b[1;33m.\u001b[0m\u001b[0mclose\u001b[0m\u001b[1;33m(\u001b[0m\u001b[1;33m)\u001b[0m\u001b[1;33m\u001b[0m\u001b[1;33m\u001b[0m\u001b[0m\n\u001b[0;32m      5\u001b[0m \u001b[1;33m\u001b[0m\u001b[0m\n",
      "\u001b[1;31mFileNotFoundError\u001b[0m: [Errno 2] No such file or directory: 'itemize.txt'"
     ]
    }
   ],
   "source": [
    "## Read in a text file and split it into list of lines\n",
    "with open ('itemize.txt', 'r') as myfile:\n",
    "    msg = myfile.read()\n",
    "myfile.close()\n",
    "\n",
    "msg = msg.split('\\n')\n",
    "print(msg)\n"
   ]
  },
  {
   "cell_type": "markdown",
   "metadata": {
    "deletable": false,
    "editable": false
   },
   "source": [
    "------------\n",
    "<ul style=\"color:SlateBlue;\">\n",
    "    <li>Remove the item labels of an itemized message</li>\n",
    "    </ul>\n",
    "    \n",
    "-------------------"
   ]
  },
  {
   "cell_type": "code",
   "execution_count": 4,
   "metadata": {
    "deletable": false,
    "editable": false
   },
   "outputs": [
    {
     "name": "stdout",
     "output_type": "stream",
     "text": [
      "1.  Properly enter your Student ID and name.\n",
      "2.  This is a closed book examination.\n",
      "3.  If you feel necessary, dictionary may be used during the examination.\n",
      "4.  Answer all questions on the spaces provided.\n",
      "5.  No full credits will be given if not accompanied with comments.\n",
      "6.  This examination has 7 pages and consists of 7 questions.\n",
      "7.  Please pay attention to any additional announcements.\n",
      "\n",
      "Properly enter your Student ID and name.\n",
      "This is a closed book examination.\n",
      "If you feel necessary, dictionary may be used during the examination.\n",
      "Answer all questions on the spaces provided.\n",
      "No full credits will be given if not accompanied with comments.\n",
      "This examination has 7 pages and consists of 7 questions.\n",
      "Please pay attention to any additional announcements.\n",
      "\n"
     ]
    }
   ],
   "source": [
    "## Read in a text file and remove the line labels from itemozed message\n",
    "with open ('itemize.txt', 'r') as myfile:\n",
    "    msg = myfile.read()\n",
    "myfile.close()\n",
    "\n",
    "msg = msg.split('\\n')\n",
    "for line in msg:\n",
    "    print(line)\n",
    "\n",
    "## Print each of the line out without the line label\n",
    "for line in msg:\n",
    "    print(line.lstrip('1234567890. '))\n",
    "    "
   ]
  },
  {
   "cell_type": "markdown",
   "metadata": {
    "deletable": false,
    "editable": false
   },
   "source": [
    "------------\n",
    "<ul style=\"color:SlateBlue;\">\n",
    "    <li>Finding, sorting, and changing cases</li>\n",
    "    </ul>\n",
    "    \n",
    "-------------------\n"
   ]
  },
  {
   "cell_type": "code",
   "execution_count": 7,
   "metadata": {
    "deletable": false,
    "editable": false
   },
   "outputs": [
    {
     "ename": "UnicodeDecodeError",
     "evalue": "'gbk' codec can't decode byte 0xa1 in position 857: illegal multibyte sequence",
     "output_type": "error",
     "traceback": [
      "\u001b[1;31m---------------------------------------------------------------------------\u001b[0m",
      "\u001b[1;31mUnicodeDecodeError\u001b[0m                        Traceback (most recent call last)",
      "\u001b[1;32m<ipython-input-7-7506a04f0cff>\u001b[0m in \u001b[0;36m<module>\u001b[1;34m\u001b[0m\n\u001b[0;32m      1\u001b[0m \u001b[1;31m## Read in sample email document\u001b[0m\u001b[1;33m\u001b[0m\u001b[1;33m\u001b[0m\u001b[1;33m\u001b[0m\u001b[0m\n\u001b[0;32m      2\u001b[0m \u001b[1;32mwith\u001b[0m \u001b[0mopen\u001b[0m \u001b[1;33m(\u001b[0m\u001b[1;34m'email.txt'\u001b[0m\u001b[1;33m,\u001b[0m \u001b[1;34m'r'\u001b[0m\u001b[1;33m)\u001b[0m \u001b[1;32mas\u001b[0m \u001b[0mmyfile\u001b[0m\u001b[1;33m:\u001b[0m\u001b[1;33m\u001b[0m\u001b[1;33m\u001b[0m\u001b[0m\n\u001b[1;32m----> 3\u001b[1;33m     \u001b[0mmsg\u001b[0m \u001b[1;33m=\u001b[0m \u001b[0mmyfile\u001b[0m\u001b[1;33m.\u001b[0m\u001b[0mread\u001b[0m\u001b[1;33m(\u001b[0m\u001b[1;33m)\u001b[0m\u001b[1;33m\u001b[0m\u001b[1;33m\u001b[0m\u001b[0m\n\u001b[0m\u001b[0;32m      4\u001b[0m \u001b[0mmyfile\u001b[0m\u001b[1;33m.\u001b[0m\u001b[0mclose\u001b[0m\u001b[1;33m(\u001b[0m\u001b[1;33m)\u001b[0m\u001b[1;33m\u001b[0m\u001b[1;33m\u001b[0m\u001b[0m\n\u001b[0;32m      5\u001b[0m \u001b[1;33m\u001b[0m\u001b[0m\n",
      "\u001b[1;31mUnicodeDecodeError\u001b[0m: 'gbk' codec can't decode byte 0xa1 in position 857: illegal multibyte sequence"
     ]
    }
   ],
   "source": [
    "## Read in sample email document\n",
    "with open ('email.txt', 'r') as myfile:\n",
    "    msg = myfile.read()\n",
    "myfile.close()\n",
    "\n",
    "## find the location of the character sequence 'shirleychan'\n",
    "pos = msg.find('shirleychan@um.edu.mo')\n",
    "print(\"Located at {}\".format(pos))\n",
    "\n",
    "## display the e-mail address\n",
    "print(msg[pos:pos+21])\n",
    "\n",
    "## display the the name\n",
    "print(msg[pos:pos+7].title(), msg[pos+7:pos+11].title())\n"
   ]
  },
  {
   "cell_type": "markdown",
   "metadata": {
    "deletable": false,
    "editable": false
   },
   "source": [
    "------------\n",
    "<h3 style=\"color:blue;\"><b>Data Collection Classes</b></h3>\n",
    "<ul style=\"color:SlateBlue;font-size:14px;\">\n",
    "    <li>Python provides additional data collection classes in the collections library, which is part of the standard Python distribution.</li>\n",
    "    <li>This library introduces the nameTuple, deque, ChainMap, Counter, OrderedDict, defaultDict, UserDict, UserList, and UserString classes.</li>\n",
    "    </ul>\n",
    "    \n",
    "------------"
   ]
  },
  {
   "cell_type": "markdown",
   "metadata": {
    "deletable": false,
    "editable": false
   },
   "source": [
    "------------\n",
    "<ul style=\"color:SlateBlue;\">\n",
    "    <li>Use the Counter function from collections to determine the most occurrence.</li>\n",
    "    </ul>\n",
    "    \n",
    "-------------------"
   ]
  },
  {
   "cell_type": "code",
   "execution_count": 6,
   "metadata": {
    "deletable": false,
    "editable": false
   },
   "outputs": [
    {
     "name": "stdout",
     "output_type": "stream",
     "text": [
      "[('the', 11), ('-', 8), ('and', 7), ('of', 6), ('to', 4), ('for', 4), ('students', 4), ('will', 4), ('ext.', 4), ('Department', 4)]\n"
     ]
    }
   ],
   "source": [
    "## Determine and display the 10 most common character sequence\n",
    "\n",
    "## Read in sample email document\n",
    "with open ('email.txt', 'r') as myfile:\n",
    "    msg = myfile.read()\n",
    "myfile.close()\n",
    "words = msg.split()\n",
    "\n",
    "## Count tokens by using a collection\n",
    "import collections as cl\n",
    "\n",
    "## Find and display ten most common tokens \n",
    "mr = cl.Counter(words)\n",
    "print(mr.most_common(10))\n"
   ]
  },
  {
   "cell_type": "code",
   "execution_count": 7,
   "metadata": {
    "deletable": false,
    "editable": false
   },
   "outputs": [
    {
     "name": "stdout",
     "output_type": "stream",
     "text": [
      "[('the', 11), ('-', 8), ('and', 7), ('of', 6), ('to', 4), ('for', 4), ('students', 4), ('will', 4), ('ext.', 4), ('Department', 4), ('not', 3), ('permitted', 2), ('take', 2), ('are', 2), ('who', 2), ('final', 2), ('Business', 2), ('Shirley', 2), ('(shirleychan@um.edu.mo,', 2), ('4747)', 2)]\n"
     ]
    }
   ],
   "source": [
    "## Determine and display the 20 most common character sequence\n",
    "\n",
    "## Read in sample email document\n",
    "with open ('email.txt', 'r') as myfile:\n",
    "    msg = myfile.read()\n",
    "myfile.close()\n",
    "words = msg.split()\n",
    "\n",
    "## Count tokens by using a collection\n",
    "import collections as cl\n",
    "\n",
    "## Find and display ten most common tokens \n",
    "mr = cl.Counter(words)\n",
    "print(mr.most_common(20))\n"
   ]
  },
  {
   "cell_type": "markdown",
   "metadata": {
    "deletable": false,
    "editable": false
   },
   "source": [
    "--------------------\n",
    "<h3 style=\"color:blue;\"><b>Student Practice #1</b></h3>\n",
    "<p style=\"color:SlateBlue;font-size:14px;\">Earlier in this notebook, we have used some text data processing techniques to manipulate the unstructured text data. In this practical exercise you are required to run the code cell that input an e-mail message (or repeat that in your own code) and perform the following tasks:<p>\n",
    "<ol style=\"color:DodgerBlue;font-size:14px;\">\n",
    "    <li>Convert all text to lowercase characters.</li>\n",
    "    <li>Obtain a list of unique words in the text message.</li>\n",
    "    <li>Determine the occurence of each word.</li>\n",
    "    <li>Determine and display the total number of words.</li>\n",
    "    <li>Print the word(s) that occurred more than three times.</li>\n",
    "    </ol>\n",
    "\n",
    "-----------\n"
   ]
  },
  {
   "cell_type": "code",
   "execution_count": 2,
   "metadata": {},
   "outputs": [
    {
     "name": "stdout",
     "output_type": "stream",
     "text": [
      "b'from: tochiitl\\r\\nsent: friday, 11 december 2020 11:21 am\\r\\nto: fba_acad; alexandrs; stella (chw)\\r\\ncc: terrylam; roberton; shirleychan; tinasi; michellekuan; josephcheang\\r\\nsubject: students not permitted to take final exams for 2020- 1st semester (for bachelor degree)\\r\\n\\r\\ndear colleagues,\\r\\n\\r\\nplease advise if there are any students in your class who will not be permitted to take the final exam, for\\r\\nexample because he/she missed more than 20% of classes without applying for leave. kindly send the\\r\\nstudent(s) name and number to the respective colleagues.\\r\\n\\r\\n- business law courses - - shirley (shirleychan@um.edu.mo, ext. 4747)\\r\\n- department of accounting and information management - shirley (shirleychan@um.edu.mo, ext. 4747)\\r\\n- department of finance and business economics -- tina ( tinasi@um.edu.mo, ext. 9949)\\r\\n- department of management and marketing \\xa1v michelle (michellekuan@um.edu.mo, ext. 4649)\\r\\n- department of integrated resort and tourism management\\xa1v joseph cheang (josephcheang@um.edu.mo, ext.4731)\\r\\n\\r\\nafter you have provided us with the names, we will inform the students by e-mail and input into the\\r\\nsystem so that a remark will appear on their personal final examination timetable provided through the si web.\\r\\n\\r\\nsince students might have printed out their individual timetable before we cross them out from the\\r\\nsystem, our administrative staff will highlight the students who are not allow to sit for the exam on the\\r\\nattendance sheet.\\r\\n\\r\\nmany thanks!\\r\\ntochi\\r\\n**********************************\\r\\nmr. tochi leung\\r\\ne22-g031\\r\\nfunctional head of academic and student affairs'\n"
     ]
    }
   ],
   "source": [
    "# Input the content of an email document\n",
    "with open('email.txt', 'rb') as em:\n",
    "    infile = em.read()\n",
    "\n",
    "\n",
    "## Convert the input in lower case letters\n",
    "print(infile.lower())\n",
    "\n",
    "\n",
    "## Remove the \"\\n\" and all punctuations\n",
    "puncs = ['\\n', '\\r', '\\'', '-', ',', '*', ')', '(', '@'， '!', '?', ':', ';', '.']\n",
    "for punc in puncs:\n",
    "    infile = infile.replace(punc, \" \")\n",
    "    \n",
    "## Tokenize the message (i.e. Identify each words) into Dictionary\n",
    "wordC = 0\n",
    "wordD = {}\n",
    "tokens = infile.split()\n",
    "for word in tokens:\n",
    "    \n",
    "\n",
    "## Print only those words that occurred more than 3 times\n",
    "\n",
    "\n"
   ]
  },
  {
   "cell_type": "markdown",
   "metadata": {
    "deletable": false,
    "editable": false
   },
   "source": [
    "------------\n",
    "<h3 style=\"color:blue;\"><b>Student Practice #2 (Challenge problem)</b></h3> \n",
    "<p style=\"color:SlateBlue;font-size:14px;\">With the e-mail message in the email.txt file. Determine the followings:</p>\n",
    "<ol style=\"color:DodgerBlue;font-size:14px;\">\n",
    "    <li>The sender information (i.e. name / e-mail address)</li>\n",
    "    <li>The date sent</li>\n",
    "    <li>The recipient(s)</li>\n",
    "    <li>The subject of the e-mail</li>\n",
    "    </ol>\n",
    "    \n",
    "-----------"
   ]
  },
  {
   "cell_type": "code",
   "execution_count": null,
   "metadata": {},
   "outputs": [],
   "source": []
  }
 ],
 "metadata": {
  "kernelspec": {
   "display_name": "Python 3",
   "language": "python",
   "name": "python3"
  },
  "language_info": {
   "codemirror_mode": {
    "name": "ipython",
    "version": 3
   },
   "file_extension": ".py",
   "mimetype": "text/x-python",
   "name": "python",
   "nbconvert_exporter": "python",
   "pygments_lexer": "ipython3",
   "version": "3.8.5"
  }
 },
 "nbformat": 4,
 "nbformat_minor": 4
}
