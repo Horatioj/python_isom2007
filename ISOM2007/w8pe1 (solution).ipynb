{
 "cells": [
  {
   "cell_type": "markdown",
   "metadata": {
    "deletable": false,
    "editable": false
   },
   "source": [
    "----------------------------------------------\n",
    "\n",
    "<p style=\"color:blue;\">So far, the output of our programs has been displayed on the screen and eventually gone when we refreshed the screen. But most real-life applications, we want the output to be preserved in files in permanent storage (such as on a hard drive) that will be available for later use.</p>\n"
   ]
  },
  {
   "cell_type": "markdown",
   "metadata": {
    "deletable": false,
    "editable": false
   },
   "source": [
    "\n",
    "<h3 style=\"color:blue;\"><b>Creating a Text File</b></h3>\n",
    "<ul style=\"color:DodgerBlue;\">\n",
    "    <li>A statement of the form which creates a new text file with the specified name.</li>\n",
    "    <span style=\"color:white;\">.......</span><span style=\"color:brown;\">outfile = open(fileName, 'w')</span>\n",
    "    <li>The file is said to be opened for writing.</li>\n",
    "    <li>The variable outfile is used to write lines to the file and to eventually close the file</li>\n",
    "    <span style=\"color:white;\">.......</span><span style=\"color:brown;\">outfile.close()</span>\n",
    "    <li>If <span style=\"color:brown;\">list1</span> is a list of strings, where each string ends with a <span style=\"color:brown;\">newline</span> character (<span style=\"color:brown;\">\\n</span>), then the statemet below will be able toeach item of the list into the file as a line.</li>\n",
    "    <span style=\"color:white;\">.......</span><span style=\"color:brown;\">outfile.writelines(list1)</span>\n",
    "    <li>If the value of <span style=\"color:brown;\">strVar</span> is a string, the following statement can be used to add the value of <span style=\"color:brown;\">strVar</span> to the file</li>\n",
    "    <span style=\"color:white;\">.......</span><span style=\"color:brown;\">outfile.write(strVar)</span><br><br>\n",
    "    <li>Noted</li>\n",
    "    <ul style=\"color:SlateBlue;\">\n",
    "        <li>Since memory access is much faster than disk access, Python sets aside a portion of memory called a buffer as a temporary holding place for data to be written to the disk.</li>\n",
    "        <li>The contents of the buffer are written to the disk whenever the buffer is full or when the file is closed.</li>\n",
    "        <li>Therefore, after all write and writelines statements have been executed, the <span style=\"color:brown;\">file must be closed</span> to guarantee that all data has been physically transferred to the disk.</li>\n",
    "    </ul>\n",
    "    </ul>\n",
    "\n",
    "-------------------------------------------"
   ]
  },
  {
   "cell_type": "code",
   "execution_count": null,
   "metadata": {
    "deletable": false,
    "editable": false
   },
   "outputs": [],
   "source": [
    "## Create a new text file\n",
    "list1 = \"My original file\\ngoing to demo append feature of\\ntext file\"\n",
    "outfile = open(\"InputTextFile2.txt\", \"w\")\n",
    "outfile.writelines(list1)\n",
    "outfile.close()\n",
    "\n",
    "## Echo the content of the newly created file\n",
    "infile = open(\"InputTextFile2.txt\", \"r\")    \n",
    "str1 = infile.read()\n",
    "infile.close()\n",
    "print(str1)\n",
    "print()"
   ]
  },
  {
   "cell_type": "markdown",
   "metadata": {
    "deletable": false,
    "editable": false
   },
   "source": [
    "-----------------------------\n",
    "\n",
    "<h3 style=\"color:blue;\"><b>Adding Lines to Existing Text File</b></h3>\n",
    "<ul style=\"color:DodgerBlue;\">\n",
    "    <li>A statement of the form as shown allows the program to add lines to the end of the specified file.</li>\n",
    "    <span style=\"color:white;\">.......</span><span style=\"color:brown;\">outfile = open(fileName, 'a')</span>\n",
    "    <li>Then the writelines and write methods can be used to add new lines.</li>\n",
    "    <li>The file is said to be opened for append.</li>\n",
    "    </ul>\n",
    "\n",
    "----------------------------------"
   ]
  },
  {
   "cell_type": "code",
   "execution_count": null,
   "metadata": {
    "deletable": false,
    "editable": false
   },
   "outputs": [],
   "source": [
    "infile = open(\"InputTextFile2.txt\", \"r\")    \n",
    "str1 = infile.read()\n",
    "infile.close()\n",
    "print(str1)\n",
    "print()\n",
    "\n",
    "list2 = \"\\nThe second part\\nof the file\\nfor append.\"\n",
    "outfile = open(\"InputTextFile2.txt\", \"a\")\n",
    "outfile.writelines(list2)\n",
    "outfile.close()\n",
    "\n",
    "infile = open(\"InputTextFile2.txt\", \"r\")\n",
    "str2 = infile.read()\n",
    "infile.close()\n",
    "print(str2)"
   ]
  },
  {
   "cell_type": "markdown",
   "metadata": {
    "deletable": false,
    "editable": false
   },
   "source": [
    "-------------------------\n",
    "\n",
    "<h3 style=\"color:blue;\"><b>File Management</b></h3>\n",
    "<ul style=\"color:DodgerBlue;\">\n",
    "    <li>After a file created, we may want to delete and rename it.</li>\n",
    "    <li>To do this, we must first import the standard library module os with the statement.</li>\n",
    "    <span style=\"color:white;\">.......</span><span style=\"color:brown;\">Import os</span>\n",
    "    <li>To delete or remove a file with the statement</li>\n",
    "<span style=\"color:white;\">.......</span><span style=\"color:brown;\">os.remove (filename)</span>\n",
    "    <li>To rename a file with the statement</li>\n",
    "<span style=\"color:white;\">.......</span><span style=\"color:brown;\">os.rename (oldFileName, newFileName)</span>\n",
    "    <li>The function call below returns True if the specified file exists and False otherwise.</li>\n",
    "    <span style=\"color:white;\">.......</span><span style=\"color:brown;\">os.path.isfile (fileName)</span>\n",
    "    </ul>\n",
    "    \n",
    "------------------------------------\n"
   ]
  },
  {
   "cell_type": "code",
   "execution_count": null,
   "metadata": {
    "deletable": false,
    "editable": false
   },
   "outputs": [],
   "source": [
    "## This module prepare the environment for the execution of the program\n",
    "## psegment in the cell below, make sure that you execute this first\n",
    "import os\n",
    "\n",
    "fileName1 = \"InputTextFile2.txt\"\n",
    "fileName2 = \"MyTextFile.txt\"\n",
    "\n",
    "if not os.path.isfile(fileName1):\n",
    "    str1 = \"bara bara\\nbara bara......\"\n",
    "    outFile = open(fileName1, \"w\")\n",
    "    outFile.writelines (str1)\n",
    "    outFile.close()\n",
    "    \n",
    "if os.path.isfile(fileName2):\n",
    "    os.remove(fileName2)"
   ]
  },
  {
   "cell_type": "code",
   "execution_count": null,
   "metadata": {
    "deletable": false,
    "editable": false
   },
   "outputs": [],
   "source": [
    "## demostration on file management. Remember to execute the previous cell first.\n",
    "import os\n",
    "\n",
    "fileName1 = \"InputTextFile2.txt\"\n",
    "print (\"It is {} that file {} existed.\\n\".format(os.path.isfile(fileName1), fileName1))\n",
    "\n",
    "## Rename the file that specified\n",
    "fileName2 = \"MyTextFile.txt\"\n",
    "os.rename(fileName1, fileName2)\n",
    "print (\"It is {} that file {} existed.\".format(os.path.isfile(fileName1), fileName1))\n",
    "print (\"It is {} that file {} existed.\\n\".format(os.path.isfile(fileName2), fileName2))\n",
    "\n",
    "## Remove / delete the file specified\n",
    "os.remove(fileName2)\n",
    "print (\"It is {} that file {} existed.\\n\".format(os.path.isfile(fileName2), fileName2))"
   ]
  },
  {
   "cell_type": "markdown",
   "metadata": {
    "deletable": false,
    "editable": false
   },
   "source": [
    "--------------------------------\n",
    "\n",
    "<h3 style=\"color:red;\"><b>Student Practice</b></h3>\n",
    "<p style=\"color:DodgerBlue;\">In the empty cell below, modify the previous Student Practice that count the number of words and the occurence of each word in the given text file \"w7pe2TextFile.txt\". Assume it is not case sensitive, that means the word \"An\" and \"an\" are considered to be the same. But output your results to a text file \"FrequentTable.txt\".</p>\n",
    "\n",
    "------------------------------------"
   ]
  },
  {
   "cell_type": "code",
   "execution_count": null,
   "metadata": {},
   "outputs": [],
   "source": [
    "def InputTextFile (fileName):\n",
    "    infile = open(fileName, 'r')\n",
    "    \n",
    "    fileContent = \"\"\n",
    "    for line in infile:\n",
    "        if line[-1] == '\\n':\n",
    "            line = line[:-1]\n",
    "        fileContent += line\n",
    "        \n",
    "    infile.close()\n",
    "    return(fileContent)\n",
    "\n",
    "\n",
    "def RemovePunctuations (listData):\n",
    "    punctuations = ('.', ',', ':', \";\", \"?\", \"!\", \"-\", \"$\", \"&\", \n",
    "                    \"#\", \"@\", \"~\", \")\", \"(\", '\"', \"'\")\n",
    "    \n",
    "    listData = listData.lower()\n",
    "    for puc in punctuations:\n",
    "        listData = listData.replace(puc, \" \")\n",
    "    return(listData)\n",
    "\n",
    "\n",
    "def DetermineFreq (listData):\n",
    "    listWords = listData.split()\n",
    "    \n",
    "    dictList = {}\n",
    "    for word in listWords:\n",
    "        if word not in dictList:\n",
    "            dictList[word] = 1\n",
    "        else:\n",
    "            dictList[word] += 1\n",
    "    return (dictList)\n"
   ]
  },
  {
   "cell_type": "code",
   "execution_count": null,
   "metadata": {},
   "outputs": [],
   "source": [
    "def StoreToFile (dictData):\n",
    "    outFile = open(\"FrequentTable.txt\", \"w\")\n",
    "    \n",
    "    for item in dictData:\n",
    "        outLine = str(item)\n",
    "        outLine += \" \" + str(dictData[item]) + \"\\n\"\n",
    "        outFile.write(outLine)\n",
    "    outFile.close()\n"
   ]
  },
  {
   "cell_type": "code",
   "execution_count": null,
   "metadata": {},
   "outputs": [],
   "source": [
    "'''\n",
    "Main program, which call the various funtions to do the works\n",
    "'''\n",
    "## input the content of text file as a string\n",
    "fileData = InputTextFile(\"w7pe2.txt\")\n",
    "    \n",
    "## remove punctuations\n",
    "fileData = RemovePunctuations(fileData)\n",
    "    \n",
    "## Determine the frequent of words in the file\n",
    "dictFreq = DetermineFreq(fileData)\n",
    "    \n",
    "## Display the frequent of words in the file\n",
    "StoreToFile (dictFreq)\n",
    "      "
   ]
  },
  {
   "cell_type": "markdown",
   "metadata": {
    "deletable": false,
    "editable": false
   },
   "source": [
    "--------------------------------\n",
    "\n",
    "<h3 style=\"color:red;\"><b>Student Practice</b></h3>\n",
    "<p style=\"color:DodgerBlue;\">In the empty cell below, write a program segment to verify the correctness of your program coding(s) for the previous practical exrcise (i.e. to verify the correctness the contents of the text file \"FrequentTable.txt\".</p>\n",
    "\n",
    "------------------------------------"
   ]
  },
  {
   "cell_type": "code",
   "execution_count": null,
   "metadata": {},
   "outputs": [],
   "source": [
    "## Testing the correctness of the file FrequentTable.txt\n",
    "import os\n",
    "\n",
    "fileName = \"FrequentTable.txt\"\n",
    "if os.path.isfile(fileName):\n",
    "    inFile = open(fileName, 'r')\n",
    "    strVar = inFile.read()\n",
    "    inFile.close()\n",
    "    print(strVar)\n",
    "else:\n",
    "    print (\"The required file not exists.\")"
   ]
  },
  {
   "cell_type": "markdown",
   "metadata": {
    "deletable": false,
    "editable": false
   },
   "source": [
    "--------------------------------\n",
    "\n",
    "<h3 style=\"color:red;\"><b>Student Practice</b></h3>\n",
    "<p style=\"color:DodgerBlue;\">In the empty cell below, open the file \"SomeMonths.txt\" initially contains the names of the 12 months in random order, deletes all months from the file that do not contain the letter r and output your result to a text file \"MonthsHaveR.txt\". Remember to verify the correctness of your works.</p>\n",
    "\n",
    "---------------------------------"
   ]
  },
  {
   "cell_type": "code",
   "execution_count": null,
   "metadata": {},
   "outputs": [],
   "source": [
    "## Remove the months do not contain the letter 'r'\n",
    "\n",
    "import os\n",
    "file1 = \"SomeMonths.txt\"\n",
    "file2 = \"MonthsHaveR.txt\"\n",
    "\n",
    "if not os.path.isfile(file1):\n",
    "    print(\"No {} file exists.\\n\".format(file1))\n",
    "else:\n",
    "    inFile = open(file1, 'r')\n",
    "    outFile = open(file2, 'w')\n",
    "    \n",
    "    inContent = [line.rstrip() for line in inFile]\n",
    "    for line in inContent:\n",
    "        if 'r' in line:\n",
    "            outFile.write(line+\"\\n\")\n",
    "            \n",
    "    inFile.close()\n",
    "    outFile.close()\n"
   ]
  },
  {
   "cell_type": "code",
   "execution_count": null,
   "metadata": {},
   "outputs": [],
   "source": [
    "## Verify the content of the file \"MonthsHaveR.txt\"\n",
    "import os\n",
    "\n",
    "fileName = \"MonthsHaveR.txt\"\n",
    "if os.path.isfile(fileName):\n",
    "    inFile = open(fileName, 'r')\n",
    "    strVar = inFile.read()\n",
    "    inFile.close()\n",
    "    print(strVar)\n",
    "else:\n",
    "    print (\"The required file not exists.\")"
   ]
  },
  {
   "cell_type": "code",
   "execution_count": null,
   "metadata": {},
   "outputs": [],
   "source": []
  }
 ],
 "metadata": {
  "kernelspec": {
   "display_name": "Python 3",
   "language": "python",
   "name": "python3"
  },
  "language_info": {
   "codemirror_mode": {
    "name": "ipython",
    "version": 3
   },
   "file_extension": ".py",
   "mimetype": "text/x-python",
   "name": "python",
   "nbconvert_exporter": "python",
   "pygments_lexer": "ipython3",
   "version": "3.8.3"
  }
 },
 "nbformat": 4,
 "nbformat_minor": 4
}
