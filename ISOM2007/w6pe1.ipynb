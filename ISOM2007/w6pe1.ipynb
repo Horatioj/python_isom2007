{
 "cells": [
  {
   "cell_type": "markdown",
   "metadata": {
    "deletable": false,
    "editable": false
   },
   "source": [
    "---------------------------------\n",
    "\n",
    "<h3 style=\"color:blue;\"><b>Strings</b></h3>\n",
    "<ul style=\"color:SlateBlue;\">\n",
    "    <li>The most common types of data processed by Python are: </li>\n",
    "    <ul style=\"color:DodgerBlue;\">\n",
    "        <li>strings and numbers. </li>\n",
    "    </ul>\n",
    "    <li>Examples of Strings:</li>\n",
    "    <ul Style=\"color:DodgerBlue;\">\n",
    "    <li>Sentences, phrases, words, letters of the alphabet, names, telephone numbers, addresses, and social security</li></ul>\n",
    "    </ul>\n"
   ]
  },
  {
   "cell_type": "markdown",
   "metadata": {
    "deletable": false,
    "editable": false
   },
   "source": [
    "<h3 style=\"color:blue;\"><b>String Literals</b></h3>\n",
    "<ul style=\"color:SlateBlue;\">\n",
    "    <li>A string literal is a sequence of characters that is treated as a single item.</li>\n",
    "    <li>The characters in strings can be any characters found on the keyboard and many other special characters.</li>\n",
    "    <li>In Python programs, string literals are written as a sequence of characters surrounded by either single quotes (') or double quotes (\"). Some examples of strings are as follows:</li>\n",
    "    <ul style=\"color:DodgerBlue;\">\n",
    "        <li>\"John Junior\"</li>\n",
    "        <li>'E22 Avenida de Universidade'</li>\n",
    "        <li>'76'</li>\n",
    "        <li>\"Hello World!\"</li>\n",
    "    </ul>\n",
    "    <li>A string can span multiple lines by using either three single or double quote characters to enclose the sequence of characters, just like multi-line comments. </li>\n",
    "    <li>Adjacent strings on the same line will be silently combined by the Python interpreter:</li>\n",
    "    </ul>\n",
    "    \n",
    "--------------------------------------"
   ]
  },
  {
   "cell_type": "code",
   "execution_count": 1,
   "metadata": {
    "deletable": false,
    "editable": false
   },
   "outputs": [
    {
     "name": "stdout",
     "output_type": "stream",
     "text": [
      "A string can span multiple lines by \n",
      "using either three single or double quote characters \n",
      "to enclose the sequence of characters, just like \n",
      "multi-line comments.\n"
     ]
    }
   ],
   "source": [
    "longString = \"\"\"A string can span multiple lines by \n",
    "using either three single or double quote characters \n",
    "to enclose the sequence of characters, just like \n",
    "multi-line comments.\"\"\"\n",
    "\n",
    "print(longString)"
   ]
  },
  {
   "cell_type": "code",
   "execution_count": 2,
   "metadata": {
    "deletable": false,
    "editable": false
   },
   "outputs": [
    {
     "name": "stdout",
     "output_type": "stream",
     "text": [
      "Shirley Lee is a freshman.\n"
     ]
    }
   ],
   "source": [
    "separateString = 'Shirley '  \"Lee\"  \" is a freshman.\"\n",
    "print (separateString)"
   ]
  },
  {
   "cell_type": "markdown",
   "metadata": {
    "deletable": false,
    "editable": false
   },
   "source": [
    "--------------------------------\n",
    "\n",
    "<h3 style=\"color:blue;\"><b>Indices and Slices of String</b></h3>\n",
    "<ul style=\"color:SlateBlue;\">\n",
    "    <li>In Python, the position or index of a character in a string is identified with one of the numbers 0, 1, 2, 3, . . . .</li>\n",
    "    <li>For instance, the first character of a string is said to have index 0, the second character is said to have index 1, and so on.</li>\n",
    "    <li>You may refer the index in negative numbers, the last character of a string by index -1, the second last character of a string by index -2, and so on.\n",
    "    <li>If str1 is a string variable or literal, then str1[i] is the character of the string having index i.</li>\n"
   ]
  },
  {
   "cell_type": "markdown",
   "metadata": {
    "deletable": false,
    "editable": false
   },
   "source": [
    "<h3 style=\"color:blue;\"><b>Slices of Strings</b></h3>\n",
    "<ul style=\"color:SlateBlue;\">\n",
    "    <li>A substring or slice of a string is a sequence of consecutive characters from the string.</li>\n",
    "<li>For instance, consider the string “Just a moment”. \n",
    "The substrings “Jus”, “mom”, and “nt” begin at positions 0, 7, and 11, and end at positions 2, 9, and 12, respectively.</li>\n",
    "<li>If str1 is a string, then str1[m:n] is the substring beginning at position m and ending at position n - 1.</li>\n",
    "<li>Note: If m >=  n, the value of str1[m:n] will be an empty string (\"\"), the string with no characters.</li></ul>\n",
    "\n",
    "---------------------------------------------"
   ]
  },
  {
   "cell_type": "code",
   "execution_count": 3,
   "metadata": {
    "deletable": false,
    "editable": false
   },
   "outputs": [
    {
     "name": "stdout",
     "output_type": "stream",
     "text": [
      "Demo #0: Analytics\n",
      "Demo #1: nal\n",
      "Demo #2: Ana\n",
      "Demo #3: ytics\n",
      "Demo #4: nalyti\n",
      "Demo #5: \n",
      "Demo #6: cityla\n",
      "Demo #7: nl\n",
      "Demo #8: siya\n",
      "Demo #9: Analytic\n"
     ]
    }
   ],
   "source": [
    "demoString = \"Analytics\"\n",
    "\n",
    "print (\"Demo #0: {}\".format(demoString))\n",
    "print (\"Demo #1: {}\".format(demoString[1:4]))\n",
    "print (\"Demo #2: {}\".format(demoString[:3]))\n",
    "print (\"Demo #3: {}\".format(demoString[4:]))\n",
    "print (\"Demo #4: {}\".format(demoString[-8:-2]))\n",
    "print (\"Demo #5: {}\".format(demoString[-2:-8]))\n",
    "print (\"Demo #6: {}\".format(demoString[-2:-8:-1]))\n",
    "print (\"Demo #7: {}\".format(demoString[1:5:2]))\n",
    "print (\"Demo #8: {}\".format(demoString[-1:-9:-2]))\n",
    "print (\"Demo #9: {}\".format(demoString[:-1]))"
   ]
  },
  {
   "cell_type": "markdown",
   "metadata": {
    "deletable": false,
    "editable": false
   },
   "source": [
    "------------------------------------\n",
    "\n",
    "<h3 style=\"color:blue;\"><b>Python String Methods</b></h3>\n",
    "\n",
    "<p style=\"color:SlateBlue;\">You may refer to the following url for the details:</p>\n",
    "<p style=\"color:DodgerBlue;\">https://www.w3schools.com/python/python_ref_string.asp</p>\n",
    "\n",
    "-------------------------------"
   ]
  },
  {
   "cell_type": "code",
   "execution_count": 4,
   "metadata": {
    "deletable": false,
    "editable": false
   },
   "outputs": [
    {
     "name": "stdout",
     "output_type": "stream",
     "text": [
      "programming for business analytics \n",
      "\n",
      "~programming for business analytics~\n",
      "Programming for business analytics\n",
      "['programming', 'for', 'business', 'analytics']\n",
      "Programming For Business Analytics\n",
      "PROGRAMMING FOR BUSINESS ANALYTICS\n",
      "programming for business analytics\n",
      "4\n",
      "12\n"
     ]
    }
   ],
   "source": [
    "myString = \"programming for business analytics\"\n",
    "\n",
    "print(myString, \"\\n\")\n",
    "print(myString.join('~~'))\n",
    "print(myString.capitalize())   # capitalize the 1st character\n",
    "print(myString.split())        # splite the string into list\n",
    "print(myString.title())        # capitalize the 1st character of each word\n",
    "print(myString.upper())        # turn everything into upper case\n",
    "print(myString.lower())        # turn everything into lower case\n",
    "print(myString.count('s'))     # count the number of s\n",
    "print(myString.rindex('for'))  # search the postion of the key"
   ]
  },
  {
   "cell_type": "markdown",
   "metadata": {
    "deletable": false,
    "editable": false
   },
   "source": [
    "------------------------\n",
    "\n",
    "<h3 style=\"color:red;\"><b>Student Practice</b></h3>\n",
    "\n",
    "<p style=\"color:SlateBlue;\">In the empty cell below, write a program segment that covert the name of students in the form of \"Firstname Lastname\" into the form of \"LASTNAME, Firstname\". Assume that, the name of student only contains two words. For example, \"<span style=\"color:DodgerBlue;\">Judy Lam</span>\" will be converted into \"<span style=\"color:DodgerBlue;\">LAM, Judy</span>\".</p>\n",
    "\n",
    "-------------------------------"
   ]
  },
  {
   "cell_type": "code",
   "execution_count": 4,
   "metadata": {},
   "outputs": [
    {
     "name": "stdout",
     "output_type": "stream",
     "text": [
      "please input your name in the form of (Firstname Lastname): Horatio Juan\n",
      "JUAN, Horatio\n"
     ]
    }
   ],
   "source": [
    "name = input(\"please input your name in the form of (Firstname Lastname): \")\n",
    "list_name = name.split()\n",
    "print('{}, {}'.format(list_name[1].upper(), list_name[0]))"
   ]
  },
  {
   "cell_type": "markdown",
   "metadata": {
    "deletable": false,
    "editable": false
   },
   "source": [
    "------------------------\n",
    "\n",
    "<h3 style=\"color:red;\"><b>Student Practice</b></h3>\n",
    "\n",
    "<p style=\"color:SlateBlue;\">In the empty cell below, write a program segment that count the number of words in this practical exercise definition.</p>\n",
    "\n",
    "-------------------------------"
   ]
  },
  {
   "cell_type": "code",
   "execution_count": 8,
   "metadata": {},
   "outputs": [
    {
     "name": "stdout",
     "output_type": "stream",
     "text": [
      "the words number is 22\n"
     ]
    }
   ],
   "source": [
    "sPD = \"\"\"Student Practice - In the empty cell below, write a program \n",
    "segment that count the number of words in this practical exercise definition.\"\"\"\n",
    "sign_num = sPD.count('-')\n",
    "list_sPD = sPD.split()\n",
    "words_num = len(list_sPD)\n",
    "print('the words number is {}'.format(words_num - sign_num))"
   ]
  },
  {
   "cell_type": "code",
   "execution_count": 9,
   "metadata": {},
   "outputs": [
    {
     "name": "stdout",
     "output_type": "stream",
     "text": [
      "22\n"
     ]
    }
   ],
   "source": [
    "## Remove all punctions \n",
    "sPD = \"\"\"Student Practice - In the empty cell below, write a program \n",
    "segment that count the number of words in this practical exercise definition.\"\"\"\n",
    "\n",
    "punctuations = ('.', ',', '-', ':', '?', '!', '$', '%', '@', '#')\n",
    "for punc in punctuations:\n",
    "    sPD = sPD.replace(punc, ' ')\n",
    "    \n",
    "wlist = sPD.split()\n",
    "print(len(wlist))"
   ]
  },
  {
   "cell_type": "code",
   "execution_count": 4,
   "metadata": {},
   "outputs": [
    {
     "data": {
      "text/plain": [
       "'Hello World!'"
      ]
     },
     "execution_count": 4,
     "metadata": {},
     "output_type": "execute_result"
    }
   ],
   "source": [
    "import pyperclip\n",
    "pyperclip.copy('Hello World!')\n",
    "pyperclip.paste()"
   ]
  },
  {
   "cell_type": "code",
   "execution_count": 5,
   "metadata": {},
   "outputs": [
    {
     "data": {
      "text/plain": [
       "'Hello World!'"
      ]
     },
     "execution_count": 5,
     "metadata": {},
     "output_type": "execute_result"
    }
   ],
   "source": [
    "import pyperclip\n",
    "pyperclip.paste()"
   ]
  },
  {
   "cell_type": "code",
   "execution_count": null,
   "metadata": {},
   "outputs": [],
   "source": []
  }
 ],
 "metadata": {
  "kernelspec": {
   "display_name": "Python 3",
   "language": "python",
   "name": "python3"
  },
  "language_info": {
   "codemirror_mode": {
    "name": "ipython",
    "version": 3
   },
   "file_extension": ".py",
   "mimetype": "text/x-python",
   "name": "python",
   "nbconvert_exporter": "python",
   "pygments_lexer": "ipython3",
   "version": "3.8.3"
  }
 },
 "nbformat": 4,
 "nbformat_minor": 4
}
