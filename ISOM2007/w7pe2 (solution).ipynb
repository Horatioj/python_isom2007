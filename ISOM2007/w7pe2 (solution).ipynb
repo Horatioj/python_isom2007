{
 "cells": [
  {
   "cell_type": "markdown",
   "metadata": {
    "deletable": false,
    "editable": false
   },
   "source": [
    "----------------------------------------------\n",
    "\n",
    "<p style=\"color:blue;\">So far, the output of our programs has been displayed on the screen and eventually gone when we refreshed the screen. But most real-life applications, we want the output to be preserved in files in permanent storage (such as on a hard drive) that will be available for later use.</p>\n"
   ]
  },
  {
   "cell_type": "markdown",
   "metadata": {
    "deletable": false,
    "editable": false
   },
   "source": [
    "------------------------------\n",
    "\n",
    "<h3 style=\"color:blue;\"><b>Reading Text File</b></h3>\n",
    "<ul style=\"color:DodgerBlue;\">\n",
    "    <li>A statement of the form</li>\n",
    "    <span style=\"color:white;\">.....</span><span style=\"color:brown;\">infile = open(fileName, 'r')</span><br>\n",
    "<span style=\"color:DodgerBlue;\">establishes a connection between the program and the file that allows the program to read data from the file.</span>\n",
    "    <li> After a text file is opened for reading, a for loop with header</li>\n",
    "    <span style=\"color:white;\">.....</span><span style=\"color:brown;\">for line in infile:</span><br>\n",
    "    <span style=\"color:DodgerBlue;\">accesses the lines of the file in succession.</span>\n",
    "    <li>The statement</li>\n",
    "    <span style=\"color:white;\">.....</span><span style=\"color:brown;\">listVar = [line.rstrip() for line in infile]</span><br>\n",
    "    <span style=\"color:DodgerBlue;\">creates a list of strings where each item of the list is a <span style=\"color:brown;\">line</span> of the file minus its <span style=\"color:brown;\">newline</span> character.</span>\n",
    "    <li>At any time, the connection from the program to the file can be terminated with the statement</li>\n",
    "    <span style=\"color:white;\">.....</span><span style=\"color:brown;\">infile.close()</span>\n",
    "    <li>Files are usually automatically closed when the functions in which they were opened terminate, we will explicitly close all files when we have finished using them.</li>\n",
    "    </ul>\n",
    "\n",
    "----------------------------------------"
   ]
  },
  {
   "cell_type": "code",
   "execution_count": null,
   "metadata": {
    "deletable": false,
    "editable": false
   },
   "outputs": [],
   "source": [
    "## input line by line that including newline\n",
    "infile = open(\"InputFile.txt\", 'r')      # open a file for input\n",
    "\n",
    "for line in infile:\n",
    "    if line[-1] == '\\n':\n",
    "        line = line[:-1]\n",
    "    print (line)\n",
    "    \n",
    "infile.close()                          # close the file after reading\n"
   ]
  },
  {
   "cell_type": "code",
   "execution_count": null,
   "metadata": {
    "deletable": false,
    "editable": false
   },
   "outputs": [],
   "source": [
    "## Input file as a string of lines\n",
    "infile = open(\"InputFile.txt\", 'r')\n",
    "listVar = [line.rstrip() for line in infile]\n",
    "print(listVar)\n",
    "print()\n",
    "\n",
    "for i in range(len(listVar)):\n",
    "    print (listVar[i])\n",
    "    \n",
    "infile.close()\n"
   ]
  },
  {
   "cell_type": "markdown",
   "metadata": {
    "deletable": false,
    "editable": false
   },
   "source": [
    "-----------------------------\n",
    "\n",
    "<h3 style=\"color:blue;\"><b>Reading Text File (cont'd)</b></h3>\n",
    "<ul style=\"color:DodgerBlue;\">\n",
    "    <li>A file that is open for reading can also be accessed with the <span style=\"color:brown;\">read</span> and <span style=\"color:brown;\">readline</span> methods.</li>\n",
    "    <li>A statement of the form</li>\n",
    "    <span style=\"color:white;\">.....</span><span style=\"color:brown;\">strVar = infile.read()</span><br>\n",
    "    <span style=\"color:Dodger;\">places the entire contents of the file into a single string.</span>\n",
    "    </ul>\n",
    "    \n",
    "------------------------------------"
   ]
  },
  {
   "cell_type": "code",
   "execution_count": null,
   "metadata": {
    "deletable": false,
    "editable": false
   },
   "outputs": [],
   "source": [
    "## input the file as a long string including the newline\n",
    "infile = open('InputFile.txt', 'r')\n",
    "strVar = infile.read()\n",
    "print (strVar)\n",
    "print ()\n",
    "\n",
    "linVar = strVar.split(\"\\n\")   # split the string by the \"\\n\"\n",
    "print(linVar)\n",
    "\n",
    "infile.close()\n"
   ]
  },
  {
   "cell_type": "markdown",
   "metadata": {
    "deletable": false,
    "editable": false
   },
   "source": [
    "-----------------------\n",
    "\n",
    "<h3 style=\"color:blue;\"><b>Reading Text File (cont'd)</b></h3>\n",
    "<ul style=\"color:DodgerBlue;\">\n",
    "    <li>When a text file is opened for input, a pointer is set to the beginning of the first line of the file. Each time a statement of the form</li>\n",
    "    <span style=\"color:white;\">.....</span><span style=\"color:brown;\">strVar = infile.readline()</span><br>\n",
    "    <span style=\"color:DodgerBlue;\">is executed, the current line is assigned to <span style=\"color:brown;\">strVar</span> and the pointer advances to the end of that line.</span>\n",
    "    <li>After all the lines of the file have been read, the <span style=\"color:brown;\">readline</span> method returns the empty string.</li>\n",
    "    </ul>\n",
    "    \n",
    "---------------------------------------"
   ]
  },
  {
   "cell_type": "code",
   "execution_count": null,
   "metadata": {
    "deletable": false,
    "editable": false
   },
   "outputs": [],
   "source": [
    "## input file line by line not including the newline\n",
    "infile = open(\"InputFile.txt\", 'r')\n",
    "\n",
    "line = infile.readline()\n",
    "while line != \"\":\n",
    "    print(line, end=\"\")\n",
    "    line = infile.readline()\n",
    "    \n",
    "infile.close()\n"
   ]
  },
  {
   "cell_type": "markdown",
   "metadata": {
    "deletable": false,
    "editable": false
   },
   "source": [
    "-----------------------------\n",
    "\n",
    "<h3 style=\"color:red;\"><b>Student Practice</b></h3>\n",
    "\n",
    "<p style=\"color:DodgerBlue;\">In the cell below fill-in the missing codings in un-completed functions that for counting the number of words and the occurence of each word from an input text file \"w7pe2TextFile.txt\". Assume it is not case sensitive, that means the word \"An\" and \"an\" are considered to be the same.</p>\n",
    "\n",
    "------------------------------------"
   ]
  },
  {
   "cell_type": "code",
   "execution_count": null,
   "metadata": {
    "deletable": false,
    "editable": false
   },
   "outputs": [],
   "source": [
    "def InputTextFile (fileName):\n",
    "    infile = open(fileName, 'r')\n",
    "    \n",
    "    fileContent = \"\"\n",
    "    for line in infile:\n",
    "        if line[-1] == '\\n':\n",
    "            line = line[:-1]\n",
    "        fileContent += line\n",
    "        \n",
    "    infile.close()\n",
    "    return(fileContent)\n",
    "\n",
    "\n",
    "def RemovePunctuations (listData):\n",
    "    punctuations = ('.', ',', ':', \";\", \"?\", \"!\", \"-\", \"$\", \"&\", \"#\", \"@\", \"~\", \")\", \"(\", '\"', \"'\", \"%\")\n",
    "    \n",
    "    listData = listData.lower()\n",
    "    for puc in punctuations:\n",
    "        listData = listData.replace(puc, \" \")\n",
    "    return(listData)\n",
    "\n",
    "\n",
    "def DetermineFreq (listData):\n",
    "    listWords = listData.split()\n",
    "        \n",
    "    dictList = {}\n",
    "    for word in listWords:\n",
    "        if word not in dictList:\n",
    "            dictList[word] = 1\n",
    "        else:\n",
    "            dictList[word] += 1\n",
    "    return (dictList)\n",
    "\n",
    "\n",
    "def DisplayFreq (dictData):\n",
    "    print(\"{0:<20s}{1:>8s})\".format('Word', 'Frequent'), sep=\"\")\n",
    "    \n",
    "    for item in dictData:\n",
    "        print (\"{0:<20s}{1:>8d}\".format(item, dictData[item]), sep=\"\")\n",
    "    \n",
    "\n",
    "'''\n",
    "Main program, which call the various funtions to do the works\n",
    "'''\n",
    "## input the content of text file as a string\n",
    "fileData = InputTextFile(\"w7pe2.txt\")\n",
    "\n",
    "## remove punctuations\n",
    "fileData = RemovePunctuations(fileData)\n",
    "    \n",
    "## Determine the frequent of words in the file\n",
    "dictFreq = DetermineFreq(fileData)\n",
    "    \n",
    "## Display the frequent of words in the file\n",
    "DisplayFreq (dictFreq)\n",
    "      "
   ]
  },
  {
   "cell_type": "markdown",
   "metadata": {
    "deletable": false,
    "editable": false
   },
   "source": [
    "-----------------------------\n",
    "\n",
    "<h3 style=\"color:red;\"><b>Student Practice</b></h3>\n",
    "\n",
    "<p style=\"color:DodgerBlue;\">In the empty cell below, modify the previous Student Practice that count the number of words and the occurence of each word in the given text file \"w7pe2TextFile.txt\". Assume it is not case sensitive, that means the word \"An\" and \"an\" are considered to be the same. But use another input methods for inputting the contents of the file.</p>\n",
    "\n",
    "------------------------------------"
   ]
  },
  {
   "cell_type": "code",
   "execution_count": 2,
   "metadata": {
    "deletable": false,
    "editable": false
   },
   "outputs": [],
   "source": [
    "def InputTextFile2 (fileName):\n",
    "    infile = open(fileName, 'r')\n",
    "\n",
    "    fileContent = \"\"\n",
    "    line = infile.readline()\n",
    "    while line != \"\":\n",
    "        fileContent += line\n",
    "        line = infile.readline()\n",
    "    \n",
    "    infile.close()\n",
    "    return(fileContent)\n",
    "    "
   ]
  },
  {
   "cell_type": "code",
   "execution_count": 3,
   "metadata": {
    "deletable": false,
    "editable": false
   },
   "outputs": [
    {
     "ename": "FileNotFoundError",
     "evalue": "[Errno 2] No such file or directory: 'w7pe2.txt'",
     "output_type": "error",
     "traceback": [
      "\u001b[1;31m---------------------------------------------------------------------------\u001b[0m",
      "\u001b[1;31mFileNotFoundError\u001b[0m                         Traceback (most recent call last)",
      "\u001b[1;32m<ipython-input-3-177bb92412f5>\u001b[0m in \u001b[0;36m<module>\u001b[1;34m\u001b[0m\n\u001b[0;32m      3\u001b[0m '''\n\u001b[0;32m      4\u001b[0m \u001b[1;31m## input the content of text file as a string\u001b[0m\u001b[1;33m\u001b[0m\u001b[1;33m\u001b[0m\u001b[1;33m\u001b[0m\u001b[0m\n\u001b[1;32m----> 5\u001b[1;33m \u001b[0mfileData\u001b[0m \u001b[1;33m=\u001b[0m \u001b[0mInputTextFile2\u001b[0m\u001b[1;33m(\u001b[0m\u001b[1;34m\"w7pe2.txt\"\u001b[0m\u001b[1;33m)\u001b[0m       \u001b[1;31m## use another input method\u001b[0m\u001b[1;33m\u001b[0m\u001b[1;33m\u001b[0m\u001b[0m\n\u001b[0m\u001b[0;32m      6\u001b[0m \u001b[1;33m\u001b[0m\u001b[0m\n\u001b[0;32m      7\u001b[0m \u001b[1;31m## remove punctuations\u001b[0m\u001b[1;33m\u001b[0m\u001b[1;33m\u001b[0m\u001b[1;33m\u001b[0m\u001b[0m\n",
      "\u001b[1;32m<ipython-input-2-3c8dc142c34c>\u001b[0m in \u001b[0;36mInputTextFile2\u001b[1;34m(fileName)\u001b[0m\n\u001b[0;32m      1\u001b[0m \u001b[1;32mdef\u001b[0m \u001b[0mInputTextFile2\u001b[0m \u001b[1;33m(\u001b[0m\u001b[0mfileName\u001b[0m\u001b[1;33m)\u001b[0m\u001b[1;33m:\u001b[0m\u001b[1;33m\u001b[0m\u001b[1;33m\u001b[0m\u001b[0m\n\u001b[1;32m----> 2\u001b[1;33m     \u001b[0minfile\u001b[0m \u001b[1;33m=\u001b[0m \u001b[0mopen\u001b[0m\u001b[1;33m(\u001b[0m\u001b[0mfileName\u001b[0m\u001b[1;33m,\u001b[0m \u001b[1;34m'r'\u001b[0m\u001b[1;33m)\u001b[0m\u001b[1;33m\u001b[0m\u001b[1;33m\u001b[0m\u001b[0m\n\u001b[0m\u001b[0;32m      3\u001b[0m \u001b[1;33m\u001b[0m\u001b[0m\n\u001b[0;32m      4\u001b[0m     \u001b[0mfileContent\u001b[0m \u001b[1;33m=\u001b[0m \u001b[1;34m\"\"\u001b[0m\u001b[1;33m\u001b[0m\u001b[1;33m\u001b[0m\u001b[0m\n\u001b[0;32m      5\u001b[0m     \u001b[0mline\u001b[0m \u001b[1;33m=\u001b[0m \u001b[0minfile\u001b[0m\u001b[1;33m.\u001b[0m\u001b[0mreadline\u001b[0m\u001b[1;33m(\u001b[0m\u001b[1;33m)\u001b[0m\u001b[1;33m\u001b[0m\u001b[1;33m\u001b[0m\u001b[0m\n",
      "\u001b[1;31mFileNotFoundError\u001b[0m: [Errno 2] No such file or directory: 'w7pe2.txt'"
     ]
    }
   ],
   "source": [
    "'''\n",
    "Main program, which call the various funtions to do the works\n",
    "'''\n",
    "## input the content of text file as a string\n",
    "fileData = InputTextFile2(\"w7pe2.txt\")       ## use another input method\n",
    "    \n",
    "## remove punctuations\n",
    "fileData = RemovePunctuations(fileData)\n",
    "    \n",
    "## Determine the frequent of words in the file\n",
    "dictFreq = DetermineFreq(fileData)\n",
    "    \n",
    "## Display the frequent of words in the file\n",
    "DisplayFreq (dictFreq)\n",
    "      "
   ]
  },
  {
   "cell_type": "code",
   "execution_count": null,
   "metadata": {},
   "outputs": [],
   "source": []
  }
 ],
 "metadata": {
  "kernelspec": {
   "display_name": "Python 3",
   "language": "python",
   "name": "python3"
  },
  "language_info": {
   "codemirror_mode": {
    "name": "ipython",
    "version": 3
   },
   "file_extension": ".py",
   "mimetype": "text/x-python",
   "name": "python",
   "nbconvert_exporter": "python",
   "pygments_lexer": "ipython3",
   "version": "3.8.5"
  }
 },
 "nbformat": 4,
 "nbformat_minor": 4
}
