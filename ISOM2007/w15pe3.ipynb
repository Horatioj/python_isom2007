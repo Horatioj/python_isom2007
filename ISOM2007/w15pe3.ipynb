{
 "cells": [
  {
   "cell_type": "code",
   "execution_count": 1,
   "metadata": {
    "deletable": false,
    "editable": false
   },
   "outputs": [
    {
     "name": "stdout",
     "output_type": "stream",
     "text": [
      "12\n",
      "MUNICIPALITY\n",
      "city\n",
      "6\n"
     ]
    }
   ],
   "source": [
    "## Determine the output displayed by the lines of code first before run  the code.\n",
    "\n",
    "a = 4\n",
    "b = 6\n",
    "c = \"Municipality\"\n",
    "d = \"pal\"\n",
    "print(len(c))\n",
    "print(c.upper())\n",
    "print(c[a:b] + c[b + 4:])\n",
    "print(c.find(d))\n"
   ]
  },
  {
   "cell_type": "code",
   "execution_count": 4,
   "metadata": {},
   "outputs": [
    {
     "name": "stdout",
     "output_type": "stream",
     "text": [
      "1\n",
      "2\n",
      "3\n",
      "4\n",
      "5\n",
      "6\n"
     ]
    }
   ],
   "source": [
    "## Identify the error(s) (i.e. syntax, semantic, and/or logical) and make \n",
    "## the necessary edition whenever necessary.\n",
    "\n",
    "## Display the numbers from 1 through 5.\n",
    "\"\"\"\n",
    "num = 0\n",
    "while True\n",
    "num = 1\n",
    "print(num)\n",
    "num += 1\n",
    "\"\"\"\n",
    "num = 0\n",
    "while num<6:\n",
    "    num += 1\n",
    "    print(num)\n",
    "    "
   ]
  },
  {
   "cell_type": "code",
   "execution_count": 6,
   "metadata": {},
   "outputs": [
    {
     "name": "stdout",
     "output_type": "stream",
     "text": [
      "a\n",
      "b\n",
      "c\n",
      "d\n"
     ]
    }
   ],
   "source": [
    "## Identify the error(s) (i.e. syntax, semantic, and/or logical) and make \n",
    "## the necessary edition whenever necessary.\n",
    "\n",
    "## Display the elements from a list.\n",
    "\"\"\"\n",
    "list1 = ['a', 'b', 'c', 'd']\n",
    "i = 0\n",
    "while True:\n",
    "    print(list1[i])\n",
    "    if i = len(list1):\n",
    "        break\n",
    "    i = i + 1\n",
    "\"\"\"\n",
    "list1 = ['a', 'b', 'c', 'd']\n",
    "i = 0\n",
    "while True:\n",
    "    print(list1[i])\n",
    "    i += 1\n",
    "    if i == len(list1):\n",
    "        break\n"
   ]
  },
  {
   "cell_type": "code",
   "execution_count": 10,
   "metadata": {},
   "outputs": [
    {
     "name": "stdout",
     "output_type": "stream",
     "text": [
      "['A', 'B', 'C']\n"
     ]
    }
   ],
   "source": [
    "## Identify the error(s) (i.e. syntax, semantic, and/or logical) and make \n",
    "## the necessary edition whenever necessary.\n",
    "\n",
    "## Convert all element in the list into upper case and display the list\n",
    "\"\"\"\n",
    "list1 = ['a', 'b', 'c']\n",
    "for letter in list1:\n",
    "letter = letter.upper()\n",
    "print(list1)\n",
    "\"\"\"\n",
    "list1 = ['a', 'b', 'c']\n",
    "list2 = []\n",
    "for letter in list1:\n",
    "    letter = letter.upper()\n",
    "    list2.append(letter)\n",
    "\n",
    "print(list2)\n"
   ]
  },
  {
   "cell_type": "code",
   "execution_count": 11,
   "metadata": {},
   "outputs": [
    {
     "name": "stdout",
     "output_type": "stream",
     "text": [
      "0\n",
      "1\n",
      "2\n",
      "3\n",
      "4\n",
      "5\n",
      "6\n",
      "7\n",
      "8\n",
      "9\n",
      "10\n",
      "11\n",
      "12\n",
      "14\n",
      "15\n",
      "16\n",
      "17\n",
      "18\n",
      "19\n"
     ]
    }
   ],
   "source": [
    "## Identify the error(s) (i.e. syntax, semantic, and/or logical) and make \n",
    "## the necessary edition whenever necessary.\n",
    "\n",
    "# Display all numbers from 0 through 19 except for 13\n",
    "\"\"\"\n",
    "for i in range(20, 0):\n",
    "    if i != 13:\n",
    "print(i)\n",
    "\"\"\"\n",
    "for i in range(0, 20):\n",
    "    if i != 13:\n",
    "        print(i)\n"
   ]
  },
  {
   "cell_type": "code",
   "execution_count": null,
   "metadata": {},
   "outputs": [],
   "source": [
    "## Identify the error(s) (i.e. syntax, semantic, and/or logical) and make \n",
    "## the necessary edition whenever necessary.\n",
    "\n",
    "## List the all numbers that from 1 to 26\n",
    "\"\"\"\n",
    "for j in range(1, 26, -1):\n",
    "    print(j)\n",
    "\"\"\"\n",
    "\n"
   ]
  },
  {
   "cell_type": "code",
   "execution_count": null,
   "metadata": {},
   "outputs": [
    {
     "name": "stdout",
     "output_type": "stream",
     "text": [
      "A\n",
      "B\n",
      "C"
     ]
    }
   ],
   "source": [
    "## Identify any errors in the code segments. Assume that the\n",
    "## file ABC.txt has three lines containing the data A, B, and C.\n",
    "\"\"\"\n",
    "infile = open(\"ABC.txt\", 'w')\n",
    "line = infile.readline()\n",
    "infile.close()\n",
    "\"\"\"\n",
    "infile = open(\"ABC.txt\", 'r')\n",
    "line = infile.readline()\n",
    "while line != \" \":\n",
    "    print(line, end=\"\")\n",
    "    line = infile.readline()\n",
    "\n",
    "infile.close()\n"
   ]
  },
  {
   "cell_type": "code",
   "execution_count": null,
   "metadata": {},
   "outputs": [],
   "source": [
    "\"\"\"\n",
    "Rewrite this program segment using a for loop\n",
    "\n",
    "num = 1\n",
    "while num <= 0:\n",
    "    print(num)\n",
    "    num += 2\n",
    "    \n",
    "\"\"\"\n",
    "\n",
    "\n"
   ]
  },
  {
   "cell_type": "code",
   "execution_count": 45,
   "metadata": {},
   "outputs": [
    {
     "name": "stdout",
     "output_type": "stream",
     "text": [
      "Erie, Huron, Michigan, Ontario, Superior\n"
     ]
    }
   ],
   "source": [
    "\"\"\"\n",
    "Simplify this program segment\n",
    "\n",
    "lakes = [\"Erie\", \"Huron\", \"Michigan\", \"Ontario\", \"Superior\"]\n",
    "result = \"\"\n",
    "for i in range(len(lakes)):\n",
    "    result += lakes[i]\n",
    "    if i < len(lakes) - 1:\n",
    "        result += \", \"\n",
    "print(result)\n",
    "\n",
    "\"\"\"\n",
    "lakes = [\"Erie\", \"Huron\", \"Michigan\", \"Ontario\", \"Superior\"]\n",
    "result = []\n",
    "for i in range(len(lakes)):\n",
    "    result.append(lakes[i])\n",
    "\n",
    "print(\", \".join(result))"
   ]
  },
  {
   "cell_type": "code",
   "execution_count": null,
   "metadata": {},
   "outputs": [],
   "source": [
    "\"\"\"\n",
    "Write a program that continue to request a word as input (in lower case, \n",
    "if not in the case, convert into lower yourself) until the user \n",
    "enter the word 'quit' and translates the word into Pig Latin. The rules \n",
    "for translating a word into Pig Latin are as follows:\n",
    "(a) If the word begins with a group of consonants (non vowel), move them \n",
    "    to the end of the word and add 'ay'. For instance, chip becomes ipchay.\n",
    "(b) If the word begins with a vowel, add 'way' to the end of the word. For \n",
    "    instance, else becomes elseway.\n",
    "\"\"\"\n",
    "vowels = ['a', 'e', 'i', 'o', 'u']\n",
    "str1 = ''\n",
    "continuing = True\n",
    "while continuing:\n",
    "    request = input(\"please input a word(quit to quit): \").lower()\n",
    "    if request == 'quit':\n",
    "        for i in len(request):\n",
    "            for letter in request:\n",
    "                while letter is not in vowels:\n",
    "                \n",
    "        print(\"\")\n",
    "        print(\"bye~\\n\")\n",
    "        break"
   ]
  },
  {
   "cell_type": "code",
   "execution_count": null,
   "metadata": {
    "deletable": false,
    "editable": false
   },
   "outputs": [],
   "source": [
    "## Determine output of the program before ran the program segment.\n",
    "def main():\n",
    "    print(uc('h'))\n",
    "    print(uc('w'))\n",
    "    \n",
    "def uc(letter):\n",
    "    if letter == 'h':\n",
    "        return 'H'\n",
    "    else:\n",
    "        return letter\n",
    "    \n",
    "main()\n"
   ]
  },
  {
   "cell_type": "code",
   "execution_count": null,
   "metadata": {},
   "outputs": [],
   "source": [
    "## Rewrite the code using a dictionary instead of an if statement.\n",
    "\"\"\"\n",
    "hotel = input(\"Name a hotel that in Macau Peninsula: \")\n",
    "hotel = hotel.upper()\n",
    "if (hotel == \"Jinjiang Inn\") or (hotel == \"Cinco Oceanos\"):\n",
    "    print(\"Correct. It located at Macau Penissula. \")\n",
    "elif (hotel == \"Wynn Palace\") or (hotel == \"The Venetian\") or (hotel == \"JW Marriott\"):\n",
    "    print(\"Incorrect. It located at Taipa\")\n",
    "else:\n",
    "    print(\"Nope\")\n",
    "\"\"\""
   ]
  },
  {
   "cell_type": "code",
   "execution_count": null,
   "metadata": {},
   "outputs": [],
   "source": [
    "\"\"\"\n",
    "Refer to the following data for a certain financial practice (the values are in millions of $).\n",
    "\n",
    "Year                    2010  2011  2012  2013  2014  2015  2016  2017  2018  2019  2020  2021\n",
    "\n",
    "Annual Costs              95    15    16    18    16    15    84    65    55    83    79    88\n",
    "Annual Benefits           40    40    55     9    10    39    94    76    68    89    72    92\n",
    "\n",
    "Annual Cash Flow         -55    25    39    -9    -6    24    10    11    13     6    -7     4\n",
    "Accumulated Cash Flow    -55   -30     9     0    -6    18    28    39    52    58    51    55\n",
    "\n",
    "Perform the following financial analysis\n",
    "1.  A histogram with 12 bins on the annual cash flow.\n",
    "2.  A line plot on the accumulated cash Flow.\n",
    "3.  Label the x-axis as \"Year\".\n",
    "4.  Label the y-axis as \"$ value\"\n",
    "5.  Specify a proper y-ticks range and intervals\n",
    "6.  Plot the charts with offset = 10 and trim both the x- and y-axis.\n",
    "\n",
    "\"\"\"\n",
    "\n",
    "\n"
   ]
  },
  {
   "cell_type": "code",
   "execution_count": null,
   "metadata": {},
   "outputs": [],
   "source": [
    "## Write a function that takes in two column names from the setosa_data dataset, \n",
    "## compares their medians, and returns the name of the column with the larger median.\n",
    "\n",
    "def median_comparer(column_name_one,column_name_two):\n",
    "    \"\"\"\n",
    "    Input parameters\n",
    "    ----------------\n",
    "    column_name_one: a string, the name of the first column\n",
    "    column_name_two: a string, the name of the second column\n",
    "    \n",
    "    Output value\n",
    "    ------------\n",
    "    greater_median: a string, the name of the column with the greater median\n",
    "    \n",
    "    \"\"\"\n",
    "    \n",
    "    ### YOUR CODE HERE\n",
    "    \n",
    "    return greater_median"
   ]
  },
  {
   "cell_type": "code",
   "execution_count": null,
   "metadata": {},
   "outputs": [],
   "source": [
    "## Modify the suggested solution of Student Practice #1 in w15pe2 with functions for\n",
    "## each of the process.\n",
    "\n",
    "## The main function\n",
    "def man():\n",
    "\"\"\" place code here \"\"\"\n",
    "\n",
    "\n",
    "## Function that input the content of an email document\n",
    "\"\"\" place code here \"\"\"\n",
    "\n",
    "\n",
    "## Function convert the input in lower case letters\n",
    "\"\"\" place code here \"\"\"\n",
    "\n",
    "\n",
    "## Function remove the \"\\n\" and all punctuations\n",
    "\"\"\" place code here \"\"\"\n",
    "\n",
    "    \n",
    "## Fuction tokenize the message (i.e. Identify each words) into Dictionary\n",
    "\"\"\" place code here \"\"\"\n",
    "\n",
    "        \n",
    "\n",
    "## Function output the results as required\n",
    "\"\"\" place code here \"\"\"\n",
    "        \n",
    "\n",
    "main()\n"
   ]
  },
  {
   "cell_type": "code",
   "execution_count": null,
   "metadata": {},
   "outputs": [],
   "source": [
    "## Simplify the suggested solution of Student Practice #2 in w15pe2 with functions\n",
    "\n",
    "def get_header_infor(headItem):\n",
    "    \"\"\"\n",
    "    Input\n",
    "    -----\n",
    "    headItem: the header item value (i.e. 'From', 'Send', 'To', 'Subject', etc.)\n",
    "    \n",
    "    Output\n",
    "    -----\n",
    "    headItemInfor: the value of the headItem\n",
    "    \n",
    "    \"\"\"\n",
    "\n",
    "    return headItemInfor\n",
    "\n",
    "\n",
    "\"\"\"\n",
    "your other codes place here, you may consider to have the function\n",
    "that for input the e-mail message from email.txt\n",
    "\"\"\"\n"
   ]
  },
  {
   "cell_type": "code",
   "execution_count": null,
   "metadata": {},
   "outputs": [],
   "source": [
    "\"\"\"\n",
    "Modify the first student practice in w10pe1 (already copies in the code cell below) \n",
    "with the following new features:\n",
    "1. Add a class variable credit line\n",
    "2. Implement two new methods: set_CreditLine() and get_CreditLine()\n",
    "3. If withdrawal more the the balance, can use the amount from credit line, \n",
    "   if sufficient fund available.\n",
    "\"\"\"\n",
    "\n",
    "## define a class account\n",
    "class Account:\n",
    "    \n",
    "    ## define a constructor\n",
    "    def __init__(self, id=\"[ID not defined]\", name=\"[name not defined]\", rate=-1, balance=-1):\n",
    "        self.id = id\n",
    "        self.name = name\n",
    "        self.rate = rate\n",
    "        self.balance = balance\n",
    "        \n",
    "    def register(self, id, name, rate, balance):\n",
    "        self.id = id\n",
    "        self.name = name\n",
    "        self.rate = rate\n",
    "        self.balance = balance\n",
    "        \n",
    "    def setRate(self, rate):\n",
    "        self.rate = rate\n",
    "        \n",
    "    def getID(self):\n",
    "        return self.id\n",
    "    \n",
    "    def getName(self):\n",
    "        return self.name\n",
    "        \n",
    "    def getBalance(self):\n",
    "        return self.balance\n",
    "    \n",
    "    def getDetails(self):\n",
    "        return [self.id, self.name, self.rate, self.balance]\n",
    "    \n",
    "    def interest(self):\n",
    "        return round(self.balance * self.rate / 100, 2)\n",
    "        \n",
    "    def deposit(self, amt):\n",
    "        self.balance += amt\n",
    "        \n",
    "    def withdraw(self, amt):\n",
    "        self.balance -= amt   \n",
    "        \n",
    "        \n",
    "        \n",
    "      "
   ]
  },
  {
   "cell_type": "code",
   "execution_count": null,
   "metadata": {},
   "outputs": [],
   "source": [
    "\"\"\"\n",
    "Your testing of the above coding in this code cell, place here.\n",
    "\"\"\""
   ]
  }
 ],
 "metadata": {
  "kernelspec": {
   "display_name": "Python 3",
   "language": "python",
   "name": "python3"
  },
  "language_info": {
   "codemirror_mode": {
    "name": "ipython",
    "version": 3
   },
   "file_extension": ".py",
   "mimetype": "text/x-python",
   "name": "python",
   "nbconvert_exporter": "python",
   "pygments_lexer": "ipython3",
   "version": "3.8.5"
  }
 },
 "nbformat": 4,
 "nbformat_minor": 4
}
