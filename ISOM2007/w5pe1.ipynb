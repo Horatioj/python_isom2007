{
 "cells": [
  {
   "cell_type": "markdown",
   "metadata": {
    "deleted": false,
    "editable": false
   },
   "source": [
    "--------------------------------------------------\n",
    "\n",
    "<h2 style=\"color:blue;\"><b>Functions</b></h2>"
   ]
  },
  {
   "cell_type": "markdown",
   "metadata": {
    "deleted": false,
    "editable": false
   },
   "source": [
    "<h3 style=\"color:blue;\"><b>Boolean- and List-Valued Functions</b></h3>\n",
    "<ul style=\"color:DodgerBlue;\">\n",
    "    <li>The values returned not just only be numbers or strings.</li>\n",
    "    <li>It can return any type of value or even not return anything (i.e. no return statements).</li>\n",
    "    </ul>\n",
    "    \n",
    "-----------------------------------------"
   ]
  },
  {
   "cell_type": "code",
   "execution_count": 1,
   "metadata": {
    "deleted": false,
    "editable": false
   },
   "outputs": [],
   "source": [
    "## function return a boolean-value\n",
    "def isVowelWord(word):\n",
    "    word = word.upper()\n",
    "    vowels = (\"A\", \"E\", \"I\", \"O\", \"U\")   # list of vowels\n",
    "    for vowel in vowels:\n",
    "        if vowel not in word:\n",
    "            return False\n",
    "    return True"
   ]
  },
  {
   "cell_type": "code",
   "execution_count": 3,
   "metadata": {
    "deleted": false,
    "editable": false
   },
   "outputs": [
    {
     "name": "stdout",
     "output_type": "stream",
     "text": [
      "Enter a word / sentence:  i love python\n",
      "i love python  - does not contain every vowel\n"
     ]
    }
   ],
   "source": [
    "## Determine if a given word contains every vowel.\n",
    "word = input(\"Enter a word / sentence:  \")\n",
    "if isVowelWord(word):\n",
    "    print(word, \" - contains every vowel\")\n",
    "else:\n",
    "    print(word, \" - does not contain every vowel\")"
   ]
  },
  {
   "cell_type": "code",
   "execution_count": 4,
   "metadata": {
    "deleted": false,
    "editable": false
   },
   "outputs": [],
   "source": [
    "## function return a list-value\n",
    "def occuringVowels(word):\n",
    "    word = word.upper()\n",
    "    vowels = (\"A\", \"E\", \"I\", \"O\", \"U\")   # list of vowels\n",
    "    includedVowels = []\n",
    "    for vowel in vowels:\n",
    "        if (vowel in word) and (vowel not in includedVowels):\n",
    "            includedVowels.append(vowel)\n",
    "    return includedVowels    "
   ]
  },
  {
   "cell_type": "code",
   "execution_count": 5,
   "metadata": {
    "deleted": false,
    "editable": false
   },
   "outputs": [
    {
     "name": "stdout",
     "output_type": "stream",
     "text": [
      "Enter a word: Hibiscus is a kind of flower.\n",
      "The following vowels occur in the word Hibiscus is a kind of flower.: A E I O U\n"
     ]
    }
   ],
   "source": [
    "## Determine the vowels appearing in a word\n",
    "word = input(\"Enter a word: \")\n",
    "listOfVowels = occuringVowels(word)\n",
    "stringOfVowels = \" \".join(listOfVowels)\n",
    "print(\"The following vowels occur in the word {}: {}\".format(word, stringOfVowels))"
   ]
  },
  {
   "cell_type": "markdown",
   "metadata": {
    "deleted": false,
    "editable": false
   },
   "source": [
    "-----------------------------\n",
    "\n",
    "<h3 style=\"color:blue;\"><b>Scope of Variable</b></h3>\n",
    "<ul style=\"color:DodgerBlue;\">\n",
    "    <li>A variable created inside a function can only be accessed by statements inside that function, and ceases to exist when the function is exited.</li>\n",
    "    <li>The variable is said to be local to the function or to have local scope.</li>\n",
    "    <li>The same is true for the function’s parameters.\n",
    "If variables created in two different functions have the same name, they have no relationship to each other; they are treated as completely different variables.</li>\n",
    "    </ul>\n",
    "    \n",
    "-----------------------------"
   ]
  },
  {
   "cell_type": "code",
   "execution_count": 1,
   "metadata": {
    "deleted": false,
    "editable": false
   },
   "outputs": [
    {
     "name": "stdout",
     "output_type": "stream",
     "text": [
      "Frederic\n"
     ]
    }
   ],
   "source": [
    "## program segment that demo the scope of variable\n",
    "name = \"Fred\"\n",
    "\n",
    "def main():\n",
    "    global name\n",
    "    otherName = getName()\n",
    "    name += otherName\n",
    "    print (name)\n",
    "    \n",
    "def getName():\n",
    "    name = \"eric\"\n",
    "    return name\n",
    "\n",
    "main()"
   ]
  },
  {
   "cell_type": "markdown",
   "metadata": {
    "deleted": false,
    "editable": false
   },
   "source": [
    "----------------------\n",
    "\n",
    "<h3 style=\"color:blue;\"><b>Functions Returning Multiple Values</b></h3>\n",
    "<ul style=\"color:DodgerBlue;\">\n",
    "    <li>Functions can return any type of object, not just a number, string, or Boolean value.</li>\n",
    "    <li>The follow example is an instance of a function that return a tuple.</li>\n",
    "    </ul>\n",
    "    \n",
    "------------------------"
   ]
  },
  {
   "cell_type": "code",
   "execution_count": 2,
   "metadata": {
    "deleted": false,
    "editable": false
   },
   "outputs": [
    {
     "name": "stdout",
     "output_type": "stream",
     "text": [
      "Enter the amount of the deposit: 80000\n",
      "Enter the number of years: 2\n",
      "\n",
      "Balance: $86,528.00 Interest Earned: $6,528.00\n"
     ]
    }
   ],
   "source": [
    "INTEREST_RATE = 0.04      # annual rate of interest\n",
    "\n",
    "def main():\n",
    "    ## Calculate the balance and interest earned from a savings account.\n",
    "    principal = eval(input(\"Enter the amount of the deposit: \"))\n",
    "    numberOfYears = eval(input(\"Enter the number of years: \"))\n",
    "    (bal, intEarned) = balanceAndInterest(principal, numberOfYears)\n",
    "    print(\"\\nBalance: ${0:,.2f} \".format(bal), end=\"\")\n",
    "    print(\"Interest Earned: ${0:,.2f}\".format(intEarned))\n",
    "\n",
    "def balanceAndInterest(prin, numYears):\n",
    "    balance = prin * ((1 + INTEREST_RATE) ** numYears)\n",
    "    interestEarned = balance - prin\n",
    "    return (balance, interestEarned)\n",
    "\n",
    "main()"
   ]
  },
  {
   "cell_type": "markdown",
   "metadata": {
    "deleted": false,
    "editable": false
   },
   "source": [
    "----------------------\n",
    "\n",
    "<h3 style=\"color:blue;\"><b>Functions Calling Other Functions</b></h3>\n",
    "<ul style=\"color:DodgerBlue;\">\n",
    "    <li>A function can call another function.</li>\n",
    "    <li>When the called function terminates (that is, after a return statement or the last statement of the called function is executed), the control returns to the place in the calling function just after where the function call occurred.</li>\n",
    "    </ul>\n"
   ]
  },
  {
   "cell_type": "markdown",
   "metadata": {
    "deleted": false,
    "editable": false
   },
   "source": [
    "\n",
    "\n",
    "<h3 style=\"color:blue;\"><b>Function that Calling Itself</b></h3>\n",
    "<ul style=\"color:DodgerBlue;\">\n",
    "    <li>Function that calling itself is known as recursive function.</li>\n",
    "    <li>It is a very powerful function to solve some recurrence instances.</li>\n",
    "    <li>Example:</li>\n",
    "    <ol style=\"color:SlateBlue;\">\n",
    "        <li>determine a factorial</li>\n",
    "        <li>determine the game tower-of-hanoi</li>\n",
    "    </ol>\n",
    "    </ul>\n",
    "    \n",
    "-----------------------------------------------"
   ]
  },
  {
   "cell_type": "code",
   "execution_count": 3,
   "metadata": {
    "deleted": false,
    "editable": false
   },
   "outputs": [],
   "source": [
    "## factorial function, ## this function accept any non-negative, \n",
    "## including zero with 0! = 1\n",
    "def factorial(n):\n",
    "    if n <= 1:\n",
    "        print(1, end=\" \")\n",
    "        return 1\n",
    "    else:\n",
    "        print(\"{} x\".format(n), end=\" \")\n",
    "        return(factorial(n-1))"
   ]
  },
  {
   "cell_type": "code",
   "execution_count": 4,
   "metadata": {
    "deleted": false,
    "editable": false
   },
   "outputs": [
    {
     "name": "stdout",
     "output_type": "stream",
     "text": [
      "Enter a non-negative, including zero: 7\n",
      "7! = 7 x 6 x 5 x 4 x 3 x 2 x 1 \n",
      "\n"
     ]
    }
   ],
   "source": [
    "num = eval(input(\"Enter a non-negative, including zero: \"))\n",
    "print(\"{}! = \".format(num), end=\"\")\n",
    "factorial(num)\n",
    "print(\"\\n\")\n"
   ]
  },
  {
   "cell_type": "code",
   "execution_count": 5,
   "metadata": {
    "deleted": false,
    "editable": false
   },
   "outputs": [],
   "source": [
    "## The game tower-of-hanoi\n",
    "def towerOfHanoi(nDisc, fromP, toP, tempP):\n",
    "    if nDisc <= 1:\n",
    "        print(\"Move disc {} from {} to {}\".format(nDisc, fromP, toP))\n",
    "    else:\n",
    "        towerOfHanoi(nDisc-1, fromP, tempP, toP)\n",
    "        print(\"Move disc {} from {} to {}\".format(nDisc, fromP, toP))\n",
    "        towerOfHanoi(nDisc-1, tempP, toP, fromP)"
   ]
  },
  {
   "cell_type": "code",
   "execution_count": 6,
   "metadata": {
    "deleted": false,
    "editable": false
   },
   "outputs": [
    {
     "name": "stdout",
     "output_type": "stream",
     "text": [
      "Move disc 1 from A to B\n",
      "Move disc 2 from A to C\n",
      "Move disc 1 from B to C\n",
      "Move disc 3 from A to B\n",
      "Move disc 1 from C to A\n",
      "Move disc 2 from C to B\n",
      "Move disc 1 from A to B\n",
      "Move disc 4 from A to C\n",
      "Move disc 1 from B to C\n",
      "Move disc 2 from B to A\n",
      "Move disc 1 from C to A\n",
      "Move disc 3 from B to C\n",
      "Move disc 1 from A to B\n",
      "Move disc 2 from A to C\n",
      "Move disc 1 from B to C\n"
     ]
    }
   ],
   "source": [
    "towerOfHanoi(4, \"A\", \"C\", \"B\")"
   ]
  },
  {
   "cell_type": "markdown",
   "metadata": {
    "deleted": false,
    "editable": false
   },
   "source": [
    "----------------------\n",
    "\n",
    "<h3 style=\"color:blue;\"><b>Library Modules</b></h3>\n",
    "<ul style=\"color:DodgerBlue;\">\n",
    "    <li>A variation of the import statement is</li>\n",
    "    <span style=\"color:white;\">.....</span><span style=\"color:brown;\">from moduleName import *</span><br>\n",
    "<li>After such a statement has been executed, any function from the module can be used directly without having to prepend it with the module name and a period.</li> \n",
    "    <li>This variation is most often employed when a program uses many functions from the module.</li>\n",
    "    </ul>\n",
    "    \n",
    "----------------------------"
   ]
  },
  {
   "cell_type": "code",
   "execution_count": 3,
   "metadata": {
    "deleted": false,
    "editable": false
   },
   "outputs": [],
   "source": [
    "import numpy as np   ## module of mathematical functions\n",
    "import pandas as pd\n",
    "import seaborn as sns\n",
    "import scipy.stats as sts\n",
    "import matplotlib as mpl\n",
    "import matplotlib.pyplot as plt\n",
    "import math\n",
    "import random\n",
    "import csv\n",
    "import sys"
   ]
  },
  {
   "cell_type": "code",
   "execution_count": 4,
   "metadata": {
    "deleted": false,
    "editable": false
   },
   "outputs": [],
   "source": [
    "student = (\"Peter\", \"Calvin\", \"Steven\", \"Alan\", \"Debbie\", \\\n",
    "          \"Zoo\", \"Queenie\", \"Betty\", \"Don\", \"Ban\", \\\n",
    "          \"Lancy\", \"Mandy\", \"Terry\", \"Wendy\", \"Grace\")\n"
   ]
  },
  {
   "cell_type": "code",
   "execution_count": 5,
   "metadata": {
    "deleted": false,
    "editable": false
   },
   "outputs": [
    {
     "data": {
      "text/plain": [
       "'Debbie'"
      ]
     },
     "execution_count": 5,
     "metadata": {},
     "output_type": "execute_result"
    }
   ],
   "source": [
    "random.choice(student)"
   ]
  },
  {
   "cell_type": "code",
   "execution_count": 6,
   "metadata": {
    "deleted": false,
    "editable": false
   },
   "outputs": [
    {
     "data": {
      "text/plain": [
       "'Don'"
      ]
     },
     "execution_count": 6,
     "metadata": {},
     "output_type": "execute_result"
    }
   ],
   "source": [
    "random.choice(student)"
   ]
  },
  {
   "cell_type": "code",
   "execution_count": 7,
   "metadata": {
    "deleted": false,
    "editable": false
   },
   "outputs": [
    {
     "data": {
      "text/plain": [
       "'Don'"
      ]
     },
     "execution_count": 7,
     "metadata": {},
     "output_type": "execute_result"
    }
   ],
   "source": [
    "random.choice(student)"
   ]
  },
  {
   "cell_type": "code",
   "execution_count": 8,
   "metadata": {
    "deleted": false,
    "editable": false
   },
   "outputs": [
    {
     "data": {
      "text/plain": [
       "3"
      ]
     },
     "execution_count": 8,
     "metadata": {},
     "output_type": "execute_result"
    }
   ],
   "source": [
    "math.floor(3.1417)"
   ]
  },
  {
   "cell_type": "code",
   "execution_count": 9,
   "metadata": {
    "deleted": false,
    "editable": false
   },
   "outputs": [
    {
     "data": {
      "text/plain": [
       "4"
      ]
     },
     "execution_count": 9,
     "metadata": {},
     "output_type": "execute_result"
    }
   ],
   "source": [
    "math.ceil(3.1417)"
   ]
  },
  {
   "cell_type": "code",
   "execution_count": 10,
   "metadata": {
    "deleted": false,
    "editable": false
   },
   "outputs": [
    {
     "data": {
      "text/plain": [
       "81.0"
      ]
     },
     "execution_count": 10,
     "metadata": {},
     "output_type": "execute_result"
    }
   ],
   "source": [
    "math.pow(3, 4)"
   ]
  },
  {
   "cell_type": "code",
   "execution_count": 11,
   "metadata": {
    "deleted": false,
    "editable": false
   },
   "outputs": [
    {
     "data": {
      "text/plain": [
       "array([2, 3, 4, 5, 6, 7, 8, 9])"
      ]
     },
     "execution_count": 11,
     "metadata": {},
     "output_type": "execute_result"
    }
   ],
   "source": [
    "np.arange(2,10) # create a list the have values from 2 to 10-1 inclusively"
   ]
  },
  {
   "cell_type": "code",
   "execution_count": 12,
   "metadata": {
    "deleted": false,
    "editable": false
   },
   "outputs": [
    {
     "data": {
      "text/plain": [
       "array([[5, 5, 5, 5],\n",
       "       [5, 5, 5, 5],\n",
       "       [5, 5, 5, 5]])"
      ]
     },
     "execution_count": 12,
     "metadata": {},
     "output_type": "execute_result"
    }
   ],
   "source": [
    "np.full((3,4), 5) # create a 3x4 matrix that fill with 5"
   ]
  },
  {
   "cell_type": "code",
   "execution_count": 13,
   "metadata": {
    "deleted": false,
    "editable": false
   },
   "outputs": [
    {
     "data": {
      "text/plain": [
       "array([0. , 0.2, 0.4, 0.6, 0.8, 1. , 1.2, 1.4, 1.6, 1.8, 2. ])"
      ]
     },
     "execution_count": 13,
     "metadata": {},
     "output_type": "execute_result"
    }
   ],
   "source": [
    "np.linspace(0,2,11) # evenly determine 11-1 segments from range 0 ~ 2"
   ]
  },
  {
   "cell_type": "markdown",
   "metadata": {
    "deleted": false,
    "editable": false
   },
   "source": [
    "---------------------------\n",
    "\n",
    "<h3 style=\"color:red;\"><b>Student Practice</b></h3>\n",
    "<p style=\"color:SlateBlue;\">In the empty cells below, write a pay-raise program that enter a person's name,\n",
    "and current monthly salary, and then displays the person's monthly salary next year (i.e. salary that after increment).\n",
    "    People earning less than mop 30,000 a month will receive a 5% raise, and those earning mop 30,000 or more will receive a raise of mop 1,800 plus 2% of the amount over mop 30,000. Use functions for input and output, and a function to calculate the new salary.\n",
    "</p>\n",
    "\n",
    "-------------------------------"
   ]
  },
  {
   "cell_type": "code",
   "execution_count": null,
   "metadata": {},
   "outputs": [],
   "source": []
  },
  {
   "cell_type": "code",
   "execution_count": 20,
   "metadata": {},
   "outputs": [],
   "source": [
    "def salaryIncre(sal):\n",
    "    if sal < 30000:\n",
    "        incredsalary = sal * (1+0.05)\n",
    "        print(\"your monthly salary next year will be ${}\".format(incredsalary))\n",
    "    else:\n",
    "        incredsalary = sal + 1800 + (sal - 30000)*0.02\n",
    "        print(\"your monthly salary next year will be ${}\".format(incredsalary))"
   ]
  },
  {
   "cell_type": "code",
   "execution_count": 21,
   "metadata": {},
   "outputs": [
    {
     "name": "stdout",
     "output_type": "stream",
     "text": [
      "please input your name: Duke\n",
      "please input your monthly salary: 33333\n",
      "your monthly salary next year will be $35199.66\n"
     ]
    }
   ],
   "source": [
    "name_ = input(\"please input your name: \")\n",
    "salary_ = eval(input('please input your monthly salary: '))\n",
    "salaryIncre(salary_)"
   ]
  },
  {
   "cell_type": "code",
   "execution_count": null,
   "metadata": {},
   "outputs": [],
   "source": []
  },
  {
   "cell_type": "markdown",
   "metadata": {
    "deleted": false,
    "editable": false
   },
   "source": [
    "---------------------------\n",
    "\n",
    "<h3 style=\"color:red;\"><b>Student Practice - CHALLENGE QUESTION</b></h3>\n",
    "<p style=\"color:SlateBlue;\">In the empty cell below, write a function to return the nth  Fibonacci number.</p>\n",
    "<p style=\"color:slateBlue;\">The Fibonacci Sequence is the series of numbers: 0, 1, 1, 2, 3, 5, 8, 13, 21, 34, ..., the 1st term returns a 0, the 2nd returns a 1, and the 3rd term returns a 1, the 4th term returns a 2, and so on.\n",
    "</p>\n",
    "\n",
    "-------------------------------"
   ]
  },
  {
   "cell_type": "code",
   "execution_count": 44,
   "metadata": {},
   "outputs": [
    {
     "name": "stdout",
     "output_type": "stream",
     "text": [
      "fibonacci = 354224848179261915075\n"
     ]
    }
   ],
   "source": [
    "## function fibonacci accept a non-negative and \n",
    "## return the nth term of the fibonacci number\n",
    "def fibonacci(num):\n",
    "    a = 0\n",
    "    b = 1\n",
    "    if num == 1:\n",
    "        print('fibonacci = 0')\n",
    "    if num < 4:\n",
    "        print('fibonacci = {}'.format(b))\n",
    "    else:\n",
    "        a, b = 1, 1\n",
    "        b = a + b\n",
    "        while num >= 4:\n",
    "            a, b = b, a+b\n",
    "            num -=1\n",
    "        print('fibonacci = {}'.format(a))\n",
    "\n",
    "fibonacci(101)"
   ]
  },
  {
   "cell_type": "code",
   "execution_count": 17,
   "metadata": {
    "deletable": false,
    "editable": false
   },
   "outputs": [
    {
     "name": "stdout",
     "output_type": "stream",
     "text": [
      "fibonacci = 8\n"
     ]
    }
   ],
   "source": [
    "## get the nth fibonacci number\n",
    "fibonacci(7)"
   ]
  },
  {
   "cell_type": "markdown",
   "metadata": {
    "deleted": false,
    "editable": false
   },
   "source": [
    "---------------------\n",
    "\n",
    "<h3 style=\"color:red;\"><b>Student Practice - CHALLENGE QUESTION</b></h3>\n",
    "<p style=\"color:SlateBlue;\">In the empty cell below, write a function to generate the Fibonacci sequence.<br>\n",
    "The Fibonacci sequence is the series of numbers: 0, 1, 1, 2, 3, 5, 8, 13, 21, 34, ....</p>\n",
    "\n",
    "---------------------"
   ]
  },
  {
   "cell_type": "code",
   "execution_count": 41,
   "metadata": {},
   "outputs": [
    {
     "name": "stdout",
     "output_type": "stream",
     "text": [
      "1 1 2 3 5 8 13 21 34 55 89 144 233 377 610 987 1597 2584 4181 "
     ]
    }
   ],
   "source": [
    "def fib_recur(n):\n",
    "    assert n >= 0, \"n > 0\"\n",
    "    if n <= 1:\n",
    "        return n\n",
    "    return fib_recur(n-1) + fib_recur(n-2)\n",
    "\n",
    "for i in range(1, 20):\n",
    "    print(fib_recur(i), end=' ')"
   ]
  },
  {
   "cell_type": "code",
   "execution_count": 39,
   "metadata": {
    "scrolled": true
   },
   "outputs": [
    {
     "name": "stdout",
     "output_type": "stream",
     "text": [
      "please input nth Fibonacci number you want to know: 7\n",
      "6765\n"
     ]
    }
   ],
   "source": []
  },
  {
   "cell_type": "code",
   "execution_count": null,
   "metadata": {},
   "outputs": [],
   "source": []
  }
 ],
 "metadata": {
  "kernelspec": {
   "display_name": "Python 3",
   "language": "python",
   "name": "python3"
  },
  "language_info": {
   "codemirror_mode": {
    "name": "ipython",
    "version": 3
   },
   "file_extension": ".py",
   "mimetype": "text/x-python",
   "name": "python",
   "nbconvert_exporter": "python",
   "pygments_lexer": "ipython3",
   "version": "3.8.3"
  }
 },
 "nbformat": 4,
 "nbformat_minor": 4
}
