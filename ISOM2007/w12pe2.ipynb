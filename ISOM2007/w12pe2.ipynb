{
 "cells": [
  {
   "cell_type": "markdown",
   "metadata": {
    "deletable": false,
    "editable": false
   },
   "source": [
    "--------------\n",
    "<h2 style=\"color:blue;\"><b>Pandas Data Structures & Operations</b></h2>\n",
    "\n",
    "--------------------------"
   ]
  },
  {
   "cell_type": "markdown",
   "metadata": {
    "deletable": false,
    "editable": false
   },
   "source": [
    "<ul style=\"color:SlateBlue;\">\n",
    "    <li>Python, at the beginning, was criticized as lack of useful data structures for performing data analysis tasks.</li>\n",
    "    <li>This deficiency was addressed in 2008 with the introduce of Pandas and this module continues to be improved.</li>\n",
    "    <li>Actually, Pandas module introduces several new data structures:</li>\n",
    "    <ul style=\"color:DodgerBlue;\">\n",
    "        <li>DataFrame <span style=\"color:Grey;\">(discussed already, more at a later stage)</span></li>\n",
    "        <li>Series</li>\n",
    "        <li>Panel</li>\n",
    "    </ul>\n",
    "    </ul>\n",
    "    \n"
   ]
  },
  {
   "cell_type": "markdown",
   "metadata": {
    "deletable": false,
    "editable": false
   },
   "source": [
    "--------------------\n",
    "<h3 style=\"color:SlateBlue;\">\n",
    "    DataFrame</h3>\n",
    "    <ul style=\"color:DodgerBlue;\">\n",
    "        <li>A two-dimensional labeled data structure with columns that can be hold different data types, similar to a spreadsheet or relational database table.</li>\n",
    "        <li>Pandas also provides a date/time data structure, TimeSeries, and a three-dimensional data structure known as Panel.</li>\n",
    "        <li>Among these (DataFRame, Series, Panel) DataFrame will be used the most.</li></ul>\n",
    "   \n",
    "--------------------------"
   ]
  },
  {
   "cell_type": "code",
   "execution_count": 1,
   "metadata": {
    "deletable": false,
    "editable": false
   },
   "outputs": [
    {
     "data": {
      "text/html": [
       "<div>\n",
       "<style scoped>\n",
       "    .dataframe tbody tr th:only-of-type {\n",
       "        vertical-align: middle;\n",
       "    }\n",
       "\n",
       "    .dataframe tbody tr th {\n",
       "        vertical-align: top;\n",
       "    }\n",
       "\n",
       "    .dataframe thead th {\n",
       "        text-align: right;\n",
       "    }\n",
       "</style>\n",
       "<table border=\"1\" class=\"dataframe\">\n",
       "  <thead>\n",
       "    <tr style=\"text-align: right;\">\n",
       "      <th></th>\n",
       "      <th>A</th>\n",
       "      <th>B</th>\n",
       "      <th>C</th>\n",
       "      <th>D</th>\n",
       "      <th>E</th>\n",
       "    </tr>\n",
       "  </thead>\n",
       "  <tbody>\n",
       "    <tr>\n",
       "      <th>q</th>\n",
       "      <td>0</td>\n",
       "      <td>5</td>\n",
       "      <td>10</td>\n",
       "      <td>15</td>\n",
       "      <td>20</td>\n",
       "    </tr>\n",
       "    <tr>\n",
       "      <th>w</th>\n",
       "      <td>1</td>\n",
       "      <td>6</td>\n",
       "      <td></td>\n",
       "      <td>16</td>\n",
       "      <td>21</td>\n",
       "    </tr>\n",
       "    <tr>\n",
       "      <th>e</th>\n",
       "      <td>2</td>\n",
       "      <td></td>\n",
       "      <td>12</td>\n",
       "      <td>17</td>\n",
       "      <td></td>\n",
       "    </tr>\n",
       "    <tr>\n",
       "      <th>r</th>\n",
       "      <td>3</td>\n",
       "      <td>8</td>\n",
       "      <td>13</td>\n",
       "      <td>18</td>\n",
       "      <td></td>\n",
       "    </tr>\n",
       "    <tr>\n",
       "      <th>t</th>\n",
       "      <td></td>\n",
       "      <td>9</td>\n",
       "      <td>14</td>\n",
       "      <td>19</td>\n",
       "      <td>24</td>\n",
       "    </tr>\n",
       "  </tbody>\n",
       "</table>\n",
       "</div>"
      ],
      "text/plain": [
       "   A  B   C   D   E\n",
       "q  0  5  10  15  20\n",
       "w  1  6      16  21\n",
       "e  2     12  17    \n",
       "r  3  8  13  18    \n",
       "t     9  14  19  24"
      ]
     },
     "execution_count": 1,
     "metadata": {},
     "output_type": "execute_result"
    }
   ],
   "source": [
    "## Create a DataFrame from dictionary\n",
    "import pandas as pd\n",
    "\n",
    "## Define dictionary used to create our DataFrames\n",
    "dt = {'A' : [0, 1, 2, 3, None], \n",
    "      'B' : [5, 6, None, 8, 9], \n",
    "      'C' : [10, None, 12, 13, 14], \n",
    "      'D' : [15, 16, 17, 18, 19],\n",
    "      'E' : [20, 21, None, None, 24]}\n",
    "\n",
    "## Create default DataFrame\n",
    "df = pd.DataFrame(dt, index=list('qwert'))   # use 'qwert' as index\n",
    "\n",
    "## Fille the entry of NaN with null and display the DataFrame\n",
    "df.fillna(\"\")\n"
   ]
  },
  {
   "cell_type": "markdown",
   "metadata": {
    "deletable": false,
    "editable": false
   },
   "source": [
    "---------------------\n",
    "<h3 style=\"color:SlateBlue;\">Series</h3>\n",
    "<ul style=\"color:DodgerBlue;\">\n",
    "    <li>A Series is useful to hold data that should be accessible by using a specific label.</li>\n",
    "    <li>For example, we might use time or dates to reference a specific financial transaction. \n",
    "        we create a Series by passing in an appropriate data set along with an optional index:</li>\n",
    "    </ul>\n",
    "<span style=\"color:white;\">..........</span><span style=\"color:orange;\">values = pd.Series(data, index=idx)</span>\n",
    "\n",
    "---------------------------------------"
   ]
  },
  {
   "cell_type": "code",
   "execution_count": 2,
   "metadata": {
    "deletable": false,
    "editable": false
   },
   "outputs": [
    {
     "data": {
      "text/plain": [
       "p    0\n",
       "y    1\n",
       "t    2\n",
       "h    3\n",
       "o    4\n",
       "n    5\n",
       "dtype: int64"
      ]
     },
     "execution_count": 2,
     "metadata": {},
     "output_type": "execute_result"
    }
   ],
   "source": [
    "## Create a series with specified index\n",
    "import pandas as pd\n",
    "\n",
    "# Specify a label for the values\n",
    "s1 = pd.Series(range(6), index=['p', 'y', 't', 'h', 'o', 'n'])\n",
    "s1\n"
   ]
  },
  {
   "cell_type": "code",
   "execution_count": 3,
   "metadata": {
    "deletable": false,
    "editable": false
   },
   "outputs": [
    {
     "name": "stdout",
     "output_type": "stream",
     "text": [
      "q    [11, 16]\n",
      "w    [21, 58]\n",
      "r    [41, 88]\n",
      "y         NaN\n",
      "dtype: object\n",
      "q    [11, 16]\n",
      "w    [21, 58]\n",
      "r    [41, 88]\n",
      "y            \n",
      "dtype: object\n"
     ]
    }
   ],
   "source": [
    "## Create a series from dictionary\n",
    "import pandas as pd\n",
    "\n",
    "d = {'q': [11, 16], 'w': [21, 58], 'e': [31, 63], 'r': [41, 88]}\n",
    "\n",
    "## We pick out the q, w, and r keys, but have an undefined y key.\n",
    "s2 = pd.Series(d, index = ['q', 'w', 'r', 'y'])\n",
    "print(s2)\n",
    "\n",
    "s2 = s2.fillna(\"\")\n",
    "print(s2)\n"
   ]
  },
  {
   "cell_type": "code",
   "execution_count": null,
   "metadata": {},
   "outputs": [],
   "source": []
  },
  {
   "cell_type": "markdown",
   "metadata": {
    "deletable": false,
    "editable": false
   },
   "source": [
    "---------------------\n",
    "<h3 style=\"color:SlateBlue;\">Data Selection on DataFrame</h3>\n",
    "<table style=\"color:DodgerBlue;\">\n",
    "    <tr>\n",
    "        <th>Selection</th>\n",
    "        <th>Interpretation</th>\n",
    "    </tr>\n",
    "    <tr>\n",
    "        <td>df[1 : 3]</td>\n",
    "        <td>Select the second and third rows from df</td>\n",
    "    </tr>\n",
    "    <tr>\n",
    "        <td>idf[0 : 2]</td>\n",
    "        <td>Select first two rows from idf</td>\n",
    "    </tr>\n",
    "    <tr>\n",
    "        <td>idf['q' : 'w']</td>\n",
    "        <td>Select first two rows from idf</td>\n",
    "    </tr>\n",
    "    <tr>\n",
    "        <td>df['A']</td>\n",
    "        <td>Select first column from df, return a Series, known as dictionary-style index</td>\n",
    "    </tr>\n",
    "    <tr>\n",
    "        <td>df[['A']]</td>\n",
    "        <td>Select first column from df, return a DataFrame, known as explicit list-style index</td>\n",
    "    </tr>\n",
    "    <tr>\n",
    "        <td>df[[0]]</td>\n",
    "        <td>Select first column from df, return a DataFrame, known as implicit list-style index</td>\n",
    "    </tr>\n",
    "    <tr>\n",
    "        <td>df[['B', 'D']]</td>\n",
    "        <td>Select second and fourth column from df</td>\n",
    "    </tr>\n",
    "    <tr>\n",
    "        <td>df[[1, 3]]</td>\n",
    "        <td>Select second and fourth column from df</td>\n",
    "    </tr>\n",
    "    <tr>\n",
    "        <td>df[0 : 2][['A', 'C']]</td>\n",
    "        <td>Select first and third columdn only from the first two rows from df</td>\n",
    "    </tr>\n",
    "    <tr>\n",
    "        <td>df[0 : 2][[0, 2]]</td>\n",
    "        <td>Select first and third columdn only from the first two rows from df<td>\n",
    "    </tr>\n",
    "    </table>\n",
    "    \n",
    "----------------------------\n",
    "\n",
    "            \n"
   ]
  },
  {
   "cell_type": "code",
   "execution_count": 16,
   "metadata": {
    "deletable": false,
    "editable": false
   },
   "outputs": [
    {
     "name": "stdout",
     "output_type": "stream",
     "text": [
      "0    75\n",
      "1    75\n",
      "2    52\n",
      "3    43\n",
      "4    86\n",
      "Name: Exercise, dtype: int64\n",
      "<class 'pandas.core.series.Series'> \n",
      "\n",
      "   Exam\n",
      "0    91\n",
      "1    79\n",
      "2    75\n",
      "3    80\n",
      "4    76\n",
      "<class 'pandas.core.frame.DataFrame'>\n"
     ]
    }
   ],
   "source": [
    "## Slicing & indexing a dataframe by column label\n",
    "import pandas as pd\n",
    "sData = pd.read_excel('StudentData.xlsx')   ## read the excel file into sData\n",
    "\n",
    "exeCol = sData[\"Exercise\"]\n",
    "print(exeCol.head())\n",
    "print(type(exeCol), \"\\n\")\n",
    "\n",
    "examCol = sData[[\"Exam\"]]\n",
    "print(examCol.head())\n",
    "print(type(examCol))\n"
   ]
  },
  {
   "cell_type": "code",
   "execution_count": 17,
   "metadata": {
    "deletable": false,
    "editable": false
   },
   "outputs": [
    {
     "name": "stdout",
     "output_type": "stream",
     "text": [
      "  iata               airport              city state country        lat  \\\n",
      "0  00M              Thigpen        Bay Springs    MS     USA  31.953765   \n",
      "1  00R  Livingston Municipal        Livingston    TX     USA  30.685861   \n",
      "2  00V           Meadow Lake  Colorado Springs    CO     USA  38.945749   \n",
      "3  01G          Perry-Warsaw             Perry    NY     USA  42.741347   \n",
      "4  01J      Hilliard Airpark          Hilliard    FL     USA  30.688012   \n",
      "\n",
      "         long  \n",
      "0  -89.234505  \n",
      "1  -95.017928  \n",
      "2 -104.569893  \n",
      "3  -78.052081  \n",
      "4  -81.905944  \n",
      "    iata             airport      city state country        lat       long\n",
      "101  12J   Brewton Municipal   Brewton    AL     USA  31.051263 -87.067968\n",
      "102  12K  Superior Municipal  Superior    NE     USA  40.046361 -98.060111\n",
      "103  12Y  Le Sueur Municipal  Le Sueur    MN     USA  44.437465 -93.912741\n",
      "104  13C            Lakeview  Lakeview    MI     USA  43.452137 -85.264803\n",
      "105  13K    Eureka Municipal    Eureka    KS     USA  37.851582 -96.291698\n"
     ]
    }
   ],
   "source": [
    "## Slicing & indexing a dataframe by row index\n",
    "import pandas as pd\n",
    "adf = pd.read_excel('airports.xlsx')\n",
    "print(adf.head())\n",
    "\n",
    "## Slice with row index\n",
    "print(adf[101:106])\n"
   ]
  },
  {
   "cell_type": "code",
   "execution_count": 18,
   "metadata": {
    "deletable": false,
    "editable": false
   },
   "outputs": [
    {
     "name": "stdout",
     "output_type": "stream",
     "text": [
      "                 airport      city state country        lat       long\n",
      "iata                                                                  \n",
      "11J         Early County   Blakely    GA     USA  31.396986 -84.895257\n",
      "11R    Brenham Municipal   Brenham    TX     USA  30.219000 -96.374278\n",
      "12C   Rochelle Municipal  Rochelle    IL     USA  41.893001 -89.078290\n",
      "12J    Brewton Municipal   Brewton    AL     USA  31.051263 -87.067968 \n",
      "\n",
      "                 airport      city state country        lat       long\n",
      "iata                                                                  \n",
      "11J         Early County   Blakely    GA     USA  31.396986 -84.895257\n",
      "11R    Brenham Municipal   Brenham    TX     USA  30.219000 -96.374278\n",
      "12C   Rochelle Municipal  Rochelle    IL     USA  41.893001 -89.078290\n",
      "12D      Tower Municipal     Tower    MN     USA  47.818333 -92.291667\n",
      "12J    Brewton Municipal   Brewton    AL     USA  31.051263 -87.067968\n"
     ]
    }
   ],
   "source": [
    "## Slice rows by using the indicated label from the index column\n",
    "import pandas as pd\n",
    "\n",
    "## Read data from Excel file\n",
    "airDF = pd.read_excel('Airports.xlsx', index_col='iata')\n",
    "\n",
    "## Display certain rows according to the specified index column\n",
    "print(airDF.loc[['11J', '11R', '12C', '12J']], \"\\n\")\n",
    "\n",
    "## Dispplay certain rows according to the specified row index\n",
    "print(airDF[97:102])\n"
   ]
  },
  {
   "cell_type": "code",
   "execution_count": 19,
   "metadata": {
    "deletable": false,
    "editable": false
   },
   "outputs": [
    {
     "name": "stdout",
     "output_type": "stream",
     "text": [
      "                 airport      city state country\n",
      "iata                                            \n",
      "11R    Brenham Municipal   Brenham    TX     USA\n",
      "12C   Rochelle Municipal  Rochelle    IL     USA\n",
      "12D      Tower Municipal     Tower    MN     USA \n",
      "\n",
      "                 airport      city state country        lat\n",
      "iata                                                       \n",
      "12D      Tower Municipal     Tower    MN     USA  47.818333\n",
      "12J    Brewton Municipal   Brewton    AL     USA  31.051263\n",
      "12K   Superior Municipal  Superior    NE     USA  40.046361\n"
     ]
    }
   ],
   "source": [
    "## Slice rows by using the indicated label from the index column\n",
    "import pandas as pd\n",
    "\n",
    "## Read data from Excel file\n",
    "airDF = pd.read_excel('Airports.xlsx', index_col='iata')\n",
    "\n",
    "## Slice rows and columns by using explicit row and column labels\n",
    "print(airDF.loc[['11R', '12C', '12D'], ['airport', 'city', 'state', 'country']], \"\\n\")\n",
    "\n",
    "## Slice rows and columns by using implicit row and column indices\n",
    "print(airDF.iloc[100:103, 0:5])\n"
   ]
  },
  {
   "cell_type": "markdown",
   "metadata": {
    "deletable": false,
    "editable": false
   },
   "source": [
    "------------------------\n",
    "<h3 style=\"color:SlateBlue;\">Masking Data</h3>\n",
    "    <ul style=\"color:DodgerBlue;\">\n",
    "        <li>Masking, a process that supported by Pandas to select rows based on column values.</li>\n",
    "        <li>This is performed by specifying conditional testing on columns that result in True or False, and only the True results are returned.</li>\n",
    "        <li>That’s a row mask is formed, and masked rows are hidden and unmasked rows are displayed.</li>\n",
    "        <li>These tests must follow the rules of Boolean logic, but can involve multiple column comparisons that are combined into one final result.</li>\n",
    "    </ul>\n",
    "\n",
    "----------------------------"
   ]
  },
  {
   "cell_type": "code",
   "execution_count": 5,
   "metadata": {
    "deletable": false,
    "editable": false
   },
   "outputs": [
    {
     "name": "stdout",
     "output_type": "stream",
     "text": [
      "     iata                            airport         city state country  \\\n",
      "6     02A                        Gragg-Wade       Clanton    AL     USA   \n",
      "15    06A                   Moton  Municipal     Tuskegee    AL     USA   \n",
      "25    08A                 Wetumpka Municipal     Wetumpka    AL     USA   \n",
      "29    09A              Butler-Choctaw County       Butler    AL     USA   \n",
      "35    0A8                        Bibb County  Centreville    AL     USA   \n",
      "...   ...                                ...          ...   ...     ...   \n",
      "2667  PRN               Greenville Municipal   Greenville    AL     USA   \n",
      "2897  SCD  Merkel Field Sylacauga Municipal     Sylacauga    AL     USA   \n",
      "2923  SEM                             Craig         Selma    AL     USA   \n",
      "3084  TCL               Tuscaloosa Municipal   Tuscaloosa    AL     USA   \n",
      "3120  TOI                     Troy Municipal         Troy    AL     USA   \n",
      "\n",
      "            lat       long  \n",
      "6     32.850487 -86.611453  \n",
      "15    32.460472 -85.680036  \n",
      "25    32.529439 -86.328221  \n",
      "29    32.119313 -88.127462  \n",
      "35    32.936791 -87.088883  \n",
      "...         ...        ...  \n",
      "2667  31.845402 -86.610446  \n",
      "2897  33.171836 -86.305538  \n",
      "2923  32.343947 -86.987803  \n",
      "3084  33.220627 -87.611401  \n",
      "3120  31.860417 -86.012139  \n",
      "\n",
      "[73 rows x 7 columns]\n"
     ]
    }
   ],
   "source": [
    "## Mask the rows according to the conditional test on column(s) values\n",
    "import pandas as pd\n",
    "\n",
    "## Read data from Excel file\n",
    "airDF = pd.read_excel('Airports.xlsx')\n",
    "\n",
    "## Mask on column values\n",
    "print(airDF[airDF.state == 'AL'])\n"
   ]
  },
  {
   "cell_type": "code",
   "execution_count": 6,
   "metadata": {
    "deletable": false,
    "editable": false
   },
   "outputs": [
    {
     "name": "stdout",
     "output_type": "stream",
     "text": [
      "     iata         airport           city state country        lat        long\n",
      "123   17Z       Manokotak      Manokotak    AK     USA  58.988966 -159.049974\n",
      "234   2A3      Larsen Bay     Larsen Bay    AK     USA  57.535107 -153.978417\n",
      "440   4K0       Pedro Bay      Pedro Bay    AK     USA  59.789610 -154.123833\n",
      "441   4K5        Ouzinkie       Ouzinkie    AK     USA  57.922876 -152.500511\n",
      "498   5A8       Aleknagik      Aleknagik    AK     USA  59.282562 -158.617672\n",
      "...   ...             ...            ...   ...     ...        ...         ...\n",
      "3059  T44   Trident Basin         Kodiak    AK     USA  57.780833 -152.391389\n",
      "3119  TOG  Togiak Village         Togiak    AK     USA  59.052842 -160.396934\n",
      "3215  UPP           Upolu           Hawi    HI     USA  20.265256 -155.859987\n",
      "3302  WSN  South Naknek 2   South Naknek    AK     USA  58.703436 -157.008251\n",
      "3365  Z73   Nelson Lagoon  Nelson Lagoon    AK     USA  56.007536 -161.160367\n",
      "\n",
      "[73 rows x 7 columns]\n"
     ]
    }
   ],
   "source": [
    "## Mask the rows according to the conditional test on column(s) values\n",
    "import pandas as pd\n",
    "\n",
    "## Read data from Excel file\n",
    "airDF = pd.read_excel('Airports.xlsx')\n",
    "\n",
    "## Mask based on boolean tests on multiple columns\n",
    "print(airDF[(airDF.lat > 20) & (airDF.lat < 60) & (airDF.long < -150)])\n"
   ]
  },
  {
   "cell_type": "markdown",
   "metadata": {
    "deletable": false,
    "editable": false
   },
   "source": [
    "-----------------\n",
    "<h3 style=\"color:SlateBlue;\">Operation on Groups</h3>\n",
    "<ul style=\"color:DodgerBlue;\">\n",
    "    <li>Groups can be operated by using similar techniques to the normal DataFrame.</li>\n",
    "    <li>For example, statistical quantities such as the median or standard deviation can be computed for each group, as shown in the next few code cells.</li>\n",
    "    <li>Multiple functions can be computed at once by using the aggregate method, which takes a list of the statistical functions to apply to each group.</li>\n",
    "    </ul>\n",
    "\n",
    "-------------------------------------"
   ]
  },
  {
   "cell_type": "code",
   "execution_count": 7,
   "metadata": {
    "deletable": false,
    "editable": false
   },
   "outputs": [
    {
     "name": "stdout",
     "output_type": "stream",
     "text": [
      "<class 'pandas.core.groupby.generic.DataFrameGroupBy'> \n",
      "\n"
     ]
    },
    {
     "data": {
      "text/html": [
       "<div>\n",
       "<style scoped>\n",
       "    .dataframe tbody tr th:only-of-type {\n",
       "        vertical-align: middle;\n",
       "    }\n",
       "\n",
       "    .dataframe tbody tr th {\n",
       "        vertical-align: top;\n",
       "    }\n",
       "\n",
       "    .dataframe thead th {\n",
       "        text-align: right;\n",
       "    }\n",
       "</style>\n",
       "<table border=\"1\" class=\"dataframe\">\n",
       "  <thead>\n",
       "    <tr style=\"text-align: right;\">\n",
       "      <th></th>\n",
       "      <th>Unnamed: 0</th>\n",
       "      <th>total_bill</th>\n",
       "      <th>tip</th>\n",
       "      <th>sex</th>\n",
       "      <th>smoker</th>\n",
       "      <th>day</th>\n",
       "      <th>time</th>\n",
       "      <th>size</th>\n",
       "    </tr>\n",
       "  </thead>\n",
       "  <tbody>\n",
       "    <tr>\n",
       "      <th>0</th>\n",
       "      <td>0</td>\n",
       "      <td>169.9</td>\n",
       "      <td>10.1</td>\n",
       "      <td>Female</td>\n",
       "      <td>No</td>\n",
       "      <td>Sun</td>\n",
       "      <td>Dinner</td>\n",
       "      <td>2</td>\n",
       "    </tr>\n",
       "    <tr>\n",
       "      <th>1</th>\n",
       "      <td>1</td>\n",
       "      <td>103.4</td>\n",
       "      <td>16.6</td>\n",
       "      <td>Male</td>\n",
       "      <td>No</td>\n",
       "      <td>Sun</td>\n",
       "      <td>Dinner</td>\n",
       "      <td>3</td>\n",
       "    </tr>\n",
       "    <tr>\n",
       "      <th>77</th>\n",
       "      <td>77</td>\n",
       "      <td>272.0</td>\n",
       "      <td>40.0</td>\n",
       "      <td>Male</td>\n",
       "      <td>No</td>\n",
       "      <td>Thur</td>\n",
       "      <td>Lunch</td>\n",
       "      <td>4</td>\n",
       "    </tr>\n",
       "    <tr>\n",
       "      <th>78</th>\n",
       "      <td>78</td>\n",
       "      <td>227.6</td>\n",
       "      <td>30.0</td>\n",
       "      <td>Male</td>\n",
       "      <td>No</td>\n",
       "      <td>Thur</td>\n",
       "      <td>Lunch</td>\n",
       "      <td>2</td>\n",
       "    </tr>\n",
       "  </tbody>\n",
       "</table>\n",
       "</div>"
      ],
      "text/plain": [
       "    Unnamed: 0  total_bill   tip     sex smoker   day    time  size\n",
       "0            0       169.9  10.1  Female     No   Sun  Dinner     2\n",
       "1            1       103.4  16.6    Male     No   Sun  Dinner     3\n",
       "77          77       272.0  40.0    Male     No  Thur   Lunch     4\n",
       "78          78       227.6  30.0    Male     No  Thur   Lunch     2"
      ]
     },
     "execution_count": 7,
     "metadata": {},
     "output_type": "execute_result"
    }
   ],
   "source": [
    "## Create a groupby DataFrame for further operations\n",
    "import pandas as pd\n",
    "\n",
    "## Read data from Excel file\n",
    "tips = pd.read_excel('tips.xlsx')\n",
    "\n",
    "gTips = tips.groupby(\"time\")     # dataframe group by 'time'\n",
    "print(type(gTips), \"\\n\")\n",
    "gTips.head(2)                    # display the first 2 records from each group\n"
   ]
  },
  {
   "cell_type": "code",
   "execution_count": 2,
   "metadata": {},
   "outputs": [
    {
     "name": "stdout",
     "output_type": "stream",
     "text": [
      "   AgentID  AgentName  SID      Q1       Q2       Q3       Q4      Supervisor  \\\n",
      "0   A94131     Harper  S01  407671   667749   955013  1173411    Rebecca Chao   \n",
      "1   A87141     Adalyn  S01  984033  1140601  1031040   753856    Rebecca Chao   \n",
      "2   A86822    Jackson  S01  232028   246208   899225   858954    Rebecca Chao   \n",
      "3   A78926      Jayce  S01  320194   731292   726855   830188    Rebecca Chao   \n",
      "4   A97353     Carson  S02  194479   311314  1188148   457629    Desmond Tung   \n",
      "5   A85279   Isabella  S02  597629   895707   803636   239411    Desmond Tung   \n",
      "6   A93404    Cameron  S02  313164   787874  1062551   411637    Desmond Tung   \n",
      "7   A77567      Wyatt  S03  864344   560440  1021992  1056099      Dennis Kun   \n",
      "8   A74694     Hannah  S03  642728   419636   563846  1158453      Dennis Kun   \n",
      "9   A86056       Liam  S04  746896   379949  1115037   565669  Alexandra Chow   \n",
      "10  A98957    Madelyn  S04  333445   290025   331527   642934  Alexandra Chow   \n",
      "11  A98711       Jack  S04  731634   360928   746409   867371  Alexandra Chow   \n",
      "12  A97264       Nora  S04  352990   908904  1189336   365842  Alexandra Chow   \n",
      "13  A98635      Caden  S04  899854  1096503   968648   373337  Alexandra Chow   \n",
      "14  A77666        Leo  S05  821798  1001980   335727   251269       Pong Shiu   \n",
      "15  A82229      Mason  S05  411738   791545  1091017   659842       Pong Shiu   \n",
      "16  A72812       Luna  S05  949814  1102871   600057  1092933       Pong Shiu   \n",
      "17  A96889      James  S05  446079   373552   806521  1074151       Pong Shiu   \n",
      "18  A94911       Mila  S05  135616   430220   811900   771738       Pong Shiu   \n",
      "19  A95818    Paisley  S06  313881   929049   319996   345119       Iris Wong   \n",
      "20  A77579       Isla  S06  786579   359433   814488   358349       Iris Wong   \n",
      "21  A93805      Caleb  S06  790245  1030669   730246  1117777       Iris Wong   \n",
      "22  A88957   Scarlett  S06  358198   995907   680563   557933       Iris Wong   \n",
      "23  A76050  Alexander  S06  173099   278356   973562   320732       Iris Wong   \n",
      "\n",
      "    Annual Sales  \n",
      "0        3203844  \n",
      "1        3909530  \n",
      "2        2236415  \n",
      "3        2608529  \n",
      "4        2151570  \n",
      "5        2536383  \n",
      "6        2575226  \n",
      "7        3502875  \n",
      "8        2784663  \n",
      "9        2807551  \n",
      "10       1597931  \n",
      "11       2706342  \n",
      "12       2817072  \n",
      "13       3338342  \n",
      "14       2410774  \n",
      "15       2954142  \n",
      "16       3745675  \n",
      "17       2700303  \n",
      "18       2149474  \n",
      "19       1908045  \n",
      "20       2318849  \n",
      "21       3668937  \n",
      "22       2592601  \n",
      "23       1745749  \n"
     ]
    }
   ],
   "source": [
    "import pandas as pd\n",
    "\n",
    "scname = r'D:\\\\Year2\\\\ISOM2007\\\\SalesConsultants.xlsx'\n",
    "scData = pd.read_excel(scname)\n",
    "smname =  r'D:\\\\Year2\\\\ISOM2007\\\\SalesManagers.xlsx'\n",
    "smData = pd.read_excel(smname)\n",
    "\n",
    "mdf = pd.merge(scData, smData, on='SID', how='left')\n",
    "mdf['Annual Sales'] = mdf['Q1'] +  mdf['Q2'] + mdf['Q3'] + mdf['Q4'] \n",
    "print(mdf)"
   ]
  },
  {
   "cell_type": "code",
   "execution_count": 8,
   "metadata": {
    "deletable": false,
    "editable": false
   },
   "outputs": [
    {
     "name": "stdout",
     "output_type": "stream",
     "text": [
      "        Unnamed: 0  total_bill   tip  size\n",
      "time                                      \n",
      "Dinner       100.5      183.90  30.0   2.0\n",
      "Lunch        137.5      159.65  22.5   2.0 \n",
      "\n",
      "        Unnamed: 0             total_bill                   tip             \\\n",
      "              mean        std        mean        std       mean        std   \n",
      "time                                                                         \n",
      "Dinner  111.630682  75.833916  207.971591  91.420292  31.026705  14.362428   \n",
      "Lunch   147.044118  46.141390  171.686765  77.138818  27.280882  12.053454   \n",
      "\n",
      "            size            \n",
      "            mean       std  \n",
      "time                        \n",
      "Dinner  2.630682  0.910241  \n",
      "Lunch   2.411765  1.040024  \n"
     ]
    }
   ],
   "source": [
    "## Create a groupby DataFrame for further operations\n",
    "import pandas as pd\n",
    "\n",
    "## Read data from Excel file\n",
    "tips = pd.read_excel('tips.xlsx')\n",
    "gTips = tips.groupby(\"time\")     # dataframe group by 'time'\n",
    "\n",
    "## Compute median and standard deviation for each column in each group\n",
    "print(gTips.median(), \"\\n\")\n",
    "\n",
    "# Compute the mean and the standard deviation for each column in each group\n",
    "print(gTips.aggregate(['mean', 'std']))\n"
   ]
  },
  {
   "cell_type": "markdown",
   "metadata": {
    "deletable": false,
    "editable": false
   },
   "source": [
    "----------------\n",
    "<h3 style=\"color:SlateBlue;\">Pivot Tables</h3>\n",
    "<ul style=\"color:DodgerBlue;\">\n",
    "    <li>Pivot table is powerful for summarizing a large data set by grouping data together over multiple columns.</li>\n",
    "    <li>Pivot table can also display summary information for the new representation such as average or standard deviation.</li>\n",
    "    <li>In Pandas, pivot table can be created by using the pivot_table function.</li>\n",
    "    <li>This function takes one argument that specifies the column that should be aggregated.</li>\n",
    "    <li>The index argument is used to specify the row indices, which specifies how the DataFrame rows are grouped.</li>\n",
    "    <li>The columns argument specifies the columns that are displayed in the pivot table, and the aggfunc argument specifies which functions should be computed and displayed for the group data; default value is simply the average.</li>\n",
    "    </ul>\n",
    "    \n",
    "--------------------------------------"
   ]
  },
  {
   "cell_type": "code",
   "execution_count": 9,
   "metadata": {
    "deletable": false,
    "editable": false
   },
   "outputs": [
    {
     "name": "stdout",
     "output_type": "stream",
     "text": [
      "     Unnamed: 0  total_bill   tip     sex smoker   day    time  size\n",
      "32           32       150.6  30.0  Female     No   Sat  Dinner     2\n",
      "238         238       358.3  46.7  Female     No   Sat  Dinner     3\n",
      "118         118       124.3  18.0  Female     No  Thur   Lunch     2\n",
      "78           78       227.6  30.0    Male     No  Thur   Lunch     2\n",
      "205         205       164.7  32.3  Female    Yes  Thur   Lunch     3\n"
     ]
    },
    {
     "data": {
      "text/html": [
       "<div>\n",
       "<style scoped>\n",
       "    .dataframe tbody tr th:only-of-type {\n",
       "        vertical-align: middle;\n",
       "    }\n",
       "\n",
       "    .dataframe tbody tr th {\n",
       "        vertical-align: top;\n",
       "    }\n",
       "\n",
       "    .dataframe thead th {\n",
       "        text-align: right;\n",
       "    }\n",
       "</style>\n",
       "<table border=\"1\" class=\"dataframe\">\n",
       "  <thead>\n",
       "    <tr style=\"text-align: right;\">\n",
       "      <th>day</th>\n",
       "      <th>Fri</th>\n",
       "      <th>Sat</th>\n",
       "      <th>Sun</th>\n",
       "      <th>Thur</th>\n",
       "    </tr>\n",
       "    <tr>\n",
       "      <th>sex</th>\n",
       "      <th></th>\n",
       "      <th></th>\n",
       "      <th></th>\n",
       "      <th></th>\n",
       "    </tr>\n",
       "  </thead>\n",
       "  <tbody>\n",
       "    <tr>\n",
       "      <th>Female</th>\n",
       "      <td>141.455556</td>\n",
       "      <td>196.803571</td>\n",
       "      <td>198.722222</td>\n",
       "      <td>167.153125</td>\n",
       "    </tr>\n",
       "    <tr>\n",
       "      <th>Male</th>\n",
       "      <td>198.570000</td>\n",
       "      <td>208.025424</td>\n",
       "      <td>218.872414</td>\n",
       "      <td>187.146667</td>\n",
       "    </tr>\n",
       "  </tbody>\n",
       "</table>\n",
       "</div>"
      ],
      "text/plain": [
       "day            Fri         Sat         Sun        Thur\n",
       "sex                                                   \n",
       "Female  141.455556  196.803571  198.722222  167.153125\n",
       "Male    198.570000  208.025424  218.872414  187.146667"
      ]
     },
     "execution_count": 9,
     "metadata": {},
     "output_type": "execute_result"
    }
   ],
   "source": [
    "## Create a Pivot Table using the sex column as the vertical index \n",
    "## and the day column as the horizontal index\n",
    "import pandas as pd\n",
    "\n",
    "## Read data from Excel file\n",
    "tipsDF = pd.read_excel('tips.xlsx')\n",
    "print(tipsDF.sample(5))\n",
    "\n",
    "## Generate the pivot table accordingly\n",
    "tipsDF.pivot_table('total_bill', index='sex', columns='day')\n"
   ]
  },
  {
   "cell_type": "code",
   "execution_count": 11,
   "metadata": {
    "deletable": false,
    "editable": false
   },
   "outputs": [
    {
     "data": {
      "text/html": [
       "<div>\n",
       "<style scoped>\n",
       "    .dataframe tbody tr th:only-of-type {\n",
       "        vertical-align: middle;\n",
       "    }\n",
       "\n",
       "    .dataframe tbody tr th {\n",
       "        vertical-align: top;\n",
       "    }\n",
       "\n",
       "    .dataframe thead th {\n",
       "        text-align: right;\n",
       "    }\n",
       "</style>\n",
       "<table border=\"1\" class=\"dataframe\">\n",
       "  <thead>\n",
       "    <tr style=\"text-align: right;\">\n",
       "      <th>sex</th>\n",
       "      <th>Female</th>\n",
       "      <th>Male</th>\n",
       "    </tr>\n",
       "    <tr>\n",
       "      <th>day</th>\n",
       "      <th></th>\n",
       "      <th></th>\n",
       "    </tr>\n",
       "  </thead>\n",
       "  <tbody>\n",
       "    <tr>\n",
       "      <th>Fri</th>\n",
       "      <td>141.455556</td>\n",
       "      <td>198.570000</td>\n",
       "    </tr>\n",
       "    <tr>\n",
       "      <th>Sat</th>\n",
       "      <td>196.803571</td>\n",
       "      <td>208.025424</td>\n",
       "    </tr>\n",
       "    <tr>\n",
       "      <th>Sun</th>\n",
       "      <td>198.722222</td>\n",
       "      <td>218.872414</td>\n",
       "    </tr>\n",
       "    <tr>\n",
       "      <th>Thur</th>\n",
       "      <td>167.153125</td>\n",
       "      <td>187.146667</td>\n",
       "    </tr>\n",
       "  </tbody>\n",
       "</table>\n",
       "</div>"
      ],
      "text/plain": [
       "sex       Female        Male\n",
       "day                         \n",
       "Fri   141.455556  198.570000\n",
       "Sat   196.803571  208.025424\n",
       "Sun   198.722222  218.872414\n",
       "Thur  167.153125  187.146667"
      ]
     },
     "execution_count": 11,
     "metadata": {},
     "output_type": "execute_result"
    }
   ],
   "source": [
    "## Create a Pivot Table using the day column as the vertical index \n",
    "## and the sex column as the horizontal index\n",
    "import pandas as pd\n",
    "\n",
    "## Read data from Excel file\n",
    "tipsDF = pd.read_excel('tips.xlsx')\n",
    "\n",
    "## Generate the pivot table accordingly\n",
    "tipsDF.pivot_table('total_bill', index='day', columns='sex')\n"
   ]
  },
  {
   "cell_type": "code",
   "execution_count": 12,
   "metadata": {
    "deletable": false,
    "editable": false
   },
   "outputs": [
    {
     "data": {
      "text/html": [
       "<div>\n",
       "<style scoped>\n",
       "    .dataframe tbody tr th:only-of-type {\n",
       "        vertical-align: middle;\n",
       "    }\n",
       "\n",
       "    .dataframe tbody tr th {\n",
       "        vertical-align: top;\n",
       "    }\n",
       "\n",
       "    .dataframe thead th {\n",
       "        text-align: right;\n",
       "    }\n",
       "</style>\n",
       "<table border=\"1\" class=\"dataframe\">\n",
       "  <thead>\n",
       "    <tr style=\"text-align: right;\">\n",
       "      <th>sex</th>\n",
       "      <th>Female</th>\n",
       "      <th>Male</th>\n",
       "      <th>All</th>\n",
       "    </tr>\n",
       "    <tr>\n",
       "      <th>day</th>\n",
       "      <th></th>\n",
       "      <th></th>\n",
       "      <th></th>\n",
       "    </tr>\n",
       "  </thead>\n",
       "  <tbody>\n",
       "    <tr>\n",
       "      <th>Fri</th>\n",
       "      <td>141.455556</td>\n",
       "      <td>198.570000</td>\n",
       "      <td>171.515789</td>\n",
       "    </tr>\n",
       "    <tr>\n",
       "      <th>Sat</th>\n",
       "      <td>196.803571</td>\n",
       "      <td>208.025424</td>\n",
       "      <td>204.413793</td>\n",
       "    </tr>\n",
       "    <tr>\n",
       "      <th>Sun</th>\n",
       "      <td>198.722222</td>\n",
       "      <td>218.872414</td>\n",
       "      <td>214.100000</td>\n",
       "    </tr>\n",
       "    <tr>\n",
       "      <th>Thur</th>\n",
       "      <td>167.153125</td>\n",
       "      <td>187.146667</td>\n",
       "      <td>176.827419</td>\n",
       "    </tr>\n",
       "    <tr>\n",
       "      <th>All</th>\n",
       "      <td>180.568966</td>\n",
       "      <td>207.440764</td>\n",
       "      <td>197.859426</td>\n",
       "    </tr>\n",
       "  </tbody>\n",
       "</table>\n",
       "</div>"
      ],
      "text/plain": [
       "sex       Female        Male         All\n",
       "day                                     \n",
       "Fri   141.455556  198.570000  171.515789\n",
       "Sat   196.803571  208.025424  204.413793\n",
       "Sun   198.722222  218.872414  214.100000\n",
       "Thur  167.153125  187.146667  176.827419\n",
       "All   180.568966  207.440764  197.859426"
      ]
     },
     "execution_count": 12,
     "metadata": {},
     "output_type": "execute_result"
    }
   ],
   "source": [
    "# Create a Pivot Table using the sex column as the vertical index \n",
    "# and the day column as the horizontal index. This time include margin\n",
    "# data for each row and column.\n",
    "import pandas as pd\n",
    "\n",
    "## Read data from Excel file\n",
    "tipsDF = pd.read_excel('tips.xlsx')\n",
    "\n",
    "## Generate the pivot table accordingly\n",
    "tipsDF.pivot_table('total_bill', index='day', columns='sex', margins=all)\n"
   ]
  },
  {
   "cell_type": "code",
   "execution_count": 13,
   "metadata": {
    "deletable": false,
    "editable": false
   },
   "outputs": [
    {
     "data": {
      "text/html": [
       "<div>\n",
       "<style scoped>\n",
       "    .dataframe tbody tr th:only-of-type {\n",
       "        vertical-align: middle;\n",
       "    }\n",
       "\n",
       "    .dataframe tbody tr th {\n",
       "        vertical-align: top;\n",
       "    }\n",
       "\n",
       "    .dataframe thead th {\n",
       "        text-align: right;\n",
       "    }\n",
       "</style>\n",
       "<table border=\"1\" class=\"dataframe\">\n",
       "  <thead>\n",
       "    <tr style=\"text-align: right;\">\n",
       "      <th></th>\n",
       "      <th>sex</th>\n",
       "      <th>Female</th>\n",
       "      <th>Male</th>\n",
       "    </tr>\n",
       "    <tr>\n",
       "      <th>day</th>\n",
       "      <th>smoker</th>\n",
       "      <th></th>\n",
       "      <th></th>\n",
       "    </tr>\n",
       "  </thead>\n",
       "  <tbody>\n",
       "    <tr>\n",
       "      <th rowspan=\"2\" valign=\"top\">Fri</th>\n",
       "      <th>No</th>\n",
       "      <td>193.650000</td>\n",
       "      <td>174.750000</td>\n",
       "    </tr>\n",
       "    <tr>\n",
       "      <th>Yes</th>\n",
       "      <td>126.542857</td>\n",
       "      <td>204.525000</td>\n",
       "    </tr>\n",
       "    <tr>\n",
       "      <th rowspan=\"2\" valign=\"top\">Sat</th>\n",
       "      <th>No</th>\n",
       "      <td>190.038462</td>\n",
       "      <td>199.290625</td>\n",
       "    </tr>\n",
       "    <tr>\n",
       "      <th>Yes</th>\n",
       "      <td>202.666667</td>\n",
       "      <td>218.377778</td>\n",
       "    </tr>\n",
       "    <tr>\n",
       "      <th rowspan=\"2\" valign=\"top\">Sun</th>\n",
       "      <th>No</th>\n",
       "      <td>208.242857</td>\n",
       "      <td>204.032558</td>\n",
       "    </tr>\n",
       "    <tr>\n",
       "      <th>Yes</th>\n",
       "      <td>165.400000</td>\n",
       "      <td>261.413333</td>\n",
       "    </tr>\n",
       "    <tr>\n",
       "      <th rowspan=\"2\" valign=\"top\">Thur</th>\n",
       "      <th>No</th>\n",
       "      <td>160.144000</td>\n",
       "      <td>184.865000</td>\n",
       "    </tr>\n",
       "    <tr>\n",
       "      <th>Yes</th>\n",
       "      <td>192.185714</td>\n",
       "      <td>191.710000</td>\n",
       "    </tr>\n",
       "  </tbody>\n",
       "</table>\n",
       "</div>"
      ],
      "text/plain": [
       "sex              Female        Male\n",
       "day  smoker                        \n",
       "Fri  No      193.650000  174.750000\n",
       "     Yes     126.542857  204.525000\n",
       "Sat  No      190.038462  199.290625\n",
       "     Yes     202.666667  218.377778\n",
       "Sun  No      208.242857  204.032558\n",
       "     Yes     165.400000  261.413333\n",
       "Thur No      160.144000  184.865000\n",
       "     Yes     192.185714  191.710000"
      ]
     },
     "execution_count": 13,
     "metadata": {},
     "output_type": "execute_result"
    }
   ],
   "source": [
    "# Create a Pivot Table using the sex column as the vertical index \n",
    "# and the day and smoker columns as the hierarchical horizontal index\n",
    "import pandas as pd\n",
    "\n",
    "## Read data from Excel file\n",
    "tipsDF = pd.read_excel('tips.xlsx')\n",
    "\n",
    "## Generate the pivot table accordingly\n",
    "tipsDF.pivot_table('total_bill', index=['day', 'smoker'], columns='sex')\n"
   ]
  },
  {
   "cell_type": "code",
   "execution_count": 14,
   "metadata": {
    "deletable": false,
    "editable": false
   },
   "outputs": [
    {
     "data": {
      "text/html": [
       "<div>\n",
       "<style scoped>\n",
       "    .dataframe tbody tr th:only-of-type {\n",
       "        vertical-align: middle;\n",
       "    }\n",
       "\n",
       "    .dataframe tbody tr th {\n",
       "        vertical-align: top;\n",
       "    }\n",
       "\n",
       "    .dataframe thead tr th {\n",
       "        text-align: left;\n",
       "    }\n",
       "\n",
       "    .dataframe thead tr:last-of-type th {\n",
       "        text-align: right;\n",
       "    }\n",
       "</style>\n",
       "<table border=\"1\" class=\"dataframe\">\n",
       "  <thead>\n",
       "    <tr>\n",
       "      <th>sex</th>\n",
       "      <th colspan=\"2\" halign=\"left\">Female</th>\n",
       "      <th colspan=\"2\" halign=\"left\">Male</th>\n",
       "    </tr>\n",
       "    <tr>\n",
       "      <th>smoker</th>\n",
       "      <th>No</th>\n",
       "      <th>Yes</th>\n",
       "      <th>No</th>\n",
       "      <th>Yes</th>\n",
       "    </tr>\n",
       "    <tr>\n",
       "      <th>day</th>\n",
       "      <th></th>\n",
       "      <th></th>\n",
       "      <th></th>\n",
       "      <th></th>\n",
       "    </tr>\n",
       "  </thead>\n",
       "  <tbody>\n",
       "    <tr>\n",
       "      <th>Fri</th>\n",
       "      <td>193.650000</td>\n",
       "      <td>126.542857</td>\n",
       "      <td>174.750000</td>\n",
       "      <td>204.525000</td>\n",
       "    </tr>\n",
       "    <tr>\n",
       "      <th>Sat</th>\n",
       "      <td>190.038462</td>\n",
       "      <td>202.666667</td>\n",
       "      <td>199.290625</td>\n",
       "      <td>218.377778</td>\n",
       "    </tr>\n",
       "    <tr>\n",
       "      <th>Sun</th>\n",
       "      <td>208.242857</td>\n",
       "      <td>165.400000</td>\n",
       "      <td>204.032558</td>\n",
       "      <td>261.413333</td>\n",
       "    </tr>\n",
       "    <tr>\n",
       "      <th>Thur</th>\n",
       "      <td>160.144000</td>\n",
       "      <td>192.185714</td>\n",
       "      <td>184.865000</td>\n",
       "      <td>191.710000</td>\n",
       "    </tr>\n",
       "  </tbody>\n",
       "</table>\n",
       "</div>"
      ],
      "text/plain": [
       "sex         Female                    Male            \n",
       "smoker          No         Yes          No         Yes\n",
       "day                                                   \n",
       "Fri     193.650000  126.542857  174.750000  204.525000\n",
       "Sat     190.038462  202.666667  199.290625  218.377778\n",
       "Sun     208.242857  165.400000  204.032558  261.413333\n",
       "Thur    160.144000  192.185714  184.865000  191.710000"
      ]
     },
     "execution_count": 14,
     "metadata": {},
     "output_type": "execute_result"
    }
   ],
   "source": [
    "# Create a Pivot Table using the day column as the horizontal index \n",
    "# and the sex and smoker columns as the hierarchical vertical index\n",
    "import pandas as pd\n",
    "\n",
    "## Read data from Excel file\n",
    "tipsDF = pd.read_excel('tips.xlsx')\n",
    "\n",
    "## Generate the pivot table accordingly\n",
    "tipsDF.pivot_table('total_bill', index='day', columns=['sex', 'smoker'])\n"
   ]
  },
  {
   "cell_type": "code",
   "execution_count": 15,
   "metadata": {
    "deletable": false,
    "editable": false
   },
   "outputs": [
    {
     "data": {
      "text/html": [
       "<div>\n",
       "<style scoped>\n",
       "    .dataframe tbody tr th:only-of-type {\n",
       "        vertical-align: middle;\n",
       "    }\n",
       "\n",
       "    .dataframe tbody tr th {\n",
       "        vertical-align: top;\n",
       "    }\n",
       "\n",
       "    .dataframe thead tr th {\n",
       "        text-align: left;\n",
       "    }\n",
       "\n",
       "    .dataframe thead tr:last-of-type th {\n",
       "        text-align: right;\n",
       "    }\n",
       "</style>\n",
       "<table border=\"1\" class=\"dataframe\">\n",
       "  <thead>\n",
       "    <tr>\n",
       "      <th></th>\n",
       "      <th colspan=\"6\" halign=\"left\">total_bill</th>\n",
       "    </tr>\n",
       "    <tr>\n",
       "      <th></th>\n",
       "      <th colspan=\"2\" halign=\"left\">max</th>\n",
       "      <th colspan=\"2\" halign=\"left\">median</th>\n",
       "      <th colspan=\"2\" halign=\"left\">min</th>\n",
       "    </tr>\n",
       "    <tr>\n",
       "      <th>sex</th>\n",
       "      <th>Female</th>\n",
       "      <th>Male</th>\n",
       "      <th>Female</th>\n",
       "      <th>Male</th>\n",
       "      <th>Female</th>\n",
       "      <th>Male</th>\n",
       "    </tr>\n",
       "    <tr>\n",
       "      <th>day</th>\n",
       "      <th></th>\n",
       "      <th></th>\n",
       "      <th></th>\n",
       "      <th></th>\n",
       "      <th></th>\n",
       "      <th></th>\n",
       "    </tr>\n",
       "  </thead>\n",
       "  <tbody>\n",
       "    <tr>\n",
       "      <th>Fri</th>\n",
       "      <td>227.5</td>\n",
       "      <td>401.7</td>\n",
       "      <td>153.80</td>\n",
       "      <td>172.15</td>\n",
       "      <td>57.5</td>\n",
       "      <td>85.8</td>\n",
       "    </tr>\n",
       "    <tr>\n",
       "      <th>Sat</th>\n",
       "      <td>443.0</td>\n",
       "      <td>508.1</td>\n",
       "      <td>183.60</td>\n",
       "      <td>182.40</td>\n",
       "      <td>30.7</td>\n",
       "      <td>77.4</td>\n",
       "    </tr>\n",
       "    <tr>\n",
       "      <th>Sun</th>\n",
       "      <td>352.6</td>\n",
       "      <td>481.7</td>\n",
       "      <td>174.10</td>\n",
       "      <td>207.25</td>\n",
       "      <td>96.0</td>\n",
       "      <td>72.5</td>\n",
       "    </tr>\n",
       "    <tr>\n",
       "      <th>Thur</th>\n",
       "      <td>431.1</td>\n",
       "      <td>411.9</td>\n",
       "      <td>137.85</td>\n",
       "      <td>169.75</td>\n",
       "      <td>83.5</td>\n",
       "      <td>75.1</td>\n",
       "    </tr>\n",
       "  </tbody>\n",
       "</table>\n",
       "</div>"
      ],
      "text/plain": [
       "     total_bill                                    \n",
       "            max         median            min      \n",
       "sex      Female   Male  Female    Male Female  Male\n",
       "day                                                \n",
       "Fri       227.5  401.7  153.80  172.15   57.5  85.8\n",
       "Sat       443.0  508.1  183.60  182.40   30.7  77.4\n",
       "Sun       352.6  481.7  174.10  207.25   96.0  72.5\n",
       "Thur      431.1  411.9  137.85  169.75   83.5  75.1"
      ]
     },
     "execution_count": 15,
     "metadata": {},
     "output_type": "execute_result"
    }
   ],
   "source": [
    "# Create a Pivot Table using the sex column as the horizontal index \n",
    "# and the day column as the horizontal index. Display aggregate max, \n",
    "# median, and min for the total_bill column.\n",
    "import pandas as pd\n",
    "\n",
    "## Read data from Excel file\n",
    "tipsDF = pd.read_excel('tips.xlsx')\n",
    "\n",
    "## Generate the pivot table accordingly\n",
    "tipsDF.pivot_table(index='day', columns='sex', aggfunc={'total_bill': ['max', 'median', 'min']})\n"
   ]
  },
  {
   "cell_type": "markdown",
   "metadata": {
    "deletable": false,
    "editable": false
   },
   "source": [
    "-----------------\n",
    "<h3 style=\"color:blue;\"><b>Student Practice #1</b></h3>\n",
    "<p style=\"color:SlateBlue;\">In the empty cell below, first create a Pandas `DataFrame` with 25 elements ranging from `1` to `25`, with row indices assigned automatically and column labels equal to the characters: `b`, `d`, `f`, `g`, and `j`. Next, select the subset of this `DataFrame` corresponding to the second-fourth rows and columns (so nine total entries). Multiply this new `DataFrame` by `10`, and subtract `5`. Finally, apply the `describe` function to the resultant `DataFrame`.</p>\n",
    "\n",
    "-------------"
   ]
  },
  {
   "cell_type": "code",
   "execution_count": null,
   "metadata": {},
   "outputs": [],
   "source": []
  },
  {
   "cell_type": "markdown",
   "metadata": {
    "deletable": false,
    "editable": false
   },
   "source": [
    "------------------\n",
    "<h3 style=\"color:blue;\"><b>Student Practice #2</b></h3>\n",
    "<p style=\"color:SlateBlue;\">In the empty cell below, first extract all airports in the state of California. Second, apply a mask to select only those rows with a latitude between 38 and 40. Finally, compute and display the average and standard deviation of the longitude for these masked rows.</p>\n",
    "\n",
    "----------------------"
   ]
  },
  {
   "cell_type": "raw",
   "metadata": {},
   "source": []
  },
  {
   "cell_type": "markdown",
   "metadata": {
    "deletable": false,
    "editable": false
   },
   "source": [
    "------------\n",
    "<h3 style=\"color:blue;\"><b>Student Practice #3</b></h3>\n",
    "<p style=\"color:SlateBlue;\">In the empty Code cell below, first group the DataFrame of tips by the smoker column. Next, compute and display the minimum, maximum, and median values for the new grouped DataFrame by using the aggregate function correctly. Finally, compute the row index for the maximum total_bill for the smoker group.</p>\n",
    "\n",
    "-------------------\n",
    "\n"
   ]
  },
  {
   "cell_type": "code",
   "execution_count": null,
   "metadata": {},
   "outputs": [],
   "source": []
  },
  {
   "cell_type": "markdown",
   "metadata": {
    "deletable": false
   },
   "source": [
    "---------------\n",
    "<h3 style=\"color:blue;\"><b>Student Practice #4</b></h3>\n",
    "<p style=\"color:SlateBlue;\">In the empty Code cell below, input tips.xlsx as a DataFrame create a pivot table on this DataFrame using the time column as the horizontal index and the sex column as the vertical index. Compute and display the mean and standard deviation for the tips column in this pivot table.</p>\n",
    "\n",
    "----------------------"
   ]
  },
  {
   "cell_type": "code",
   "execution_count": null,
   "metadata": {},
   "outputs": [],
   "source": []
  },
  {
   "cell_type": "code",
   "execution_count": null,
   "metadata": {},
   "outputs": [],
   "source": []
  }
 ],
 "metadata": {
  "kernelspec": {
   "display_name": "Python 3",
   "language": "python",
   "name": "python3"
  },
  "language_info": {
   "codemirror_mode": {
    "name": "ipython",
    "version": 3
   },
   "file_extension": ".py",
   "mimetype": "text/x-python",
   "name": "python",
   "nbconvert_exporter": "python",
   "pygments_lexer": "ipython3",
   "version": "3.8.5"
  }
 },
 "nbformat": 4,
 "nbformat_minor": 4
}
