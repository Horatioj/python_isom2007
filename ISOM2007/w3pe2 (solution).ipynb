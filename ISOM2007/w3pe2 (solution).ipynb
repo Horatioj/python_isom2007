{
 "cells": [
  {
   "cell_type": "markdown",
   "metadata": {
    "deletable": false,
    "editable": false
   },
   "source": [
    "----------------\n",
    "\n",
    "<h3 style=\"color:blue;\"><b>The WHILE Loop</b></h3>\n",
    "<ul style=\"color:DodgerBlue;\">\n",
    "    <li>The <span style=\"color:orange;\">while</span> loop repeatedly executes an indented block of statements as long as a certain condition is met.</li> \n",
    "    <li>A <span style=\"color:orange;\">while</span> loop has the form</li>\n",
    "    <span style=\"color:white;\">.....</span><span style=\"color:brown;\">while condition:</span><br>\n",
    "<span style=\"color:white;\">..........</span><span style=\"color:brown;\">indented block of statements</span>\n",
    "    <li>The truth value of the continuation condition will be executed.</li>\n",
    "    <li>If the condition is False, Python skips over the body of the loop.</li>\n",
    "    <li>If the condition is True, the body of the loop will be executed.</li>\n",
    "    <li>The body will be continually executed until the continuation condition evaluates to False.</li>\n",
    "    </ul>\n",
    "    \n",
    "----------------------------------"
   ]
  },
  {
   "cell_type": "code",
   "execution_count": null,
   "metadata": {
    "deletable": false,
    "editable": false
   },
   "outputs": [],
   "source": [
    "num = 23\n",
    "\n",
    "while num <= 34:\n",
    "    print (num, end=\" \")\n",
    "    num += 2\n",
    "    \n",
    "print ()"
   ]
  },
  {
   "cell_type": "markdown",
   "metadata": {
    "deletable": false,
    "editable": false
   },
   "source": [
    "--------------------\n",
    "\n",
    "<h3 style=\"color:red;\"><b>Student Practice</b></h3>\n",
    "\n",
    "<p style=\"color:SlateBlue;\">In the empty cell below, write the code to determine both the sum and average of integers from 101 to 199 inclusively.</p>\n",
    "\n",
    "-----------------------------"
   ]
  },
  {
   "cell_type": "code",
   "execution_count": null,
   "metadata": {
    "deletable": false,
    "editable": false
   },
   "outputs": [],
   "source": [
    "sum = 0\n",
    "i = 101\n",
    "n = 0\n",
    "while i <= 199:\n",
    "    n += 1\n",
    "    sum += i\n",
    "    \n",
    "ave = sum / n\n",
    "print(\"sum = {} and average = {}\".format(sum, ave))"
   ]
  },
  {
   "cell_type": "markdown",
   "metadata": {
    "deletable": false,
    "editable": false
   },
   "source": [
    "--------------------\n",
    "\n",
    "<h3 style=\"color:DodgerBlue;\">The break Statement in while loop</h3>\n",
    "<ul style=\"color:SlateBlue;\">\n",
    "    <li>The break statement causes an exit from anywhere in the body of a loop.</li>\n",
    "    </ul>\n",
    "    \n",
    "--------------------------------------"
   ]
  },
  {
   "cell_type": "code",
   "execution_count": 1,
   "metadata": {
    "deletable": false,
    "editable": false
   },
   "outputs": [
    {
     "name": "stdout",
     "output_type": "stream",
     "text": [
      "Enter a nonnegative number (-1 to end): 1\n",
      "Enter a nonnegative number (-1 to end): 3\n",
      "Enter a nonnegative number (-1 to end): 5\n",
      "Enter a nonnegative number (-1 to end): -1\n",
      "Minimum: 1\n",
      "Maximum: 5\n",
      "Average: 3.0\n"
     ]
    }
   ],
   "source": [
    "## Find the min, max, and average of a sequence of numbers.\n",
    "count = 0    # number of nonnegative numbers input\n",
    "total = 0    # sum of the nonnegative numbers input\n",
    "\n",
    "# Obtain numbers and determine count, min, and max.\n",
    "num = eval(input(\"Enter a nonnegative number (-1 to end): \"))\n",
    "min = num\n",
    "max = num\n",
    "\n",
    "while num != -1:\n",
    "    count += 1\n",
    "    total += num\n",
    "    if num < min:\n",
    "        min = num\n",
    "    if num > max:\n",
    "        max = num\n",
    "    num = eval(input(\"Enter a nonnegative number (-1 to end): \"))\n",
    "\n",
    "# Display results.\n",
    "if count > 0:\n",
    "    print(\"Minimum:\", min)\n",
    "    print(\"Maximum:\", max)\n",
    "    print(\"Average:\", total / count)\n",
    "else:\n",
    "    print(\"No nonnegative numbers were entered.\")\n"
   ]
  },
  {
   "cell_type": "code",
   "execution_count": null,
   "metadata": {
    "deletable": false,
    "editable": false
   },
   "outputs": [],
   "source": [
    "# Guess game, guess a number from 1 to 100\n",
    "target = 46\n",
    "while True:\n",
    "    num = eval(input(\"Please guess a number from 1 to 100: \"))\n",
    "    if num == target:\n",
    "        print (\"Congratulation - {} is a correct guess!\".format(num))\n",
    "        break\n",
    "        \n",
    "    if num < target:\n",
    "        print (\"{} is too small, try again.\".format(num))\n",
    "    else:\n",
    "        print (\"{} is too big, try again.\".format(num))\n",
    "        \n",
    "print (\"Game completed.\")\n",
    "    "
   ]
  },
  {
   "cell_type": "markdown",
   "metadata": {
    "deletable": false,
    "editable": false
   },
   "source": [
    "----------------------\n",
    "\n",
    "<h3 style=\"color:DodgerBlue;\">The continue Statement in while loop</h3>\n",
    "<ul style=\"color:SlateBlue;\">\n",
    "    <li>When the statement <span style=\"color:orange;\">continue</span> is executed in the body of a <span style=\"color:orange;\">while</span> loop, the current iteration of the loop terminates and execution returns to the loop's header.</li>\n",
    "    <li><span style=\"color:orange;\">continue</span> statements usually appear inside <span style=\"color:orange;\">if</span> statements.</li>\n",
    "    </ul>\n",
    "\n",
    "------------------------------"
   ]
  },
  {
   "cell_type": "code",
   "execution_count": 2,
   "metadata": {
    "deletable": false,
    "editable": false
   },
   "outputs": [
    {
     "name": "stdout",
     "output_type": "stream",
     "text": [
      "44 is the first int that is divisible by 11 in the list.\n"
     ]
    }
   ],
   "source": [
    "## Find first integer divisible by 11.\n",
    "list1 = [\"one\", 27, 19.23, 0.5, \"two\", 44, 26.1, 281, \"three\"]\n",
    "i = 0\n",
    "foundFlag = False\n",
    "while i < len(list1):\n",
    "    x = list1[i]\n",
    "    i += 1\n",
    "    if not isinstance(x, int):\n",
    "        continue      # Skip to next item in list.\n",
    "        \n",
    "    if x % 11 == 0:\n",
    "        foundFlag = True\n",
    "        print(x, \"is the first int that is divisible by 11 in the list.\")\n",
    "        break\n",
    "\n",
    "if not foundFlag:\n",
    "    print(\"There is no integer in the list that is divisible by 11 in the list.\")\n"
   ]
  },
  {
   "cell_type": "markdown",
   "metadata": {
    "deletable": false,
    "editable": false
   },
   "source": [
    "----------------------------------------------\n",
    "\n",
    "<h3 style=\"color:red;\"><b>Student Practice</b></h3>\n",
    "\n",
    "<p style=\"color:SlateBlue;\">In the empty cell below, write the code to determine the sum, the average, the mininum, and the maximum of all float numbers only. Use the while statement to iteratively perform the processes.</p>\n",
    "\n",
    "------------------------------------------------------"
   ]
  },
  {
   "cell_type": "code",
   "execution_count": null,
   "metadata": {
    "deletable": false,
    "editable": false
   },
   "outputs": [],
   "source": [
    "## initialize the values of constants\n",
    "numbers = (62, 73.56, 58.2, 74, 75.46, 76.8, 67, 93.2, 83.7, 35)\n",
    "sum = 0\n",
    "count = 0\n",
    "max = -99999\n",
    "min = 99999\n",
    "\n",
    "## Determine the sum, average, max, and of all floating point numbers only\n",
    "idx = 0\n",
    "while idx < len(numbers):\n",
    "    num = numbers[idx]\n",
    "    idx += 1\n",
    "    if not isinstance(num, float):\n",
    "        continue\n",
    "        \n",
    "    sum += num\n",
    "    count += 1\n",
    "    if num < min:\n",
    "        min = num\n",
    "    if num > max:\n",
    "        max = num\n",
    "        \n",
    "## Output the results\n",
    "if count > 0:\n",
    "    print(\"The number of floaing number is {0:,d}\".format(count))\n",
    "    print(\"The sume of all floating numbers is {0:,.2f}\".format(sum))\n",
    "    print(\"The average of all floating numbers is {0:,.2f}\".format(sum/count))\n",
    "    print(\"The maximum of all floating numbers is {0:,.2f}\".format(max))\n",
    "    print(\"The mininum of all floating numbers is {0:,.2f}\".format(min))\n",
    "else:\n",
    "    print(\"No floating numbers in the list.\")"
   ]
  },
  {
   "cell_type": "markdown",
   "metadata": {
    "deletable": false,
    "editable": false
   },
   "source": [
    "---------------------------------------------------------\n",
    "\n",
    "<h3 style=\"color:blue;\"><b>The FOR Loop</b></h3>\n",
    "<ul style=\"color:DodgerBlue;\">\n",
    "    <li>The for loop is used to iterate through a sequence of values. The general form of a for loop is</li>\n",
    "    <span style=\"color:white;\">.....</span><span style=\"color:brown;\">for var in sequence:</span><br>\n",
    "<span style=\"color:white;\">..........</span><span style=\"color:brown;\">indented block of statements</span>\n",
    "<li>where sequence might be an arithmetic progression of numbers, a string, a list, a tuple, or a file object.</li>\n",
    "<li>The variable is successively assigned each value in the sequence and the indented block of statements is executed after each assignment.</li>\n",
    "    <li><span style=\"color:tomato;\">Looping Through an Arithmetic Progression of Numbers</span> by use of an range function, range (m, n), which generates the sequence of integers m, m+1, m+2, . . . , n-1</li>\n",
    "\n",
    "\n",
    "</ul>\n",
    "    \n",
    "----------------------------------------------------------\n"
   ]
  },
  {
   "cell_type": "code",
   "execution_count": null,
   "metadata": {
    "deletable": false,
    "editable": false
   },
   "outputs": [],
   "source": [
    "for i in range(2, 6):\n",
    "    print (i, i ** 2)\n"
   ]
  },
  {
   "cell_type": "code",
   "execution_count": null,
   "metadata": {},
   "outputs": [],
   "source": [
    "numbers = [564, 874.98, 848, 84.6, 726.5, 87.45, 87, 87.45]\n",
    "\n",
    "sum = 0\n",
    "count = 0\n",
    "\n",
    "for num in numbers:\n",
    "    if not isinstance(num, float):\n",
    "        continue\n",
    "    min = num\n",
    "    \n",
    "    sum += num\n",
    "    count += 1\n",
    "    if num > max:\n",
    "        max = num\n",
    "    if num < min:\n",
    "        min = num\n",
    "    \n",
    "print(sum)\n",
    "print(sum/count)\n",
    "print(max)\n",
    "print(min)\n"
   ]
  },
  {
   "cell_type": "markdown",
   "metadata": {
    "deletable": false,
    "editable": false
   },
   "source": [
    "----------------------------\n",
    "\n",
    "<p style=\"color:blue;\"><b>Step Values for the range Function</b></p><p style=\"color:DodgerBlue;\"> - use of an range function, range (m, n, s), which generates the sequence of integers m, m+s, m+2s, . . . , m+rs (where m+rs < n)</p>\n",
    "    \n",
    "--------------------------------"
   ]
  },
  {
   "cell_type": "code",
   "execution_count": null,
   "metadata": {
    "deletable": false,
    "editable": false
   },
   "outputs": [],
   "source": [
    "for i in range(3, 18, 2):\n",
    "    print (i, i**2)"
   ]
  },
  {
   "cell_type": "code",
   "execution_count": null,
   "metadata": {
    "deletable": false,
    "editable": false
   },
   "outputs": [],
   "source": [
    "word = \"stressed\"\n",
    "reverseWord = \"\"\n",
    "\n",
    "for ch in word:\n",
    "    reverseWord = ch + reverseWord\n",
    "    \n",
    "print (\"The reverse of {} is {}!\".format(word, reverseWord)) \n"
   ]
  },
  {
   "cell_type": "markdown",
   "metadata": {
    "deletable": false,
    "editable": false
   },
   "source": [
    "---------------------------------------------------\n",
    "\n",
    "<h3 style=\"color:red;\"><b>Student Practice</b></h3>\n",
    "\n",
    "<p style=\"color:SlateBlue;\">In the empty cell below, write the code to determine the sum, the average, the mininum, and the maximum of all float numbers only. <span style=\"color:red;\">Important: use the for statement in your coding.</span></p>\n",
    "\n",
    "------------------------------------------------------"
   ]
  },
  {
   "cell_type": "code",
   "execution_count": null,
   "metadata": {
    "deletable": false,
    "editable": false
   },
   "outputs": [],
   "source": [
    "## initialize the values of constants\n",
    "numbers = (62, 73.56, 58.2, 74, 75.46, 76.8, 67, 93.2, 83.7, 35)\n",
    "sum = 0\n",
    "count = 0\n",
    "max = -99999\n",
    "min = 99999\n",
    "\n",
    "## Determine the sum, average, max, and of all floating point numbers only\n",
    "for num in numbers:\n",
    "    if not isinstance(num, float):\n",
    "        continue\n",
    "        \n",
    "    sum += num\n",
    "    count += 1\n",
    "    if num < min:\n",
    "        min = num\n",
    "    if num > max:\n",
    "        max = num\n",
    "        \n",
    "## Output the results\n",
    "if count > 0:\n",
    "    print(\"The number of floating numbers is {0:,d}\".format(count))\n",
    "    print(\"The sume of all floating numbers is {0:,.2f}\".format(sum))\n",
    "    print(\"The average of all floating numbers is {0:,.2f}\".format(sum/count))\n",
    "    print(\"The maximum of all floating numbers is {0:,.2f}\".format(max))\n",
    "    print(\"The mininum of all floating numbers is {0:,.2f}\".format(min))\n",
    "else:\n",
    "    print(\"No floating numbers in the list.\")\n",
    "    "
   ]
  },
  {
   "cell_type": "markdown",
   "metadata": {
    "deletable": false,
    "editable": false
   },
   "source": [
    "-------------------------------\n",
    "\n",
    "<h3 style=\"color:red;\"><b>Stduent Practice</b></h3>\n",
    "<p style=\"color:DodgerBlue;\">In the empty cell below, write a program segment that initialize the varialbe x = 1 and y = 2. Repeatly perform assign x + y to z, assign y to x, and assign z to y. The loop will end when y is greater than 100. Output the final values of x, y, and z.</p>\n",
    "\n",
    "-----------------------------------"
   ]
  },
  {
   "cell_type": "code",
   "execution_count": 1,
   "metadata": {
    "deletable": false,
    "editable": false
   },
   "outputs": [
    {
     "name": "stdout",
     "output_type": "stream",
     "text": [
      "x = 89; y = 144; z = 144\n"
     ]
    }
   ],
   "source": [
    "x = 1\n",
    "y = 2\n",
    "while y <= 100:\n",
    "    z = x + y\n",
    "    x = y\n",
    "    y = z\n",
    "    \n",
    "print (\"x = {0:,d}; y = {1:,d}; z = {2:,d}\".format(x, y, z))\n",
    "    "
   ]
  },
  {
   "cell_type": "code",
   "execution_count": null,
   "metadata": {},
   "outputs": [],
   "source": []
  }
 ],
 "metadata": {
  "kernelspec": {
   "display_name": "Python 3",
   "language": "python",
   "name": "python3"
  },
  "language_info": {
   "codemirror_mode": {
    "name": "ipython",
    "version": 3
   },
   "file_extension": ".py",
   "mimetype": "text/x-python",
   "name": "python",
   "nbconvert_exporter": "python",
   "pygments_lexer": "ipython3",
   "version": "3.8.3"
  }
 },
 "nbformat": 4,
 "nbformat_minor": 4
}
