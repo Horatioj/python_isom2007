{
 "cells": [
  {
   "cell_type": "markdown",
   "metadata": {
    "deletable": false,
    "editable": false
   },
   "source": [
    "-------------------------------------\n",
    "<h2 style=\"color:blue;\"><b>Perform Excel Tasks in Python (Part II)</b></h2>\n",
    "\n",
    "    \n",
    "--------------------------------------    \n"
   ]
  },
  {
   "cell_type": "markdown",
   "metadata": {
    "deletable": false,
    "editable": false
   },
   "source": [
    "---------------------------------------------------\n",
    "<h3 style=\"color:blue;\"><b>Student Practice #1</b></h3>\n",
    "<p style=\"color:SlateBlue;\">In the empty cells below, the perform the following accordingly.</p>\n",
    "<ol style=\"color:DodgerBlue;\">\n",
    "    <li>Create your dataframe with the following data as specified:</li>\n",
    "    <table style=\"color:orange;\">\n",
    "        <tr>\n",
    "            <th style=\"text-align:left;width:120px;\">SID</th>\n",
    "            <th style=\"text-align:left;width:200px\">Supervisor</th>\n",
    "        </tr>\n",
    "        <tr>\n",
    "            <td style=\"text-align:left;\">S01</td>\n",
    "            <td style=\"text-align:left;\">Rebecca Chao</td>\n",
    "        </tr>\n",
    "        <tr>\n",
    "            <td style=\"text-align:left;\">S02</td>\n",
    "            <td style=\"text-align:left;\">Desmond Tung</td>\n",
    "        </tr>\n",
    "        <tr>\n",
    "            <td style=\"text-align:left;\">S03</td>\n",
    "            <td style=\"text-align:left;\">Dennis Kun</td>\n",
    "        </tr>\n",
    "        <tr>\n",
    "            <td style=\"text-align:left;\">S04</td>\n",
    "            <td style=\"text-align:left;\">Alexandra Chow</td>\n",
    "        </tr>\n",
    "        <tr>\n",
    "            <td style=\"text-align:left;\">S05</td>\n",
    "            <td style=\"text-align:left;\">Pong Shiu</td>\n",
    "        </tr>\n",
    "        <tr>\n",
    "            <td style=\"text-align:left;\">S06</td>\n",
    "            <td style=\"text-align:left;\">Iris Wong</td>\n",
    "        </tr>\n",
    "        <tr>\n",
    "            <td style=\"text-align:left;\">S07</td>\n",
    "            <td style=\"text-align:left;\">Never Law</td>\n",
    "        </tr>\n",
    "    </table>\n",
    "    <li>Input the Agents file (either .csv or .xlsx)</li>\n",
    "    <li>Link the Agents dataframe with your supervisor dataframe on the SID</li>\n",
    "    </ol>\n",
    "\n",
    "---------------------------------------------------"
   ]
  },
  {
   "cell_type": "code",
   "execution_count": 1,
   "metadata": {
    "deletable": false,
    "editable": false
   },
   "outputs": [
    {
     "name": "stdout",
     "output_type": "stream",
     "text": [
      "   SID      Supervisor\n",
      "0  S01    Rebecca Chao\n",
      "1  S02    Desmond Tund\n",
      "2  S03      Dennis Kun\n",
      "3  S04  Akexandra Chow\n",
      "4  S05       Pong Shiu\n",
      "5  S06       Iris Wong\n",
      "6  S07       Never Law \n",
      "\n",
      "<class 'pandas.core.frame.DataFrame'>\n"
     ]
    }
   ],
   "source": [
    "## Create your dataframe on the run\n",
    "import pandas as pd\n",
    "\n",
    "## Define dictionary used to create DataFrame for supervisors\n",
    "supDF = {\"SID\": [\"S01\", \"S02\", \"S03\", \"S04\", \"S05\", \"S06\", \"S07\"],\n",
    "         \"Supervisor\": [\"Rebecca Chao\", \"Desmond Tund\", \"Dennis Kun\", \\\n",
    "                        \"Akexandra Chow\", \"Pong Shiu\", \"Iris Wong\", \"Never Law\"]}\n",
    "\n",
    "## Create the supervisors dataframe\n",
    "supDF = pd.DataFrame(supDF)\n",
    "print(supDF, \"\\n\")\n",
    "print(type(supDF))\n"
   ]
  },
  {
   "cell_type": "code",
   "execution_count": 2,
   "metadata": {
    "deletable": false,
    "editable": false
   },
   "outputs": [
    {
     "name": "stdout",
     "output_type": "stream",
     "text": [
      "  AgentID AgentName Supervisor      Q1       Q2       Q3       Q4\n",
      "0  A77666       Leo        S05  821798  1001980   335727   251269\n",
      "1  A97353    Carson        S02  194479   311314  1188148   457629\n",
      "2  A94131    Harper        S01  407671   667749   955013  1173411\n",
      "3  A86056      Liam        S04  746896   379949  1115037   565669\n",
      "4  A95818   Paisley        S06  313881   929049   319996   345119 \n",
      "\n",
      "   AgentID AgentName Supervisor       Q1      Q2       Q3      Q4\n",
      "45  A94584    Daniel        S04  1171769  846018   661226  813525\n",
      "46  A87204    Oliver        S05   700529  481378  1104091  290162\n",
      "47  A87277   Madison        S05   175677  572799   659937  421863\n",
      "48  A88207    Julian        S04  1089226  304251   867869  268322\n",
      "49  A74890       Mia        S06  1152031  165434  1011134  210991 \n",
      "\n",
      "   SID      Supervisor\n",
      "0  S01    Rebecca Chao\n",
      "1  S02    Desmond Tund\n",
      "2  S03      Dennis Kun\n",
      "3  S04  Akexandra Chow\n",
      "4  S05       Pong Shiu\n",
      "5  S06       Iris Wong\n",
      "6  S07       Never Law \n",
      "\n"
     ]
    },
    {
     "ename": "KeyError",
     "evalue": "'SID'",
     "output_type": "error",
     "traceback": [
      "\u001b[1;31m---------------------------------------------------------------------------\u001b[0m",
      "\u001b[1;31mKeyError\u001b[0m                                  Traceback (most recent call last)",
      "\u001b[1;32m<ipython-input-2-533a17c5ecaf>\u001b[0m in \u001b[0;36m<module>\u001b[1;34m\u001b[0m\n\u001b[0;32m      9\u001b[0m \u001b[1;33m\u001b[0m\u001b[0m\n\u001b[0;32m     10\u001b[0m \u001b[1;31m## Perform the merge of the two dataframe\u001b[0m\u001b[1;33m\u001b[0m\u001b[1;33m\u001b[0m\u001b[1;33m\u001b[0m\u001b[0m\n\u001b[1;32m---> 11\u001b[1;33m \u001b[0msupervisors\u001b[0m \u001b[1;33m=\u001b[0m \u001b[0mpd\u001b[0m\u001b[1;33m.\u001b[0m\u001b[0mmerge\u001b[0m\u001b[1;33m(\u001b[0m\u001b[0maData\u001b[0m\u001b[1;33m,\u001b[0m \u001b[0msupDF\u001b[0m\u001b[1;33m,\u001b[0m \u001b[0mhow\u001b[0m\u001b[1;33m=\u001b[0m\u001b[1;34m'left'\u001b[0m\u001b[1;33m,\u001b[0m \u001b[0mon\u001b[0m\u001b[1;33m=\u001b[0m\u001b[1;34m'SID'\u001b[0m\u001b[1;33m)\u001b[0m  \u001b[1;31m# how = right\u001b[0m\u001b[1;33m\u001b[0m\u001b[1;33m\u001b[0m\u001b[0m\n\u001b[0m\u001b[0;32m     12\u001b[0m \u001b[1;33m\u001b[0m\u001b[0m\n\u001b[0;32m     13\u001b[0m \u001b[1;31m# Verify the correctness of your work (i.e. the merge of the two dataframes)\u001b[0m\u001b[1;33m\u001b[0m\u001b[1;33m\u001b[0m\u001b[1;33m\u001b[0m\u001b[0m\n",
      "\u001b[1;32m~\\AppData\\Local\\Programs\\Python\\Python38-32\\lib\\site-packages\\pandas\\core\\reshape\\merge.py\u001b[0m in \u001b[0;36mmerge\u001b[1;34m(left, right, how, on, left_on, right_on, left_index, right_index, sort, suffixes, copy, indicator, validate)\u001b[0m\n\u001b[0;32m     72\u001b[0m     \u001b[0mvalidate\u001b[0m\u001b[1;33m=\u001b[0m\u001b[1;32mNone\u001b[0m\u001b[1;33m,\u001b[0m\u001b[1;33m\u001b[0m\u001b[1;33m\u001b[0m\u001b[0m\n\u001b[0;32m     73\u001b[0m ) -> \"DataFrame\":\n\u001b[1;32m---> 74\u001b[1;33m     op = _MergeOperation(\n\u001b[0m\u001b[0;32m     75\u001b[0m         \u001b[0mleft\u001b[0m\u001b[1;33m,\u001b[0m\u001b[1;33m\u001b[0m\u001b[1;33m\u001b[0m\u001b[0m\n\u001b[0;32m     76\u001b[0m         \u001b[0mright\u001b[0m\u001b[1;33m,\u001b[0m\u001b[1;33m\u001b[0m\u001b[1;33m\u001b[0m\u001b[0m\n",
      "\u001b[1;32m~\\AppData\\Local\\Programs\\Python\\Python38-32\\lib\\site-packages\\pandas\\core\\reshape\\merge.py\u001b[0m in \u001b[0;36m__init__\u001b[1;34m(self, left, right, how, on, left_on, right_on, axis, left_index, right_index, sort, suffixes, copy, indicator, validate)\u001b[0m\n\u001b[0;32m    650\u001b[0m             \u001b[0mself\u001b[0m\u001b[1;33m.\u001b[0m\u001b[0mright_join_keys\u001b[0m\u001b[1;33m,\u001b[0m\u001b[1;33m\u001b[0m\u001b[1;33m\u001b[0m\u001b[0m\n\u001b[0;32m    651\u001b[0m             \u001b[0mself\u001b[0m\u001b[1;33m.\u001b[0m\u001b[0mjoin_names\u001b[0m\u001b[1;33m,\u001b[0m\u001b[1;33m\u001b[0m\u001b[1;33m\u001b[0m\u001b[0m\n\u001b[1;32m--> 652\u001b[1;33m         ) = self._get_merge_keys()\n\u001b[0m\u001b[0;32m    653\u001b[0m \u001b[1;33m\u001b[0m\u001b[0m\n\u001b[0;32m    654\u001b[0m         \u001b[1;31m# validate the merge keys dtypes. We may need to coerce\u001b[0m\u001b[1;33m\u001b[0m\u001b[1;33m\u001b[0m\u001b[1;33m\u001b[0m\u001b[0m\n",
      "\u001b[1;32m~\\AppData\\Local\\Programs\\Python\\Python38-32\\lib\\site-packages\\pandas\\core\\reshape\\merge.py\u001b[0m in \u001b[0;36m_get_merge_keys\u001b[1;34m(self)\u001b[0m\n\u001b[0;32m   1016\u001b[0m                         \u001b[0mright_keys\u001b[0m\u001b[1;33m.\u001b[0m\u001b[0mappend\u001b[0m\u001b[1;33m(\u001b[0m\u001b[0mrk\u001b[0m\u001b[1;33m)\u001b[0m\u001b[1;33m\u001b[0m\u001b[1;33m\u001b[0m\u001b[0m\n\u001b[0;32m   1017\u001b[0m                     \u001b[1;32mif\u001b[0m \u001b[0mlk\u001b[0m \u001b[1;32mis\u001b[0m \u001b[1;32mnot\u001b[0m \u001b[1;32mNone\u001b[0m\u001b[1;33m:\u001b[0m\u001b[1;33m\u001b[0m\u001b[1;33m\u001b[0m\u001b[0m\n\u001b[1;32m-> 1018\u001b[1;33m                         \u001b[0mleft_keys\u001b[0m\u001b[1;33m.\u001b[0m\u001b[0mappend\u001b[0m\u001b[1;33m(\u001b[0m\u001b[0mleft\u001b[0m\u001b[1;33m.\u001b[0m\u001b[0m_get_label_or_level_values\u001b[0m\u001b[1;33m(\u001b[0m\u001b[0mlk\u001b[0m\u001b[1;33m)\u001b[0m\u001b[1;33m)\u001b[0m\u001b[1;33m\u001b[0m\u001b[1;33m\u001b[0m\u001b[0m\n\u001b[0m\u001b[0;32m   1019\u001b[0m                         \u001b[0mjoin_names\u001b[0m\u001b[1;33m.\u001b[0m\u001b[0mappend\u001b[0m\u001b[1;33m(\u001b[0m\u001b[0mlk\u001b[0m\u001b[1;33m)\u001b[0m\u001b[1;33m\u001b[0m\u001b[1;33m\u001b[0m\u001b[0m\n\u001b[0;32m   1020\u001b[0m                     \u001b[1;32melse\u001b[0m\u001b[1;33m:\u001b[0m\u001b[1;33m\u001b[0m\u001b[1;33m\u001b[0m\u001b[0m\n",
      "\u001b[1;32m~\\AppData\\Local\\Programs\\Python\\Python38-32\\lib\\site-packages\\pandas\\core\\generic.py\u001b[0m in \u001b[0;36m_get_label_or_level_values\u001b[1;34m(self, key, axis)\u001b[0m\n\u001b[0;32m   1561\u001b[0m             \u001b[0mvalues\u001b[0m \u001b[1;33m=\u001b[0m \u001b[0mself\u001b[0m\u001b[1;33m.\u001b[0m\u001b[0maxes\u001b[0m\u001b[1;33m[\u001b[0m\u001b[0maxis\u001b[0m\u001b[1;33m]\u001b[0m\u001b[1;33m.\u001b[0m\u001b[0mget_level_values\u001b[0m\u001b[1;33m(\u001b[0m\u001b[0mkey\u001b[0m\u001b[1;33m)\u001b[0m\u001b[1;33m.\u001b[0m\u001b[0m_values\u001b[0m\u001b[1;33m\u001b[0m\u001b[1;33m\u001b[0m\u001b[0m\n\u001b[0;32m   1562\u001b[0m         \u001b[1;32melse\u001b[0m\u001b[1;33m:\u001b[0m\u001b[1;33m\u001b[0m\u001b[1;33m\u001b[0m\u001b[0m\n\u001b[1;32m-> 1563\u001b[1;33m             \u001b[1;32mraise\u001b[0m \u001b[0mKeyError\u001b[0m\u001b[1;33m(\u001b[0m\u001b[0mkey\u001b[0m\u001b[1;33m)\u001b[0m\u001b[1;33m\u001b[0m\u001b[1;33m\u001b[0m\u001b[0m\n\u001b[0m\u001b[0;32m   1564\u001b[0m \u001b[1;33m\u001b[0m\u001b[0m\n\u001b[0;32m   1565\u001b[0m         \u001b[1;31m# Check for duplicates\u001b[0m\u001b[1;33m\u001b[0m\u001b[1;33m\u001b[0m\u001b[1;33m\u001b[0m\u001b[0m\n",
      "\u001b[1;31mKeyError\u001b[0m: 'SID'"
     ]
    }
   ],
   "source": [
    "## Link your agents file with the dataframe created on the run\n",
    "# Join the colleges data to the students data, use pandas.merge()\n",
    "\n",
    "aData = pd.read_excel(\"Agents.xlsx\")\n",
    "print(aData.head(), \"\\n\")\n",
    "print(aData.tail(), \"\\n\")\n",
    "print(supDF, \"\\n\")\n",
    "\n",
    "\n",
    "## Perform the merge of the two dataframe\n",
    "supervisors = pd.merge(aData, supDF, how='left', on='SID')  # how = right\n",
    "\n",
    "# Verify the correctness of your work (i.e. the merge of the two dataframes)\n",
    "print(supervisors.head(), \"\\n\")\n",
    "print(supervisors.tail())\n"
   ]
  },
  {
   "cell_type": "markdown",
   "metadata": {
    "deletable": false,
    "editable": false
   },
   "source": [
    "--------------\n",
    "<h3 style=\"color:blue;\"><b>Student Practice #2</b></h3>\n",
    "<p style=\"color:SlateBlue;\">In the empty cell below, perform the follow works as specified.</p>\n",
    "<ol style=\"color:DodgerBlue;\">\n",
    "    <li>Determine the annual sales for each of the agent.</li>\n",
    "    <li>Perform the appraisal for each of the agent according to the following:</li>\n",
    "    <table style=\"color:orange;\">\n",
    "        <tr>\n",
    "            <th style=\"text-align:left;width:180px;\">Annual Sales</th>\n",
    "            <th style=\"width:120px;\">Apprasial</th>\n",
    "        </tr>\n",
    "        <tr>\n",
    "            <td style=\"text-align:left;\">equal to or over 3.0M</td>\n",
    "            <td>Excellent</td>\n",
    "        </tr>\n",
    "        <tr>\n",
    "            <td style=\"text-align:left;\">[2.5M ~ 3.0M)</td>\n",
    "            <td>Very Good</td>\n",
    "        </tr>        \n",
    "        <tr>\n",
    "            <td style=\"text-align:left;\">[2.0M ~ 2.5M)</td>\n",
    "            <td>Good</td>\n",
    "        </tr>\n",
    "        <tr>\n",
    "            <td style=\"text-align:left;\">[1.5M ~ 2.0M)</td>\n",
    "            <td>Fair</td>\n",
    "        </tr>\n",
    "        <tr>\n",
    "            <td style=\"text-align:left;\">less than 1.5M</td>\n",
    "            <td>Poor</td>\n",
    "        </tr>\n",
    "    </table>\n",
    "    </ol>\n",
    "    \n",
    "--------------"
   ]
  },
  {
   "cell_type": "code",
   "execution_count": 3,
   "metadata": {
    "deletable": false,
    "editable": false
   },
   "outputs": [
    {
     "name": "stdout",
     "output_type": "stream",
     "text": [
      "  AgentID  AnnualSales  Apprasial\n",
      "0  A77666      2410774       Good\n",
      "1  A97353      2151570       Good\n",
      "2  A94131      3203844  Excellent\n",
      "3  A86056      2807551  Very Good \n",
      "\n",
      "   AgentID  AnnualSales  Apprasial\n",
      "44  A72947      1272927       Poor\n",
      "45  A94584      3492538  Excellent\n",
      "46  A87204      2576160  Very Good\n",
      "47  A87277      1830276       Fair\n",
      "48  A88207      2529668  Very Good\n",
      "49  A74890      2539590  Very Good\n"
     ]
    }
   ],
   "source": [
    "## Determine both the annual sales and apprasial for the dataframe that contains data from Agents\n",
    "import pandas as pd\n",
    "\n",
    "aData = pd.read_excel('Agents.xlsx')   ## read the Excel file into sData\n",
    "\n",
    "aData[\"AnnualSales\"] = aData[\"Q1\"] + aData[\"Q2\"] + aData[\"Q3\"] + aData[\"Q4\"]\n",
    "\n",
    "## Determine the grade according to the scores\n",
    "aData.loc[aData['AnnualSales'] >= 3000000, 'Apprasial'] = \"Excellent\"\n",
    "aData.loc[(aData['AnnualSales'] >= 2500000) & (aData['AnnualSales'] < 3000000), 'Apprasial'] = \"Very Good\"\n",
    "aData.loc[(aData['AnnualSales'] >= 2000000) & (aData['AnnualSales'] < 2500000), 'Apprasial'] = \"Good\"\n",
    "aData.loc[(aData['AnnualSales'] >= 1500000) & (aData['AnnualSales'] < 2000000), 'Apprasial'] = \"Fair\"\n",
    "aData.loc[aData['AnnualSales'] < 1500000, 'Apprasial'] = \"Poor\"\n",
    "\n",
    "## Verify the correctness\n",
    "print(aData[[\"AgentID\", \"AnnualSales\", \"Apprasial\"]].head(4), \"\\n\")\n",
    "print(aData[[\"AgentID\", \"AnnualSales\", \"Apprasial\"]].tail(6))\n"
   ]
  },
  {
   "cell_type": "markdown",
   "metadata": {
    "deletable": false,
    "editable": false
   },
   "source": [
    "--------------\n",
    "<h3 style=\"color:blue;\"><b>Student Practice #3</b></h3>\n",
    "<p style=\"color:SlateBlue;\">In the empty cells below, perform the followings:</p>\n",
    "<ol style=\"color:DodgerBlue;\">\n",
    "    <li>Determine the sum for all the numerical columns.</li>\n",
    "    <li>Determine the average for all the numerical columns.</li>\n",
    "    <li>Append the sum and average of all the nuerical columns onto your existence dataframe.</li>\n",
    "    <li>Save the works (i.e. the original dataframe with the rows that for sum and average of all numerical columns) to \"Agents_new.xlsx\".</li>\n",
    "    <li>Verify the correctness of your works.</li>\n",
    "    </ol>\n",
    "    \n",
    "----------------    \n"
   ]
  },
  {
   "cell_type": "code",
   "execution_count": 1,
   "metadata": {
    "deletable": false,
    "editable": false
   },
   "outputs": [
    {
     "name": "stdout",
     "output_type": "stream",
     "text": [
      "        AgentID AgentName Supervisor           Q1           Q2           Q3  \\\n",
      "47       A87277   Madison        S05    175677.00    572799.00    659937.00   \n",
      "48       A88207    Julian        S04   1089226.00    304251.00    867869.00   \n",
      "49       A74890       Mia        S06   1152031.00    165434.00   1011134.00   \n",
      "Sum         NaN       NaN        NaN  33253503.00  33388162.00  39597527.00   \n",
      "Average     NaN       NaN        NaN    665070.06    667763.24    791950.54   \n",
      "\n",
      "                 Q4  \n",
      "47         421863.0  \n",
      "48         268322.0  \n",
      "49         210991.0  \n",
      "Sum      32142280.0  \n",
      "Average    642845.6   \n",
      "\n",
      "   row_label AgentID AgentName Supervisor           Q1           Q2  \\\n",
      "47        47  A87277   Madison        S05    175677.00    572799.00   \n",
      "48        48  A88207    Julian        S04   1089226.00    304251.00   \n",
      "49        49  A74890       Mia        S06   1152031.00    165434.00   \n",
      "50       Sum     NaN       NaN        NaN  33253503.00  33388162.00   \n",
      "51   Average     NaN       NaN        NaN    665070.06    667763.24   \n",
      "\n",
      "             Q3          Q4  \n",
      "47    659937.00    421863.0  \n",
      "48    867869.00    268322.0  \n",
      "49   1011134.00    210991.0  \n",
      "50  39597527.00  32142280.0  \n",
      "51    791950.54    642845.6  \n"
     ]
    }
   ],
   "source": [
    "## Append the rows for sum and average for all numerical columns to the existence dataframe\n",
    "## and save the result to and Excel file \"Agents_new.xlsx\"\n",
    "\n",
    "import pandas as pd\n",
    "import os\n",
    "\n",
    "aData = pd.read_excel('Agents.xlsx')   ## read the Excel file into sData\n",
    "\n",
    "## Determine the sum and average of all the numerical columns from the Agents file\n",
    "sumRow = aData[[\"Q1\", \"Q2\", \"Q3\", \"Q4\"]].sum()\n",
    "meanRow = aData[[\"Q1\", \"Q2\", \"Q3\", \"Q4\"]].mean()\n",
    "\n",
    "## Append the sum row to the existence dataframe and name the row accordingly\n",
    "dfSum = pd.DataFrame(data=sumRow).T                  # transpose\n",
    "dfSum = dfSum.reindex(columns=aData.columns)         # convert to dataFrame\n",
    "aData = aData.append(dfSum, ignore_index=False)      # append to existing data\n",
    "aData = aData.rename(index={0:\"Sum\"})                # rename the row as Sum\n",
    "\n",
    "## Append the sum row to the existence dataframe and name the row accordingly\n",
    "dfMean = pd.DataFrame(data=meanRow).transpose()      # transpose\n",
    "dfMean = dfMean.reindex(columns=aData.columns)       # convert to dataFrame\n",
    "aData = aData.append(dfMean, ignore_index=False)     # append to existing data\n",
    "aData = aData.rename(index={0:\"Average\"})            # rename the row as Sum\n",
    "print(aData.tail(), \"\\n\")\n",
    "\n",
    "## Save the new dataframe (i.e with the append of sum and average rows)\n",
    "aData.to_excel(\"Agents_new.xlsx\", index_label=\"row_label\")\n",
    "\n",
    "## Verify the correctness of works\n",
    "if os.path.isfile(\"Agents_new.xlsx\"):\n",
    "    newData = pd.read_excel(\"Agents_new.xlsx\")\n",
    "    print(newData.tail())\n"
   ]
  },
  {
   "cell_type": "markdown",
   "metadata": {
    "deletable": false,
    "editable": false
   },
   "source": [
    "--------------\n",
    "<h3 style=\"color:blue;\"><b>Student Practice #4</b></h3>\n",
    "<p style=\"color:SlateBlue;\">In the empty cells below, freely generate the histogram or box chart for the numerical columns (i.e. Q1, Q2, Q3, Q4, and/or Annual Sales).</p>\n",
    "\n",
    "------------------"
   ]
  },
  {
   "cell_type": "code",
   "execution_count": 2,
   "metadata": {
    "deletable": false,
    "editable": false
   },
   "outputs": [
    {
     "data": {
      "text/plain": [
       "<matplotlib.axes._subplots.AxesSubplot at 0x19262f75fd0>"
      ]
     },
     "execution_count": 2,
     "metadata": {},
     "output_type": "execute_result"
    },
    {
     "data": {
      "image/png": "[encoded data removed]",
      "text/plain": [
       "<Figure size 432x288 with 1 Axes>"
      ]
     },
     "metadata": {
      "needs_background": "light"
     },
     "output_type": "display_data"
    },
    {
     "data": {
      "image/png": "[encoded data removed]",
      "text/plain": [
       "<Figure size 432x288 with 1 Axes>"
      ]
     },
     "metadata": {
      "needs_background": "light"
     },
     "output_type": "display_data"
    },
    {
     "data": {
      "image/png": "[encoded data removed]",
      "text/plain": [
       "<Figure size 432x288 with 1 Axes>"
      ]
     },
     "metadata": {
      "needs_background": "light"
     },
     "output_type": "display_data"
    }
   ],
   "source": [
    "## Perform various plotting operations\n",
    "\n",
    "import pandas as pd\n",
    "aData = pd.read_excel('Agents.xlsx')   ## read the Excel file into sData\n",
    "aData[\"AnnualSales\"] = aData[\"Q1\"] + aData[\"Q2\"] + aData[\"Q3\"] + aData[\"Q4\"]\n",
    "\n",
    "## Plot the Annual Sales as histogram\n",
    "aData[[\"AnnualSales\"]].plot.hist(bins=20, alpha=0.5)\n",
    "\n",
    "## Plot the Quaeterly Sales on the same histogram\n",
    "aData[[\"Q1\", \"Q2\"]].plot.hist(bins=20, alpha=0.5)\n",
    "\n",
    "## Plot the Quarterly Sales and Annual Sales in a box chart\n",
    "aData[[\"Q1\", \"Q2\", \"Q3\", \"Q4\"]].plot.box()\n"
   ]
  }
 ],
 "metadata": {
  "kernelspec": {
   "display_name": "Python 3",
   "language": "python",
   "name": "python3"
  },
  "language_info": {
   "codemirror_mode": {
    "name": "ipython",
    "version": 3
   },
   "file_extension": ".py",
   "mimetype": "text/x-python",
   "name": "python",
   "nbconvert_exporter": "python",
   "pygments_lexer": "ipython3",
   "version": "3.8.5"
  }
 },
 "nbformat": 4,
 "nbformat_minor": 4
}
