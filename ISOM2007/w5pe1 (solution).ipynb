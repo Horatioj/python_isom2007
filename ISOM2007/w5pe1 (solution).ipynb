{
 "cells": [
  {
   "cell_type": "markdown",
   "metadata": {
    "deleted": false,
    "editable": false
   },
   "source": [
    "--------------------------------------------------\n",
    "\n",
    "<h2 style=\"color:blue;\"><b>Functions</b></h2>"
   ]
  },
  {
   "cell_type": "markdown",
   "metadata": {
    "deleted": false,
    "editable": false
   },
   "source": [
    "<h3 style=\"color:blue;\"><b>Boolean- and List-Valued Functions</b></h3>\n",
    "<ul style=\"color:DodgerBlue;\">\n",
    "    <li>The values returned not just only be numbers or strings.</li>\n",
    "    <li>It can return any type of value or even not return anything (i.e. no return statements).</li>\n",
    "    </ul>\n",
    "    \n",
    "-----------------------------------------"
   ]
  },
  {
   "cell_type": "code",
   "execution_count": null,
   "metadata": {
    "deleted": false,
    "editable": false
   },
   "outputs": [],
   "source": [
    "## function determine whether the input word, contain ALL vowels\n",
    "## and return a boolean-value to indicate falsity of the case\n",
    "\n",
    "def isVowelWord(word):\n",
    "    word = word.upper()\n",
    "    vowels = (\"A\", \"E\", \"I\", \"O\", \"U\")   # list of vowels\n",
    "    for vowel in vowels:\n",
    "        if vowel not in word:  # just one of the vowels not exists, return false\n",
    "            return False\n",
    "    return True\n"
   ]
  },
  {
   "cell_type": "code",
   "execution_count": null,
   "metadata": {
    "deleted": false,
    "editable": false
   },
   "outputs": [],
   "source": [
    "## This function prompt the user to input a word / sentence and\n",
    "## call the function isVowelWord to determine it contains all vowels.\n",
    "\n",
    "word = input(\"Enter a word / sentence:  \")\n",
    "if isVowelWord(word):\n",
    "    print(word, \" - contains every vowel\")\n",
    "else:\n",
    "    print(word, \" - does not contain every vowel\")\n",
    "    "
   ]
  },
  {
   "cell_type": "code",
   "execution_count": null,
   "metadata": {
    "deleted": false,
    "editable": false
   },
   "outputs": [],
   "source": [
    "## This function returns the vowels that contained in the input words\n",
    "## and return a list-value\n",
    "\n",
    "def occuringVowels(word):\n",
    "    word = word.upper()\n",
    "    vowels = (\"A\", \"E\", \"I\", \"O\", \"U\")   # list of vowels\n",
    "    includedVowels = []\n",
    "    for vowel in vowels:\n",
    "        if (vowel in word) and (vowel not in includedVowels):\n",
    "            includedVowels.append(vowel)   # append the vowel found into the list\n",
    "    return includedVowels \n"
   ]
  },
  {
   "cell_type": "code",
   "execution_count": null,
   "metadata": {
    "deleted": false,
    "editable": false
   },
   "outputs": [],
   "source": [
    "## This function prompt the user to input a word and call the\n",
    "## function isVowelWord to determine it contains all vowels.\n",
    "\n",
    "## Determine the vowels appearing in a word\n",
    "word = input(\"Enter a word: \")\n",
    "listOfVowels = occuringVowels(word)\n",
    "stringOfVowels = \" \".join(listOfVowels)\n",
    "print(\"The following vowels occur in the word {}: {}\".format(word, stringOfVowels))\n"
   ]
  },
  {
   "cell_type": "markdown",
   "metadata": {
    "deleted": false,
    "editable": false
   },
   "source": [
    "-----------------------------\n",
    "\n",
    "<h3 style=\"color:blue;\"><b>Scope of Variable</b></h3>\n",
    "<ul style=\"color:DodgerBlue;\">\n",
    "    <li>A variable created inside a function can only be accessed by statements inside that function, and ceases to exist when the function is exited.</li>\n",
    "    <li>The variable is said to be local to the function or to have local scope.</li>\n",
    "    <li>The same is true for the function’s parameters.\n",
    "If variables created in two different functions have the same name, they have no relationship to each other; they are treated as completely different variables.</li>\n",
    "    </ul>\n",
    "    \n",
    "-----------------------------"
   ]
  },
  {
   "cell_type": "code",
   "execution_count": 1,
   "metadata": {
    "deleted": false,
    "editable": false
   },
   "outputs": [
    {
     "name": "stdout",
     "output_type": "stream",
     "text": [
      "Fred\n",
      "eric\n",
      "Frederic\n",
      "Frederic\n"
     ]
    }
   ],
   "source": [
    "## program segment that demo the scope of variable\n",
    "\n",
    "name = \"Fred\"    # variable that local to main body\n",
    "\n",
    "def main():\n",
    "    global name   # same as name in main body, changes alter the name that in the main body\n",
    "    otherName = getName()\n",
    "    name += otherName\n",
    "    print (name)\n",
    "    \n",
    "def getName():\n",
    "    name = \"eric\"  # this variable name is local to getName\n",
    "    print (name)\n",
    "    return name\n",
    "\n",
    "## this part is the main body of this cell\n",
    "print (name)\n",
    "main()\n",
    "print (name)\n"
   ]
  },
  {
   "cell_type": "markdown",
   "metadata": {
    "deleted": false,
    "editable": false
   },
   "source": [
    "----------------------\n",
    "\n",
    "<h3 style=\"color:blue;\"><b>Functions Returning Multiple Values</b></h3>\n",
    "<ul style=\"color:DodgerBlue;\">\n",
    "    <li>Functions can return any type of object, not just a number, string, or Boolean value.</li>\n",
    "    <li>The follow example is an instance of a function that return a tuple.</li>\n",
    "    </ul>\n",
    "    \n",
    "------------------------"
   ]
  },
  {
   "cell_type": "code",
   "execution_count": 2,
   "metadata": {
    "deleted": false,
    "editable": false
   },
   "outputs": [
    {
     "name": "stdout",
     "output_type": "stream",
     "text": [
      "Enter the amount of the deposit: 70000\n",
      "Enter the number of years: 2\n",
      "\n",
      "Balance        : $75,712.00\n",
      "Interest Earned: $5,712.00\n"
     ]
    }
   ],
   "source": [
    "INTEREST_RATE = 0.04      # annual rate of interest\n",
    "\n",
    "def main():\n",
    "    ## Calculate the balance and interest earned from a savings account.\n",
    "    principal = eval(input(\"Enter the amount of the deposit: \"))\n",
    "    numberOfYears = eval(input(\"Enter the number of years: \"))\n",
    "    (bal, intEarned) = balanceAndInterest(principal, numberOfYears)\n",
    "    print(\"\\nBalance        : ${0:,.2f}\".format(bal))\n",
    "    print(\"Interest Earned: ${0:,.2f}\".format(intEarned))\n",
    "\n",
    "def balanceAndInterest(prin, numYears):\n",
    "    balance = prin * ((1 + INTEREST_RATE) ** numYears)\n",
    "    interestEarned = balance - prin\n",
    "    return (balance, interestEarned)\n",
    "\n",
    "\n",
    "main()\n"
   ]
  },
  {
   "cell_type": "markdown",
   "metadata": {
    "deleted": false,
    "editable": false
   },
   "source": [
    "----------------------\n",
    "\n",
    "<h3 style=\"color:blue;\"><b>Functions Calling Other Functions</b></h3>\n",
    "<ul style=\"color:DodgerBlue;\">\n",
    "    <li>A function can call another function.</li>\n",
    "    <li>When the called function terminates (that is, after a return statement or the last statement of the called function is executed), the control returns to the place in the calling function just after where the function call occurred.</li>\n",
    "    </ul>\n"
   ]
  },
  {
   "cell_type": "markdown",
   "metadata": {
    "deleted": false,
    "editable": false
   },
   "source": [
    "\n",
    "\n",
    "<h3 style=\"color:blue;\"><b>Function that Calling Itself</b></h3>\n",
    "<ul style=\"color:DodgerBlue;\">\n",
    "    <li>Function that calling itself is known as recursive function.</li>\n",
    "    <li>It is a very powerful function to solve some recurrence instances.</li>\n",
    "    <li>Example:</li>\n",
    "    <ol style=\"color:SlateBlue;\">\n",
    "        <li>determine a factorial</li>\n",
    "        <li>determine the game tower-of-hanoi</li>\n",
    "    </ol>\n",
    "    </ul>\n",
    "    \n",
    "-----------------------------------------------"
   ]
  },
  {
   "cell_type": "code",
   "execution_count": null,
   "metadata": {
    "deleted": false,
    "editable": false
   },
   "outputs": [],
   "source": [
    "## factorial function, ## this function accept any non-negative, \n",
    "## including zero with 0! = 1\n",
    "def factorial(n):\n",
    "    if n <= 1:\n",
    "        print(1, end=\" \")\n",
    "        return 1\n",
    "    else:\n",
    "        print(\"{} x\".format(n), end=\" \")\n",
    "        return(factorial(n-1))\n",
    "    "
   ]
  },
  {
   "cell_type": "code",
   "execution_count": null,
   "metadata": {
    "deleted": false,
    "editable": false
   },
   "outputs": [],
   "source": [
    "num = eval(input(\"Enter a non-negative, including zero: \"))\n",
    "print(\"{}! = \".format(num), end=\"\")\n",
    "factorial(num)\n",
    "print(\"\\n\")\n"
   ]
  },
  {
   "cell_type": "code",
   "execution_count": null,
   "metadata": {
    "deleted": false,
    "editable": false
   },
   "outputs": [],
   "source": [
    "## The game tower-of-hanoi\n",
    "def towerOfHanoi(nDisc, fromP, toP, tempP):\n",
    "    if nDisc <= 1:\n",
    "        print(\"Move disc {} from {} to {}\".format(nDisc, fromP, toP))\n",
    "    else:\n",
    "        towerOfHanoi(nDisc-1, fromP, tempP, toP)\n",
    "        print(\"Move disc {} from {} to {}\".format(nDisc, fromP, toP))\n",
    "        towerOfHanoi(nDisc-1, tempP, toP, fromP)\n",
    "        "
   ]
  },
  {
   "cell_type": "code",
   "execution_count": null,
   "metadata": {
    "deleted": false,
    "editable": false
   },
   "outputs": [],
   "source": [
    "towerOfHanoi(3, \"A\", \"C\", \"B\")\n"
   ]
  },
  {
   "cell_type": "markdown",
   "metadata": {
    "deleted": false,
    "editable": false
   },
   "source": [
    "----------------------\n",
    "\n",
    "<h3 style=\"color:blue;\"><b>Library Modules</b></h3>\n",
    "<ul style=\"color:DodgerBlue;\">\n",
    "    <li>A variation of the import statement is</li>\n",
    "    <span style=\"color:white;\">.....</span><span style=\"color:brown;\">from moduleName import *</span><br>\n",
    "<li>After such a statement has been executed, any function from the module can be used directly without having to prepend it with the module name and a period.</li> \n",
    "    <li>This variation is most often employed when a program uses many functions from the module.</li>\n",
    "    </ul>\n",
    "    \n",
    "----------------------------"
   ]
  },
  {
   "cell_type": "code",
   "execution_count": 3,
   "metadata": {
    "deleted": false,
    "editable": false
   },
   "outputs": [],
   "source": [
    "import numpy as np   ## module of mathematical functions\n",
    "import pandas as pd\n",
    "import seaborn as sns\n",
    "import scipy.stats as sts\n",
    "import matplotlib as mpl\n",
    "import matplotlib.pyplot as plt\n",
    "import math\n",
    "import random\n",
    "import csv\n",
    "import sys\n"
   ]
  },
  {
   "cell_type": "code",
   "execution_count": 4,
   "metadata": {
    "deleted": false,
    "editable": false
   },
   "outputs": [],
   "source": [
    "student = (\"Peter\", \"Calvin\", \"Steven\", \"Alan\", \"Debbie\", \\\n",
    "          \"Zoo\", \"Queenie\", \"Betty\", \"Don\", \"Ban\", \\\n",
    "          \"Lancy\", \"Mandy\", \"Terry\", \"Wendy\", \"Grace\")\n"
   ]
  },
  {
   "cell_type": "code",
   "execution_count": 5,
   "metadata": {
    "deleted": false,
    "editable": false
   },
   "outputs": [
    {
     "data": {
      "text/plain": [
       "'Debbie'"
      ]
     },
     "execution_count": 5,
     "metadata": {},
     "output_type": "execute_result"
    }
   ],
   "source": [
    "random.choice(student)\n"
   ]
  },
  {
   "cell_type": "code",
   "execution_count": 6,
   "metadata": {
    "deleted": false,
    "editable": false
   },
   "outputs": [
    {
     "data": {
      "text/plain": [
       "'Terry'"
      ]
     },
     "execution_count": 6,
     "metadata": {},
     "output_type": "execute_result"
    }
   ],
   "source": [
    "random.choice(student)\n"
   ]
  },
  {
   "cell_type": "code",
   "execution_count": 7,
   "metadata": {
    "deleted": false,
    "editable": false
   },
   "outputs": [
    {
     "data": {
      "text/plain": [
       "'Terry'"
      ]
     },
     "execution_count": 7,
     "metadata": {},
     "output_type": "execute_result"
    }
   ],
   "source": [
    "random.choice(student)\n"
   ]
  },
  {
   "cell_type": "code",
   "execution_count": 8,
   "metadata": {
    "deleted": false,
    "editable": false
   },
   "outputs": [
    {
     "data": {
      "text/plain": [
       "3"
      ]
     },
     "execution_count": 8,
     "metadata": {},
     "output_type": "execute_result"
    }
   ],
   "source": [
    "math.floor(3.1417)\n"
   ]
  },
  {
   "cell_type": "code",
   "execution_count": 9,
   "metadata": {
    "deleted": false,
    "editable": false
   },
   "outputs": [
    {
     "data": {
      "text/plain": [
       "4"
      ]
     },
     "execution_count": 9,
     "metadata": {},
     "output_type": "execute_result"
    }
   ],
   "source": [
    "math.ceil(3.1417)\n"
   ]
  },
  {
   "cell_type": "code",
   "execution_count": 10,
   "metadata": {
    "deleted": false,
    "editable": false
   },
   "outputs": [
    {
     "data": {
      "text/plain": [
       "81.0"
      ]
     },
     "execution_count": 10,
     "metadata": {},
     "output_type": "execute_result"
    }
   ],
   "source": [
    "math.pow(3, 4)\n"
   ]
  },
  {
   "cell_type": "code",
   "execution_count": 11,
   "metadata": {
    "deleted": false,
    "editable": false
   },
   "outputs": [
    {
     "data": {
      "text/plain": [
       "array([2, 3, 4, 5, 6, 7, 8, 9])"
      ]
     },
     "execution_count": 11,
     "metadata": {},
     "output_type": "execute_result"
    }
   ],
   "source": [
    "np.arange(2,10) # create a list the have values from 2 to 10-1 inclusively\n"
   ]
  },
  {
   "cell_type": "code",
   "execution_count": 12,
   "metadata": {
    "deleted": false,
    "editable": false
   },
   "outputs": [
    {
     "data": {
      "text/plain": [
       "array([[5, 5, 5, 5],\n",
       "       [5, 5, 5, 5],\n",
       "       [5, 5, 5, 5]])"
      ]
     },
     "execution_count": 12,
     "metadata": {},
     "output_type": "execute_result"
    }
   ],
   "source": [
    "np.full((3,4), 5) # create a 3x4 matrix that fill with 5\n"
   ]
  },
  {
   "cell_type": "code",
   "execution_count": 13,
   "metadata": {
    "deleted": false,
    "editable": false
   },
   "outputs": [
    {
     "data": {
      "text/plain": [
       "array([0. , 0.2, 0.4, 0.6, 0.8, 1. , 1.2, 1.4, 1.6, 1.8, 2. ])"
      ]
     },
     "execution_count": 13,
     "metadata": {},
     "output_type": "execute_result"
    }
   ],
   "source": [
    "np.linspace(0,2,11) # evenly determine 11-1 segments from range 0 ~ 2\n"
   ]
  },
  {
   "cell_type": "markdown",
   "metadata": {
    "deleted": false,
    "editable": false
   },
   "source": [
    "---------------------------\n",
    "\n",
    "<h3 style=\"color:red;\"><b>Student Practice</b></h3>\n",
    "<p style=\"color:SlateBlue;\">In the empty cells below, write a pay-raise program that enter a person's name,\n",
    "and current monthly salary, and then displays the person's monthly salary next year (i.e. salary that after increment).\n",
    "    People earning less than mop 30,000 a month will receive a 5% raise, and those earning mop 30,000 or more will receive a raise of mop 1,800 plus 2% of the amount over mop 30,000. Use functions for <span style=\"color:red;\">input and output</span>, and a function to <span style=\"color:red;\">calculate the new salary</span>.\n",
    "</p>\n",
    "\n",
    "-------------------------------"
   ]
  },
  {
   "cell_type": "code",
   "execution_count": null,
   "metadata": {
    "deleted": false,
    "editable": false
   },
   "outputs": [],
   "source": [
    "## function to capture name, current monthly salary\n",
    "\n",
    "def captureData():\n",
    "    name = input (\"Please enter your name:                   \")\n",
    "    mSalary = eval(input(\"Please enter your current monthly salary: \"))\n",
    "    return (name, mSalary)\n"
   ]
  },
  {
   "cell_type": "code",
   "execution_count": null,
   "metadata": {
    "deleted": false,
    "editable": false
   },
   "outputs": [],
   "source": [
    "## function to return the incremented Salary\n",
    "\n",
    "def determineIncrement (salary):\n",
    "    if salary < 30000:\n",
    "        iSalary = salary * 1.05 \n",
    "    else:\n",
    "        iSalary = salary + 18000 + (salary - 30000) * 0.02\n",
    "        \n",
    "    return (iSalary)\n"
   ]
  },
  {
   "cell_type": "code",
   "execution_count": null,
   "metadata": {
    "deleted": false,
    "editable": false
   },
   "outputs": [],
   "source": [
    "## function to out the name, current salary, and the incremented salary\n",
    "\n",
    "def displaySalary (name, cSalary, iSalary):\n",
    "    print (\"\\nName of Staff              : {}\".format(name))\n",
    "    print (\"Your current monthly salary: ${:,.2f}\".format(cSalary))\n",
    "    print (\"Your new monthly salary    : ${:,.2f}\".format(iSalary))\n",
    "    "
   ]
  },
  {
   "cell_type": "code",
   "execution_count": null,
   "metadata": {
    "deleted": false,
    "editable": false
   },
   "outputs": [],
   "source": [
    "## the main program body that do the work by calling the relevant functions\n",
    "\n",
    "# capture the data\n",
    "(name, cSalary) = captureData()\n",
    "\n",
    "# calculate the increment\n",
    "iSalary = determineIncrement(cSalary)\n",
    "\n",
    "# output the result\n",
    "displaySalary(name, cSalary, iSalary)\n"
   ]
  },
  {
   "cell_type": "markdown",
   "metadata": {
    "deleted": false,
    "editable": false
   },
   "source": [
    "---------------------------\n",
    "\n",
    "<h3 style=\"color:red;\"><b>Student Practice - CHALLENGE QUESTION</b></h3>\n",
    "<p style=\"color:SlateBlue;\">In the empty cell below, write a function to return the nth  Fibonacci number.</p>\n",
    "<p style=\"color:slateBlue;\">The Fibonacci Sequence is the series of numbers: 0, 1, 1, 2, 3, 5, 8, 13, 21, 34, ..., the 1st term returns a 0, the 2nd returns a 1, and the 3rd term returns a 1, the 4th term returns a 2, and so on.\n",
    "</p>\n",
    "\n",
    "-------------------------------"
   ]
  },
  {
   "cell_type": "code",
   "execution_count": 2,
   "metadata": {
    "deleted": false,
    "editable": false
   },
   "outputs": [],
   "source": [
    "## function fibonacci accept a non-negative and return the nth term of the fibonacci number\n",
    "## the sequence started with 0th term.\n",
    "def fibonacci(n = 0):\n",
    "    if n == 0:\n",
    "        num = 0\n",
    "    elif n == 1:\n",
    "        num = 1\n",
    "    else:\n",
    "        num = fibonacci(n-2)+fibonacci(n-1)\n",
    "\n",
    "    return (num)\n",
    "             "
   ]
  },
  {
   "cell_type": "code",
   "execution_count": 3,
   "metadata": {
    "deleted": false,
    "editable": false
   },
   "outputs": [
    {
     "data": {
      "text/plain": [
       "13"
      ]
     },
     "execution_count": 3,
     "metadata": {},
     "output_type": "execute_result"
    }
   ],
   "source": [
    "## get the nth fibonacci number\n",
    "fibonacci(7)\n"
   ]
  },
  {
   "cell_type": "markdown",
   "metadata": {
    "deleted": false,
    "editable": false
   },
   "source": [
    "---------------------\n",
    "\n",
    "<h3 style=\"color:red;\"><b>Student Practice - CHALLENGE QUESTION</b></h3>\n",
    "<p style=\"color:SlateBlue;\">In the empty cell below, write a function to generate the Fibonacci sequence.<br>\n",
    "The Fibonacci sequence is the series of numbers: 0, 1, 1, 2, 3, 5, 8, 13, 21, 34, ....</p>\n",
    "\n",
    "---------------------"
   ]
  },
  {
   "cell_type": "code",
   "execution_count": 4,
   "metadata": {
    "deleted": false,
    "editable": false
   },
   "outputs": [
    {
     "name": "stdout",
     "output_type": "stream",
     "text": [
      "Enter the number of terms: 7\n",
      "\n",
      "The requested Fibonacci sequence:\n",
      "0  1  1  2  3  5  8  \n",
      "\n"
     ]
    }
   ],
   "source": [
    "## generate the fibonacci sequence\n",
    "term = eval(input(\"Enter the number of terms: \"))\n",
    "if term < 0:\n",
    "    print(\"Invalid input!\")\n",
    "else:\n",
    "    print (\"\\nThe requested Fibonacci sequence:\")\n",
    "    for i in range(0, term):\n",
    "        print (\"{}  \".format(fibonacci(i)), end =\"\")\n",
    "    print (\"\\n\")\n"
   ]
  },
  {
   "cell_type": "code",
   "execution_count": null,
   "metadata": {},
   "outputs": [],
   "source": []
  }
 ],
 "metadata": {
  "kernelspec": {
   "display_name": "Python 3",
   "language": "python",
   "name": "python3"
  },
  "language_info": {
   "codemirror_mode": {
    "name": "ipython",
    "version": 3
   },
   "file_extension": ".py",
   "mimetype": "text/x-python",
   "name": "python",
   "nbconvert_exporter": "python",
   "pygments_lexer": "ipython3",
   "version": "3.8.3"
  }
 },
 "nbformat": 4,
 "nbformat_minor": 4
}
