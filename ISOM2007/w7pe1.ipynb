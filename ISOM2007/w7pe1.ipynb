{
 "cells": [
  {
   "cell_type": "markdown",
   "metadata": {
    "deletable": false,
    "editable": false
   },
   "source": [
    "--------------------------\n",
    "\n",
    "<h3 style=\"color:blue;\"><b>Dictionaries in Python</b></h3>\n",
    "<ul style=\"color:DodgerBlue;\">\n",
    "    <li>Python dictionary is defined as a collection of comma-separated pairs of the form “key:value” enclosed in curly braces.</li>\n",
    "    <li>The keys must be immutable objects (such as strings, numbers, or tuples), but the values can have any data types. The keys are unique, but the values needn’t be unique.\n",
    "        The value associated with key1 is given by the expression dictionaryName[key1]. </li>\n",
    "    </ul>\n",
    "    \n",
    "--------------------------------------"
   ]
  },
  {
   "cell_type": "code",
   "execution_count": 1,
   "metadata": {
    "deletable": false,
    "editable": false
   },
   "outputs": [
    {
     "name": "stdout",
     "output_type": "stream",
     "text": [
      "{'firstName': 'Robert', 'lastName': 'Smith', 'age': 19}\n",
      "\n",
      "Robert Smith is 19 years old.\n"
     ]
    }
   ],
   "source": [
    "bob = {\"firstName\":\"Robert\", \"lastName\":\"Smith\", \"age\":19}\n",
    "print (bob)\n",
    "print (\"\\n{} {} is {} years old.\".format(bob[\"firstName\"], bob[\"lastName\"], bob[\"age\"]))\n"
   ]
  },
  {
   "cell_type": "code",
   "execution_count": 2,
   "metadata": {
    "deletable": false,
    "editable": false
   },
   "outputs": [
    {
     "name": "stdout",
     "output_type": "stream",
     "text": [
      "{'firstName': 'Robert', 'lastName': 'Smith', 'age': 19}\n",
      "\n",
      "Robert Smith is 19 years old.\n"
     ]
    }
   ],
   "source": [
    "bob = {\"firstName\":\"Robert\", \"lastName\":\"Smith\", \"age\":19}\n",
    "print (bob)\n",
    "print (\"\\n{2:s} {1:s} is {0:d} years old.\".format(bob[\"age\"], bob[\"lastName\"], bob[\"firstName\"]))\n"
   ]
  },
  {
   "cell_type": "code",
   "execution_count": 4,
   "metadata": {
    "deletable": false,
    "editable": false
   },
   "outputs": [
    {
     "name": "stdout",
     "output_type": "stream",
     "text": [
      "Enter a person's name: Sam\n",
      "Sam's phone number is 5354-8383.\n"
     ]
    }
   ],
   "source": [
    "phoneBook = {\"Sam\":\"5354-8383\", \"Ted\":\"5982-9386\", \"Joe\":\"5937-8374\"}\n",
    "name = input(\"Enter a person's name: \")\n",
    "print (\"{}'s phone number is {}.\".format(name, phoneBook[name]))\n"
   ]
  },
  {
   "cell_type": "code",
   "execution_count": 5,
   "metadata": {
    "deletable": false,
    "editable": false
   },
   "outputs": [
    {
     "name": "stdout",
     "output_type": "stream",
     "text": [
      "Enter a person's name: John\n",
      "John has no phone record\n"
     ]
    }
   ],
   "source": [
    "phoneBook = {\"Sam\":\"5354-8383\", \"Ted\":\"5982-9386\", \"Joe\":\"5937-8374\"}\n",
    "name = input(\"Enter a person's name: \")\n",
    "\n",
    "if name in phoneBook:\n",
    "    print (\"{}'s phone number is {}.\".format(name, phoneBook[name]))\n",
    "else:\n",
    "    print (\"{} has no phone record\".format(name))\n",
    "    "
   ]
  },
  {
   "cell_type": "code",
   "execution_count": 2,
   "metadata": {
    "deletable": false,
    "editable": false
   },
   "outputs": [
    {
     "name": "stdout",
     "output_type": "stream",
     "text": [
      "Enter a person's name: Joe\n",
      "Joe's phone number is 5937-8374.\n"
     ]
    }
   ],
   "source": [
    "phoneBook = {\"Sam\":\"5354-8383\", \"Ted\":\"5982-9386\", \"Joe\":\"5937-8374\"}\n",
    "name = input(\"Enter a person's name: \")\n",
    "print (\"{}'s phone number is {}.\".format(name, phoneBook.get(name, \"no phone record\")))\n"
   ]
  },
  {
   "cell_type": "code",
   "execution_count": 6,
   "metadata": {
    "deletable": false,
    "editable": false
   },
   "outputs": [
    {
     "data": {
      "text/plain": [
       "['Sam', 'Ted', 'Joe']"
      ]
     },
     "execution_count": 6,
     "metadata": {},
     "output_type": "execute_result"
    }
   ],
   "source": [
    "phoneBook = {\"Sam\":\"5354-8383\", \"Ted\":\"5982-9386\", \"Joe\":\"5937-8374\"}\n",
    "list(phoneBook)\n"
   ]
  },
  {
   "cell_type": "code",
   "execution_count": 7,
   "metadata": {
    "deletable": false,
    "editable": false
   },
   "outputs": [
    {
     "data": {
      "text/plain": [
       "['Sam', 'Ted', 'Joe']"
      ]
     },
     "execution_count": 7,
     "metadata": {},
     "output_type": "execute_result"
    }
   ],
   "source": [
    "list(phoneBook.keys())\n"
   ]
  },
  {
   "cell_type": "code",
   "execution_count": 8,
   "metadata": {
    "deletable": false,
    "editable": false
   },
   "outputs": [
    {
     "data": {
      "text/plain": [
       "['5354-8383', '5982-9386', '5937-8374']"
      ]
     },
     "execution_count": 8,
     "metadata": {},
     "output_type": "execute_result"
    }
   ],
   "source": [
    "list(phoneBook.values())\n"
   ]
  },
  {
   "cell_type": "code",
   "execution_count": 9,
   "metadata": {
    "deletable": false,
    "editable": false
   },
   "outputs": [
    {
     "data": {
      "text/plain": [
       "[('Sam', '5354-8383'), ('Ted', '5982-9386'), ('Joe', '5937-8374')]"
      ]
     },
     "execution_count": 9,
     "metadata": {},
     "output_type": "execute_result"
    }
   ],
   "source": [
    "list(phoneBook.items())\n"
   ]
  },
  {
   "cell_type": "markdown",
   "metadata": {
    "deletable": false,
    "editable": false
   },
   "source": [
    "---------------------------\n",
    "\n",
    "<h3 style=\"color:blue;\"><b>Dictionary Operations</b></h3>\n",
    "\n",
    "<p style=\"color:DodgerBlue;\">Refer to the following web site for the complete list of dictionary operatiions.</p>\n",
    "\n",
    "<p style=\"color:SlateBlue;\">https://www.w3schools.com/python/python_dictionaries.asp</p>\n",
    "\n"
   ]
  },
  {
   "cell_type": "markdown",
   "metadata": {
    "deletable": false,
    "editable": false
   },
   "source": [
    "<h3 style=\"color:blue;\">The dict Function</b></h3>\n",
    "<ul style=\"color:DodgerBlue;\">\n",
    "    <li>A list of two-item lists or two-item tuples can be converted to a dictionary with the dict function.</li>\n",
    "    <li>For instance if</li>\n",
    "<span style=\"color:white;\">.....</span><span style=\"color:brown;\">list1 = [[\"one\", 1], [\"two\", 2], [\"three\", 3]]</span><br>\n",
    "    <span style=\"color:DodgerBlue;\">or</span><br>\n",
    "<span style=\"color:white;\">.....</span><span style=\"color:brown;\">list1 = [(\"one\", 1), (\"two\", 2), (\"three\", 3)]</span>\n",
    "    <li>The value of dict(list1) will be the dictionary</li>\n",
    "    <span style=\"color:white;\">.....</span><span style=\"color:brown;\">{\"one\": 1, \"two\": 2, \"three\": 3}</span>\n",
    "    </ul>\n"
   ]
  },
  {
   "cell_type": "markdown",
   "metadata": {
    "deletable": false,
    "editable": false
   },
   "source": [
    "<h3 style=\"color:blue;\"><b>Dictionary-Valued Dictionaries</b></h3>\n",
    "<ul style=\"color:DodgerBlue;\">\n",
    "    <li>A dictionary's values can be any type of object, including a dictionary.</li>\n",
    "    <li>When some data are placed as the following dictionary:</li><br>\n",
    "    <span style=\"color:brown;\">nations = {\"Canada\":{\"cont\":\"North America\", \"popl\":34.8, \"area\":3855000}, \"France\":{\"cont\":\"Europe\",\"popl\":66.3},\"area\":211209} ...}</span>\n",
    "    </ul>\n",
    "    \n",
    "---------------------------------"
   ]
  },
  {
   "cell_type": "code",
   "execution_count": 10,
   "metadata": {
    "deletable": false,
    "editable": false
   },
   "outputs": [
    {
     "name": "stdout",
     "output_type": "stream",
     "text": [
      "{'Canada': {'cont': 'North America', 'popl': 34.8, 'area': 3855000}, 'France': {'cont': 'Europe', 'popl': 66.3, 'area': 211209}} \n",
      "\n",
      "{'cont': 'North America', 'popl': 34.8, 'area': 3855000} \n",
      "\n",
      "North America\n",
      "34.8\n",
      "3855000\n"
     ]
    }
   ],
   "source": [
    "nat1 = [\"Canada\", {\"cont\":\"North America\", \"popl\":34.8, \"area\":3855000}]\n",
    "nat2 = [\"France\", {\"cont\":\"Europe\", \"popl\":66.3, \"area\":211209}]\n",
    "\n",
    "nations = dict([nat1, nat2])\n",
    "print(nations, \"\\n\")\n",
    "print(nations[\"Canada\"], \"\\n\")\n",
    "print(nations[\"Canada\"][\"cont\"])\n",
    "print(nations[\"Canada\"][\"popl\"])\n",
    "print(nations[\"Canada\"][\"area\"])\n"
   ]
  },
  {
   "cell_type": "markdown",
   "metadata": {
    "deletable": false,
    "editable": false
   },
   "source": [
    "-----------------------\n",
    "\n",
    "<h3 style=\"color:red;\"><b>Student Practice</b></h3>\n",
    "<p style=\"color:DodgerBlue;\">In the empty cell below, create a phone book for your staffs that contains the following information.</p>\n",
    "<table style=\"color:SlateBlue;\">\n",
    "    <tr>\n",
    "        <th style=\"width:60px; text-align:left\">Name</th>\n",
    "        <th style=\"width:140px;\">office phone #</th>\n",
    "        <th style=\"width:140px;\">Cell phone #</th>\n",
    "    </tr>\n",
    "    <tr>\n",
    "        <td style=\"text-align:left;\">Sam</td>\n",
    "        <td>2847-8374</td>\n",
    "        <td>5374-8237</td>\n",
    "    </tr>\n",
    "    <tr>\n",
    "        <td style=\"text-align:left;\">Tony</td>\n",
    "        <td>2882-9374</td>\n",
    "        <td>6384-9474</td>\n",
    "    </tr>\n",
    "    <tr>\n",
    "        <td style=\"text-align:left;\">Steven</td>\n",
    "        <td>2834-9334</td>\n",
    "        <td>4837-8363</td>\n",
    "    </tr>\n",
    "    <tr>\n",
    "        <td style=\"text-align:left;\">Debbie</td>\n",
    "        <td>3767-9783</td>\n",
    "        <td>7637-9934</td>\n",
    "    </tr>\n",
    "    <tr>\n",
    "        <td style=\"text-align:left;\">Mandy</td>\n",
    "        <td>9084-3829</td>\n",
    "        <td>2563-9477</td>\n",
    "    </tr>    \n",
    "</table>\n",
    "    \n",
    "--------------------------"
   ]
  },
  {
   "cell_type": "code",
   "execution_count": null,
   "metadata": {},
   "outputs": [],
   "source": [
    "name1 = ['Sam', {'office_phone':'2847-8374', 'cell_phone':'5374-8237'}]\n",
    "name2 = ['Tony', {'office_phone':'2882-9374', 'cell_phone':'6384-9474'}]\n",
    "name3 = ['Steven', {'office_phone':'2834-9334', 'cell_phone':'4837-8363'}]\n",
    "name4 = ['Debbie', {'office_phone':'3767-9783', 'cell_phone':'7637-9934'}]\n",
    "name5 = ['Mandy', {'office_phone':'9084-3829', 'cell_phone':'2563-9477'}]\n",
    "phone_book = dict([name1, name2, name3, name4, name5])"
   ]
  },
  {
   "cell_type": "markdown",
   "metadata": {
    "deletable": false,
    "editable": false
   },
   "source": [
    "--------------------------\n",
    "\n",
    "<h3 style=\"color:red;\"><b>Student Practice</b></h3>\n",
    "<p style=\"color:DodgerBlue;\">In the empty cell below, create a phone book enquiry system. Input the name and enquiry type (B, O, or C) from the user and provide the answer to the enquiry accordingly. You need to perform the input validation to avoid adnormal terminaton of your program.</p>\n",
    "\n",
    "------------------------------------"
   ]
  },
  {
   "cell_type": "code",
   "execution_count": null,
   "metadata": {},
   "outputs": [],
   "source": [
    "    ##输入想要查询电话的姓名\n",
    "    name = input(\"please input the name: \")\n",
    "    name = name.lower().title()\n",
    "    ##选择命令，O指代office number，C指代cell phone number，B指代打开整个电话簿\n",
    "    enquiry = input(\"please input your order (B, O, or C): \")\n",
    "    if name in phone_book:\n",
    "        if enquiry == 'O':\n",
    "            print(\"{}'s office number is {}\".format(name, phone_book[name]['office_phone']))\n",
    "        if enquiry == 'C':\n",
    "            print(\"{}'s cell phone number is {}\".format(name, phone_book[name]['cell_phone']))\n",
    "        if enquiry == 'B':\n",
    "            print(phone_book)\n",
    "    ##查无此人\n",
    "    else:\n",
    "        print(\"{} has no record\".format(name))"
   ]
  },
  {
   "cell_type": "markdown",
   "metadata": {
    "deletable": false,
    "editable": false
   },
   "source": [
    "-----------------------------\n",
    "\n",
    "<h3 style=\"color:red;\"><b>Student Practice (Challenge)</b></h3>\n",
    "\n",
    "<p style=\"color:DodgerBlue;\">In the empty cell below, count the number of words and the occurence of each word in the given paragraph (i.e. the sentences in the next cell). Assume it is not case sensitive, that means the word \"An\" and \"an\" are considered to be the same.</p>\n",
    "\n",
    "------------------------------------"
   ]
  },
  {
   "cell_type": "code",
   "execution_count": 8,
   "metadata": {
    "deletable": false,
    "editable": false
   },
   "outputs": [],
   "source": [
    "paraData = \"\"\"An object is an encapsulation of data and code that operates on the data. Objects have\n",
    "properties and respond to methods. The most effective type of programming for complex\n",
    "problems is called object-oriented design. An object-oriented program can be viewed as a\n",
    "collection of cooperating objects. Many modern programmers use a blend of traditional\n",
    "structured programming along with object-oriented design. Python is an object-oriented\n",
    "programming language—in fact, every structure, such as a list or a string is actually an\n",
    "object. This book illustrates the building blocks of Python in the early chapters and then\n",
    "puts them together using object-oriented techniques\"\"\"\n"
   ]
  },
  {
   "cell_type": "code",
   "execution_count": 9,
   "metadata": {},
   "outputs": [
    {
     "name": "stdout",
     "output_type": "stream",
     "text": [
      "106\n"
     ]
    }
   ],
   "source": [
    "def count(sentence):\n",
    "    punctuations = ('.', ',', '-', ':', '?', '!', '$', '%', '@', '#', '—')\n",
    "    for punc in punctuations:\n",
    "        sentence = sentence.replace(punc, ' ')\n",
    "\n",
    "    wlist = sentence.split()\n",
    "    print(len(wlist))\n",
    "    \n",
    "count(paraData)"
   ]
  },
  {
   "cell_type": "code",
   "execution_count": 10,
   "metadata": {},
   "outputs": [
    {
     "name": "stdout",
     "output_type": "stream",
     "text": [
      "{'an': 5, 'object': 1, 'is': 4, 'encapsulation': 1, 'of': 5, 'data': 1, 'and': 3, 'code': 1, 'that': 1, 'operates': 1, 'on': 1, 'the': 4, 'data.': 1, 'objects': 1, 'have': 1, 'properties': 1, 'respond': 1, 'to': 1, 'methods.': 1, 'most': 1, 'effective': 1, 'type': 1, 'programming': 3, 'for': 1, 'complex': 1, 'problems': 1, 'called': 1, 'object-oriented': 5, 'design.': 2, 'program': 1, 'can': 1, 'be': 1, 'viewed': 1, 'as': 2, 'a': 4, 'collection': 1, 'cooperating': 1, 'objects.': 1, 'many': 1, 'modern': 1, 'programmers': 1, 'use': 1, 'blend': 1, 'traditional': 1, 'structured': 1, 'along': 1, 'with': 1, 'python': 2, 'language—in': 1, 'fact,': 1, 'every': 1, 'structure,': 1, 'such': 1, 'list': 1, 'or': 1, 'string': 1, 'actually': 1, 'object.': 1, 'this': 1, 'book': 1, 'illustrates': 1, 'building': 1, 'blocks': 1, 'in': 1, 'early': 1, 'chapters': 1, 'then': 1, 'puts': 1, 'them': 1, 'together': 1, 'using': 1, 'techniques': 1}\n",
      "{'an': 5, 'object': 1, 'is': 4, 'encapsulation': 1, 'of': 5, 'data': 1, 'and': 3, 'code': 1, 'that': 1, 'operates': 1, 'on': 1, 'the': 4, 'data.': 1, 'objects': 1, 'have': 1, 'properties': 1, 'respond': 1, 'to': 1, 'methods.': 1, 'most': 1, 'effective': 1, 'type': 1, 'programming': 3, 'for': 1, 'complex': 1, 'problems': 1, 'called': 1, 'object-oriented': 5, 'design.': 2, 'program': 1, 'can': 1, 'be': 1, 'viewed': 1, 'as': 2, 'a': 4, 'collection': 1, 'cooperating': 1, 'objects.': 1, 'many': 1, 'modern': 1, 'programmers': 1, 'use': 1, 'blend': 1, 'traditional': 1, 'structured': 1, 'along': 1, 'with': 1, 'python': 2, 'language—in': 1, 'fact,': 1, 'every': 1, 'structure,': 1, 'such': 1, 'list': 1, 'or': 1, 'string': 1, 'actually': 1, 'object.': 1, 'this': 1, 'book': 1, 'illustrates': 1, 'building': 1, 'blocks': 1, 'in': 1, 'early': 1, 'chapters': 1, 'then': 1, 'puts': 1, 'them': 1, 'together': 1, 'using': 1, 'techniques': 1}\n"
     ]
    }
   ],
   "source": [
    "from collections import Counter\n",
    "paraData = paraData.lower()\n",
    "paraData = paraData.split()\n",
    "list = dict(Counter(paraData))\n",
    "print({key:value for key,value in list.items() if value >= 1})\n"
   ]
  },
  {
   "cell_type": "code",
   "execution_count": null,
   "metadata": {},
   "outputs": [],
   "source": []
  },
  {
   "cell_type": "code",
   "execution_count": null,
   "metadata": {},
   "outputs": [],
   "source": []
  }
 ],
 "metadata": {
  "kernelspec": {
   "display_name": "Python 3",
   "language": "python",
   "name": "python3"
  },
  "language_info": {
   "codemirror_mode": {
    "name": "ipython",
    "version": 3
   },
   "file_extension": ".py",
   "mimetype": "text/x-python",
   "name": "python",
   "nbconvert_exporter": "python",
   "pygments_lexer": "ipython3",
   "version": "3.8.5"
  }
 },
 "nbformat": 4,
 "nbformat_minor": 4
}
