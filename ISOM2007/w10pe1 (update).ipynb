{
 "cells": [
  {
   "cell_type": "markdown",
   "metadata": {
    "deletable": false,
    "editable": false
   },
   "source": [
    "------------------------------\n",
    "<h2 style=\"color:blue;\"><b>Object-Oriented Programming (OOP)</b></h2>\n",
    "\n",
    "<h3 style=\"color:blue;\">Learning Outcomes:</h3>\n",
    "<p>\n",
    "    <ul style=\"color:SlateBlue;\">\n",
    "        <li>Understand what are objects in Object-Oriented Programming environment.</li>\n",
    "        <li>Gain the knowledge on Objects and Instances in Python.</li>\n",
    "        <li>Get the knowledge and skills on Creating Instances.</li>\n",
    "        <li>Understand the concept of Encapsulating Methods in Classes.</li>\n",
    "        <li>Gain the knowledge and skills to Encapsulate Methods in Python.</li>\n",
    "        </ul>\n",
    "</p>\n",
    " \n",
    "--------------------------     \n"
   ]
  },
  {
   "cell_type": "markdown",
   "metadata": {
    "deletable": false,
    "editable": false
   },
   "source": [
    "--------------------------\n",
    "<h3 style=\"color:blue;\"><b>What are Objects?</b></h3>\n",
    "\n",
    "<p><ul style=\"color:SlateBlue;\">\n",
    "        <li>As demands for new and more powerful software are soaring, building software quickly, correctly and economically is important.</li>\n",
    "        <li>Objects, or more precisely, the classes objects come from, are essentially reusable software components, which can easy be applied and used in some other programs or applications.</li>\n",
    "        <li>Languages like Python are object-oriented.</li>\n",
    "        <li>Programming in this type language, is called object-oriented programming (OOP), allows you to implement an object-oriented design as a working system.</li>\n",
    "        <li>Object-Oriented Programming – a programming paradigm where programmers define custom data types that have custom methods embedded within them.</li>\n",
    "        <li>Object - an object is a custom data structure that organizes and encapsulates variables and methods into a single data type. It is used near-interchangeably with \"instance\".</li>\n",
    "        <li>Class - a custom data type comprised of multiple variables and/or methods. Instances or objects are created based on the template provided by the class.</li>\n",
    "        <li>Method – a function defined inside of a class.</li>\n",
    "        <li>self - a keyword in Python classes that is used to refer to the instance itself. It defines the scope of variables and methods that methods in the class can see.</li>\n",
    "    </ul></p>\n",
    "    \n",
    "----------------------------------------------"
   ]
  },
  {
   "cell_type": "markdown",
   "metadata": {
    "deletable": false,
    "editable": false
   },
   "source": [
    "<h3 style=\"color:blue;\">Declaring a Class</h3>\n",
    "<p><ul style=\"color:DodgerBlue;\">\n",
    "    <li>We use the world of Human as example through-out the discussion in this topic.</li>\n",
    "    <li>We may define the class Human as follow:</li></ul></p>\n"
   ]
  },
  {
   "cell_type": "code",
   "execution_count": null,
   "metadata": {
    "deletable": false,
    "editable": false
   },
   "outputs": [],
   "source": [
    "## Define the class Human\n",
    "class Human:\n",
    "    \n",
    "    ## Create a new instance (i.e. a new born) of Human\n",
    "    def __init__(self):\n",
    "        ## Potential human's default values\n",
    "        self.firstname = \"[no first name]\"\n",
    "        self.lastname = \"[no last name]\"\n",
    "        self.eyecolor = \"[no eye color]\"\n",
    "        self.haircolor = \"[no hair color]\"\n",
    "        self.gender = \"[no gender]\"\n",
    "        self.height = -1\n",
    "        self.age = -1\n",
    "        "
   ]
  },
  {
   "cell_type": "markdown",
   "metadata": {
    "deletable": false,
    "editable": false
   },
   "source": [
    "<ul style=\"color:DodgerBlue;\">\n",
    "    <li>We may also use classes as values for other classes.</li>\n",
    "    </ul\n",
    "        "
   ]
  },
  {
   "cell_type": "code",
   "execution_count": null,
   "metadata": {
    "deletable": false,
    "editable": false
   },
   "outputs": [],
   "source": [
    "## Define the class Name for Human\n",
    "class Name:\n",
    "    def __init__(self):\n",
    "        self.firstname = \"[no first name]\"\n",
    "        self.lastname = \"[no last name]\"\n",
    "        \n",
    "## Define the class Human\n",
    "class Human:\n",
    "    \n",
    "    ## Initialize a new instance (i.e. a new born) of Human\n",
    "    def __init__(self):\n",
    "        ## Personalize a human's default values\n",
    "        self.name = Name()\n",
    "        self.eyecolor = \"[no eye color]\"\n",
    "        self.haircolor = \"[no hair color]\"\n",
    "        self.gender = \"[no gender]\"\n",
    "        self.height = -1\n",
    "        self.age = -1"
   ]
  },
  {
   "cell_type": "markdown",
   "metadata": {
    "deletable": false,
    "editable": false
   },
   "source": [
    "<ul style=\"color:DodgerBlue;\">\n",
    "    <li>Create an instance (i.e. a person according to class Human).</li>\n",
    "    </ul>"
   ]
  },
  {
   "cell_type": "code",
   "execution_count": null,
   "metadata": {
    "deletable": false,
    "editable": false
   },
   "outputs": [],
   "source": [
    "## Define the class Human\n",
    "class Human:\n",
    "    \n",
    "    ## Create a new instance (i.e. a new born) of Human\n",
    "    def __init__(self):\n",
    "        ## Potential human's default values\n",
    "        self.firstname = \"[no first name]\"\n",
    "        self.lastname = \"[no last name]\"\n",
    "        self.eyecolor = \"[no eye color]\"\n",
    "        self.haircolor = \"[no hair color]\"\n",
    "        self.gender = \"[no gender]\"\n",
    "        self.height = -1\n",
    "        self.age = -1\n",
    "        \n",
    "        \n",
    "## Create a new human and assign it to myPerson\n",
    "myPerson = Human()\n",
    "print(myPerson.firstname)\n",
    "print(myPerson.lastname)\n",
    "print(myPerson.gender)\n",
    "print(myPerson.height)"
   ]
  },
  {
   "cell_type": "markdown",
   "metadata": {
    "deletable": false,
    "editable": false
   },
   "source": [
    "<ul style=\"color:DodgerBlue;\">\n",
    "    <li>Personalise the instance.</li>\n",
    "    </ul>"
   ]
  },
  {
   "cell_type": "code",
   "execution_count": null,
   "metadata": {
    "deletable": false,
    "editable": false
   },
   "outputs": [],
   "source": [
    "## Define the class Human\n",
    "class Human:\n",
    "    \n",
    "    ## Create a new instance (i.e. a new born) of Human\n",
    "    def __init__(self):\n",
    "        ## Potential human's default values\n",
    "        self.firstname = \"[no first name]\"\n",
    "        self.lastname = \"[no last name]\"\n",
    "        self.eyecolor = \"[no eye color]\"\n",
    "        self.haircolor = \"[no hair color]\"\n",
    "        self.gender = \"[no gender]\"\n",
    "        self.height = -1\n",
    "        self.age = -1\n",
    "        \n",
    "        \n",
    "## Create a new human and assign it to myPerson\n",
    "myPerson = Human()\n",
    "\n",
    "myPerson.lastname = \"CHEUNG\"\n",
    "myPerson.age = 20\n",
    "print(myPerson.firstname)\n",
    "print(myPerson.lastname)\n",
    "print(myPerson.age)"
   ]
  },
  {
   "cell_type": "markdown",
   "metadata": {
    "deletable": false,
    "editable": false
   },
   "source": [
    "-------------------------\n",
    "<h3 style=\"color:blue;\"><b>Encapsulating Methods in Classes</b></h3>\n",
    "<ul style=\"color:DodgerBlue;\">\n",
    "    <li>Part of the power of classes and instances is that they let us create data types with logical combinations of variables.</li>\n",
    "    <li>Other powers of object-oriented programming is that classes can contain methods—their own dedicated functions - as well as variables.</li>\n",
    "    <li>Encapsulation is the principle of object-oriented program that describes organizing variables and methods together into custom structures.</li>\n",
    "    <li>A method is a function defined inside of a class.</li>\n",
    "    <li>It has all the same properties: a name, a list of parameters, some code, and optionally a return statement.</li>\n",
    "    <li>The scope inside the method is defined as the normal scope of a function for that language (typically the method’s parameters and any variables it defines in its own code), plus any variables that are visible in the instance of the class as a whole (accessed via that self variable).</li>\n",
    "    <li>So, in the case of a Human class with class variables firstname and lastname, the class might have a getFullName() method that would return the first and last name together.</li>\n",
    "    <li>Because the first and last name exist inside the instance, the method getFullName() could see them and manipulate them before returning the name.</li>\n",
    "    </ul>\n",
    "    "
   ]
  },
  {
   "cell_type": "markdown",
   "metadata": {
    "deletable": false,
    "editable": false
   },
   "source": [
    "<p style=\"color:blue;\"><b>Constructors in Python</b></p>\n",
    "<ul style=\"color:DodgerBlue;\">\n",
    "    <li>__init__( ) is Python’s convention for identifying constructors.</li>\n",
    "    <li>Whenever a new instance of a class is created, Python will goes and searches for the existence of class’s __init__ method and runs it (if it exists).</li>\n",
    "    <li>It’s alright if it does not, Python just creates the instance without running any initial set-up code only.</li>\n",
    "    </ul>\n"
   ]
  },
  {
   "cell_type": "code",
   "execution_count": null,
   "metadata": {
    "deletable": false,
    "editable": false
   },
   "outputs": [],
   "source": [
    "## Example #1\n",
    "## Define the class Human - no parameters specified\n",
    "class Human:\n",
    "    ## Create a new instance (i.e. a new born) of Human\n",
    "    def __init__(self):\n",
    "        ## Human's default values\n",
    "        self.firstname = \"[no first name defined yet]\"\n",
    "        self.lastname = \"[no last name defined yet]\"\n",
    "        self.gender = \"[no gender defined yet]\"\n",
    "        self.age = -1\n",
    "        \n",
    "        \n",
    "## Create a new human and assign it to myPerson\n",
    "peter = Human()\n",
    "print(peter.firstname)\n",
    "print(peter.age)\n"
   ]
  },
  {
   "cell_type": "code",
   "execution_count": null,
   "metadata": {
    "deletable": false,
    "editable": false
   },
   "outputs": [],
   "source": [
    "## Example #2\n",
    "## Define a class human - with default values\n",
    "class Human:\n",
    "    ## Constructor for class human\n",
    "    def __init__(self, fn=\"[not yet defined]\", ln=\"[not yet defined]\", \\\n",
    "                 gd=\"[not yet defined]\", ag=-1):\n",
    "        ## Human's default values\n",
    "        self.firstname = fn\n",
    "        self.lastname = ln\n",
    "        self.gender = gd\n",
    "        self.age = ag\n",
    "\n",
    "        \n",
    "sam = Human(\"Sam\", \"Chan\")\n",
    "print(sam.firstname)\n",
    "print(sam.lastname)\n",
    "print(sam.gender)\n",
    "print(sam.age)\n"
   ]
  },
  {
   "cell_type": "code",
   "execution_count": null,
   "metadata": {
    "deletable": false,
    "editable": false
   },
   "outputs": [],
   "source": [
    "## Example #3\n",
    "## Define a class human - with default values & specified paramenter names\n",
    "class Human:\n",
    "    ## Constructor for class human\n",
    "    def __init__(self, fn=\"[not yet defined]\", ln=\"[not yet defined]\", \\\n",
    "                 gd = \"[not yet defined]\", ag=-1):\n",
    "        ## Human's default values\n",
    "        self.firstname = fn\n",
    "        self.lastname = ln\n",
    "        self.gender = gd\n",
    "        self.age = ag\n",
    "\n",
    "        \n",
    "sam = Human(\"Sam\", \"Chan\")\n",
    "print(\"Sam's firstname  : \", sam.firstname)\n",
    "\n",
    "ken = Human(ag=36, ln=\"Wan\", gd=\"M\")\n",
    "print(\"Ken's lastname   : \", ken.lastname)\n",
    "print(\"Ken's firstname  : \", ken.firstname)\n",
    "print(\"Ken's gender     : \", ken.gender)\n",
    "print(\"Ken's age        : \", ken.age)\n"
   ]
  },
  {
   "cell_type": "markdown",
   "metadata": {
    "deletable": false,
    "editable": false
   },
   "source": [
    "<p style=\"color:DodgerBlue;\"><b>Getters and Setters in Python</b></p>\n",
    "<ul style=\"color:SlateBlue;\">\n",
    "    <li>Python, not like other languages, does not provide privacy options for its variables and methods, meaning that other code can access variables directly.</li>\n",
    "    <li>By convention, we often precede variables that we don’t want other classes or functions to access with a double underscores, other classes or functions are still able to access the data.</li>\n",
    "    <li>The double underscore, is just a convention, simply informs them that they are not intended to access the data directly.</li>\n",
    "    <li>One way to avoid these, can consider to make them hidden / unknown, let them access / modified ta by means of getter or setter methods.</li>\n",
    "    </ul>\n"
   ]
  },
  {
   "cell_type": "code",
   "execution_count": null,
   "metadata": {
    "deletable": false,
    "editable": false
   },
   "outputs": [],
   "source": [
    "## Class human with setter and getter sample\n",
    "class Human:\n",
    "    ## Constructor for class human\n",
    "    def __init__(self):\n",
    "        ## Human's default values\n",
    "        self.firstname = \"[no first name defined yet]\"\n",
    "        self.lastname = \"[no last name defined yet]\"\n",
    "        self.gender = \"[no gender defined yet]\"\n",
    "        self.age = -1\n",
    "        \n",
    "    def registerID(self, fn, ln, gd, ag): # setter method\n",
    "        self.firstname = fn\n",
    "        self.lastname = ln\n",
    "        self.gender = gd\n",
    "        self.age = ag\n",
    "        \n",
    "    def setAge(self, ag):\n",
    "        self.age = ag\n",
    "        \n",
    "    def getFirstName(self):     # getter methods\n",
    "        return self.firstname\n",
    "    \n",
    "    def getLastName(self):      \n",
    "        return self.lastname\n",
    "    \n",
    "    def getGender(self):\n",
    "        return self.gender\n",
    "    \n",
    "    def getAge(self):\n",
    "        return self.age\n",
    "    \n",
    "\n",
    "steven = Human()\n",
    "steven.registerID(\"Steven\", \"Lee\", \"M\", 28)\n",
    "\n",
    "print(steven.getFirstName())\n",
    "print(steven.getLastName())\n",
    "print(steven.getGender())\n",
    "print(steven.getAge())\n"
   ]
  },
  {
   "cell_type": "markdown",
   "metadata": {
    "deletable": false,
    "editable": false
   },
   "source": [
    "<p style=\"color:DodgerBlue;\">Other Methods (or Functions) – methods to do whatever we wants with the variables of the class.</p>"
   ]
  },
  {
   "cell_type": "code",
   "execution_count": null,
   "metadata": {
    "deletable": false,
    "editable": false
   },
   "outputs": [],
   "source": [
    "## Class human with setter, getter, & other methods\n",
    "class Human:\n",
    "    ## Constructor for class human\n",
    "    def __init__(self):\n",
    "        ## Human's default values\n",
    "        self.firstname = \"[no first name defined yet]\"\n",
    "        self.lastname = \"[no last name defined yet]\"\n",
    "        self.gender = \"[no gender defined yet]\"\n",
    "        self.age = -1\n",
    "        \n",
    "    def registerID(self, fn, ln, gd, ag): # setter methods\n",
    "        self.firstname = fn\n",
    "        self.lastname = ln\n",
    "        self.gender = gd\n",
    "        self.age = ag\n",
    "        \n",
    "    def setAge(self, age):\n",
    "        self.age = age\n",
    "        \n",
    "    def getFirstName(self):     # getter methods\n",
    "        return self.firstname\n",
    "    \n",
    "    def getLastName(self):\n",
    "        return self.lastname\n",
    "    \n",
    "    def getGender(self):\n",
    "        return self.gender\n",
    "    \n",
    "    def getAge(self):\n",
    "        return self.age\n",
    "    \n",
    "    def getFullName(self):     # other methods / functions\n",
    "        return self.lastname + \", \" + self.firstname\n",
    "    \n",
    "    def getDetails(self):\n",
    "        return [self.lastname, self.firstname, self.gender, self.age]\n",
    "    \n",
    "\n",
    "debbie = Human()\n",
    "debbie.registerID(\"Debbie\", \"Luk\", \"F\", 22)\n",
    "print(debbie.getFullName())\n",
    "print(debbie.getDetails())\n"
   ]
  },
  {
   "cell_type": "markdown",
   "metadata": {
    "deletable": false,
    "editable": false
   },
   "source": [
    "-------------------------------------------\n",
    "<h3 style=\"color:blue;\"><b>Advanced Topics in Classes in Python</b></h3>\n",
    "<p style=\"color:DodgerBlue;\">Combining Classes – class use in another class.</p>\n"
   ]
  },
  {
   "cell_type": "code",
   "execution_count": null,
   "metadata": {
    "deletable": false,
    "editable": false
   },
   "outputs": [],
   "source": [
    "## Define the class Human\n",
    "class Human:\n",
    "    def __init__(self, name, eyecolor, age):\n",
    "        self.name = name\n",
    "        self.eyecolor = eyecolor\n",
    "        self.age = age\n",
    "        \n",
    "## Define the class Name for Human\n",
    "class Name:\n",
    "    def __init__(self, firstname, lastname):\n",
    "        self.firstname = firstname\n",
    "        self.lastname = lastname\n",
    "        \n",
    "        \n",
    "cynthia = Human(Name(\"Cynthia\", \"Kong\"), \"brown\", 24)\n",
    "print(cynthia.name.firstname)\n",
    "print(cynthia.name.lastname)\n",
    "print(cynthia.eyecolor)\n",
    "print(cynthia.age)\n"
   ]
  },
  {
   "cell_type": "markdown",
   "metadata": {
    "deletable": false,
    "editable": false
   },
   "source": [
    "\n",
    "<p style=\"color:DodgerBlue;\">Instance Assignment – assign instance to another instance.</p>\n",
    "\n"
   ]
  },
  {
   "cell_type": "code",
   "execution_count": null,
   "metadata": {
    "deletable": false,
    "editable": false
   },
   "outputs": [],
   "source": [
    "## Define the class Human\n",
    "class Human:\n",
    "    def __init__(self, firstname, lastname, eyecolor, age):\n",
    "        self.firstname = firstname\n",
    "        self.lastname = lastname\n",
    "        self.eyecolor = eyecolor\n",
    "        self.age = age\n",
    "        \n",
    "        \n",
    "cynthia = Human(\"Cynthia\", \"Kong\", \"brown\", 24)\n",
    "mary = cynthia\n",
    "print(cynthia.firstname, cynthia.lastname, cynthia.eyecolor, cynthia.age)\n",
    "print(mary.firstname, mary.lastname, mary.eyecolor, mary.age)\n",
    "\n",
    "mary.age = 58\n",
    "print(cynthia.age)\n",
    "print(mary.age)\n"
   ]
  },
  {
   "cell_type": "markdown",
   "metadata": {
    "deletable": false,
    "editable": false
   },
   "source": [
    "<p style=\"color:DodgerBlue;\">Making Actual Copies – actually copy an instance</p>\n"
   ]
  },
  {
   "cell_type": "code",
   "execution_count": null,
   "metadata": {
    "deletable": false,
    "editable": false
   },
   "outputs": [],
   "source": [
    "## Define the class Human\n",
    "class Human:\n",
    "    def __init__(self, firstname, lastname, eyecolor, age):\n",
    "        self.firstname = firstname\n",
    "        self.lastname = lastname\n",
    "        self.eyecolor = eyecolor\n",
    "        self.age = age\n",
    "        \n",
    "        \n",
    "kim = Human(\"Kim\", \"So\", \"brown\", 24)\n",
    "lancy = Human(kim.firstname, kim.lastname, kim.eyecolor, kim.age)\n",
    "print(kim.firstname, kim.lastname, kim.eyecolor, kim.age)\n",
    "print(lancy.firstname, lancy.lastname, lancy.eyecolor, lancy.age)\n",
    "\n",
    "lancy.age = 58\n",
    "print(kim.firstname, kim.age)\n",
    "print(lancy.firstname, lancy.age)"
   ]
  },
  {
   "cell_type": "markdown",
   "metadata": {
    "deletable": false,
    "editable": false
   },
   "source": [
    "<p style=\"color:DodgerBlue;\">Instance as a parameter – as parameter of another function</p>\n"
   ]
  },
  {
   "cell_type": "code",
   "execution_count": null,
   "metadata": {
    "deletable": false,
    "editable": false
   },
   "outputs": [],
   "source": [
    "## Class human as a parameter to another operations\n",
    "class Human:\n",
    "    ## Constructor for class human\n",
    "    def __init__(self, fn=\"[not yet defined]\", ln=\"[not yet defined]\", \\\n",
    "                 gd=\"[not yet defined]\", ag=-1):\n",
    "        ## Human's default values\n",
    "        self.firstname = fn\n",
    "        self.lastname = ln\n",
    "        self.gender = gd\n",
    "        self.age = ag\n",
    "\n",
    "        \n",
    "    def registerID(self, fn, ln, gd, ag): # setter methods\n",
    "        self.firstname = fn\n",
    "        self.lastname = ln\n",
    "        self.gender = gd\n",
    "        self.age = ag\n",
    "    \n",
    "    def setFirstName(self, firstname):\n",
    "        self.firstname = firstname\n",
    "        \n",
    "    def setLastName(self, lastname):\n",
    "        self.lastname = lastname\n",
    "        \n",
    "    def setGender(self, gender):\n",
    "        self.gender = gender\n",
    "    \n",
    "    def setAge(self, age):\n",
    "        self.age = age\n",
    "        \n",
    "    def getFirstName(self):     # getter methods\n",
    "        return self.firstname\n",
    "    \n",
    "    def getLastName(self):\n",
    "        return self.lastname\n",
    "    \n",
    "    def getGender(self):\n",
    "        return self.gender\n",
    "    \n",
    "    def getAge(self):\n",
    "        return self.age\n",
    "    \n",
    "    def getFullName(self):     # other methods / functions\n",
    "        return self.lastname + \", \" + self.firstname\n",
    "    \n",
    "    def getDetails(self):\n",
    "        return [self.firstname, self.lastname, self.gender, self.age]\n",
    "    \n",
    "\n",
    "abbie = Human(\"Abbie\", \"Tang\", \"F\", 18)\n",
    "betty = Human(\"Betty\", \"Kong\", \"F\", 22)\n",
    "denis = Human(\"Denis\", \"Fung\", \"M\", 16)\n",
    "feedi = Human(\"Feedi\", \"Peng\", \"M\", 20)\n",
    "kevin = Human(\"Kevin\", \"Wang\", \"M\", 28)\n",
    "mandy = Human(\"Mandy\", \"Song\", \"F\", 24)\n",
    "\n",
    "addDict = dict([[abbie.getFirstName(), abbie], [betty.getFirstName(), betty], \\\n",
    "           [denis.getFirstName(), denis], [feedi.getFirstName(), feedi], \\\n",
    "           [kevin.getFirstName(), kevin], [mandy.getFirstName(), mandy]])\n",
    "\n",
    "individual = addDict[\"Denis\"]\n",
    "individual.setAge(99)\n",
    "\n",
    "print(denis.getDetails())\n",
    "print(individual.getDetails())\n"
   ]
  },
  {
   "cell_type": "markdown",
   "metadata": {
    "deletable": false,
    "editable": false
   },
   "source": [
    "-----------------------------------------\n",
    "<h3 style=\"color:blue;\"><b>Student Practice</b></h3>\n",
    "<p style=\"color:SlateBlue;\">In the empty cell below, define a class account that contains class variales as specified below:\n",
    "    <ul style=\"color:DodgerBlue;\">\n",
    "        <li>customerID</li>\n",
    "        <li>customerName</li>\n",
    "        <li>rate (in percentage)</li>\n",
    "        <li>balance</li>\n",
    "    </ul></p>\n",
    "    \n",
    "<p style=\"color:SlateBlue;\">\n",
    "To manipulate the account for a customer, we need the following methods: \n",
    "    <ul style=\"color:DodgerBlue;\">\n",
    "        <li>__init__ - allow various number of parameters</li>\n",
    "        <li>register - allow to specify the values for all class variables</li>\n",
    "        <li>setRate - assign a new interest rate</li>\n",
    "        <li>getID - retrival the ID of account</li>\n",
    "        <li>getName - retrival the name of account</li>\n",
    "        <li>getBalance - get the current outstand balance</li>\n",
    "        <li>getDetails - display the details information (i.e. customerID, customerName, rate, and balance.</li>\n",
    "        <li>interest - determine the interest according to the formula balance * rate</li>\n",
    "        <li>deposit - add a specific amount to the current balance</li>\n",
    "        <li>withdraw - minus a pecific amount from the current balance</li>       \n",
    "    </ul></p>\n",
    "    \n",
    "<p style=\"color:SlateBlue;\">Perform the necessary testings to verify that all the methods you defined are correctly implemented.</p>\n",
    "\n",
    "---------------------------------------------"
   ]
  },
  {
   "cell_type": "code",
   "execution_count": null,
   "metadata": {},
   "outputs": [],
   "source": []
  },
  {
   "cell_type": "markdown",
   "metadata": {
    "deletable": false,
    "editable": false
   },
   "source": [
    "-----------------------------------------\n",
    "<h3 style=\"color:blue;\"><b>Student Practice</b></h3>\n",
    "<p style=\"color:SlateBlue;\">In the empty cell below, define two customer dictionaries which contain at least 5 customer accounts (fill-in the values arbitrarily yourslef) of the class account. One customer dictionary with serach key customer ID, and the other customer dictionary with search key customer Name.</p>\n",
    "<p style=\"color:SlateBlue;\">Perform the followings on either customer dictionary:\n",
    "    <ol style=\"color:DodgerBlue;\">\n",
    "        <li>Make a deposit of \\$18,000 to the 3rd customer</li>\n",
    "        <li>Make a withdrawal of \\$15,000 from the 4th customer, make sure that there has sufficient fund.</li>\n",
    "        <li>Show the outstanding balance of the 1st customer.</li>\n",
    "        <li>Display the account details of the 5th customer.</li>\n",
    "        </ol></p>\n",
    "\n",
    "------------------"
   ]
  },
  {
   "cell_type": "code",
   "execution_count": null,
   "metadata": {},
   "outputs": [],
   "source": []
  },
  {
   "cell_type": "markdown",
   "metadata": {
    "deletable": false,
    "editable": false
   },
   "source": [
    "----------------------------------------------\n",
    "<h3 style=\"color:blue;\"><b>Student Practice</b></h3>\n",
    "<p style=\"color:SlateBlue;\">\n",
    "Define a class Student that contains class variales below:\n",
    "    <ul style=\"color:DodgerBlue;\">\n",
    "        <li>studentID</li>\n",
    "        <li>studentName</li>\n",
    "        <li>pScores</li>\n",
    "        <li>aScores</li>\n",
    "        <li>mScores</li>\n",
    "        <li>fScores</li>\n",
    "        </ul></p>\n",
    "        \n",
    "<p style=\"color:SlateBlue;\">\n",
    "To manipulate the academic record for a customer, we need the following methods:\n",
    "<ul style=\"color:DodgerBlue;\">\n",
    "    <li>__init__ - allow various number of parameters</li>\n",
    "    <li>register - allow to personalize an instance with specified studentID and studentName</li>\n",
    "    <li>setPScores - assign value to pScores</li>\n",
    "    <li>setAScores - assign value to aScores</li>\n",
    "    <li>setMScores - assign value to mSCores</li>\n",
    "    <li>setFScores - assign value to fScores</li>\n",
    "    <li>getStudentID - retrival the value of student ID</li>\n",
    "    <li>getStudentName - retrival the value student name</li>\n",
    "    <li>getPScores - retrival the scores of practices</li>\n",
    "    <li>getAScores - retrival the scores of assignments</li>\n",
    "    <li>getMScores - retrival the scores of mid-term</li>\n",
    "    <li>getFScores - retrival the scores of final exam</li>\n",
    "    <li>getFinalScores - return the final scores according to 10% of practices, 20% of assignments, 30% of mid-term, and 40% of final exam</li>\n",
    "    <li>getGrade - return the grade according to A (90 ~ 100); B (80 ~ 89.9); C (70 ~ 79.9); D (60 ~ 69.9); E (50 ~ 59.9); F (0 ~ 49.9)</li>\n",
    "    <li>getReports - display the ID, name, all scores, the final scores, and final grade in an organized manner</li>\n",
    "    </ul></p>\n",
    "\n",
    "<p style=\"color:SlateBlue;\">Perform the necessary testings to verify that all the methods you defined are correctly implemented.</p>\n",
    "\n",
    "------------------------------------------------"
   ]
  },
  {
   "cell_type": "code",
   "execution_count": 2,
   "metadata": {},
   "outputs": [
    {
     "name": "stdout",
     "output_type": "stream",
     "text": [
      "your final scores 94.1 earns you A\n",
      "\n",
      "\n",
      "Student ID       : 45213\n",
      "Student Name     : Mike\n",
      "Practice Scores  : 97.00\n",
      "Assignment Scores: 95.00\n",
      "Mid-Term Scores  : 90.00\n",
      "Final Exam Scores: 96.00\n",
      "Final Scores     : 94.10\n",
      "Grade            : A\n"
     ]
    }
   ],
   "source": [
    "class Students():\n",
    "    def __init__(self, studentID=[\"not yet defined\"], studentName=[\"not yet defined\"], pScores=0 \\\n",
    "                 , aScores=0, mScores=0, fScores=0):\n",
    "        self.studentID = studentID\n",
    "        self.studentName = studentName\n",
    "        self.pScores = pScores\n",
    "        self.aScores = aScores\n",
    "        self.mScores = mScores\n",
    "        self.fScores = fScores\n",
    "\n",
    "    def register(self, studentID, studentName, pScores, aScores, mScores, fScores):\n",
    "        self.studentID = studentID\n",
    "        self.studentName = studentName\n",
    "        self.pScores = pScores\n",
    "        self.aScores = aScores\n",
    "        self.mScores = mScores\n",
    "        self.fScores = fScores\n",
    "\n",
    "    def setPScores(self, pScores):\n",
    "        self.pScores = pScores\n",
    "\n",
    "    def setAScores(self, aScores):\n",
    "        self.aScores = aScores\n",
    "\n",
    "    def setMScores(self, mScores):\n",
    "        self.mScores = mScores\n",
    "\n",
    "    def setFScores(self, fScores):\n",
    "        self.fScores = fScores\n",
    "\n",
    "    def getStudentID(self):\n",
    "        return self.studentID\n",
    "\n",
    "    def getStudentName(self):\n",
    "        return self.studentName\n",
    "\n",
    "    def getPScores(self):\n",
    "        return self.pScores\n",
    "\n",
    "    def getAScores(self):\n",
    "        return self.aScores\n",
    "\n",
    "    def getMScores(self):\n",
    "        return self.mScores\n",
    "\n",
    "    def getFScores(self):\n",
    "        return self.fScores\n",
    "\n",
    "    def getFinalScores(self):\n",
    "        FinalScores = self.pScores * 0.1 + self.aScores * 0.2 + self.mScores * 0.3 + self.fScores * 0.4\n",
    "\n",
    "        return FinalScores\n",
    "\n",
    "    def getGrade(self):\n",
    "        FinalScores = self.getFinalScores()\n",
    "        if FinalScores >= 90:\n",
    "            Grade = 'A'\n",
    "        elif FinalScores >= 80:\n",
    "            Grade = 'B'\n",
    "        elif FinalScores >= 70:\n",
    "            Grade = 'C'\n",
    "        elif FinalScores >= 60:\n",
    "            Grade = 'D'\n",
    "        elif FinalScores >= 50:\n",
    "            Grade = 'E'\n",
    "        else:\n",
    "            Grade = 'F'\n",
    "        print(\"your final scores {0:.1f} earns you {1:s}\".format(FinalScores, Grade))\n",
    "        return Grade\n",
    "\n",
    "    def getReports(self, FinalScores, Grade):\n",
    "        print(\"\\n\")\n",
    "        print(\"Student ID       : {0:s}\".format(self.studentID))\n",
    "        print(\"Student Name     : {0:s}\".format(self.studentName))\n",
    "        print(\"Practice Scores  : {0:.2f}\".format(self.pScores))\n",
    "        print(\"Assignment Scores: {0:.2f}\".format(self.aScores))\n",
    "        print(\"Mid-Term Scores  : {0:.2f}\".format(self.mScores))\n",
    "        print(\"Final Exam Scores: {0:.2f}\".format(self.fScores))\n",
    "        print(\"Final Scores     : {0:.2f}\".format(FinalScores))\n",
    "        print(\"Grade            : {0:s}\".format(Grade))\n",
    "\n",
    "\n",
    "Mike = Students()\n",
    "Mike.register(\"45213\", \"Mike\", 97, 95, 90, 96)\n",
    "FinalScores = Mike.getFinalScores()\n",
    "Grade = Mike.getGrade()\n",
    "Mike.getReports(FinalScores, Grade)"
   ]
  },
  {
   "cell_type": "markdown",
   "metadata": {
    "deletable": false,
    "editable": false
   },
   "source": [
    "-----------------------------------------------\n",
    "<h3 style=\"color:blue;\"><b>Student Practice</b></h3>\n",
    "<p style=\"color:SlateBlue;\">Define a dictionaries studentDB with studentID as the key. Enter the information from the table below into your studentDB.</p>\n",
    "<table style=\"color:DodgerBlue;\">\n",
    "    <tr>\n",
    "        <th style=\"width:80px; text-align:left;\">ID</th>\n",
    "        <th style=\"width:100px; text-align:left;\">Name</th>\n",
    "        <th style=\"width:90px;\">Exercises</th>\n",
    "        <th style=\"width:90px;\">Assignments</th>\n",
    "        <th style=\"width:90px;\">Mid-term</th>\n",
    "        <th style=\"width:90px;\">Exam</th>\n",
    "    </tr>\n",
    "    <tr>\n",
    "        <td style=\"text-align:left;\">23564</td>\n",
    "        <td style=\"text-align:left;\">Johnson</td>\n",
    "        <td>78</td>\n",
    "    </tr>\n",
    "    <tr>\n",
    "        <td style=\"text-align:left;\">34568</td>\n",
    "        <td style=\"text-align:left;\">Queenie</td>\n",
    "        <td>69</td>\n",
    "    </tr>    \n",
    "    <tr>\n",
    "        <td style=\"text-align:left;\">37522</td>\n",
    "        <td style=\"text-align:left;\">Teresa</td>\n",
    "        <td>83</td>\n",
    "    </tr>    \n",
    "    <tr>\n",
    "        <td style=\"text-align:left;\">38545</td>\n",
    "        <td style=\"text-align:left;\">Manson</td>\n",
    "        <td>46</td>\n",
    "    </tr>    \n",
    "    <tr>\n",
    "        <td style=\"text-align:left;\">42434</td>\n",
    "        <td style=\"text-align:left;\">Kelly</td>\n",
    "        <td>94</td>\n",
    "    </tr>    \n",
    "    <tr>\n",
    "        <td style=\"text-align:left;\">43589</td>\n",
    "        <td style=\"text-align:left;\">Debbie</td>\n",
    "        <td>86</td>\n",
    "    </tr>    \n",
    "    <tr>\n",
    "        <td style=\"text-align:left;\">47829</td>\n",
    "        <td style=\"text-align:left;\">Albert</td>\n",
    "        <td>57</td>\n",
    "    </tr>    \n",
    "    <tr>\n",
    "        <td style=\"text-align:left;\">53646</td>\n",
    "        <td style=\"text-align:left;\">Davidson</td>\n",
    "        <td>72</td>\n",
    "    </tr>    \n",
    "    <tr>\n",
    "        <td style=\"text-align:left;\">58593</td>\n",
    "        <td style=\"text-align:left;\">Smith</td>\n",
    "        <td>90</td>\n",
    "    </tr>    \n",
    "    <tr>\n",
    "        <td style=\"text-align:left;\">63433</td>\n",
    "        <td style=\"text-align:left;\">Wendy</td>\n",
    "        <td>80</td>\n",
    "    </tr>    \n",
    "</table>\n",
    "\n",
    "---------------------------------------------"
   ]
  },
  {
   "cell_type": "code",
   "execution_count": 1,
   "metadata": {},
   "outputs": [
    {
     "name": "stdout",
     "output_type": "stream",
     "text": [
      "your final scores 89.6 earns you B\n",
      "\n",
      "\n",
      "Student ID       : 45213\n",
      "Student Name     : Mike\n",
      "Practice Scores  : 70.00\n",
      "Assignment Scores: 80.00\n",
      "Mid-Term Scores  : 90.00\n",
      "Final Exam Scores: 99.00\n",
      "Final Scores     : 89.60\n",
      "Grade            : B\n"
     ]
    }
   ],
   "source": []
  },
  {
   "cell_type": "markdown",
   "metadata": {
    "deletable": false,
    "editable": false
   },
   "source": [
    "------------------------------------------\n",
    "<h3 style=\"color:blue;\"><b>Student Practice</b></h3>\n",
    "<p style=\"color:SlateBlue;\">Update your studentDB with the data from the table.</p>\n",
    "<table style=\"color:DodgerBlue;\">\n",
    "    <tr>\n",
    "        <th style=\"width:80px; text-align:left;\">ID</th>\n",
    "        <th style=\"width:100px; text-align:left;\">Name</th>\n",
    "        <th style=\"width:90px;\">Exercises</th>\n",
    "        <th style=\"width:90px;\">Assignments</th>\n",
    "        <th style=\"width:90px;\">Mid-term</th>\n",
    "        <th style=\"width:90px;\">Exam</th>\n",
    "    </tr>\n",
    "    <tr>\n",
    "        <td style=\"text-align:left;\">23564</td>\n",
    "        <td style=\"text-align:left;\">Johnson</td>\n",
    "        <td>68</td>\n",
    "        <td>66</td>\n",
    "        <td>83</td>\n",
    "        <td>93</td>\n",
    "    </tr>\n",
    "    <tr>\n",
    "        <td style=\"text-align:left;\">34568</td>\n",
    "        <td style=\"text-align:left;\">Queenie</td>\n",
    "        <td>64</td>\n",
    "        <td>68</td>\n",
    "        <td>73</td>\n",
    "        <td>84</td>\n",
    "        </tr>    \n",
    "    <tr>\n",
    "        <td style=\"text-align:left;\">37522</td>\n",
    "        <td style=\"text-align:left;\">Teresa</td>\n",
    "        <td>83</td>\n",
    "        <td>66</td>\n",
    "        <td>83</td>\n",
    "        <td>93</td>\n",
    "        </tr>    \n",
    "    <tr>\n",
    "        <td style=\"text-align:left;\">38545</td>\n",
    "        <td style=\"text-align:left;\">Manson</td>\n",
    "        <td>46</td>\n",
    "        <td>54</td>\n",
    "        <td>76</td>\n",
    "        <td>82</td>\n",
    "        </tr>    \n",
    "    <tr>\n",
    "        <td style=\"text-align:left;\">42434</td>\n",
    "        <td style=\"text-align:left;\">Kelly</td>\n",
    "        <td>94</td>\n",
    "        <td>67</td>\n",
    "        <td>66</td>\n",
    "        <td>86</td>\n",
    "        </tr>    \n",
    "    <tr>\n",
    "        <td style=\"text-align:left;\">43589</td>\n",
    "        <td style=\"text-align:left;\">Debbie</td>\n",
    "        <td>86</td>\n",
    "        <td>56</td>\n",
    "        <td>68</td>\n",
    "        <td>85</td>\n",
    "        </tr>    \n",
    "    <tr>\n",
    "        <td style=\"text-align:left;\">47829</td>\n",
    "        <td style=\"text-align:left;\">Albert</td>\n",
    "        <td>68</td>\n",
    "        <td>86</td>\n",
    "        <td>42</td>\n",
    "        <td>98</td>\n",
    "        </tr>    \n",
    "    <tr>\n",
    "        <td style=\"text-align:left;\">53646</td>\n",
    "        <td style=\"text-align:left;\">Davidson</td>\n",
    "        <td>72</td>\n",
    "        <td>57</td>\n",
    "        <td>88</td>\n",
    "        <td>76</td>\n",
    "        </tr>    \n",
    "    <tr>\n",
    "        <td style=\"text-align:left;\">58593</td>\n",
    "        <td style=\"text-align:left;\">Smith</td>\n",
    "        <td>90</td>\n",
    "        <td>68</td>\n",
    "        <td>74</td>\n",
    "        <td>69</td>\n",
    "        </tr>    \n",
    "    <tr>\n",
    "        <td style=\"text-align:left;\">63433</td>\n",
    "        <td style=\"text-align:left;\">Wendy</td>\n",
    "        <td>80</td>\n",
    "        <td>78</td>\n",
    "        <td>86</td>\n",
    "        <td>59</td>        \n",
    "    </tr>    \n",
    "</table>\n",
    "\n",
    "-------------------------------------------------------"
   ]
  },
  {
   "cell_type": "code",
   "execution_count": null,
   "metadata": {},
   "outputs": [],
   "source": [
    "exercise = [68, 64, 83, 46, 94, 86, 68, 72, 90, 80]\n",
    "assignment = [66, 68, 66, 54, 67, 56, 86, 57, 68, 78]\n",
    "midterm = [83, 73, 83, 76, 66, 68, 42, 88, 74, 86]\n",
    "exam = [93, 84, 93, 82, 86, 85, 98, 76, 69, 59]"
   ]
  },
  {
   "cell_type": "code",
   "execution_count": null,
   "metadata": {},
   "outputs": [],
   "source": []
  }
 ],
 "metadata": {
  "kernelspec": {
   "display_name": "Python 3",
   "language": "python",
   "name": "python3"
  },
  "language_info": {
   "codemirror_mode": {
    "name": "ipython",
    "version": 3
   },
   "file_extension": ".py",
   "mimetype": "text/x-python",
   "name": "python",
   "nbconvert_exporter": "python",
   "pygments_lexer": "ipython3",
   "version": "3.8.5"
  }
 },
 "nbformat": 4,
 "nbformat_minor": 4
}
