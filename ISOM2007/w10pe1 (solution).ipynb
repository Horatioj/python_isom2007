{
 "cells": [
  {
   "cell_type": "markdown",
   "metadata": {
    "deletable": false,
    "editable": false
   },
   "source": [
    "------------------------------\n",
    "<h2 style=\"color:blue;\"><b>Object-Oriented Programming (OOP)</b></h2>\n",
    "\n",
    "<h3 style=\"color:blue;\">Learning Outcomes:</h3>\n",
    "<p>\n",
    "    <ul style=\"color:SlateBlue;\">\n",
    "        <li>Understand what are objects in Object-Oriented Programming environment.</li>\n",
    "        <li>Gain the knowledge on Objects and Instances in Python.</li>\n",
    "        <li>Get the knowledge and skills on Creating Instances.</li>\n",
    "        <li>Understand the concept of Encapsulating Methods in Classes.</li>\n",
    "        <li>Gain the knowledge and skills to Encapsulate Methods in Python.</li>\n",
    "        </ul>\n",
    "</p>\n",
    " \n",
    "--------------------------     \n"
   ]
  },
  {
   "cell_type": "markdown",
   "metadata": {
    "deletable": false,
    "editable": false
   },
   "source": [
    "--------------------------\n",
    "<h3 style=\"color:blue;\"><b>What are Objects?</b></h3>\n",
    "\n",
    "<p><ul style=\"color:SlateBlue;\">\n",
    "        <li>As demands for new and more powerful software are soaring, building software quickly, correctly and economically is important.</li>\n",
    "        <li>Objects, or more precisely, the classes objects come from, are essentially reusable software components, which can easy be applied and used in some other programs or applications.</li>\n",
    "        <li>Languages like Python are object-oriented.</li>\n",
    "        <li>Programming in this type language, is called object-oriented programming (OOP), allows you to implement an object-oriented design as a working system.</li>\n",
    "        <li>Object-Oriented Programming – a programming paradigm where programmers define custom data types that have custom methods embedded within them.</li>\n",
    "        <li>Object - an object is a custom data structure that organizes and encapsulates variables and methods into a single data type. It is used near-interchangeably with \"instance\".</li>\n",
    "        <li>Class - a custom data type comprised of multiple variables and/or methods. Instances or objects are created based on the template provided by the class.</li>\n",
    "        <li>Method – a function defined inside of a class.</li>\n",
    "        <li>self - a keyword in Python classes that is used to refer to the instance itself. It defines the scope of variables and methods that methods in the class can see.</li>\n",
    "    </ul></p>\n",
    "    \n",
    "----------------------------------------------"
   ]
  },
  {
   "cell_type": "markdown",
   "metadata": {
    "deletable": false,
    "editable": false
   },
   "source": [
    "<h3 style=\"color:blue;\">Declaring a Class</h3>\n",
    "<p><ul style=\"color:SlateBlue;\">\n",
    "    <li>We use the world of Human as example through-out the discussion in this topic.</li>\n",
    "    <li>We may define the class Human as follow:</li></ul></p>\n"
   ]
  },
  {
   "cell_type": "code",
   "execution_count": null,
   "metadata": {
    "deletable": false,
    "editable": false
   },
   "outputs": [],
   "source": [
    "## Define the class Human\n",
    "class Human:\n",
    "    \n",
    "    ## Create a new instance (i.e. a new born) of Human\n",
    "    def __init__(self):\n",
    "        ## Potential human's default values\n",
    "        self.firstname = \"[no first name]\"\n",
    "        self.lastname = \"[no last name]\"\n",
    "        self.eyecolor = \"[no eye color]\"\n",
    "        self.haircolor = \"[no hair color]\"\n",
    "        self.gender = \"[no gender]\"\n",
    "        self.height = -1\n",
    "        self.age = -1\n",
    "        "
   ]
  },
  {
   "cell_type": "markdown",
   "metadata": {
    "deletable": false,
    "editable": false
   },
   "source": [
    "<ul style=\"color:DodgerBlue;\">\n",
    "    <li>We may also use classes as values for other classes.</li>\n",
    "    </ul\n",
    "        "
   ]
  },
  {
   "cell_type": "code",
   "execution_count": null,
   "metadata": {
    "deletable": false,
    "editable": false
   },
   "outputs": [],
   "source": [
    "## Define the class Name for Human\n",
    "class Name:\n",
    "    def __init__(self):\n",
    "        self.firstname = \"[no first name]\"\n",
    "        self.lastname = \"[no last name]\"\n",
    "        \n",
    "## Define the class Human\n",
    "class Human:\n",
    "    \n",
    "    ## Initialize a new instance (i.e. a new born) of Human\n",
    "    def __init__(self):\n",
    "        ## Personalize a human's default values\n",
    "        self.name = Name()\n",
    "        self.eyecolor = \"[no eye color]\"\n",
    "        self.haircolor = \"[no hair color]\"\n",
    "        self.gender = \"[no gender]\"\n",
    "        self.height = -1\n",
    "        self.age = -1"
   ]
  },
  {
   "cell_type": "markdown",
   "metadata": {
    "deletable": false,
    "editable": false
   },
   "source": [
    "<ul style=\"color:DodgerBlue;\">\n",
    "    <li>Create an instance (i.e. a person according to class Human).</li>\n",
    "    </ul>"
   ]
  },
  {
   "cell_type": "code",
   "execution_count": null,
   "metadata": {
    "deletable": false,
    "editable": false
   },
   "outputs": [],
   "source": [
    "## Define the class Human\n",
    "class Human:\n",
    "    \n",
    "    ## Create a new instance (i.e. a new born) of Human\n",
    "    def __init__(self):\n",
    "        ## Potential human's default values\n",
    "        self.firstname = \"[no first name]\"\n",
    "        self.lastname = \"[no last name]\"\n",
    "        self.eyecolor = \"[no eye color]\"\n",
    "        self.haircolor = \"[no hair color]\"\n",
    "        self.gender = \"[no gender]\"\n",
    "        self.height = -1\n",
    "        self.age = -1\n",
    "        \n",
    "        \n",
    "## Create a new human and assign it to myPerson\n",
    "myPerson = Human()\n",
    "print(myPerson.firstname)\n",
    "print(myPerson.lastname)\n",
    "print(myPerson.gender)\n",
    "print(myPerson.height)"
   ]
  },
  {
   "cell_type": "markdown",
   "metadata": {
    "deletable": false,
    "editable": false
   },
   "source": [
    "<ul style=\"color:DodgerBlue;\">\n",
    "    <li>Personalise the instance.</li>\n",
    "    </ul>"
   ]
  },
  {
   "cell_type": "code",
   "execution_count": 4,
   "metadata": {
    "deletable": false,
    "editable": false
   },
   "outputs": [
    {
     "name": "stdout",
     "output_type": "stream",
     "text": [
      "[no first name]\n",
      "CHEUNG\n",
      "20\n"
     ]
    }
   ],
   "source": [
    "## Define the class Human\n",
    "class Human:\n",
    "    \n",
    "    ## Create a new instance (i.e. a new born) of Human\n",
    "    def __init__(self):\n",
    "        ## Potential human's default values\n",
    "        self.firstname = \"[no first name]\"\n",
    "        self.lastname = \"[no last name]\"\n",
    "        self.eyecolor = \"[no eye color]\"\n",
    "        self.haircolor = \"[no hair color]\"\n",
    "        self.gender = \"[no gender]\"\n",
    "        self.height = -1\n",
    "        self.age = -1\n",
    "        \n",
    "        \n",
    "## Create a new human and assign it to myPerson\n",
    "myPerson = Human()\n",
    "\n",
    "myPerson.lastname = \"CHEUNG\"\n",
    "myPerson.age = 20\n",
    "print(myPerson.firstname)\n",
    "print(myPerson.lastname)\n",
    "print(myPerson.age)"
   ]
  },
  {
   "cell_type": "markdown",
   "metadata": {
    "deletable": false,
    "editable": false
   },
   "source": [
    "-------------------------\n",
    "<h3 style=\"color:blue;\"><b>Encapsulating Methods in Classes</b></h3>\n",
    "<ul style=\"color:DodgerBlue;\">\n",
    "    <li>Part of the power of classes and instances is that they let us create data types with logical combinations of variables.</li>\n",
    "    <li>Other powers of object-oriented programming is that classes can contain methods—their own dedicated functions - as well as variables.</li>\n",
    "    <li>Encapsulation is the principle of object-oriented program that describes organizing variables and methods together into custom structures.</li>\n",
    "    <li>A method is a function defined inside of a class.</li>\n",
    "    <li>It has all the same properties: a name, a list of parameters, some code, and optionally a return statement.</li>\n",
    "    <li>The scope inside the method is defined as the normal scope of a function for that language (typically the method’s parameters and any variables it defines in its own code), plus any variables that are visible in the instance of the class as a whole (accessed via that self variable).</li>\n",
    "    <li>So, in the case of a Human class with class variables firstname and lastname, the class might have a getFullName() method that would return the first and last name together.</li>\n",
    "    <li>Because the first and last name exist inside the instance, the method getFullName() could see them and manipulate them before returning the name.</li>\n",
    "    </ul>\n",
    "    "
   ]
  },
  {
   "cell_type": "markdown",
   "metadata": {
    "deletable": false,
    "editable": false
   },
   "source": [
    "<p style=\"color:blue;\"><b>Constructors in Python</b></p>\n",
    "<ul style=\"color:DodgerBlue;\">\n",
    "    <li>__init__( ) is Python’s convention for identifying constructors.</li>\n",
    "    <li>Whenever a new instance of a class is created, Python will goes and searches for the existence of class’s __init__ method and runs it (if it exists).</li>\n",
    "    <li>It’s alright if it does not, Python just creates the instance without running any initial set-up code only.</li>\n",
    "    </ul>\n"
   ]
  },
  {
   "cell_type": "code",
   "execution_count": 5,
   "metadata": {
    "deletable": false,
    "editable": false
   },
   "outputs": [
    {
     "name": "stdout",
     "output_type": "stream",
     "text": [
      "[no first name defined yet]\n",
      "-1\n"
     ]
    }
   ],
   "source": [
    "## Example #1\n",
    "## Define the class Human - no parameters specified\n",
    "class Human:\n",
    "    ## Create a new instance (i.e. a new born) of Human\n",
    "    def __init__(self):\n",
    "        ## Human's default values\n",
    "        self.firstname = \"[no first name defined yet]\"\n",
    "        self.lastname = \"[no last name defined yet]\"\n",
    "        self.gender = \"[no gender defined yet]\"\n",
    "        self.age = -1\n",
    "        \n",
    "        \n",
    "## Create a new human and assign it to myPerson\n",
    "peter = Human()\n",
    "print(peter.firstname)\n",
    "print(peter.age)\n"
   ]
  },
  {
   "cell_type": "code",
   "execution_count": 6,
   "metadata": {
    "deletable": false,
    "editable": false
   },
   "outputs": [
    {
     "name": "stdout",
     "output_type": "stream",
     "text": [
      "Sam\n",
      "Chan\n",
      "[not yet defined]\n",
      "-1\n"
     ]
    }
   ],
   "source": [
    "## Example #2\n",
    "## Define a class human - with default values\n",
    "class Human:\n",
    "    ## Constructor for class human\n",
    "    def __init__(self, fn=\"[not yet defined]\", ln=\"[not yet defined]\", \\\n",
    "                 gd=\"[not yet defined]\", ag=-1):\n",
    "        ## Human's default values\n",
    "        self.firstname = fn\n",
    "        self.lastname = ln\n",
    "        self.gender = gd\n",
    "        self.age = ag\n",
    "\n",
    "        \n",
    "sam = Human(\"Sam\", \"Chan\")\n",
    "print(sam.firstname)\n",
    "print(sam.lastname)\n",
    "print(sam.gender)\n",
    "print(sam.age)\n"
   ]
  },
  {
   "cell_type": "code",
   "execution_count": 7,
   "metadata": {
    "deletable": false,
    "editable": false
   },
   "outputs": [
    {
     "name": "stdout",
     "output_type": "stream",
     "text": [
      "Sam's firstname  :  Sam\n",
      "Ken's lastname   :  Wan\n",
      "Ken's firstname  :  [not yet defined]\n",
      "Ken's gender     :  M\n",
      "Ken's age        :  36\n"
     ]
    }
   ],
   "source": [
    "## Example #3\n",
    "## Define a class human - with default values & specified paramenter names\n",
    "class Human:\n",
    "    ## Constructor for class human\n",
    "    def __init__(self, fn=\"[not yet defined]\", ln=\"[not yet defined]\", \\\n",
    "                 gd = \"[not yet defined]\", ag=-1):\n",
    "        ## Human's default values\n",
    "        self.firstname = fn\n",
    "        self.lastname = ln\n",
    "        self.gender = gd\n",
    "        self.age = ag\n",
    "\n",
    "        \n",
    "sam = Human(\"Sam\", \"Chan\")\n",
    "print(\"Sam's firstname  : \", sam.firstname)\n",
    "\n",
    "ken = Human(ag=36, ln=\"Wan\", gd=\"M\")\n",
    "print(\"Ken's lastname   : \", ken.lastname)\n",
    "print(\"Ken's firstname  : \", ken.firstname)\n",
    "print(\"Ken's gender     : \", ken.gender)\n",
    "print(\"Ken's age        : \", ken.age)\n"
   ]
  },
  {
   "cell_type": "markdown",
   "metadata": {
    "deletable": false,
    "editable": false
   },
   "source": [
    "<p style=\"color:DodgerBlue;\"><b>Getters and Setters in Python</b></p>\n",
    "<ul style=\"color:SlateBlue;\">\n",
    "    <li>Python, not like other languages, does not provide privacy options for its variables and methods, meaning that other code can access variables directly.</li>\n",
    "    <li>By convention, we often precede variables that we don’t want other classes or functions to access with a double underscores, other classes or functions are still able to access the data.</li>\n",
    "    <li>The double underscore, is just a convention, simply informs them that they are not intended to access the data directly.</li>\n",
    "    <li>One way to avoid these, can consider to make them hidden / unknown, let them access / modified ta by means of getter or setter methods.</li>\n",
    "    </ul>\n"
   ]
  },
  {
   "cell_type": "code",
   "execution_count": 8,
   "metadata": {
    "deletable": false,
    "editable": false
   },
   "outputs": [
    {
     "name": "stdout",
     "output_type": "stream",
     "text": [
      "Steven\n",
      "Lee\n",
      "M\n",
      "28\n"
     ]
    }
   ],
   "source": [
    "## Class human with setter and getter sample\n",
    "class Human:\n",
    "    ## Constructor for class human\n",
    "    def __init__(self):\n",
    "        ## Human's default values\n",
    "        self.firstname = \"[no first name defined yet]\"\n",
    "        self.lastname = \"[no last name defined yet]\"\n",
    "        self.gender = \"[no gender defined yet]\"\n",
    "        self.age = -1\n",
    "        \n",
    "    def registerID(self, fn, ln, gd, ag): # setter method\n",
    "        self.firstname = fn\n",
    "        self.lastname = ln\n",
    "        self.gender = gd\n",
    "        self.age = ag\n",
    "        \n",
    "    def setAge(self, ag):\n",
    "        self.age = ag\n",
    "        \n",
    "    def getFirstName(self):     # getter methods\n",
    "        return self.firstname\n",
    "    \n",
    "    def getLastName(self):      \n",
    "        return self.lastname\n",
    "    \n",
    "    def getGender(self):\n",
    "        return self.gender\n",
    "    \n",
    "    def getAge(self):\n",
    "        return self.age\n",
    "    \n",
    "\n",
    "steven = Human()\n",
    "steven.registerID(\"Steven\", \"Lee\", \"M\", 28)\n",
    "\n",
    "print(steven.getFirstName())\n",
    "print(steven.getLastName())\n",
    "print(steven.getGender())\n",
    "print(steven.getAge())\n"
   ]
  },
  {
   "cell_type": "markdown",
   "metadata": {
    "deletable": false,
    "editable": false
   },
   "source": [
    "<p style=\"color:DodgerBlue;\">Other Methods (or Functions) – methods to do whatever we wants with the variables of the class.</p>"
   ]
  },
  {
   "cell_type": "code",
   "execution_count": 9,
   "metadata": {
    "deletable": false,
    "editable": false
   },
   "outputs": [
    {
     "name": "stdout",
     "output_type": "stream",
     "text": [
      "Luk, Debbie\n",
      "['Luk', 'Debbie', 'F', 22]\n"
     ]
    }
   ],
   "source": [
    "## Class human with setter, getter, & other methods\n",
    "class Human:\n",
    "    ## Constructor for class human\n",
    "    def __init__(self):\n",
    "        ## Human's default values\n",
    "        self.firstname = \"[no first name defined yet]\"\n",
    "        self.lastname = \"[no last name defined yet]\"\n",
    "        self.gender = \"[no gender defined yet]\"\n",
    "        self.age = -1\n",
    "        \n",
    "    def registerID(self, fn, ln, gd, ag): # setter methods\n",
    "        self.firstname = fn\n",
    "        self.lastname = ln\n",
    "        self.gender = gd\n",
    "        self.age = ag\n",
    "        \n",
    "    def setAge(self, age):\n",
    "        self.age = age\n",
    "        \n",
    "    def getFirstName(self):     # getter methods\n",
    "        return self.firstname\n",
    "    \n",
    "    def getLastName(self):\n",
    "        return self.lastname\n",
    "    \n",
    "    def getGender(self):\n",
    "        return self.gender\n",
    "    \n",
    "    def getAge(self):\n",
    "        return self.age\n",
    "    \n",
    "    def getFullName(self):     # other methods / functions\n",
    "        return self.lastname + \", \" + self.firstname\n",
    "    \n",
    "    def getDetails(self):\n",
    "        return [self.lastname, self.firstname, self.gender, self.age]\n",
    "    \n",
    "\n",
    "debbie = Human()\n",
    "debbie.registerID(\"Debbie\", \"Luk\", \"F\", 22)\n",
    "print(debbie.getFullName())\n",
    "print(debbie.getDetails())\n"
   ]
  },
  {
   "cell_type": "markdown",
   "metadata": {
    "deletable": false,
    "editable": false
   },
   "source": [
    "-------------------------------------------\n",
    "<h3 style=\"color:blue;\"><b>Advanced Topics in Classes in Python</b></h3>\n",
    "<p style=\"color:DodgerBlue;\">Combining Classes – class use in another class.</p>\n"
   ]
  },
  {
   "cell_type": "code",
   "execution_count": 10,
   "metadata": {
    "deletable": false,
    "editable": false
   },
   "outputs": [
    {
     "name": "stdout",
     "output_type": "stream",
     "text": [
      "Cynthia\n",
      "Kong\n",
      "brown\n",
      "24\n"
     ]
    }
   ],
   "source": [
    "## Define the class Human\n",
    "class Human:\n",
    "    def __init__(self, name, eyecolor, age):\n",
    "        self.name = name\n",
    "        self.eyecolor = eyecolor\n",
    "        self.age = age\n",
    "        \n",
    "## Define the class Name for Human\n",
    "class Name:\n",
    "    def __init__(self, firstname, lastname):\n",
    "        self.firstname = firstname\n",
    "        self.lastname = lastname\n",
    "        \n",
    "        \n",
    "cynthia = Human(Name(\"Cynthia\", \"Kong\"), \"brown\", 24)\n",
    "print(cynthia.name.firstname)\n",
    "print(cynthia.name.lastname)\n",
    "print(cynthia.eyecolor)\n",
    "print(cynthia.age)\n"
   ]
  },
  {
   "cell_type": "markdown",
   "metadata": {
    "deletable": false,
    "editable": false
   },
   "source": [
    "\n",
    "<p style=\"color:DodgerBlue;\">Instance Assignment – assign instance to another instance.</p>\n",
    "\n"
   ]
  },
  {
   "cell_type": "code",
   "execution_count": 11,
   "metadata": {
    "deletable": false,
    "editable": false
   },
   "outputs": [
    {
     "name": "stdout",
     "output_type": "stream",
     "text": [
      "Cynthia Kong brown 24\n",
      "Cynthia Kong brown 24\n",
      "58\n",
      "58\n"
     ]
    }
   ],
   "source": [
    "## Define the class Human\n",
    "class Human:\n",
    "    def __init__(self, firstname, lastname, eyecolor, age):\n",
    "        self.firstname = firstname\n",
    "        self.lastname = lastname\n",
    "        self.eyecolor = eyecolor\n",
    "        self.age = age\n",
    "        \n",
    "        \n",
    "cynthia = Human(\"Cynthia\", \"Kong\", \"brown\", 24)\n",
    "mary = cynthia\n",
    "print(cynthia.firstname, cynthia.lastname, cynthia.eyecolor, cynthia.age)\n",
    "print(mary.firstname, mary.lastname, mary.eyecolor, mary.age)\n",
    "\n",
    "mary.age = 58\n",
    "print(cynthia.age)\n",
    "print(mary.age)\n"
   ]
  },
  {
   "cell_type": "markdown",
   "metadata": {
    "deletable": false,
    "editable": false
   },
   "source": [
    "<p style=\"color:DodgerBlue;\">Making Actual Copies – actually copy an instance</p>\n"
   ]
  },
  {
   "cell_type": "code",
   "execution_count": 6,
   "metadata": {
    "deletable": false,
    "editable": false
   },
   "outputs": [
    {
     "name": "stdout",
     "output_type": "stream",
     "text": [
      "Kim So brown 24\n",
      "Kim So brown 24\n",
      "Kim 24\n",
      "Kim 58\n"
     ]
    }
   ],
   "source": [
    "## Define the class Human\n",
    "class Human:\n",
    "    def __init__(self, firstname, lastname, eyecolor, age):\n",
    "        self.firstname = firstname\n",
    "        self.lastname = lastname\n",
    "        self.eyecolor = eyecolor\n",
    "        self.age = age\n",
    "        \n",
    "        \n",
    "kim = Human(\"Kim\", \"So\", \"brown\", 24)\n",
    "lancy = Human(kim.firstname, kim.lastname, kim.eyecolor, kim.age)\n",
    "print(kim.firstname, kim.lastname, kim.eyecolor, kim.age)\n",
    "print(lancy.firstname, lancy.lastname, lancy.eyecolor, lancy.age)\n",
    "\n",
    "lancy.age = 58\n",
    "print(kim.firstname, kim.age)\n",
    "print(lancy.firstname, lancy.age)"
   ]
  },
  {
   "cell_type": "markdown",
   "metadata": {
    "deletable": false,
    "editable": false
   },
   "source": [
    "<p style=\"color:DodgerBlue;\">Instance as a parameter – as parameter of another function</p>\n"
   ]
  },
  {
   "cell_type": "code",
   "execution_count": 7,
   "metadata": {
    "deletable": false,
    "editable": false
   },
   "outputs": [
    {
     "name": "stdout",
     "output_type": "stream",
     "text": [
      "['Denis', 'Fung', 'M', 99]\n",
      "['Denis', 'Fung', 'M', 99]\n"
     ]
    }
   ],
   "source": [
    "## Class human as a parameter to another operations\n",
    "class Human:\n",
    "    ## Constructor for class human\n",
    "    def __init__(self, fn=\"[not yet defined]\", ln=\"[not yet defined]\", \\\n",
    "                 gd=\"[not yet defined]\", ag=-1):\n",
    "        ## Human's default values\n",
    "        self.firstname = fn\n",
    "        self.lastname = ln\n",
    "        self.gender = gd\n",
    "        self.age = ag\n",
    "\n",
    "        \n",
    "    def registerID(self, fn, ln, gd, ag): # setter methods\n",
    "        self.firstname = fn\n",
    "        self.lastname = ln\n",
    "        self.gender = gd\n",
    "        self.age = ag\n",
    "    \n",
    "    def setFirstName(self, firstname):\n",
    "        self.firstname = firstname\n",
    "        \n",
    "    def setLastName(self, lastname):\n",
    "        self.lastname = lastname\n",
    "        \n",
    "    def setGender(self, gender):\n",
    "        self.gender = gender\n",
    "    \n",
    "    def setAge(self, age):\n",
    "        self.age = age\n",
    "        \n",
    "    def getFirstName(self):     # getter methods\n",
    "        return self.firstname\n",
    "    \n",
    "    def getLastName(self):\n",
    "        return self.lastname\n",
    "    \n",
    "    def getGender(self):\n",
    "        return self.gender\n",
    "    \n",
    "    def getAge(self):\n",
    "        return self.age\n",
    "    \n",
    "    def getFullName(self):     # other methods / functions\n",
    "        return self.lastname + \", \" + self.firstname\n",
    "    \n",
    "    def getDetails(self):\n",
    "        return [self.firstname, self.lastname, self.gender, self.age]\n",
    "    \n",
    "\n",
    "abbie = Human(\"Abbie\", \"Tang\", \"F\", 18)\n",
    "betty = Human(\"Betty\", \"Kong\", \"F\", 22)\n",
    "denis = Human(\"Denis\", \"Fung\", \"M\", 16)\n",
    "feedi = Human(\"Feedi\", \"Peng\", \"M\", 20)\n",
    "kevin = Human(\"Kevin\", \"Wang\", \"M\", 28)\n",
    "mandy = Human(\"Mandy\", \"Song\", \"F\", 24)\n",
    "\n",
    "addDict = dict([[abbie.getFirstName(), abbie], [betty.getFirstName(), betty], \\\n",
    "           [denis.getFirstName(), denis], [feedi.getFirstName(), feedi], \\\n",
    "           [kevin.getFirstName(), kevin], [mandy.getFirstName(), mandy]])\n",
    "\n",
    "individual = addDict[\"Denis\"]\n",
    "individual.setAge(99)\n",
    "\n",
    "print(denis.getDetails())\n",
    "print(individual.getDetails())\n"
   ]
  },
  {
   "cell_type": "markdown",
   "metadata": {
    "deletable": false,
    "editable": false
   },
   "source": [
    "-----------------------------------------\n",
    "<h3 style=\"color:blue;\"><b>Student Practice</b></h3>\n",
    "<p style=\"color:SlateBlue;\">In the empty cell below, define a class account that contains class variales as specified below:\n",
    "    <ul style=\"color:DodgerBlue;\">\n",
    "        <li>id</li>\n",
    "        <li>name</li>\n",
    "        <li>rate (in percentage)</li>\n",
    "        <li>balance</li>\n",
    "    </ul></p>\n",
    "    \n",
    "<p style=\"color:SlateBlue;\">\n",
    "To manipulate the account for a customer, we need the following methods: \n",
    "    <ul style=\"color:DodgerBlue;\">\n",
    "        <li>__init__ - allow various number of parameters</li>\n",
    "        <li>register - allow to specify the values for all class variables</li>\n",
    "        <li>setRate - assign a new interest rate</li>\n",
    "        <li>getID - retrival the ID of account</li>\n",
    "        <li>getName - retrival the name of account</li>\n",
    "        <li>getBalance - get the current outstand balance</li>\n",
    "        <li>getDetails - display the details information (i.e. customerID, customerName, rate, and balance.</li>\n",
    "        <li>interest - determine the interest according to the formula balance * rate</li>\n",
    "        <li>deposit - add a specific amount to the current balance</li>\n",
    "        <li>withdraw - minus a pecific amount from the current balance</li>        \n",
    "    </ul></p>\n",
    "    \n",
    "<p style=\"color:SlateBlue;\">Perform the necessary testings to verify that all the methods you defined are correctly implemented.</p>\n",
    "\n",
    "---------------------------------------------"
   ]
  },
  {
   "cell_type": "code",
   "execution_count": 9,
   "metadata": {
    "deletable": false,
    "editable": false
   },
   "outputs": [
    {
     "name": "stdout",
     "output_type": "stream",
     "text": [
      "['[ID not defined]', '[name not defined]', -1, -1]\n",
      "['2345', 'Ken Chan', 3.25, 1000]\n",
      "['2345', 'Ken Chan', 4.0, 3500.5]\n",
      "3500.5\n",
      "140.02\n",
      "\n",
      "['2345', 'Ken Chan', 4.0, 2620.5]\n"
     ]
    }
   ],
   "source": [
    "## define a class account\n",
    "class Account:\n",
    "    \n",
    "    ## define a constructor\n",
    "    def __init__(self, id=\"[ID not defined]\", name=\"[name not defined]\", rate=-1, balance=-1):\n",
    "        self.id = id\n",
    "        self.name = name\n",
    "        self.rate = rate\n",
    "        self.balance = balance\n",
    "        \n",
    "    def register(self, id, name, rate, balance):\n",
    "        self.id = id\n",
    "        self.name = name\n",
    "        self.rate = rate\n",
    "        self.balance = balance\n",
    "        \n",
    "    def setRate(self, rate):\n",
    "        self.rate = rate\n",
    "        \n",
    "    def getID(self):\n",
    "        return self.id\n",
    "    \n",
    "    def getName(self):\n",
    "        return self.name\n",
    "        \n",
    "    def getBalance(self):\n",
    "        return self.balance\n",
    "    \n",
    "    def getDetails(self):\n",
    "        return [self.id, self.name, self.rate, self.balance]\n",
    "    \n",
    "    def interest(self):\n",
    "        return self.balance * self.rate / 100\n",
    "        \n",
    "    def deposit(self, amt):\n",
    "        self.balance += amt\n",
    "        \n",
    "    def withdraw(self, amt):\n",
    "        self.balance -= amt            \n",
    "      \n",
    "## Perform the necessary testing\n",
    "ken = Account()         # account created with no specification\n",
    "print(ken.getDetails())\n",
    "\n",
    "ken.register('2345', \"Ken Chan\", 3.25, 1000)  # register ken's information\n",
    "print(ken.getDetails())\n",
    "\n",
    "ken.setRate(4.0)\n",
    "ken.deposit(2500.50)\n",
    "print(ken.getDetails())\n",
    "print(ken.getBalance())\n",
    "print(ken.interest())\n",
    "\n",
    "print()\n",
    "ken.withdraw(880)\n",
    "print(ken.getDetails())"
   ]
  },
  {
   "cell_type": "markdown",
   "metadata": {
    "deletable": false,
    "editable": false
   },
   "source": [
    "-----------------------------------------\n",
    "<h3 style=\"color:blue;\"><b>Student Practice</b></h3>\n",
    "<p style=\"color:SlateBlue;\">In the empty cell below, define two customer dictionaries which contain at least 5 customer accounts (fill-in the values arbitrarily yourslef) of the class account. One customer dictionary with serach key customer ID, and the other customer dictionary with search key customer Name.</p>\n",
    "<p>Perform the followings on either customer dictionary:\n",
    "    <ol style=\"color:SlateBlue;\">\n",
    "        <li>Make a deposit of \\$18,000 to the 3rd customer</li>\n",
    "        <li>Show the outstanding balance of the 1st customer.</li>\n",
    "        <li>Display the account details of the 5th customer.</li>\n",
    "        <li>Make a withdrawal of \\$15,000 from the 4th customer, make sure that there has sufficient fund.</li>        </ol></p>\n",
    "\n",
    "------------------"
   ]
  },
  {
   "cell_type": "code",
   "execution_count": 10,
   "metadata": {
    "deletable": false,
    "editable": false,
    "scrolled": true
   },
   "outputs": [
    {
     "name": "stdout",
     "output_type": "stream",
     "text": [
      "['4574', '2356', '9273', '0234', '3643', '1256']\n",
      "\n",
      "['9273', 'Jenny', 2.75, 5380]\n",
      "['9273', 'Jenny', 2.75, 23380]\n",
      "\n",
      "['4574', 'Celia', 3.2, 25000]\n",
      "25000\n",
      "['4574', 'Celia', 3.2, 25000]\n",
      "\n",
      "['0234', 'Nancy', 4.15, 53668]\n",
      "['0234', 'Nancy', 4.15, 53668]\n",
      "\n",
      "['0234', 'Nancy', 4.15, 53668]\n",
      "Withdrew $15,000.00 from account 0234\n",
      "['0234', 'Nancy', 4.15, 38668]\n"
     ]
    }
   ],
   "source": [
    "\"\"\"\n",
    "Alternative #1 - Use the idDB\n",
    "\n",
    "\"\"\"\n",
    "## Specify the content of each account\n",
    "acc1 = Account(\"4574\", \"Celia\", 3.2, 25000)\n",
    "acc2 = Account(\"2356\", \"Eddy\", 3.25, 450000)\n",
    "acc3 = Account(\"9273\", \"Jenny\", 2.75, 5380)\n",
    "acc4 = Account(\"0234\", \"Nancy\", 4.15, 53668)\n",
    "acc5 = Account(\"3643\", \"Teresa\", 4.0, 63500)\n",
    "acc6 = Account(\"1256\", \"Eva\", 3.8, 84833)\n",
    "\n",
    "## Create the DBs with search key ID and Name\n",
    "idDB = dict([[acc1.getID(), acc1], [acc2.getID(), acc2], [acc3.getID(), acc3], \\\n",
    "             [acc4.getID(), acc4], [acc5.getID(), acc5], [acc6.getID(), acc6]])\n",
    "\n",
    "nameDB = dict([[acc1.getName(), acc1], [acc2.getName(), acc2], \\\n",
    "               [acc3.getName(), acc3], [acc4.getName(), acc4], \\\n",
    "               [acc5.getName(), acc5], [acc6.getName(), acc6]])\n",
    "\n",
    "\n",
    "## Create a list of all the keys in idDB\n",
    "keyList = []\n",
    "for x in idDB:\n",
    "    keyList.append(x)\n",
    "print(keyList)\n",
    "\n",
    "## Make a deposit $18000 to the 3rd customer\n",
    "customer = idDB[keyList[2]]\n",
    "print(\"\\n{}\".format(customer.getDetails()))\n",
    "customer.deposit(18000)\n",
    "print(\"{}\".format(customer.getDetails()))\n",
    "\n",
    "## Show the outstanding balance of the 1st customer.\n",
    "customer = idDB[keyList[0]]\n",
    "print(\"\\n{}\".format(customer.getDetails()))\n",
    "print(customer.getBalance())\n",
    "print(\"{}\".format(customer.getDetails()))\n",
    "\n",
    "## Display the account details of the 5th customer.\n",
    "customer = idDB[keyList[3]]\n",
    "print(\"\\n{}\".format(customer.getDetails()))\n",
    "print(customer.getDetails())\n",
    "\n",
    "## Make a withdrawal of $15,000 from the 4th customer, \n",
    "## make sure that there has sufficient fund.\n",
    "amt = 15000\n",
    "customer = idDB[keyList[3]]\n",
    "print(\"\\n{}\".format(customer.getDetails()))\n",
    "if customer.getBalance() < amt:\n",
    "    print(\"Not enough fund in account!\")\n",
    "else:\n",
    "    customer.withdraw(15000)\n",
    "    print(\"Withdrew ${0:,.2f} from account {1:s}\".format(amt, keyList[3]))\n",
    "print(\"{}\".format(customer.getDetails()))\n"
   ]
  },
  {
   "cell_type": "code",
   "execution_count": 11,
   "metadata": {
    "deletable": false,
    "editable": false
   },
   "outputs": [
    {
     "name": "stdout",
     "output_type": "stream",
     "text": [
      "['Celia', 'Eddy', 'Jenny', 'Nancy', 'Teresa', 'Eva']\n",
      "\n",
      "['9273', 'Jenny', 2.75, 5380]\n",
      "['9273', 'Jenny', 2.75, 23380]\n",
      "\n",
      "['4574', 'Celia', 3.2, 25000]\n",
      "25000\n",
      "['4574', 'Celia', 3.2, 25000]\n",
      "\n",
      "['0234', 'Nancy', 4.15, 53668]\n",
      "['0234', 'Nancy', 4.15, 53668]\n",
      "\n",
      "['0234', 'Nancy', 4.15, 53668]\n",
      "Withdrew $15,000.00 from account Nancy\n",
      "['0234', 'Nancy', 4.15, 38668]\n"
     ]
    }
   ],
   "source": [
    "\"\"\"\n",
    "Alternative #2 - Use the nameDB\n",
    "\n",
    "\"\"\"\n",
    "## Specify the content of each account\n",
    "acc1 = Account(\"4574\", \"Celia\", 3.2, 25000)\n",
    "acc2 = Account(\"2356\", \"Eddy\", 3.25, 450000)\n",
    "acc3 = Account(\"9273\", \"Jenny\", 2.75, 5380)\n",
    "acc4 = Account(\"0234\", \"Nancy\", 4.15, 53668)\n",
    "acc5 = Account(\"3643\", \"Teresa\", 4.0, 63500)\n",
    "acc6 = Account(\"1256\", \"Eva\", 3.8, 84833)\n",
    "\n",
    "## Create the DBs with search key ID and Name\n",
    "idDB = dict([[acc1.getID(), acc1], [acc2.getID(), acc2], [acc3.getID(), acc3], \\\n",
    "             [acc4.getID(), acc4], [acc5.getID(), acc5], [acc6.getID(), acc6]])\n",
    "\n",
    "nameDB = dict([[acc1.getName(), acc1], [acc2.getName(), acc2], \\\n",
    "               [acc3.getName(), acc3], [acc4.getName(), acc4], \\\n",
    "               [acc5.getName(), acc5], [acc6.getName(), acc6]])\n",
    "\n",
    "\n",
    "## Create a list of all the keys in nameDB\n",
    "keyList = []\n",
    "for x in nameDB:\n",
    "    keyList.append(x)\n",
    "print(keyList)\n",
    "\n",
    "## Make a deposit $18000 to the 3rd customer\n",
    "customer = nameDB[keyList[2]]\n",
    "print(\"\\n{}\".format(customer.getDetails()))\n",
    "customer.deposit(18000)\n",
    "print(\"{}\".format(customer.getDetails()))\n",
    "\n",
    "## Show the outstanding balance of the 1st customer.\n",
    "customer = nameDB[keyList[0]]\n",
    "print(\"\\n{}\".format(customer.getDetails()))\n",
    "print(customer.getBalance())\n",
    "print(\"{}\".format(customer.getDetails()))\n",
    "\n",
    "## Display the account details of the 5th customer.\n",
    "customer = nameDB[keyList[3]]\n",
    "print(\"\\n{}\".format(customer.getDetails()))\n",
    "print(customer.getDetails())\n",
    "\n",
    "## Make a withdrawal of $15,000 from the 4th customer, \n",
    "## make sure that there has sufficient fund.\n",
    "amt = 15000\n",
    "customer = nameDB[keyList[3]]\n",
    "print(\"\\n{}\".format(customer.getDetails()))\n",
    "if customer.getBalance() < amt:\n",
    "    print(\"Not enough fund in account!\")\n",
    "else:\n",
    "    customer.withdraw(15000)\n",
    "    print(\"Withdrew ${0:,.2f} from account {1:s}\".format(amt, keyList[3]))\n",
    "print(\"{}\".format(customer.getDetails()))\n"
   ]
  },
  {
   "cell_type": "code",
   "execution_count": null,
   "metadata": {},
   "outputs": [],
   "source": []
  }
 ],
 "metadata": {
  "kernelspec": {
   "display_name": "Python 3",
   "language": "python",
   "name": "python3"
  },
  "language_info": {
   "codemirror_mode": {
    "name": "ipython",
    "version": 3
   },
   "file_extension": ".py",
   "mimetype": "text/x-python",
   "name": "python",
   "nbconvert_exporter": "python",
   "pygments_lexer": "ipython3",
   "version": "3.8.5"
  }
 },
 "nbformat": 4,
 "nbformat_minor": 4
}
