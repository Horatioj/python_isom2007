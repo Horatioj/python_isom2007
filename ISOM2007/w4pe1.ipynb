{
 "cells": [
  {
   "cell_type": "markdown",
   "metadata": {
    "deletable": false,
    "editable": false
   },
   "source": [
    "-------------------------\n",
    "\n",
    "<h1 style=\"color:blue;\"><b>Functions</b></h1>\n",
    "\n"
   ]
  },
  {
   "cell_type": "markdown",
   "metadata": {
    "deletable": false,
    "editable": false
   },
   "source": [
    "\n",
    "<h3 style=\"color:blue;\"><b>Built-in  Functions in Python</b></h3>\n",
    "<ul style=\"color:DodgerBlue;\">\n",
    "    <li>Python has many built-in functions that are like miniature programs.</li>\n",
    "    <li>The receive input, process the input, and produce output.</li>\n",
    "    <li>Some built-in functions that commonly be used:</li>\n",
    "    </ul>\n",
    "<table style=\"color:SlateBlue;\">\n",
    "    <tr>\n",
    "        <th style=\"text-align:left;\">Function</th>\n",
    "        <th style=\"text-align:left;\">Example</th>\n",
    "        <th style=\"text-align:left;\">Input</th>\n",
    "        <th style=\"text-align:left;\">Output</th>\n",
    "    </tr>\n",
    "    <tr>\n",
    "        <td style=\"text-align:left;\">int</td>\n",
    "        <td style=\"text-align:left;\">int(2,6) yield 2</td>\n",
    "        <td style=\"text-align:left;\">number</td>\n",
    "        <td style=\"text-align:left;\">number</td>\n",
    "    </tr>\n",
    "    <tr>\n",
    "        <td style=\"text-align:left;\">chr</td>\n",
    "        <td style=\"text-align:left;\">chr(65) yield \"A\"</td>\n",
    "        <td style=\"text-align:left;\">number</td>\n",
    "        <td style=\"text-align:left;\">string</td>\n",
    "    </tr>    \n",
    "    <tr>\n",
    "        <td style=\"text-align:left;\">ord</td>\n",
    "        <td style=\"text-align:left;\">ord(\"A\") yield 65</td>\n",
    "        <td style=\"text-align:left;\">number</td>\n",
    "        <td style=\"text-align:left;\">number</td>\n",
    "    </tr>    \n",
    "    <tr>\n",
    "        <td style=\"text-align:left;\">round</td>\n",
    "        <td style=\"text-align:left;\">round(3.1417, 1) yield 3.1</td>\n",
    "        <td style=\"text-align:left;\">number, number</td>\n",
    "        <td style=\"text-align:left;\">number</td>\n",
    "    </tr>    \n",
    "    </table>\n"
   ]
  },
  {
   "cell_type": "markdown",
   "metadata": {
    "deletable": false,
    "editable": false
   },
   "source": [
    "<h3 style=\"color:blue;\"><b>User-Defined Functions</b></h3>\n",
    "<ul style=\"color:DodgerBlue;\">\n",
    "<li>In addition to using built-in functions, we can define functions of our own (named as user-defined functions) that return values.</li>\n",
    "<li>User-defined functions are commonly defined by statements of the form</li>\n",
    "    <span style=\"color:white;\">.....</span><span style=\"color:brown;\">def functionName (par1, par2, ….):</span><br>\n",
    "    <span style=\"color:white;\">..........</span><span style=\"color:brown;\">indented block of statements</span><br>\n",
    "    <span style=\"color:white;\">..........</span><span style=\"color:brown;\">return expression</span>\n",
    "<li>where par1, par2 are variables, called parameters, and the expression evaluates to a literal of any type returned back to the caller.</li>\n",
    "    </ul>\n",
    "    \n",
    "----------------------------------------"
   ]
  },
  {
   "cell_type": "code",
   "execution_count": 2,
   "metadata": {
    "deletable": false,
    "editable": false
   },
   "outputs": [],
   "source": [
    "def fahrenheitToCelsius(temp):\n",
    "    ## Convert Fahrenheit temperature to Celsius.\n",
    "    convertedTemperature = (5 / 9) * (temp - 32)\n",
    "    return convertedTemperature\n"
   ]
  },
  {
   "cell_type": "code",
   "execution_count": 3,
   "metadata": {
    "deletable": false,
    "editable": false
   },
   "outputs": [
    {
     "name": "stdout",
     "output_type": "stream",
     "text": [
      "Enter a temperature in degrees Fahrenheit: 80\n",
      "80 Fahrenheit is equivalent to 26.666666666666668 Celsius.\n"
     ]
    }
   ],
   "source": [
    "fahrenheitTemp = eval(input(\"Enter a temperature in degrees Fahrenheit: \"))\n",
    "celsiusTemp = fahrenheitToCelsius(fahrenheitTemp)\n",
    "print(\"{} Fahrenheit is equivalent to {} Celsius.\".format(fahrenheitTemp, celsiusTemp))\n"
   ]
  },
  {
   "cell_type": "code",
   "execution_count": 4,
   "metadata": {
    "deletable": false,
    "editable": false
   },
   "outputs": [],
   "source": [
    "def firstName( fullName ):\n",
    "    ## Extract the first name from a full name.\n",
    "    firstSpace = fullName.index(\" \")\n",
    "    givenName = fullName[:firstSpace]\n",
    "    return givenName \n"
   ]
  },
  {
   "cell_type": "code",
   "execution_count": 5,
   "metadata": {
    "deletable": false,
    "editable": false
   },
   "outputs": [
    {
     "name": "stdout",
     "output_type": "stream",
     "text": [
      "Enter a person's full name: adam silver\n",
      "First name: adam\n"
     ]
    }
   ],
   "source": [
    "## Extract the first name from a full name.\n",
    "fullName = input(\"Enter a person's full name: \")\n",
    "print(\"First name:\", firstName(fullName))\n"
   ]
  },
  {
   "cell_type": "markdown",
   "metadata": {
    "deletable": false,
    "editable": false
   },
   "source": [
    "--------------------------\n",
    "\n",
    "<h3 style=\"color:blue;\"><b>Passing Value to a Function</b></h3>\n",
    "<ul style=\"color:DodgerBlue;\">\n",
    "    <li>If the argument in a function call is a variable, the object pointed to by the argument variable (not the argument variable itself) is passed to a parameter variable.</li>\n",
    "    <li>Therefore, if the object is immutable and the function changes the value of the parameter variable, no change will occur in the object pointed to by the argument variable.</li>\n",
    "    <li>Even if the two variables have the same name, they are treated as entirely different variables. Therefore, when the argument variable points to a numeric, string, or tuple object, there is no possibility what-so-ever that the value of the argument variable will be changed by a function call.</li>\n",
    "    </ul>\n",
    "    \n",
    "----------------------------------------------\n"
   ]
  },
  {
   "cell_type": "code",
   "execution_count": null,
   "metadata": {
    "deletable": false,
    "editable": false
   },
   "outputs": [],
   "source": [
    "def increaseTemperatureBy10 (temperature):\n",
    "    temperature += 10\n",
    "    return (temperature)"
   ]
  },
  {
   "cell_type": "code",
   "execution_count": 3,
   "metadata": {
    "deletable": false,
    "editable": false
   },
   "outputs": [
    {
     "ename": "NameError",
     "evalue": "name 'increaseTemperatureBy10' is not defined",
     "output_type": "error",
     "traceback": [
      "\u001b[1;31m---------------------------------------------------------------------------\u001b[0m",
      "\u001b[1;31mNameError\u001b[0m                                 Traceback (most recent call last)",
      "\u001b[1;32m<ipython-input-3-de1d6565ce98>\u001b[0m in \u001b[0;36m<module>\u001b[1;34m\u001b[0m\n\u001b[0;32m      1\u001b[0m \u001b[0mtemperature\u001b[0m \u001b[1;33m=\u001b[0m \u001b[1;36m36\u001b[0m\u001b[1;33m\u001b[0m\u001b[1;33m\u001b[0m\u001b[0m\n\u001b[1;32m----> 2\u001b[1;33m \u001b[0maugumentedTemp\u001b[0m \u001b[1;33m=\u001b[0m \u001b[0mincreaseTemperatureBy10\u001b[0m \u001b[1;33m(\u001b[0m\u001b[0mtemperature\u001b[0m\u001b[1;33m)\u001b[0m\u001b[1;33m\u001b[0m\u001b[1;33m\u001b[0m\u001b[0m\n\u001b[0m\u001b[0;32m      3\u001b[0m \u001b[0mprint\u001b[0m\u001b[1;33m(\u001b[0m\u001b[1;34m\"Original Temperature:   {}\"\u001b[0m\u001b[1;33m.\u001b[0m\u001b[0mformat\u001b[0m\u001b[1;33m(\u001b[0m\u001b[0mtemperature\u001b[0m\u001b[1;33m)\u001b[0m\u001b[1;33m)\u001b[0m\u001b[1;33m\u001b[0m\u001b[1;33m\u001b[0m\u001b[0m\n\u001b[0;32m      4\u001b[0m \u001b[0mprint\u001b[0m\u001b[1;33m(\u001b[0m\u001b[1;34m\"Augumented Temperature: {}\"\u001b[0m\u001b[1;33m.\u001b[0m\u001b[0mformat\u001b[0m\u001b[1;33m(\u001b[0m\u001b[0maugumentedTemp\u001b[0m\u001b[1;33m)\u001b[0m\u001b[1;33m)\u001b[0m\u001b[1;33m\u001b[0m\u001b[1;33m\u001b[0m\u001b[0m\n",
      "\u001b[1;31mNameError\u001b[0m: name 'increaseTemperatureBy10' is not defined"
     ]
    }
   ],
   "source": [
    "temperature = 36\n",
    "augumentedTemp = increaseTemperatureBy10 (temperature)\n",
    "print(\"Original Temperature:   {}\".format(temperature))\n",
    "print(\"Augumented Temperature: {}\".format(augumentedTemp))"
   ]
  },
  {
   "cell_type": "markdown",
   "metadata": {
    "deletable": false,
    "editable": false
   },
   "source": [
    "-------------------------------\n",
    "\n",
    "<h3 style=\"color:blue;\"><b>Functions having Several Parameters</b></h3>\n",
    "<ul style=\"color:DodgerBlue;\">\n",
    "    <li>Python allows functions to receive a varying number of arguments</li>\n",
    "    <li>NOW, we just consider functions that must receive a fixed number of arguments.</li>\n",
    "    <li>When calling a function and passing arguments by position, there must be the same number of arguments as parameters.</li>\n",
    "    <li>The data types of the arguments’ values must be compatible with (and in the same order) as the data types expected by the parameters.</li>\n",
    "    </ul>\n",
    "    \n",
    "-------------------------------------"
   ]
  },
  {
   "cell_type": "code",
   "execution_count": 2,
   "metadata": {
    "deletable": false,
    "editable": false
   },
   "outputs": [
    {
     "name": "stdout",
     "output_type": "stream",
     "text": [
      "Enter the hourly wages: 350\n",
      "Enter the number of hours worked: 72\n",
      "Earning:  $30,800.00\n"
     ]
    }
   ],
   "source": [
    "def pay(wage, hours):\n",
    "    ## Calculate weekly pay with time-and-a-half for overtime\n",
    "    if hours <= 40:\n",
    "        amount = wage * hours\n",
    "    else:\n",
    "        amount = (wage * 40) + (wage * 1.5) * (hours - 40)\n",
    "    return (amount)\n",
    "\n",
    "\n",
    "hourlyWage = eval(input(\"Enter the hourly wages: \"))\n",
    "hoursWorked = eval(input(\"Enter the number of hours worked: \"))\n",
    "earnings = pay(hourlyWage, hoursWorked)\n",
    "print(\"Earning:  ${0:,.2f}\".format(earnings))\n",
    "    "
   ]
  },
  {
   "cell_type": "markdown",
   "metadata": {
    "deletable": false,
    "editable": false
   },
   "source": [
    "------------------------------\n",
    "\n",
    "<h3 style=\"color:red;\"><b>Student Practice</b></h3>\n",
    "\n",
    "<p style=\"color:SlateBlue;\">In the empty cell below, write a function determineScores, which accept participation score, assignment score, mid-term score, and exam score and return the final scores in integer. The final score can be determined according to the following:</p>\n",
    "\n",
    "<p style=\"color:SlateBlue;\" >\n",
    "Participations - 10%<br>\n",
    "Assignments - 20%<br>\n",
    "Mid-term - 30%<br>\n",
    "Exam - 40%<br></p>\n",
    "\n",
    "--------------------------------------"
   ]
  },
  {
   "cell_type": "code",
   "execution_count": 10,
   "metadata": {},
   "outputs": [],
   "source": [
    "def DetermineScores(p, a, mid, exam):\n",
    "    finalscores = p * 0.1 + a * 0.2 + mid * 0.3 + exam * 0.4\n",
    "    return int(finalscores)"
   ]
  },
  {
   "cell_type": "code",
   "execution_count": 12,
   "metadata": {
    "deletable": false,
    "editable": false
   },
   "outputs": [
    {
     "name": "stdout",
     "output_type": "stream",
     "text": [
      "Your function is correct\n"
     ]
    }
   ],
   "source": [
    "## This program segment will be use to test your function \"determineScores\"\n",
    "p = 70\n",
    "a = 80\n",
    "m = 75\n",
    "e = 50\n",
    "if (int(p*0.1+a*0.2+m*0.3+e*0.4) != DetermineScores(p, a, m, e)):\n",
    "    print (\"Error in your function\")\n",
    "else:\n",
    "    print (\"Your function is correct\")"
   ]
  },
  {
   "cell_type": "markdown",
   "metadata": {
    "deletable": false,
    "editable": false
   },
   "source": [
    "------------------------------\n",
    "\n",
    "<h3 style=\"color:red;\"><b>Student Practice</b></h3>\n",
    "\n",
    "<p style=\"color:SlateBlue;\">In the empty cell below, write a function determineGrade, which accept a score  and return the corresponding letter grade. The letter grade can be determined according to the following:</p>\n",
    "\n",
    "<table style=\"color:SlateBlue;\" >\n",
    "    <tr>\n",
    "        <th>Score Range</th>\n",
    "        <th>Grade</th>\n",
    "    </tr>\n",
    "    <tr>\n",
    "        <td>90 ~ 100</td>\n",
    "        <td>A</td>\n",
    "    </tr>\n",
    "    <tr>\n",
    "        <td>80 ~ 80.9</td>\n",
    "        <td>B</td>\n",
    "    </tr>\n",
    "    <tr>\n",
    "        <td>70 ~ 70.9</td>\n",
    "        <td>C</td>\n",
    "    </tr>\n",
    "    <tr>\n",
    "        <td>50 ~ 69.9</td>\n",
    "        <td>D</td>\n",
    "    </tr>\n",
    "    <tr>\n",
    "        <td>0 ~ 49.9</td>\n",
    "        <td>F</td>\n",
    "    </tr>    \n",
    "    </table>\n",
    "\n",
    "--------------------------------------"
   ]
  },
  {
   "cell_type": "code",
   "execution_count": 20,
   "metadata": {},
   "outputs": [
    {
     "name": "stdout",
     "output_type": "stream",
     "text": [
      "your grade is: 77\n",
      "your grade is C\n"
     ]
    }
   ],
   "source": [
    "def determineGrade(score):\n",
    "    if score >= 50:\n",
    "        pass\n",
    "        if score < 69.9:\n",
    "            print(\"your grade is D\")\n",
    "        elif score < 79.9:\n",
    "            print(\"your grade is C\")\n",
    "        elif score < 89.9:\n",
    "            print(\"your grade is B\")\n",
    "        elif score < 100:\n",
    "            print(\"your grade is A\")\n",
    "    else: \n",
    "        print(\"your grade is F\")\n",
    "        \n",
    "scores = eval(input(\"your grade is: \"))\n",
    "determineGrade(scores)"
   ]
  },
  {
   "cell_type": "markdown",
   "metadata": {
    "deletable": false,
    "editable": false
   },
   "source": [
    "------------------------------\n",
    "\n",
    "<h3 style=\"color:red;\"><b>Student Practice</b></h3>\n",
    "\n",
    "<p style=\"color:SlateBlue;\">In the empty cell below, write a program segment that input the various scores from the user, make use of the functions to determine the score and grade and output the result accordingly.\n",
    "\n",
    "--------------------------------------"
   ]
  },
  {
   "cell_type": "code",
   "execution_count": null,
   "metadata": {},
   "outputs": [],
   "source": []
  },
  {
   "cell_type": "markdown",
   "metadata": {
    "deletable": false,
    "editable": false
   },
   "source": [
    "---------------------------------------\n",
    "\n",
    "<h3 style=\"color:blue;\"><b>Default Values in Parameters</b></h3>\n",
    "<ul style=\"color:DodgerBlue;\">\n",
    "    <Li>Some (or all) of the parameters of a function can have default values—values that are assigned to them when no values are passed to them.</li>\n",
    "    <li>If the corresponding arguments are omitted when the function is called, the default values are assigned to the parameters.</li>\n",
    "    <li>A typical format for a function definition using default values is</li>\n",
    "    <span style=\"color:white;\">.....</span><span style=\"color:brown;\">def functionName(par1, par2, par3=value3, par4=value4):</span>\n",
    "    <li>Three various function calls</li>\n",
    "    </ul>\n",
    "    \n",
    "<table style=\"color:DodgerBlue;\">\n",
    "    <tr>\n",
    "        <th style=\"text-align:left;\">Function Call</th>\n",
    "        <th style=\"text-align:left;\">Result value</th>\n",
    "        <th style=\"text-align:left;\">Calculated As</th>\n",
    "    </tr>\n",
    "    <tr>\n",
    "        <td style=\"text-align:left;\">total(2,3)</td>\n",
    "        <td style=\"text-align:left;\">38</td>\n",
    "        <td style=\"text-align:left;\">2**3 + 10 + 20</td>\n",
    "    </tr>\n",
    "    <tr>\n",
    "        <td style=\"text-align:left;\">total(2,3,4)</td>\n",
    "        <td style=\"text-align:left;\">32</td>\n",
    "        <td style=\"text-align:left;\">2**3 + 4 + 20</td>\n",
    "    </tr>\n",
    "    <tr>\n",
    "        <td style=\"text-align:left;\">total(2,3,4,5)</td>\n",
    "        <td style=\"text-align:left;\">17</td>\n",
    "        <td style=\"text-align:left;\">2**3 + 4 + 5</td>\n",
    "    </tr>\n",
    "    </table>\n",
    "    \n",
    "---------------------------------"
   ]
  },
  {
   "cell_type": "markdown",
   "metadata": {
    "deletable": false,
    "editable": false
   },
   "source": [
    "-----------------------------------------\n",
    "\n",
    "<h3 style=\"color:red;\"><b>Student Practice</b></h3>\n",
    "<p style=\"color:SlateBlue;\">In the empty cell below, write a function, convertTemp, which has behaviors as following:</p>\n",
    "<table style=\"color:SlateBlue;align:left;\">\n",
    "    <tr>\n",
    "        <th style=\"text-align:left;\">Call Statement</th>\n",
    "        <th>Behaviour</th>\n",
    "    </tr>\n",
    "    <tr>\n",
    "        <td style=\"text-align:left;\">convertTemp(56)</td>\n",
    "        <td>convert 56 into celcisus and return the calcuted value.</td>\n",
    "    </tr>\n",
    "    <tr>\n",
    "        <td style=\"text-align:left;\">convertTemp(56, \"C\")</td>\n",
    "        <td>convert 56 into celcisus and return the calculated value.</td>\n",
    "    </tr>\n",
    "    <tr>\n",
    "        <td style=\"text-align:left;\">convertTemp(23, \"F\")</td>\n",
    "        <td>convert 23 into fahrenheit and return the calculated value.</td>\n",
    "    </tr>\n",
    "    <tr>\n",
    "        <td style=\"text-align:left;\">convertTemp(20, \"B\")</td>\n",
    "        <td>other than \"C\" / \"F\", return an error message.</td>\n",
    "    </tr></table>\n",
    "    \n",
    "-------------------------------"
   ]
  },
  {
   "cell_type": "code",
   "execution_count": 16,
   "metadata": {},
   "outputs": [],
   "source": [
    "'''\n",
    "Function convertTemp can accept call statement with 1 or 2 parameters. It will perform\n",
    "conversion from celcisus to fahrenheit by default. The first parameter is a temperatue value.\n",
    "The second parameter if exists can either by \"C\" or \"F\" to indicate conversion from \n",
    "fahrenheit to celcisus or from celcusis to fahrenheit, respectively.\n",
    "'''\n",
    "\n",
    "## place your code here\n",
    "def convertTemp(temp, method = 'F'):\n",
    "    convertedTemperature = 'n/a'\n",
    "    if method == 'F': \n",
    "        convertedTemperature = (5 / 9) * (temp - 32)\n",
    "    if method == 'C':\n",
    "        convertedTemperature = temp * 1.8 + 32\n",
    "    else:\n",
    "        print(\"please make a correct order\")\n",
    "    return convertedTemperature"
   ]
  },
  {
   "cell_type": "code",
   "execution_count": 17,
   "metadata": {
    "deletable": false,
    "editable": false
   },
   "outputs": [
    {
     "name": "stdout",
     "output_type": "stream",
     "text": [
      "please make a correct order\n",
      "56 fahrenheit equivalent to 13.333333333333334 celsius.\n",
      "please make a correct order\n",
      "75.3 celsius equivalent to 24.055555555555554 fahrenheit.\n",
      "38.6 fahrenheit equivalent to 101.48 celsius.\n",
      "please make a correct order\n",
      "37.8 celsius equivalent to n/a fahrenheit.\n"
     ]
    }
   ],
   "source": [
    "temp = 56\n",
    "print (\"{} fahrenheit equivalent to {} celsius.\".format(temp, convertTemp(temp)))\n",
    "\n",
    "temp = 75.3\n",
    "print (\"{} celsius equivalent to {} fahrenheit.\".format(temp, convertTemp(temp, \"F\")))\n",
    "\n",
    "temp = 38.6\n",
    "print (\"{} fahrenheit equivalent to {} celsius.\".format(temp, convertTemp(temp, \"C\")))\n",
    "\n",
    "temp = 37.8\n",
    "print (\"{} celsius equivalent to {} fahrenheit.\".format(temp, convertTemp(temp, \"f\")))"
   ]
  }
 ],
 "metadata": {
  "celltoolbar": "Edit Metadata",
  "kernelspec": {
   "display_name": "Python 3",
   "language": "python",
   "name": "python3"
  },
  "language_info": {
   "codemirror_mode": {
    "name": "ipython",
    "version": 3
   },
   "file_extension": ".py",
   "mimetype": "text/x-python",
   "name": "python",
   "nbconvert_exporter": "python",
   "pygments_lexer": "ipython3",
   "version": "3.8.3"
  }
 },
 "nbformat": 4,
 "nbformat_minor": 4
}
