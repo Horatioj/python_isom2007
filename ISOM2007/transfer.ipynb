{
 "cells": [
  {
   "cell_type": "code",
   "execution_count": 20,
   "metadata": {},
   "outputs": [
    {
     "name": "stdout",
     "output_type": "stream",
     "text": [
      "请输入需要翻译的内容：i love fish\n",
      "翻译结果：我爱鱼\n"
     ]
    }
   ],
   "source": [
    "import urllib.request\n",
    "import urllib.parse\n",
    "import json\n",
    "\n",
    "content = input(\"请输入需要翻译的内容：\")\n",
    "\n",
    "url = 'http://fanyi.youdao.com/translate?smartresult=dict&smartresult=rule'\n",
    "data = {}\n",
    "data['i'] = content\n",
    "data['from'] = 'AUTO'\n",
    "data['to']='AUTO'\n",
    "data['smartresult'] = 'dict'\n",
    "data['client'] = 'fanyideskweb'\n",
    "data['salt'] = '16008645807614'\n",
    "data['sign'] = 'e4eed50ac39cd652abc641d38fce46ec'\n",
    "data['lts'] = '1600864580761'\n",
    "data['bv'] = '52dd8074f15d3797000a252ed2659a35'\n",
    "data['doctype'] = 'json'\n",
    "data['version'] = '2.1'\n",
    "data['keyfrom'] = 'fanyi.web'\n",
    "data['action']='FY_BY_REALTIME'\n",
    "data = urllib.parse.urlencode(data).encode('utf-8')\n",
    "\n",
    "response = urllib.request.urlopen(url, data)\n",
    "html = response.read().decode('utf-8')\n",
    "target = json.loads(html)\n",
    "\n",
    "print(\"翻译结果：%s\" % (target['translateResult'][0][0]['tgt']))"
   ]
  },
  {
   "cell_type": "code",
   "execution_count": 8,
   "metadata": {},
   "outputs": [
    {
     "name": "stdout",
     "output_type": "stream",
     "text": [
      "Date: Wed, 23 Sep 2020 12:14:46 GMT\n",
      "Content-Type: image/jpeg\n",
      "Transfer-Encoding: chunked\n",
      "Connection: close\n",
      "Set-Cookie: __cfduid=dec7d74022b25fa96e77a2317eadf74371600863286; expires=Fri, 23-Oct-20 12:14:46 GMT; path=/; domain=.placekitten.com; HttpOnly; SameSite=Lax\n",
      "Cache-Control: public, max-age=86400\n",
      "Expires: Thu, 31 Dec 2020 20:00:00 GMT\n",
      "Vary: User-Agent, Accept-Encoding\n",
      "Access-Control-Allow-Origin: *\n",
      "CF-Cache-Status: HIT\n",
      "Age: 3998\n",
      "cf-request-id: 055c7c4e9f0000aff6ac9ba200000001\n",
      "Server: cloudflare\n",
      "CF-RAY: 5d742ff76874aff6-MFM\n",
      "\n",
      "\n"
     ]
    },
    {
     "data": {
      "text/plain": [
       "200"
      ]
     },
     "execution_count": 8,
     "metadata": {},
     "output_type": "execute_result"
    }
   ],
   "source": [
    "import urllib.request\n",
    "\n",
    "req = urllib.request.Request(\"http://placekitten.com/g/400/300\")\n",
    "response = urllib.request.urlopen(req)\n",
    "cat_img = response.read()\n",
    "\n",
    "with open('cat_400_500.jpg', 'wb') as f:\n",
    "    f.write(cat_img)\n",
    "\n",
    "response.geturl()\n",
    "info =  response.info()\n",
    "print(info)\n",
    "response.getcode()"
   ]
  },
  {
   "cell_type": "code",
   "execution_count": 2,
   "metadata": {},
   "outputs": [
    {
     "name": "stdout",
     "output_type": "stream",
     "text": [
      "please input a number(0 to quit)0\n",
      "please chose a correct number\n"
     ]
    }
   ],
   "source": [
    "num = eval(input(\"please input a number(0 to quit)\"))\n",
    "if num:\n",
    "    while num <= 5:\n",
    "        print(num)\n",
    "        num += 1\n",
    "else:\n",
    "    print(\"please chose a correct number\")"
   ]
  },
  {
   "cell_type": "code",
   "execution_count": 6,
   "metadata": {},
   "outputs": [
    {
     "name": "stdout",
     "output_type": "stream",
     "text": [
      "4\n",
      "16\n",
      "36\n",
      "64\n",
      "100\n",
      "144\n"
     ]
    }
   ],
   "source": [
    "for i in range(2, 13, 2):\n",
    "    i = i**2\n",
    "    print(i)"
   ]
  }
 ],
 "metadata": {
  "kernelspec": {
   "display_name": "Python 3",
   "language": "python",
   "name": "python3"
  },
  "language_info": {
   "codemirror_mode": {
    "name": "ipython",
    "version": 3
   },
   "file_extension": ".py",
   "mimetype": "text/x-python",
   "name": "python",
   "nbconvert_exporter": "python",
   "pygments_lexer": "ipython3",
   "version": "3.8.3"
  }
 },
 "nbformat": 4,
 "nbformat_minor": 4
}
