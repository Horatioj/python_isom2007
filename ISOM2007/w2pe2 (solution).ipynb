{
 "cells": [
  {
   "cell_type": "markdown",
   "metadata": {
    "deletable": false,
    "editable": false
   },
   "source": [
    "--------------------------------------\n",
    "\n",
    "<h3 style=\"color:blue;\"><b>Functions in Python</b></h3>\n",
    "<ul style=\"color:DodgerBlue;\">\n",
    "    <li>In some instance we may want to perform the same operation over and over again</li>\n",
    "    <li>Not very efficient to cut & paste</li>\n",
    "    <li>What if we decide to changes afterwards? <span style=\"color:green;\">Need to edit in 1+ different places, overlook or inconsistent may occur.</span></li>\n",
    "    <li>We can create a <span style=\"color:red;\">function</span> for the purpose</li>\n",
    "   <li>A function (custom made or build-in) is just a block of code that we can call when we need it</li>\n",
    "    <li>Functions take parameter(s) as input, and performs operations according to the values of those parameter(s)</li>\n",
    "    <li>Much like a Mathematical function</li>\n",
    "    <li>As far as Python is concerned, a function is an expression (i.e., it must be resolved into a single value)</li>\n",
    "    <li>To define a function</li>\n",
    "    <ul style=\"font-size=40px;\">\n",
    "        <li><p style=\"color:red;\">def function_name(parameter_list):</p></li>\n",
    "        <span style=\"color:white;\">.....</span><span style=\"color:red;\">   block</span>\n",
    "        <li><span style=\"color:red;\">def</span> is a python keyword (can’t name a variable def)</li>\n",
    "        <li><span style=\"color:red;\">parameters_list</span> is a list of 0 or more parameters</li>\n",
    "        <li><span style=\"color:red;\">block</span> is a block of code, which MUST be indented</li>\n",
    "        <li><span style=\"color:red;\">return</span> (optional) can use return to return a value, it makes the entire function resolve to that return value</li>\n",
    "    </ul></ul>\n",
    "    \n",
    "----------------------------------------"
   ]
  },
  {
   "cell_type": "code",
   "execution_count": null,
   "metadata": {
    "deletable": false,
    "editable": false
   },
   "outputs": [],
   "source": [
    "def cal_commission (w1, w2, w3, r1, r2, r3):\n",
    "    commission = w1 * r1 + w2 * r2 + w3 * r3\n",
    "    return (commission)\n"
   ]
  },
  {
   "cell_type": "code",
   "execution_count": null,
   "metadata": {
    "deletable": false,
    "editable": false
   },
   "outputs": [],
   "source": [
    "marySales1 = 127\n",
    "marySales2 = 4786\n",
    "marySales3 = 357\n",
    "peterSales1 = 589\n",
    "peterSales2 = 6346\n",
    "peterSales3 = 738\n",
    "\n",
    "aCommission = cal_commission (marySales1, marySales2, marySales3, 0.3, 0.3, 0.4)\n",
    "print(\"Mary's commission earned: ${}\".format(aCommission))\n",
    "\n",
    "aCommission = cal_commission (peterSales1, peterSales2, peterSales3, 0.2, 0.3, 0.5)\n",
    "print (\"Peter's commission earned: ${}\".format(aCommission))"
   ]
  },
  {
   "cell_type": "markdown",
   "metadata": {
    "deletable": false,
    "editable": false
   },
   "source": [
    "------------------------------------------\n",
    "\n",
    "<h3 style=\"color:blue;\"><b>Scope in Python</b></h3>\n",
    "<ul style=\"color:DodgerBlue;\">\n",
    "    <li>Refer to the custody / assess right to certain variable or function</li>\n",
    "    <li>Global variables</li>\n",
    "    <ul>\n",
    "        <li>Created outside function</li>\n",
    "        <li>Persist between function calls</li>\n",
    "        <li>Can’t be changed from inside a function</li>\n",
    "    </ul>\n",
    "    <li>Local variables</li>\n",
    "    <ul>\n",
    "        <li>Created inside a function</li>\n",
    "        <li>Exist only as long as the function is being executed</li>\n",
    "        <li>Recreated if the function is called again</li>\n",
    "        <li>Parameters are local variables</li>\n",
    "        <li>Python checks for local variables first</li>\n",
    "    </ul></ul>\n",
    "    \n",
    "---------------------------------------"
   ]
  },
  {
   "cell_type": "code",
   "execution_count": 1,
   "metadata": {
    "deletable": false,
    "editable": false
   },
   "outputs": [
    {
     "name": "stdout",
     "output_type": "stream",
     "text": [
      "23\n"
     ]
    },
    {
     "ename": "NameError",
     "evalue": "name 'sumV' is not defined",
     "output_type": "error",
     "traceback": [
      "\u001b[1;31m---------------------------------------------------------------------------\u001b[0m",
      "\u001b[1;31mNameError\u001b[0m                                 Traceback (most recent call last)",
      "\u001b[1;32m<ipython-input-1-a2ee761e3ec5>\u001b[0m in \u001b[0;36m<module>\u001b[1;34m\u001b[0m\n\u001b[0;32m      5\u001b[0m \u001b[1;33m\u001b[0m\u001b[0m\n\u001b[0;32m      6\u001b[0m \u001b[0mtotalV\u001b[0m \u001b[1;33m=\u001b[0m \u001b[0msumNum\u001b[0m\u001b[1;33m(\u001b[0m\u001b[1;36m5\u001b[0m\u001b[1;33m,\u001b[0m \u001b[1;36m8\u001b[0m\u001b[1;33m,\u001b[0m \u001b[1;36m10\u001b[0m\u001b[1;33m)\u001b[0m\u001b[1;33m\u001b[0m\u001b[1;33m\u001b[0m\u001b[0m\n\u001b[1;32m----> 7\u001b[1;33m \u001b[0mprint\u001b[0m \u001b[1;33m(\u001b[0m\u001b[0msumV\u001b[0m\u001b[1;33m)\u001b[0m   \u001b[1;31m# sumV is local to the function sumNum\u001b[0m\u001b[1;33m\u001b[0m\u001b[1;33m\u001b[0m\u001b[0m\n\u001b[0m",
      "\u001b[1;31mNameError\u001b[0m: name 'sumV' is not defined"
     ]
    }
   ],
   "source": [
    "def sumNum (n1, n2, n3):\n",
    "    sumV = n1 + n2 + n3\n",
    "    print (sumV)\n",
    "    return (sumV)\n",
    "\n",
    "totalV = sumNum(5, 8, 10)\n",
    "print (sumV)   # sumV is local to the function sumNum"
   ]
  },
  {
   "cell_type": "code",
   "execution_count": 2,
   "metadata": {
    "deletable": false,
    "editable": false
   },
   "outputs": [
    {
     "name": "stdout",
     "output_type": "stream",
     "text": [
      "23\n",
      "23\n"
     ]
    }
   ],
   "source": [
    "def sumNum (n1, n2, n3):\n",
    "    sumV = n1 + n2 + n3\n",
    "    print (totalV)    # totalV is global but only don'r have value yet\n",
    "    return (sumV)\n",
    "\n",
    "totalV = sumNum(5, 8, 10)\n",
    "print (totalV)"
   ]
  },
  {
   "cell_type": "code",
   "execution_count": 3,
   "metadata": {
    "deletable": false,
    "editable": false
   },
   "outputs": [
    {
     "name": "stdout",
     "output_type": "stream",
     "text": [
      "0\n",
      "23\n"
     ]
    }
   ],
   "source": [
    "def sumNum2 (n1, n2, n3):\n",
    "    sumV2 = n1 + n2 + n3\n",
    "    print (totalV2)    # totalV is global but only don'r have value yet\n",
    "    return (sumV2)\n",
    "\n",
    "totalV2 = 0    # Let's have this be initialized first\n",
    "totalV2 = sumNum2(5, 8, 10)\n",
    "print (totalV2)"
   ]
  },
  {
   "cell_type": "markdown",
   "metadata": {
    "deletable": false,
    "editable": false
   },
   "source": [
    "--------------------------------------\n",
    "\n",
    "<h3 style=\"color:blue;\"><b>Simple Input/Output</b></h3>\n",
    "<ul style=\"color:DodgerBlue;\">\n",
    "    <li>The input function prompts the user to enter data.</li>\n",
    "    <li>The general form of an input statement shown below, where the prompt is a string that requests a response from the user.</li>\n",
    "    <span style=\"color:white;\">......</span><span style=\"color:red;\">variableName = input(prompt)</span>\n",
    "     <li>A typical input statement is</li>\n",
    " <span style=\"color:white;\">......</span><span style=\"color:red;\">Town = input(“Enter the name of your city: “)</span>\n",
    "<ul>\n",
    "    <li>When Python reaches this statement, the string “Enter the name of your city: “ is displayed and the program pauses.</li>\n",
    "<li>After the user types in the name of his or her city and presses the Enter (or return) key, the variable town is assigned the name of the city.</li>\n",
    "    </ul>\n",
    "    <li>The print function is used to display your output on the monitor</li>\n",
    "    <li>The follow print statement display the number n on the monitor.</li>\n",
    "<span style=\"color:white;\">......</span><span style=\"color:red;\">print (n)</span>\n",
    "    <li>The follow print statement display the values of variables, m, n, ..</li>\n",
    "    <span style=\"color:white;\">......</span><span style=\"color:red;\">print (m, n, r, ….)</span>\n",
    "<li>The print function invokes a newline operation that causes the next print function to display its output at the beginning of a new line.</li>\n",
    "    </ul>\n",
    "    \n",
    "-------------------------------------------------"
   ]
  },
  {
   "cell_type": "code",
   "execution_count": 5,
   "metadata": {
    "deletable": false,
    "editable": false
   },
   "outputs": [
    {
     "name": "stdout",
     "output_type": "stream",
     "text": [
      "Enter your scores as an integer value: 12\n"
     ]
    },
    {
     "data": {
      "text/plain": [
       "str"
      ]
     },
     "execution_count": 5,
     "metadata": {},
     "output_type": "execute_result"
    }
   ],
   "source": [
    "num = input(\"Enter your scores as an integer value: \")\n",
    "type(num)"
   ]
  },
  {
   "cell_type": "code",
   "execution_count": 6,
   "metadata": {
    "deletable": false,
    "editable": false
   },
   "outputs": [
    {
     "name": "stdout",
     "output_type": "stream",
     "text": [
      "Enter your scores as a float value: 1.3\n"
     ]
    },
    {
     "data": {
      "text/plain": [
       "str"
      ]
     },
     "execution_count": 6,
     "metadata": {},
     "output_type": "execute_result"
    }
   ],
   "source": [
    "num = input(\"Enter your scores as a float value: \")\n",
    "type(num)"
   ]
  },
  {
   "cell_type": "code",
   "execution_count": 8,
   "metadata": {
    "deletable": false,
    "editable": false
   },
   "outputs": [
    {
     "name": "stdout",
     "output_type": "stream",
     "text": [
      "Enter your body temperature: 37.6\n",
      "99.68\n"
     ]
    }
   ],
   "source": [
    "celsius = input(\"Enter your body temperature: \")\n",
    "fahrenheit = float(celsius) * 9 / 5 + 32\n",
    "print (fahrenheit)"
   ]
  },
  {
   "cell_type": "code",
   "execution_count": 9,
   "metadata": {
    "deletable": false,
    "editable": false
   },
   "outputs": [
    {
     "name": "stdout",
     "output_type": "stream",
     "text": [
      "Help on built-in function print in module builtins:\n",
      "\n",
      "print(...)\n",
      "    print(value, ..., sep=' ', end='\\n', file=sys.stdout, flush=False)\n",
      "    \n",
      "    Prints the values to a stream, or to sys.stdout by default.\n",
      "    Optional keyword arguments:\n",
      "    file:  a file-like object (stream); defaults to the current sys.stdout.\n",
      "    sep:   string inserted between values, default a space.\n",
      "    end:   string appended after the last value, default a newline.\n",
      "    flush: whether to forcibly flush the stream.\n",
      "\n"
     ]
    }
   ],
   "source": [
    "help(print)"
   ]
  },
  {
   "cell_type": "code",
   "execution_count": 10,
   "metadata": {
    "deletable": false,
    "editable": false
   },
   "outputs": [
    {
     "name": "stdout",
     "output_type": "stream",
     "text": [
      "355\n"
     ]
    }
   ],
   "source": [
    "print (355)"
   ]
  },
  {
   "cell_type": "markdown",
   "metadata": {
    "deletable": false,
    "editable": false
   },
   "source": [
    "<p style=\"color:red;\">Guess the output of the cell below before executed the code.</p>"
   ]
  },
  {
   "cell_type": "code",
   "execution_count": null,
   "metadata": {
    "deletable": false,
    "editable": false
   },
   "outputs": [],
   "source": [
    "# guess the output from this statement before run the code\n",
    "\n",
    "print(1,234,455.76)"
   ]
  },
  {
   "cell_type": "code",
   "execution_count": 11,
   "metadata": {
    "deletable": false,
    "editable": false
   },
   "outputs": [
    {
     "name": "stdout",
     "output_type": "stream",
     "text": [
      "34\n",
      "56\n",
      "677\n",
      "344\n"
     ]
    }
   ],
   "source": [
    "list = (34, 56, 677, 344)\n",
    "for num1 in list:\n",
    "    print (num1)"
   ]
  },
  {
   "cell_type": "code",
   "execution_count": 12,
   "metadata": {
    "deletable": false,
    "editable": false
   },
   "outputs": [
    {
     "name": "stdout",
     "output_type": "stream",
     "text": [
      "34 / 56 / 677 / 344 / "
     ]
    }
   ],
   "source": [
    "for num2 in list:\n",
    "    print (num2, end = \" / \")"
   ]
  },
  {
   "cell_type": "markdown",
   "metadata": {
    "deletable": false
   },
   "source": [
    "-------------------------------\n",
    "\n",
    "<h3 style=\"color:blue;\"><b>Demonstrate Number Formatting</b></h3>\n",
    "\n",
    "<table style=\"color:DodgerBlue;\">\n",
    "    <tr>\n",
    "        <th style=\"text-align:left;\">Statement</th>\n",
    "        <th>Outcome</th>\n",
    "        <th>Comment</th>\n",
    "    </tr>\n",
    "    <tr>\n",
    "        <td style=\"text-align:left;\">print(\"{}\".format(12345))</td>\n",
    "        <td>12345</td>\n",
    "        <td>number is an integer</td>\n",
    "    </tr>\n",
    "    <tr>\n",
    "        <td style=\"text-align:left;\">print(\"{0:10d}\".format(12345678))</td>\n",
    "        <td>12345678</td>\n",
    "        <td>number is an integer</td>\n",
    "    </tr>\n",
    "    <tr>\n",
    "        <td style=\"text-align:left;\">print(\"{0:10,d}\".format(12345678))</td>\n",
    "        <td>12,345,678</td>\n",
    "        <td>thousands separators added</td>\n",
    "    </tr>\n",
    "    <tr>\n",
    "        <td style=\"text-align:left;\">print(\"{0:10.2f}\".format(1234.5678))</td>\n",
    "        <td>1234.57</td>\n",
    "        <td>rounded</td>\n",
    "    </tr>\n",
    "    <tr>\n",
    "        <td style=\"text-align:left;\">print(\"{0:10,.2f}\".format(1234.5678))</td>\n",
    "        <td>1,234.57</td>\n",
    "        <td>rounded and separators added</td>\n",
    "    </tr>\n",
    "    <tr>\n",
    "        <td style=\"text-align:left;\">print(\"{0:10,.3f}\".format(1234.5678))</td>\n",
    "        <td>1,234.568</td>\n",
    "        <td>rounded and separators added</td>\n",
    "    </tr>\n",
    "    <tr>\n",
    "        <td style=\"text-align:left;\">print(\"{0:10.2%}\".format(12.345678))</td>\n",
    "        <td>1234.57%</td>\n",
    "        <td>changed to % and rounded</td>\n",
    "    </tr>\n",
    "    <tr>\n",
    "        <td style=\"text-align:left;\">print(\"{0:10,.3%}\".format(12.34569))</td>\n",
    "        <td>1,234.568%</td>\n",
    "        <td>%, rounded, separators</td>\n",
    "    </tr>\n",
    "    </table>\n",
    "    \n",
    "-------------------------------------------------------"
   ]
  },
  {
   "cell_type": "code",
   "execution_count": 13,
   "metadata": {
    "deletable": false,
    "editable": false
   },
   "outputs": [
    {
     "name": "stdout",
     "output_type": "stream",
     "text": [
      "Enter your body temperature: 37.5\n",
      "The input 37.50 celsius equivalent to 99.50 fahrenheit.\n"
     ]
    }
   ],
   "source": [
    "celsius = eval(input(\"Enter your body temperature: \"))\n",
    "fahrenheit = celsius * 9 / 5 + 32\n",
    "print (\"The input {0:,.2f} celsius equivalent to \".format(celsius), end=\"\")\n",
    "print (\"{0:,.2f} fahrenheit.\".format(fahrenheit))"
   ]
  },
  {
   "cell_type": "code",
   "execution_count": 2,
   "metadata": {},
   "outputs": [
    {
     "name": "stdout",
     "output_type": "stream",
     "text": [
      "The area of Macau is 44.52 square miles with household of 187,618.\n",
      "The population of Macau is 9.02% of the Hong Kong population.\n"
     ]
    }
   ],
   "source": [
    "## Demonstrate use of the format method.\n",
    "print(\"The area of {0:s} is {1:,.2f} square miles \".format(\"Macau\", 44.52), end=\"\")\n",
    "print(\"with household of {0:,d}.\".format(187618))\n",
    "str1 = \"The population of {0:s} is {1:.2%} of the Hong Kong population.\"\n",
    "print(str1.format(\"Macau\", 650834 / 7213338))"
   ]
  },
  {
   "cell_type": "code",
   "execution_count": 3,
   "metadata": {},
   "outputs": [
    {
     "name": "stdout",
     "output_type": "stream",
     "text": [
      "0123456789012345678901234567\n",
      "Rank Player               HR\n",
      "  1  Barry Bonds           1\n",
      " 755 Hank Aaron            2\n"
     ]
    }
   ],
   "source": [
    "## Check the correctness of the output to see whether they are as expected\n",
    "print(\"0123456789012345678901234567\")\n",
    "print(\"{0:^5s}{1:<20s}{2:>3s}\".format(\"Rank\", \"Player\", \"HR\"))\n",
    "print(\"{0:^5n}{1:<20s}{0:>3n}\".format(1, \"Barry Bonds\", 762)) #verify the output\n",
    "print(\"{2:^5n}{1:<20s}{0:>3n}\".format(2, \"Hank Aaron\", 755))  #verify the output"
   ]
  },
  {
   "cell_type": "code",
   "execution_count": 4,
   "metadata": {},
   "outputs": [
    {
     "name": "stdout",
     "output_type": "stream",
     "text": [
      "\n",
      "0123456789012345678901234567\n",
      "Rank Player               HR\n",
      "  1  Barry Bonds         762\n",
      "  2  Hank Aaron          755\n",
      "  3  Babe Ruth           714\n"
     ]
    }
   ],
   "source": [
    "## Demonstrate justification of output.\n",
    "print(\"\\n0123456789012345678901234567\")\n",
    "print(\"{0:^5s}{1:<20s}{2:>3s}\".format(\"Rank\", \"Player\", \"HR\"))\n",
    "print(\"{0:^5n}{1:<20s}{2:>3n}\".format(1, \"Barry Bonds\", 762))\n",
    "print(\"{0:^5n}{1:<20s}{2:>3n}\".format(2, \"Hank Aaron\", 755))\n",
    "print(\"{0:^5n}{1:<20s}{2:>3n}\".format(3, \"Babe Ruth\", 714))"
   ]
  },
  {
   "cell_type": "markdown",
   "metadata": {
    "deletable": false,
    "editable": false
   },
   "source": [
    "-----------------------------\n",
    "\n",
    "<h3 style=\"color:red;\"><b>Student Practice</b></h3>\n",
    "<p style=\"color:SlateBlue;\">In the empty Code cell below, write a simple Python comment, a multi-line comment, and use the\n",
    "help command to display the built-in documentation for the dict and str classes</p>\n",
    "\n",
    "-----------------------------------"
   ]
  },
  {
   "cell_type": "code",
   "execution_count": null,
   "metadata": {},
   "outputs": [],
   "source": [
    "\"\"\"\n",
    "\n",
    "Student Practice on multi-line comment\n",
    "practice the use of help to retrival the built-in documentation for:\n",
    "-  dict\n",
    "-  str\n",
    "\n",
    "\"\"\"\n",
    "\n",
    "help(\"dict\")"
   ]
  },
  {
   "cell_type": "code",
   "execution_count": null,
   "metadata": {},
   "outputs": [],
   "source": [
    "help(str)"
   ]
  },
  {
   "cell_type": "code",
   "execution_count": null,
   "metadata": {},
   "outputs": [],
   "source": [
    "help(int)\n"
   ]
  },
  {
   "cell_type": "markdown",
   "metadata": {
    "deletable": false,
    "editable": false
   },
   "source": [
    "-----------------------------\n",
    "\n",
    "<h3 style=\"color:red;\"><b>Student Practice</b></h3>\n",
    "<p style=\"color:SlateBlue;\">In the empty Code cell below, write a simple Python script to calculate the approximate number of\n",
    "seconds in one week. Use a variable to hold the calculation and print the answer with the thousand separators added within this\n",
    "notebook.</p>\n",
    "\n",
    "-------------------------------------"
   ]
  },
  {
   "cell_type": "code",
   "execution_count": null,
   "metadata": {},
   "outputs": [],
   "source": [
    "## Student Practice to determine number of seconds in a week\n",
    "week = 1\n",
    "daysInWeek = 7\n",
    "hoursInDay = 24\n",
    "minutesInHour = 60\n",
    "secondsInMinutes = 60\n",
    "\n",
    "secondsInWeek = week * daysInWeek * hoursInDay * minutesInHour * secondsInMinutes\n",
    "print(\"{0:10,d}\".format(secondsInWeek))"
   ]
  },
  {
   "cell_type": "markdown",
   "metadata": {
    "deletable": false,
    "editable": false
   },
   "source": [
    "--------------------------\n",
    "\n",
    "<h3 style=\"color:red;\"><b>Student Practice</b></h3>\n",
    "<p style=\"color:SlateBlue;\">\n",
    "In the empty cell below, aske the student to enter the scores of assignment; scores of mid-term; and the scores of final exam. Computer the final scores of the student according to the assessment formula 20% of assignment, 25% of mid-term, and 55% of final exam. Output the scores in float with 2 significant digits.</p>\n",
    "\n",
    "---------------------------------"
   ]
  },
  {
   "cell_type": "code",
   "execution_count": null,
   "metadata": {},
   "outputs": [],
   "source": [
    "## Student practice - determine the final scores in float with 2 significant digits\n",
    "assignment = eval(input(\"Enter scores of assignment: \"))\n",
    "midTerm = eval(input(\"Enter scores of mid-term:   \"))\n",
    "exam = eval(input(\"Enter scores of exam:       \"))\n",
    "\n",
    "scores = assignment * 0.2 + midTerm * 0.25 + exam * 0.55\n",
    "print(\"Your final scores is {0:,.2f}\".format(scores))"
   ]
  }
 ],
 "metadata": {
  "kernelspec": {
   "display_name": "Python 3",
   "language": "python",
   "name": "python3"
  },
  "language_info": {
   "codemirror_mode": {
    "name": "ipython",
    "version": 3
   },
   "file_extension": ".py",
   "mimetype": "text/x-python",
   "name": "python",
   "nbconvert_exporter": "python",
   "pygments_lexer": "ipython3",
   "version": "3.8.3"
  }
 },
 "nbformat": 4,
 "nbformat_minor": 4
}
