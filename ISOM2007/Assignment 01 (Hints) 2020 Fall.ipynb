{
 "cells": [
  {
   "cell_type": "markdown",
   "metadata": {
    "deletable": false,
    "editable": false
   },
   "source": [
    "----------------------\n",
    "\n",
    "<h3 style=\"color:blue;\"><B>Question #1</b></h3>\n",
    "<p style=\"color:DodgerBlue;font-size:12px\">The gross profit of an item sold is the difference between its selling price and its purchase price. Two other marketing terms are: (25 marks)</p>\n",
    "<p style=\"color:SlateBlue;font-size:12px\">percentage gross profit = (gross profit) / (purchase price); and<br>profit margin = (gross profit) / (selling price)<br></p>\n",
    "<p style=\"color:DodgerBlue;font-size:12px\">where the percentage gross profit and profit margin are expressed as percentages. Write a program that asked an user for the selling prince and its purchase price on an item sold. Computes the gross profit, percentage gross profit, and profit margin of the item sold. Use functions for the input, compute percentage gross profit, compute profit margin, and output of the results.</p>\n",
    "\n",
    "----------------------------"
   ]
  },
  {
   "cell_type": "code",
   "execution_count": 1,
   "metadata": {
    "deletable": false
   },
   "outputs": [
    {
     "name": "stdout",
     "output_type": "stream",
     "text": [
      "Please enter the product's selling price : 6480\n",
      "Please enter the product's purchase price: 3248\n",
      "\n",
      "The selling price           : $  6,480.00\n",
      "The purchase price          : $  3,248.00\n",
      "The gross profit            : $  3,232.00\n",
      "The percentage gross profit :       99.51%\n",
      "The profit margin           :       49.88%\n"
     ]
    }
   ],
   "source": [
    "## The main program - i.e. control body\n",
    "def q1Main():\n",
    "    ## Call function inputPrices() to input the two prices\n",
    "    ....\n",
    "\n",
    "    ## Determine the gross profit\n",
    "    ....\n",
    "\n",
    "    ## Call function perFunction() to determine percentage markup\n",
    "    ....\n",
    "\n",
    "    ## Call function perFunction to determine profit margin\n",
    "    ....\n",
    "\n",
    "    ## Call the displayResult to displace the results\n",
    "    ....\n",
    "\n",
    "    \n",
    "## Function to input the selling price and purchase price\n",
    "def inputPrices():\n",
    "    ....\n",
    "    return (....)          # return the input selling price & purchase price\n",
    "\n",
    "\n",
    "## Function return the percentage of an financial formula\n",
    "def perFunction(....):      # pass two values via the parameters\n",
    "    ....\n",
    "    return (....)           # return the calculated percentage\n",
    "    \n",
    "\n",
    "## Function to display the results\n",
    "def displayResults(....):  # pass all values to display via the parameters\n",
    "    ....\n",
    "    \n",
    "\n",
    "q1Main()\n"
   ]
  },
  {
   "cell_type": "markdown",
   "metadata": {
    "deletable": false,
    "editable": false
   },
   "source": [
    "---------------------\n",
    "\n",
    "<h3 style=\"color:blue;\"><b>Question #2</b></h3>\n",
    "<p style=\"color:DodgerBlue;font-size:12px;\">Modify the program in question #1 for a number of users until a certain criteria reached. One of the suggestion for the caption is to implement your work as follow:<br>\n",
    "    <span style=\"color:white;\">........</span>a loop when true<br>\n",
    "<span style=\"color:white;\">..............</span>ask user whether there are any more processes<br>\n",
    "<span style=\"color:white;\">..............</span>if no then<br>\n",
    "<span style=\"color:white;\">...................</span>terminate the loop<br>\n",
    "<span style=\"color:white;\">..............</span>otherwise<br>\n",
    "<span style=\"color:white;\">...................</span>do the process\n",
    "</p>\n",
    "\n",
    "-----------------------------------"
   ]
  },
  {
   "cell_type": "code",
   "execution_count": 2,
   "metadata": {
    "deletable": false
   },
   "outputs": [
    {
     "name": "stdout",
     "output_type": "stream",
     "text": [
      "\n",
      "Continue the process (y/n): y\n",
      "Please enter the product's selling price : 834\n",
      "Please enter the product's purchase price: 430\n",
      "\n",
      "The selling price           : $    834.00\n",
      "The purchase price          : $    430.00\n",
      "The gross profit            : $    404.00\n",
      "The percentage gross profit :       93.95%\n",
      "The profit margin           :       48.44%\n",
      "\n",
      "Continue the process (y/n): n\n",
      "Work completed!!\n"
     ]
    }
   ],
   "source": [
    "## Repeat the calculation of percentage markup and profit margin\n",
    "## until a certain criteria reached.\n",
    "\n",
    "while True:\n",
    "    proceed = input(\"\\nContinue the process (y/n): \")\n",
    "    if (proceed == \"N\" or proceed == \"n\"):\n",
    "    ....\n"
   ]
  },
  {
   "cell_type": "markdown",
   "metadata": {
    "deletable": false,
    "editable": false
   },
   "source": [
    "---------------------\n",
    "\n",
    "<h3 style=\"color:blue;font-size=11px\"><b>Question #3</b></h3>\n",
    "<p style=\"color:DodgerBlue;font-size:12px\">A men’s clothing store advertises that if you buy a suit, you can get a second suit at 50% off. What they mean is that if you buy two suits, then the price of the lower-cost suit is reduced by 50%. Write a program that accepts the two costs as input and then calculates the total cost after halving the cost of the lowest price suit. In addition, a sales tax of 7% applied on the amount of purchased that rounding down to the nearest dollars. For example, if the calculated sales tax is \\$0.86, the payable sales tax is \\$0.00; if the calculated sales tax is \\$11.67, the payable sales tax is \\$11.00.</p>\n",
    "\n",
    "------------------------"
   ]
  },
  {
   "cell_type": "code",
   "execution_count": 3,
   "metadata": {
    "deletable": false
   },
   "outputs": [
    {
     "name": "stdout",
     "output_type": "stream",
     "text": [
      "Enter the price of purchase (0 to terminate input): 8375\n",
      "Enter the price of purchase (0 to terminate input): 2569\n",
      "Enter the price of purchase (0 to terminate input): 3678\n",
      "Enter the price of purchase (0 to terminate input): 4280\n",
      "Enter the price of purchase (0 to terminate input): 0\n",
      "\n",
      "Invoice of purchase\n",
      "Item 1 price                      :   8,375.00\n",
      "Item 2 price                      :   2,569.00\n",
      "Item 3 price                      :   3,678.00\n",
      "Item 4 price                      :   4,280.00\n",
      "\n",
      "Amount of purchase                :  18,902.00\n",
      "Discount                          :   3,424.50\n",
      "Amount of purchase after discount :  15,477.50\n",
      "Tax on purchase after discount    :   1,083.43\n",
      "Amount charged                    :  16,560.93\n"
     ]
    }
   ],
   "source": [
    "## The main program - i.e. control body of question #3\n",
    "def q3Main():\n",
    "    ## Input the purchase\n",
    "    prices = ....             # prices is a list of values return from a function\n",
    "    \n",
    "    if len(prices) != 0:\n",
    "        ## Display the purchases\n",
    "        ....\n",
    "        \n",
    "        ## Determin the discounts on every even purchases\n",
    "        ....\n",
    "        \n",
    "        ## Determine tax of purchase\n",
    "        ....\n",
    "        \n",
    "        ## Display the purchase invoice\n",
    "        ....\n",
    "        \n",
    "    \n",
    "## Funtion used to input the purhases (i.e. purchases of more than 1 items)    \n",
    "def inputPurchase():\n",
    "    ....\n",
    "    return (....)          # return a number of purchases as a list\n",
    "\n",
    "\n",
    "## Function to determine the discounts on every even items\n",
    "def amountDiscount(....):    # pass the list of purchase via parameter\n",
    "    ....\n",
    "    return (amount, discount)        # return the amount of purchase and discount\n",
    "\n",
    "\n",
    "## Function to determine the tax payable on purchases after discount\n",
    "def determineTax(amt, dis):        # pass the amount of purchase and discount\n",
    "    ....\n",
    "    return (....)        # return the taxpayable on amount purchase after discount\n",
    "\n",
    "\n",
    "## Function to display the purchases according to the sequence of inputs\n",
    "def displayPurchase(....):        # pass list of purchase to display\n",
    "    ....\n",
    "        \n",
    "\n",
    "## Function to display the various amount of the invoice        \n",
    "def displayInvoice(....):     # pass all relevant values to display via parameter\n",
    "    ....\n",
    "\n",
    "\n",
    "## Call statement to activiate the program\n",
    "q3Main()\n",
    "    "
   ]
  },
  {
   "cell_type": "markdown",
   "metadata": {
    "deletable": false,
    "editable": false
   },
   "source": [
    "-------------------------\n",
    "\n",
    "<h3 style=\"color:blue;\"><b>Question #4</b></h3>\n",
    "<p style=\"color:DodgerBlue;font-size:12px;\">Write a program that determine the final scores and its corresponding letter grade according to the followings:\t(30 marks)</p>\n",
    "<p style=\"color:SlateBlue;\">Assessment method:<br>\n",
    "    <table style=\"color:SlateBlue;\">\n",
    "        <tr>\n",
    "            <td style=\"width:200px; text-align:left;\">In-class exercises</td>\n",
    "            <td style=\"width:80px;\">10%</td>\n",
    "        </tr>\n",
    "        <tr>\n",
    "            <td style=\"width:200px; text-align:left;\">Assignments</td>\n",
    "            <td style=\"width:80px;\">20%</td>\n",
    "        </tr>\n",
    "        <tr>\n",
    "            <td style=\"width:200px; text-align:left;\">Mid-term</td>\n",
    "            <td style=\"width:80px;\">30%</td>\n",
    "        </tr>\n",
    "        <tr>\n",
    "            <td style=\"width:200px; text-align:left;\">Exam</td>\n",
    "            <td style=\"width:80px;\">40%</td>\n",
    "        </tr>\n",
    "    </table></p>\n",
    "<p style=\"color:SlateBlue;\">Grading method:<br>\n",
    "    <table style=\"color:SlateBlue;\">\n",
    "        <tr>\n",
    "            <td style=\"width:200px; text-align:left;\">90 ~ 100</td>\n",
    "            <td style=\"width:80px;\">A</td>\n",
    "        </tr>\n",
    "        <tr>\n",
    "            <td style=\"width:200px; text-align:left;\">80 ~ 89.9</td>\n",
    "            <td style=\"width:80px;\">B</td>\n",
    "        </tr>        \n",
    "        <tr>\n",
    "            <td style=\"width:200px; text-align:left;\">70 ~ 79.9</td>\n",
    "            <td style=\"width:80px;\">C</td>\n",
    "        </tr>\n",
    "        <tr>\n",
    "            <td style=\"width:200px; text-align:left;\">60 ~ 69.9</td>\n",
    "            <td style=\"width:80px;\">D</td>\n",
    "        </tr>\n",
    "        <tr>\n",
    "            <td style=\"width:200px; text-align:left;\">50 ~ 59.9</td>\n",
    "            <td style=\"width:80px;\">E</td>\n",
    "        </tr>\n",
    "        <tr>\n",
    "            <td style=\"width:200px; text-align:left;\">0 ~ 49.9</td>\n",
    "            <td style=\"width:80px;\">F</td>\n",
    "        </tr>        \n",
    "        </table></p>        \n",
    "<p  style=\"color:DodgerBlue;font-size:12px;\">The input from the user will be in one single line as follow:<br>\n",
    "bb912345 56 78 69 80</p>\n",
    "\n",
    "-----------------------------------"
   ]
  },
  {
   "cell_type": "code",
   "execution_count": 4,
   "metadata": {
    "deletable": false
   },
   "outputs": [
    {
     "name": "stdout",
     "output_type": "stream",
     "text": [
      "Please enter ID and scores: bb912345 86 74 56 92\n",
      "\n",
      "Student:                BB912345\n",
      "In-class exercises:     86\n",
      "Assignments:            74\n",
      "Mid-term:               56\n",
      "Exam:                   92\n",
      "Overall scores:         77\n",
      "Overall grade:          C\n"
     ]
    }
   ],
   "source": [
    "## main program - control body of question #4\n",
    "def q4Main():\n",
    "    ## Capture inputs\n",
    "    ....\n",
    "    \n",
    "    ## If lInput not equal to [] proceed\n",
    "    if .......:        # if list of input is not []\n",
    "        \n",
    "        ## Determine the final scores\n",
    "        ....\n",
    "        \n",
    "        ## Determine the corresponding letter grade\n",
    "        ....\n",
    "        \n",
    "        ## Display the academic report accordingly\n",
    "        ....\n",
    "            \n",
    "\n",
    "## function to capture the inputs and return the input as a list            \n",
    "def captureInputs():\n",
    "    ....\n",
    "    return ....          # return the inputs as a list of items    \n",
    "\n",
    "\n",
    "## Function to determine the final score according t0 the assessment formula\n",
    "def finalScores(....):   # pass the list of items via parameter\n",
    "    ....\n",
    "    return ....          # return the calculated final scores\n",
    "\n",
    "\n",
    "## Function to determine the final grade according to the grading scheme\n",
    "def finalGrade(pts):     # pass the final scores via parameter\n",
    "    ....\n",
    "    return ....          # return the corresponding final grade\n",
    "    \n",
    "    \n",
    "## Function to display the academic report of a student according to the inputs    \n",
    "def displayReport(...):    # pass the various value for display as academic report\n",
    "    ....\n",
    "\n",
    "    \n",
    "## The call statement to activiate the program\n",
    "q4Main()\n"
   ]
  },
  {
   "cell_type": "code",
   "execution_count": null,
   "metadata": {},
   "outputs": [],
   "source": []
  }
 ],
 "metadata": {
  "kernelspec": {
   "display_name": "Python 3",
   "language": "python",
   "name": "python3"
  },
  "language_info": {
   "codemirror_mode": {
    "name": "ipython",
    "version": 3
   },
   "file_extension": ".py",
   "mimetype": "text/x-python",
   "name": "python",
   "nbconvert_exporter": "python",
   "pygments_lexer": "ipython3",
   "version": "3.8.3"
  }
 },
 "nbformat": 4,
 "nbformat_minor": 4
}
