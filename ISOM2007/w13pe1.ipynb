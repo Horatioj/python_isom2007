{
 "cells": [
  {
   "cell_type": "markdown",
   "metadata": {
    "deletable": false,
    "editable": false
   },
   "source": [
    "----------------\n",
    "<h2 style=\"color:blue;\"><b>NumPy Structures & Operations</b></h2>\n",
    "\n",
    "-------------------"
   ]
  },
  {
   "cell_type": "markdown",
   "metadata": {
    "deletable": false,
    "editable": false
   },
   "source": [
    "<ul style=\"color:SlateBlue;\">\n",
    "    <li>NumPy module supports fast numerical operation within Python and forms the basis for the Pandas module.</li>\n",
    "    <li>It builds around a new, n-dimensional array (ndarray) data structure that provides numerical computations.</li>\n",
    "    <li>This data type for objects stored in the array can be specified at creation time, but the array is homogenous.</li>\n",
    "    <li>This array can be used to represent a vector (one-dimensional set of numerical values) or matrix (multiple-dimensional set of vectors).</li>\n",
    "    <li>Furthermore, NumPy provides</li>\n",
    "    <ul style=\"color:DodgerBlue;\">\n",
    "        <li>additional benefits built on top of the array object, including:</li>\n",
    "        <ul>\n",
    "            <li>masked arrays_, </li>\n",
    "            <li>_universal functions_, </li>\n",
    "            <li>_sampling from random distributions_, </li>\n",
    "        </ul>\n",
    "        <li>and support for </li>\n",
    "        <ul>\n",
    "            <li>_user-defined, \tarbitrary data-types that allow the array to become an efficient, multi-dimensional generic data container.</li>\n",
    "        </ul>\n",
    "    </ul>\n",
    "    </ul>\n",
    "\n",
    "-----------------------------"
   ]
  },
  {
   "cell_type": "code",
   "execution_count": 1,
   "metadata": {
    "deletable": false,
    "editable": false
   },
   "outputs": [
    {
     "name": "stdout",
     "output_type": "stream",
     "text": [
      "[0.01, 1.01, 2.01, 3.01, 4.01, 5.01]\n",
      "[0.01 1.01 2.01 3.01 4.01 5.01]\n",
      "\n",
      "Time to process list:\n",
      "12.3 ms ± 238 µs per loop (mean ± std. dev. of 7 runs, 100 loops each)\n",
      "12.1 ms ± 295 µs per loop (mean ± std. dev. of 7 runs, 100 loops each)\n",
      "17.5 ms ± 228 µs per loop (mean ± std. dev. of 7 runs, 100 loops each)\n",
      "\n",
      "Time to process numpy arrary:\n",
      "629 µs ± 2.41 µs per loop (mean ± std. dev. of 7 runs, 1000 loops each)\n",
      "642 µs ± 15.9 µs per loop (mean ± std. dev. of 7 runs, 1000 loops each)\n",
      "468 µs ± 1.58 µs per loop (mean ± std. dev. of 7 runs, 1000 loops each)\n"
     ]
    }
   ],
   "source": [
    "## Compare the times between list and numpy array\n",
    "\n",
    "import math\n",
    "import numpy as np\n",
    "\n",
    "size = 100000\n",
    "delta = 1.0E-2          # 0.01\n",
    "\n",
    "aList = [(x + delta) for x in range(size)]\n",
    "anArray = np.arange(size) + delta\n",
    "\n",
    "print(aList[:6])\n",
    "print(anArray[:6])\n",
    "\n",
    "print(\"\\nTime to process list:\")\n",
    "%timeit [math.sin(x) for x in aList]\n",
    "%timeit [math.cos(x) for x in aList]\n",
    "%timeit [math.log(x) for x in aList]\n",
    "\n",
    "print(\"\\nTime to process numpy arrary:\")\n",
    "%timeit np.sin(anArray)\n",
    "%timeit np.cos(anArray)\n",
    "%timeit np.log10(anArray)\n"
   ]
  },
  {
   "cell_type": "markdown",
   "metadata": {
    "deletable": false,
    "editable": false
   },
   "source": [
    "---------------------------------------------------\n",
    "<h3 style=\"color:blue;\">Creating an Array with NumPy</h3>\n",
    "<ul style=\"color:SlateBlue;\">\n",
    "    <li>NumPy arrays, instances of the ndarray class, are data structures that can be created in a number of different ways.</li>\n",
    "    <li>You can create an array from an existing Python list or tuple, or use one of the many built-in NumPy convenience methods:</li>\n",
    "    <ul style=\"color:DodgerBlue;\">\n",
    "        <li>empty: Creates a new array whose elements are uninitialized.</li>\n",
    "        <li>zeros: Creates a new array whose elements are initialized to zero.</li>\n",
    "        <li>ones: Creates a new array whose elements are initialized to one.</li>\n",
    "        <li>empty_like: Creates a new array whose size matches the input array and whose values are uninitialized.</li>\n",
    "        <li>zero_like: Creates a new array whose size matches the input array and whose values are initialized to zero.</li>\n",
    "        <li>ones_like: Creates a new array whose size matches the input array and whose values are initialized to unity.</li>\n",
    "    </ul>\n",
    "    </ul>\n",
    "    \n",
    "-----------------\n"
   ]
  },
  {
   "cell_type": "code",
   "execution_count": 2,
   "metadata": {
    "deletable": false,
    "editable": false
   },
   "outputs": [
    {
     "name": "stdout",
     "output_type": "stream",
     "text": [
      "[0 1 2 3 4 5 6 7 8 9]\n",
      "\n",
      " [2.33419537e-312 9.76118064e-313 2.35541533e-312 1.03977794e-312\n",
      " 8.48798317e-313 2.33419537e-312 2.41907520e-312 2.05833592e-312\n",
      " 8.70018275e-313 1.24610927e-306]\n",
      "\n",
      " [0. 0. 0. 0. 0. 0. 0. 0. 0. 0.]\n",
      "\n",
      " [1. 1. 1. 1. 1. 1. 1. 1. 1. 1.]\n",
      "\n",
      " [1 1 1 1 1 1 1 1 1 1]\n"
     ]
    }
   ],
   "source": [
    "## Create an array with NumPy Example #1\n",
    "# Make and print out simple NumPy arrays\n",
    "import numpy as np\n",
    "\n",
    "print(np.array([0, 1, 2, 3, 4, 5, 6, 7, 8, 9]))\n",
    "\n",
    "print(\"\\n\", np.empty(10))                 # all entries are un-initialized\n",
    "print(\"\\n\", np.zeros(10))                 # all entries set to zero\n",
    "print(\"\\n\", np.ones(10))                  # all entries set to one\n",
    "print(\"\\n\", np.ones_like(np.arange(10)))  # all entries set to unity with size same as input array\n"
   ]
  },
  {
   "cell_type": "code",
   "execution_count": 3,
   "metadata": {
    "deletable": false,
    "editable": false
   },
   "outputs": [
    {
     "name": "stdout",
     "output_type": "stream",
     "text": [
      "<class 'list'>\n",
      "[0.01, 1.01, 2.01, 3.01] [99997.01, 99998.01, 99999.01] \n",
      "\n",
      "<class 'numpy.ndarray'>\n",
      "[0.01 1.01 2.01 3.01] [99997.01 99998.01 99999.01]\n"
     ]
    }
   ],
   "source": [
    "## Create an array with NumPy Example #2\n",
    "import math\n",
    "import numpy as np\n",
    "\n",
    "size = 100000\n",
    "delta = 1.0E-2\n",
    "\n",
    "## Create list of elments by operation of list\n",
    "aList = [(x + delta) for x in range(size)]\n",
    "print(type(aList))\n",
    "print(aList[0:4], aList[-3:], \"\\n\")\n",
    "\n",
    "\n",
    "## Create array of elements with NumPy\n",
    "anArray = np.arange(size) + delta\n",
    "print(type(anArray))\n",
    "print(anArray[0:4], anArray[-3:])\n"
   ]
  },
  {
   "cell_type": "code",
   "execution_count": 4,
   "metadata": {
    "deletable": false,
    "editable": false
   },
   "outputs": [
    {
     "name": "stdout",
     "output_type": "stream",
     "text": [
      "[0 1 2 3 4 5 6 7 8 9]\n",
      "[3 5 7 9] \n",
      "\n",
      "Linear space bins [0, 10] = [ 0.          3.33333333  6.66666667 10.        ]\n",
      "\n",
      "Default linspace bins = 50\n",
      "\n",
      "Log space bins [0, 1] = [ 1.          2.15443469  4.64158883 10.        ]\n",
      "\n",
      "Default linspace bins = 50\n",
      "\n"
     ]
    }
   ],
   "source": [
    "## Demonstrate linear and logarthmic array creation.\n",
    "import numpy as np\n",
    "\n",
    "print(np.arange(10))\n",
    "print(np.arange(3, 10, 2), \"\\n\")\n",
    "\n",
    "print(\"Linear space bins [0, 10] = {}\\n\".format(np.linspace(0, 10, 4)))\n",
    "\n",
    "print(\"Default linspace bins = {}\\n\".format(len(np.linspace(0,10))))\n",
    "\n",
    "print(\"Log space bins [0, 1] = {}\\n\".format(np.logspace(0, 1, 4)))       # 10^(1/3) = 2.15444\n",
    "\n",
    "print(\"Default linspace bins = {}\\n\".format(len(np.logspace(1, 10))))\n"
   ]
  },
  {
   "cell_type": "markdown",
   "metadata": {
    "deletable": false,
    "editable": false
   },
   "source": [
    "-------------\n",
    "<h3 style=\"color:blue;\">Indexing Arrays – access elements in an array</h3>\n",
    "\n",
    "------------------"
   ]
  },
  {
   "cell_type": "code",
   "execution_count": 5,
   "metadata": {
    "deletable": false,
    "editable": false
   },
   "outputs": [
    {
     "name": "stdout",
     "output_type": "stream",
     "text": [
      "Original Array =  [0 1 2 3 4 5 6 7 8]\n",
      "\n",
      "New Array =  [ 0  3 -2  4 -4  5  6  7  8]\n"
     ]
    }
   ],
   "source": [
    "## Create an initial array with elements from 0 ~ 8 inclusively\n",
    "import numpy as np\n",
    "aData = np.arange(9)\n",
    "print(\"Original Array = \", aData)\n",
    "\n",
    "## Assign values to specific elements\n",
    "aData[1] = 3              # assign 3 to the second element\n",
    "aData[3:5] = 4            # assign 4 to the fourth and fifth elements\n",
    "aData[0:6:2] *= -1        # multiple the 1st, 3rd, and 5th element \n",
    "\n",
    "print(\"\\nNew Array = \", aData)\n"
   ]
  },
  {
   "cell_type": "markdown",
   "metadata": {
    "deletable": false,
    "editable": false
   },
   "source": [
    "--------------\n",
    "<h3 style=\"color:blue;\">Special Indexing</h3>\n",
    "<ul style=\"color:SlateBlue;\">\n",
    "    <li>Access the elements by index array & access by Boolean mask array</li>\n",
    "    </ul>\n",
    "    \n",
    "------------------------\n"
   ]
  },
  {
   "cell_type": "code",
   "execution_count": 6,
   "metadata": {
    "deletable": false,
    "editable": false
   },
   "outputs": [
    {
     "name": "stdout",
     "output_type": "stream",
     "text": [
      "Original array:  [10 11 12 13 14 15 16 17 18 19]\n",
      "\n",
      "Index Access:  [11 13 15 17 12]\n",
      "\n",
      "Mask Array:  [ True  True  True  True  True  True  True  True  True  True]\n",
      "New Array:  [10 11 12 13 14 -1 -1 -1 -1 -1]\n",
      "Masked Array:  [13 14]\n"
     ]
    }
   ],
   "source": [
    "## Demonstrate access by index array and by Boolean mask array\n",
    "import numpy as np\n",
    "aData = np.arange(10, 20)\n",
    "\n",
    "## index array\n",
    "print(\"Original array: \", aData)\n",
    "print(\"\\nIndex Access: \", aData[np.array([1, 3, 5, 7, 2])])\n",
    "\n",
    "## masking array\n",
    "print(\"\\nMask Array: \", aData > 4)\n",
    "\n",
    "## Change the values by using the mask\n",
    "aData[aData > 14] = -1.0\n",
    "print(\"New Array: \", aData)\n",
    "\n",
    "print(\"Masked Array: \", aData[aData > 12])\n"
   ]
  },
  {
   "cell_type": "markdown",
   "metadata": {
    "deletable": false,
    "editable": false
   },
   "source": [
    "-----------------------\n",
    "<h3 style=\"color:blue;\">Summary Functions</h3>\n",
    "<ul style=\"color:SlateBlue;\">\n",
    "    <li>Statistical measures (mean, median, var, std, min, and max)</li>\n",
    "    <li>Total sum or product (sum, and prod)</li>\n",
    "    <li>Running sum and product (cumsum, and cumprod)</li>\n",
    "    </ul>\n",
    "    <p style=\"color:orange;\">Refered to this link for reference: </p><span>https://numpy.org/doc/stable/reference/arrays.ndarray.html</span>\n",
    "    \n",
    "------------------------------------------\n"
   ]
  },
  {
   "cell_type": "code",
   "execution_count": 7,
   "metadata": {
    "deletable": false,
    "editable": false
   },
   "outputs": [
    {
     "name": "stdout",
     "output_type": "stream",
     "text": [
      "Original array:   [1 2 3 4 5] \n",
      "\n",
      "Mean value = 3.0\n",
      "Median value = 3.0\n",
      "Variance = 2.0\n",
      "Std. Deviation = 1.4142135623730951\n",
      "\n",
      "Minimum value = 1\n",
      "Maximum value = 5\n",
      "\n",
      "Sum of all values = 15\n",
      "Running cumulative sum of all values = [ 1  3  6 10 15]\n",
      "\n",
      "Product of all values = 120\n",
      "Running product of all values = [  1   2   6  24 120]\n",
      "\n"
     ]
    }
   ],
   "source": [
    "## Demonstration of Summary Functions\n",
    "## Make an array = [1, 2, 3, 4, 5]\n",
    "import numpy as np\n",
    "anArray = np.arange(1, 6)\n",
    "print(\"Original array:  \", anArray, \"\\n\")\n",
    "\n",
    "print(\"Mean value = {}\".format(np.mean(anArray)))\n",
    "print(\"Median value = {}\".format(np.median(anArray)))\n",
    "print(\"Variance = {}\".format(np.var(anArray)))\n",
    "print(\"Std. Deviation = {}\\n\".format(np.std(anArray)))\n",
    "\n",
    "print(\"Minimum value = {}\".format(np.min(anArray)))\n",
    "print(\"Maximum value = {}\\n\".format(np.max(anArray)))\n",
    "\n",
    "print(\"Sum of all values = {}\".format(np.sum(anArray)))\n",
    "print(\"Running cumulative sum of all values = {}\\n\".format(np.cumsum(anArray)))\n",
    "\n",
    "print(\"Product of all values = {}\".format(np.prod(anArray)))\n",
    "print(\"Running product of all values = {}\\n\".format(np.cumprod(anArray)))\n"
   ]
  },
  {
   "cell_type": "markdown",
   "metadata": {
    "deletable": false,
    "editable": false
   },
   "source": [
    "-------------------\n",
    "<h3 style=\"color:blue;\">Multi-Dimensional Array</h3>\n",
    "<ul style=\"color:SlateBlue;\">\n",
    "    <li>Higher dimensional arrays can be created in the same way that a single dimensional array</li>\n",
    "    <li>First create a one dimensional arrays with the correct number of elements and then use the reshape function from NumPy to create the n-dimensional array.</li>\n",
    "    </ul>\n",
    "    \n",
    "------------------------\n"
   ]
  },
  {
   "cell_type": "code",
   "execution_count": 10,
   "metadata": {
    "deletable": false,
    "editable": false
   },
   "outputs": [
    {
     "name": "stdout",
     "output_type": "stream",
     "text": [
      "[ 0  1  2  3  4  5  6  7  8  9 10 11 12 13 14 15 16 17 18 19] \n",
      "\n",
      "[[ 0  1  2  3  4]\n",
      " [ 5  6  7  8  9]\n",
      " [10 11 12 13 14]\n",
      " [15 16 17 18 19]]\n"
     ]
    }
   ],
   "source": [
    "## Example to create a 4x5 matrix\n",
    "import numpy as np\n",
    "\n",
    "# Make a one 20 element one-dimensional array\n",
    "d20 = np.arange(20)\n",
    "print(d20, \"\\n\")\n",
    "\n",
    "# Reshape to a 4 x 5 array\n",
    "mat45 = d20.reshape(4, 5)         # reshape as a 4x5 matrix\n",
    "print(mat45)\n"
   ]
  },
  {
   "cell_type": "code",
   "execution_count": 11,
   "metadata": {
    "deletable": false,
    "editable": false
   },
   "outputs": [
    {
     "name": "stdout",
     "output_type": "stream",
     "text": [
      "[ 1  2  3  4  5  6  7  8  9 10 11 12 13 14 15 16 17 18 19 20 21 22 23 24\n",
      " 25 26 27 28 29 30 31 32 33 34 35 36 37 38 39 40 41 42 43 44 45 46 47 48\n",
      " 49 50 51 52 53 54 55 56 57 58 59 60] \n",
      "\n",
      "[[[ 1  2  3  4  5]\n",
      "  [ 6  7  8  9 10]\n",
      "  [11 12 13 14 15]\n",
      "  [16 17 18 19 20]]\n",
      "\n",
      " [[21 22 23 24 25]\n",
      "  [26 27 28 29 30]\n",
      "  [31 32 33 34 35]\n",
      "  [36 37 38 39 40]]\n",
      "\n",
      " [[41 42 43 44 45]\n",
      "  [46 47 48 49 50]\n",
      "  [51 52 53 54 55]\n",
      "  [56 57 58 59 60]]] \n",
      "\n"
     ]
    }
   ],
   "source": [
    "## Example to create a 3x4x5 matrix\n",
    "import numpy as np\n",
    "\n",
    "# Make a one 60 element one-dimensional array\n",
    "d60 = np.arange(1,61)\n",
    "print(d60, \"\\n\")\n",
    "\n",
    "# Reshape to a 3x4x5 array\n",
    "mat345 = d60.reshape(3, 4, 5)\n",
    "print(mat345, \"\\n\")\n"
   ]
  },
  {
   "cell_type": "code",
   "execution_count": 1,
   "metadata": {
    "deletable": false,
    "editable": false
   },
   "outputs": [
    {
     "name": "stdout",
     "output_type": "stream",
     "text": [
      "Original array:\n",
      " [[ 1  2  3  4]\n",
      " [ 5  6  7  8]\n",
      " [ 9 10 11 12]\n",
      " [13 14 15 16]]\n",
      "\n",
      "Mean value = 8.5\n",
      "Median value = 8.5\n",
      "Variance = 21.25\n",
      "Std. Deviation = 4.609772\n",
      "\n",
      "Minimum value = 1\n",
      "Maximum value = 16\n",
      "\n",
      "Sum of all values = 136\n",
      "\n",
      "Running cumulative sum of all values:\n",
      "[  1   3   6  10  15  21  28  36  45  55  66  78  91 105 120 136]\n",
      "\n",
      "Running cumulative sum for each column over rows:\n",
      "[[ 1  2  3  4]\n",
      " [ 6  8 10 12]\n",
      " [15 18 21 24]\n",
      " [28 32 36 40]]\n",
      "\n",
      "Product of all values = 2004189184\n",
      "\n",
      "Running product of all values:\n",
      "[         1          2          6         24        120        720\n",
      "       5040      40320     362880    3628800   39916800  479001600\n",
      " 1932053504 1278945280 2004310016 2004189184]\n",
      "\n",
      "Running product for each row over columns:\n",
      "[[    1     2     6    24]\n",
      " [    5    30   210  1680]\n",
      " [    9    90   990 11880]\n",
      " [   13   182  2730 43680]]\n"
     ]
    }
   ],
   "source": [
    "## Demonstration of Summary Functions on a 2-dimensional Matrix\n",
    "## Make a 4x4 matrix\n",
    "import numpy as np\n",
    "anMat = np.arange(1,17).reshape(4,4)\n",
    "print(\"Original array:\\n\", anMat)\n",
    "\n",
    "print(\"\\nMean value = {}\".format(np.mean(anMat)))\n",
    "print(\"Median value = {}\".format(np.median(anMat)))\n",
    "print(\"Variance = {}\".format(np.var(anMat)))\n",
    "print(\"Std. Deviation = {0:.6f}\".format(np.std(anMat)))\n",
    "\n",
    "print(\"\\nMinimum value = {}\".format(np.min(anMat)))\n",
    "print(\"Maximum value = {}\".format(np.max(anMat)))\n",
    "\n",
    "print(\"\\nSum of all values = {}\".format(np.sum(anMat)))\n",
    "print(\"\\nRunning cumulative sum of all values:\\n{}\".format(np.cumsum(anMat)))\n",
    "print(\"\\nRunning cumulative sum for each column over rows:\\n{}\".format(np.cumsum(anMat, axis=0)))\n",
    "\n",
    "print(\"\\nProduct of all values = {}\".format(np.prod(anMat)))\n",
    "print(\"\\nRunning product of all values:\\n{}\".format(np.cumprod(anMat)))\n",
    "print(\"\\nRunning product for each row over columns:\\n{}\".format(np.cumprod(anMat, axis=1)))\n"
   ]
  },
  {
   "cell_type": "markdown",
   "metadata": {
    "deletable": false,
    "editable": false
   },
   "source": [
    "--------------\n",
    "<h3 style=\"color:blue;\">Create special two-dimensional array</h3>\n",
    "\n",
    "--------------------------------\n"
   ]
  },
  {
   "cell_type": "code",
   "execution_count": 12,
   "metadata": {
    "deletable": false,
    "editable": false
   },
   "outputs": [
    {
     "name": "stdout",
     "output_type": "stream",
     "text": [
      "Matrix will be 4 x 4.\n",
      " [[1. 0. 0. 0.]\n",
      " [0. 1. 0. 0.]\n",
      " [0. 0. 1. 0.]\n",
      " [0. 0. 0. 1.]]\n",
      "\n",
      "Matrix will be 4 x 4.\n",
      " [[0 0 0 0]\n",
      " [0 1 0 0]\n",
      " [0 0 2 0]\n",
      " [0 0 0 3]]\n",
      "\n",
      "Matrix will be 5 x 5.\n",
      " [[0 0 0 0 0]\n",
      " [0 0 1 0 0]\n",
      " [0 0 0 2 0]\n",
      " [0 0 0 0 3]\n",
      " [0 0 0 0 0]]\n",
      "\n",
      "Matrix will be 5 x 5.\n",
      " [[0 0 0 0 0]\n",
      " [0 0 0 0 0]\n",
      " [0 1 0 0 0]\n",
      " [0 0 2 0 0]\n",
      " [0 0 0 3 0]]\n"
     ]
    }
   ],
   "source": [
    "## Create special two-dimensional arrays\n",
    "\n",
    "print(\"Matrix will be 4 x 4.\\n\", np.eye(4))    # Identity matrix\n",
    "print(\"\\nMatrix will be 4 x 4.\\n\", np.diag(np.arange(4), 0))\n",
    "print(\"\\nMatrix will be 5 x 5.\\n\", np.diag(np.arange(4), 1))\n",
    "print(\"\\nMatrix will be 5 x 5.\\n\", np.diag(np.arange(4), -1))\n"
   ]
  },
  {
   "cell_type": "markdown",
   "metadata": {
    "deletable": false,
    "editable": false
   },
   "source": [
    "---------------\n",
    "<h3 style=\"color:blue;\">Slicing Multi-Dimensional Arrays</h3>\n",
    "<ul style=\"color:SlateBlue;\">\n",
    "    <li>Multi-dimensional arrays can be sliced (or indexed); the only trick is to remember the proper ordering for the elements.</li>\n",
    "    <li>Each dimension is differentiated by a comma in the slicing operation.</li>\n",
    "    <li>A two-dimensional array is sliced with [start1:end1, start2:end2],</li>\n",
    "    <li>A  three-dimensional array is sliced with [start1:end1, start2:end2. start3:end3], continuing on with higher dimensions.</li>\n",
    "    </ul>\n",
    "    \n",
    "-----------------------\n"
   ]
  },
  {
   "cell_type": "code",
   "execution_count": 13,
   "metadata": {
    "deletable": false,
    "editable": false
   },
   "outputs": [
    {
     "name": "stdout",
     "output_type": "stream",
     "text": [
      "3 x 4 array = \n",
      " [[ 1  2  3  4]\n",
      " [ 5  6  7  8]\n",
      " [ 9 10 11 12]]\n",
      "\n",
      "Slice in first dimension (row 1):  [1 2 3 4]\n",
      "\n",
      "Slice in first dimension (row 3):  [ 9 10 11 12]\n",
      "\n",
      "Slice in second dimension (col 1):  [1 5 9]\n",
      "\n",
      "Slice in second dimension (col 3):  [ 3  7 11]\n",
      "\n",
      "Slice in first and second dimension:  [[2 3]\n",
      " [6 7]]\n",
      "\n",
      "Direct Element access:  2\n"
     ]
    }
   ],
   "source": [
    "## Demonstration on two-dimensional slicing\n",
    "import numpy as np\n",
    "aData = np.arange(1,13).reshape((3,4))\n",
    "\n",
    "print(\"3 x 4 array = \\n\", aData)\n",
    "\n",
    "print(\"\\nSlice in first dimension (row 1): \", aData[0])\n",
    "print(\"\\nSlice in first dimension (row 3): \", aData[2])\n",
    "\n",
    "print(\"\\nSlice in second dimension (col 1): \", aData[:, 0])\n",
    "print(\"\\nSlice in second dimension (col 3): \", aData[:, 2])\n",
    "\n",
    "print(\"\\nSlice in first and second dimension: \", aData[0:2, 1:3])\n",
    "\n",
    "print(\"\\nDirect Element access: \", aData[0,1])\n"
   ]
  },
  {
   "cell_type": "code",
   "execution_count": 1,
   "metadata": {
    "deletable": false,
    "editable": false
   },
   "outputs": [
    {
     "name": "stdout",
     "output_type": "stream",
     "text": [
      "3 x 3 x 3 array = \n",
      " [[[ 0  1  2]\n",
      "  [ 3  4  5]\n",
      "  [ 6  7  8]]\n",
      "\n",
      " [[ 9 10 11]\n",
      "  [12 13 14]\n",
      "  [15 16 17]]\n",
      "\n",
      " [[18 19 20]\n",
      "  [21 22 23]\n",
      "  [24 25 26]]]\n",
      "\n",
      "Slice in first dimension (first x axis slice):\n",
      " [[0 1 2]\n",
      " [3 4 5]\n",
      " [6 7 8]]\n",
      "\n",
      "Slice in first and second dimension:  [3 4 5]\n",
      "\n",
      "Slice in first dimension (third x axis slice):\n",
      " [[18 19 20]\n",
      " [21 22 23]\n",
      " [24 25 26]]\n",
      "\n",
      "Slice in second dimension (first y axis slice):\n",
      " [[ 0  1  2]\n",
      " [ 9 10 11]\n",
      " [18 19 20]]\n",
      "\n",
      "Slice in second dimension (third y axis slice):\n",
      " [[ 6  7  8]\n",
      " [15 16 17]\n",
      " [24 25 26]]\n",
      "\n",
      "Slice in first and second dimension:  [[[3 4 5]]]\n",
      "\n",
      "Slice in first and second dimension:\n",
      " [3 4 5]\n",
      "\n",
      "Slice in first and third dimension:  [1 4 7]\n",
      "\n",
      "Slice in first, second, and third dimension:  [[[5]]]\n",
      "\n",
      "Direct element access:  5\n"
     ]
    }
   ],
   "source": [
    "## Demonstration on three-dimensional slicing\n",
    "import numpy as np\n",
    "aData = np.arange(27).reshape((3, 3, 3))\n",
    "\n",
    "print(\"3 x 3 x 3 array = \\n\", aData)\n",
    "print(\"\\nSlice in first dimension (first x axis slice):\\n\", aData[0])\n",
    "\n",
    "print(\"\\nSlice in first and second dimension: \", aData[0, 1])\n",
    "\n",
    "print(\"\\nSlice in first dimension (third x axis slice):\\n\", aData[2])\n",
    "\n",
    "print(\"\\nSlice in second dimension (first y axis slice):\\n\", aData[:, 0])\n",
    "print(\"\\nSlice in second dimension (third y axis slice):\\n\", aData[:, 2])\n",
    "\n",
    "print(\"\\nSlice in first and second dimension: \", aData[0:1, 1:2])\n",
    "\n",
    "print(\"\\nSlice in first and second dimension:\\n\", aData[0, 1])\n",
    "print(\"\\nSlice in first and third dimension: \", aData[0, : ,1])\n",
    "print(\"\\nSlice in first, second, and third dimension: \", aData[0:1, 1:2, 2:])\n",
    "\n",
    "print(\"\\nDirect element access: \", aData[0, 1, 2])\n"
   ]
  },
  {
   "cell_type": "markdown",
   "metadata": {
    "deletable": false,
    "editable": false
   },
   "source": [
    "--------------\n",
    "<h3 style=\"color:blue;\">Special Indexing – Boolean Mask Access</h3>\n",
    "\n",
    "-----------------------\n"
   ]
  },
  {
   "cell_type": "code",
   "execution_count": 14,
   "metadata": {
    "deletable": false,
    "editable": false
   },
   "outputs": [
    {
     "name": "stdout",
     "output_type": "stream",
     "text": [
      "\n",
      "Starting array:\n",
      " [[0 1 2 3 4]\n",
      " [5 6 7 8 9]]\n",
      "\n",
      "Index Array access:\n",
      " [3 9]\n",
      "\n",
      "More Index Array access:\n",
      " [2 4 8]\n"
     ]
    }
   ],
   "source": [
    "## Demonstration of a multi-dimensional index array\n",
    "import numpy as np\n",
    "\n",
    "# Two-dimensional array\n",
    "aData = np.arange(10).reshape((2, 5))\n",
    "\n",
    "print(\"\\nStarting array:\\n\", aData)\n",
    "print(\"\\nIndex Array access:\\n\", aData[np.array([0, 1]) , np.array([3, 4])])\n",
    "print(\"\\nMore Index Array access:\\n\", aData[np.array([0, 0, 1]), np.array([2, 4, 3])])\n"
   ]
  },
  {
   "cell_type": "code",
   "execution_count": 15,
   "metadata": {
    "deletable": false,
    "editable": false
   },
   "outputs": [
    {
     "name": "stdout",
     "output_type": "stream",
     "text": [
      "\n",
      " Starting Array: \n",
      " [[ 1  2  3  4  5]\n",
      " [ 6  7  8  9 10]\n",
      " [11 12 13 14 15]\n",
      " [16 17 18 19 20]\n",
      " [21 22 23 24 25]]\n",
      "\n",
      "Mask 1:\n",
      " [[False False False False False]\n",
      " [False False False  True  True]\n",
      " [ True  True  True  True  True]\n",
      " [ True  True  True  True  True]\n",
      " [ True  True  True  True  True]]\n",
      "\n",
      "Mask 2:\n",
      " [[False  True False  True False]\n",
      " [ True False  True False  True]\n",
      " [False  True False  True False]\n",
      " [ True False  True False  True]\n",
      " [False  True False  True False]]\n",
      "\n",
      "Mask :\n",
      " [[False False False False False]\n",
      " [False False False False  True]\n",
      " [False  True False  True False]\n",
      " [ True False  True False  True]\n",
      " [False  True False  True False]]\n",
      "\n",
      "Masked Array :\n",
      " [10 12 14 16 18 20 22 24]\n",
      "\n",
      "New Array :\n",
      " [[  1   2   3   4   5]\n",
      " [  6   7   8   9 -20]\n",
      " [ 11 -24  13 -28  15]\n",
      " [-32  17 -36  19 -40]\n",
      " [ 21 -44  23 -48  25]]\n"
     ]
    }
   ],
   "source": [
    "## Demonstrate Boolean mask access - Two-dimensional example.\n",
    "import numpy as np\n",
    "\n",
    "aData = np.arange(1,26).reshape((5, 5))\n",
    "print(\"\\n Starting Array: \\n\", aData)\n",
    "\n",
    "# Build a mask that is True for all even elements with value greater than four\n",
    "mask1 = (aData > 8)\n",
    "mask2 = (aData % 2 == 0)\n",
    "print(\"\\nMask 1:\\n\", mask1)\n",
    "print(\"\\nMask 2:\\n\", mask2)\n",
    "\n",
    "# We use the logical_and ufunc here, but it is described later\n",
    "mask = np.logical_and(mask1, mask2)\n",
    "print(\"\\nMask :\\n\", mask)\n",
    "\n",
    "print(\"\\nMasked Array :\\n\", aData[mask])\n",
    "aData[mask] *= -2            # only those that masked as true be modified\n",
    "print(\"\\nNew Array :\\n\", aData)    \n"
   ]
  },
  {
   "cell_type": "markdown",
   "metadata": {
    "deletable": false,
    "editable": false
   },
   "source": [
    "--------------------\n",
    "<h3 style=\"color:blue;\"><b>Student Practice #1</b></h3>\n",
    "<p style=\"color:SlateBlue;\">In the empty Code cell below, write and execute code to make a four by five matrix that contains the integers 2, 4, 6, ..., 40. Slice and display:</p>\n",
    "<ol style=\"color:DodgerBlue;\">\n",
    "    <li>the third row,</li>\n",
    "    <li>the fourth column, and</li>\n",
    "    <li>the element at the position (4, 4).</li>\n",
    "    </ol>\n",
    "    \n",
    "-------------------------"
   ]
  },
  {
   "cell_type": "code",
   "execution_count": 4,
   "metadata": {},
   "outputs": [
    {
     "name": "stdout",
     "output_type": "stream",
     "text": [
      "\n",
      " Starting Array:\n",
      " [[ 2  4  6  8 10]\n",
      " [12 14 16 18 20]\n",
      " [22 24 26 28 30]\n",
      " [32 34 36 38 40]]\n",
      "\n",
      " The third row:\n",
      " [22 24 26 28 30]\n",
      "\n",
      " The fourth column:\n",
      " [ 8 18 28 38]\n",
      "\n",
      " The element of position at (4, 4): 38\n"
     ]
    }
   ],
   "source": [
    "import numpy as np\n",
    "\n",
    "infile = np.arange(2, 41, 2).reshape(4, 5)\n",
    "print(\"\\n Starting Array:\\n\", infile)\n",
    "\n",
    "print(\"\\n The third row:\\n\", infile[2])\n",
    "print(\"\\n The fourth column:\\n\", infile[:, 3])\n",
    "print(\"\\n The element of position at (4, 4):\", infile[3, 3])"
   ]
  },
  {
   "cell_type": "markdown",
   "metadata": {
    "deletable": false,
    "editable": false
   },
   "source": [
    "----------------------\n",
    "<h3 style=\"color:blue;\"><b>Student Practice #2</b></h3>\n",
    "<p style=\"color:SlateBlue;\">In the empty Code cells below, write and execute code to make a four by four matrix that contains the integers 1 through 16, then perform the following:</p>\n",
    "<ol style=\"color:DodgerBlue;\">\n",
    "    <li>Add five to the first row, ten to the second row, fifteen to the third row, twenty to the fourth row, and display the resulting matrix. </li>\n",
    "    <li>Next apply the cos function to the odd rows, and the sin function to the even rows, and display the resulting matrix.</li>\n",
    "    <li>Finally, compute and display the cumulative sum for each row, and the cumulative product for each column.</li>\n",
    "    </ol>\n",
    "\n",
    "----------------------------------"
   ]
  },
  {
   "cell_type": "code",
   "execution_count": 23,
   "metadata": {},
   "outputs": [
    {
     "name": "stdout",
     "output_type": "stream",
     "text": [
      "\n",
      " Original Array:\n",
      " [[ 1  2  3  4]\n",
      " [ 5  6  7  8]\n",
      " [ 9 10 11 12]\n",
      " [13 14 15 16]]\n",
      "\n",
      " Matrix after add 5 to the first row \n",
      "[[ 6  7  8  9]\n",
      " [ 5  6  7  8]\n",
      " [ 9 10 11 12]\n",
      " [13 14 15 16]]\n",
      "\n",
      " Matrix after add 10 to the second row\n",
      " [[ 6  7  8  9]\n",
      " [15 16 17 18]\n",
      " [ 9 10 11 12]\n",
      " [13 14 15 16]]\n",
      "\n",
      " Matrix after add 15 to the third row\n",
      " [[ 6  7  8  9]\n",
      " [15 16 17 18]\n",
      " [24 25 26 27]\n",
      " [13 14 15 16]]\n",
      "\n",
      " Matrix after add 20 to the third row\n",
      " [[ 6  7  8  9]\n",
      " [15 16 17 18]\n",
      " [24 25 26 27]\n",
      " [33 34 35 36]]\n",
      "\n",
      "~*-*-*-*~*-*-*-*~*-*-*-*~*-*-*-*~*-*-*-*~*-*-*-*~*-*-*-*~*-*-*-*~*-*-*-*~*-*-*-*\n",
      "\n",
      "\n",
      " Matrix after applying cos to the first and third row \n",
      " [[ 5.40302306e-01 -4.16146837e-01 -9.89992497e-01 -6.53643621e-01]\n",
      " [ 5.00000000e+00  6.00000000e+00  7.00000000e+00  8.00000000e+00]\n",
      " [-9.11130262e-01 -8.39071529e-01  4.42569799e-03  8.43853959e-01]\n",
      " [ 1.30000000e+01  1.40000000e+01  1.50000000e+01  1.60000000e+01]]\n",
      "\n",
      " Matrix after applying sin to the second and fourth row \n",
      " [[ 0.54030231 -0.41614684 -0.9899925  -0.65364362]\n",
      " [-0.95892427 -0.2794155   0.6569866   0.98935825]\n",
      " [-0.91113026 -0.83907153  0.0044257   0.84385396]\n",
      " [ 0.42016704  0.99060736  0.65028784 -0.28790332]]\n",
      "\n",
      "~*-*-*-*~*-*-*-*~*-*-*-*~*-*-*-*~*-*-*-*~*-*-*-*~*-*-*-*~*-*-*-*~*-*-*-*~*-*-*-*\n",
      "\n",
      "\n",
      " The cumulative sum for each row\n",
      " [[ 0.54030231  0.12415547 -0.86583703 -1.51948065]\n",
      " [-0.95892427 -1.23833977 -0.58135317  0.40800507]\n",
      " [-0.91113026 -1.75020179 -1.74577609 -0.90192213]\n",
      " [ 0.42016704  1.41077439  2.06106223  1.77315892]]\n",
      "\n",
      "The cumulative product for each column: \n",
      "[[ 0.54030231 -0.41614684 -0.9899925  -0.65364362]\n",
      " [-0.518109    0.11627788 -0.6504118  -0.64668771]\n",
      " [ 0.47206479 -0.09756545 -0.00287853 -0.54570998]\n",
      " [ 0.19834606 -0.09664906 -0.00187187  0.15711171]]\n"
     ]
    }
   ],
   "source": [
    "import numpy as np\n",
    "import numpy.ma as ma\n",
    "\n",
    "file = np.arange(1, 17).reshape(4, 4)\n",
    "print(\"\\n Original Array:\\n\", file)\n",
    "\n",
    "\n",
    "##Add 5 to the first row\n",
    "mask = ma.asarray(file, dtype=bool)\n",
    "mask[:,:] = False\n",
    "mask[0] = True\n",
    "file[mask] += 5\n",
    "print(\"\\n Matrix after add 5 to the first row \\n{}\".format(file))\n",
    "\n",
    "##Add 10 to the second row\n",
    "mask = ma.asarray(file, dtype=bool)\n",
    "mask[:,:] = False\n",
    "mask[1] = True\n",
    "file[mask] += 10\n",
    "print(\"\\n Matrix after add 10 to the second row\\n {}\".format(file))\n",
    "\n",
    "##Add 15 to the third row\n",
    "mask = ma.asarray(file, dtype=bool)\n",
    "mask[:,:] = False\n",
    "mask[2] = True\n",
    "file[mask] += 15\n",
    "print(\"\\n Matrix after add 15 to the third row\\n {}\".format(file))\n",
    "\n",
    "##Add 20 to the fourth row\n",
    "mask = ma.asarray(file, dtype=bool)\n",
    "mask[:,:] = False\n",
    "mask[3] = True\n",
    "file[mask] += 20\n",
    "print(\"\\n Matrix after add 20 to the third row\\n {}\".format(file))\n",
    "\n",
    "##Question 2\n",
    "print(\"\\n\" + \"~*-*-*-*\"*10 + \"\\n\")\n",
    "aData = np.arange(1, 17).reshape(4, 4).astype(float)\n",
    "mask = (aData > 16)\n",
    "mask[0] = True\n",
    "mask[2] = True\n",
    "aData[mask] = np.cos(aData[mask])\n",
    "print(\"\\n Matrix after applying cos to the first and third row \\n {}\".format(aData))\n",
    "\n",
    "mask[:,:] = False \n",
    "mask[1] = True\n",
    "mask[3] = True\n",
    "aData[mask] = np.sin(aData[mask])\n",
    "print(\"\\n Matrix after applying sin to the second and fourth row \\n {}\".format(aData))\n",
    "\n",
    "##Question 3\n",
    "print(\"\\n\" + \"~*-*-*-*\"*10 + \"\\n\")\n",
    "print(\"\\n The cumulative sum for each row\\n {}\".format(np.cumsum(aData, axis=1)))\n",
    "print(\"\\nThe cumulative product for each column: \\n{}\".format(np.cumprod(aData, axis=0)))"
   ]
  },
  {
   "cell_type": "code",
   "execution_count": null,
   "metadata": {},
   "outputs": [],
   "source": []
  }
 ],
 "metadata": {
  "kernelspec": {
   "display_name": "Python 3",
   "language": "python",
   "name": "python3"
  },
  "language_info": {
   "codemirror_mode": {
    "name": "ipython",
    "version": 3
   },
   "file_extension": ".py",
   "mimetype": "text/x-python",
   "name": "python",
   "nbconvert_exporter": "python",
   "pygments_lexer": "ipython3",
   "version": "3.8.5"
  }
 },
 "nbformat": 4,
 "nbformat_minor": 4
}
