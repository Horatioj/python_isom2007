{
 "cells": [
  {
   "cell_type": "markdown",
   "metadata": {
    "deletable": false,
    "editable": false
   },
   "source": [
    "-------------------------------\n",
    "\n",
    "<h3 style=\"color:blue;\"><b>Lists in Python</b></h3>\n",
    "<ul style=\"color:SlateBlue;\">\n",
    "    <li>Python’s core objects are numbers, strings, lists, tuples, files, sets, and dictionaries.</li>\n",
    "    <li>A list is an ordered sequence of Python objects. The objects can be of any type and do not have to all be the same type.</li>\n",
    "    <li>A list is constructed by writing its items enclosed in square brackets, with the items separated by commas. Some examples of lists are:</li>\n",
    "    <ul>\n",
    "        <li>team = [\"Seahawks\", 2014, \"CenturyLink Field\"]</li>\n",
    "        <li>nums = [5, 10, 4, 5]</li>\n",
    "        <li>words = [\"spam\", \"ni\"]</li>\n",
    "    </ul>\n",
    "    </ul>\n",
    "\n"
   ]
  },
  {
   "cell_type": "markdown",
   "metadata": {
    "deletable": false,
    "editable": false
   },
   "source": [
    "<h3 style=\"color:blue;\"><b>List Operations</b></h3>\n",
    "\n",
    "<p style=\"color:SlateBlue;\">You may refer to the following url for the details:<br>\n",
    "https://www.w3schools.com/python/python_lists.asp</p>"
   ]
  },
  {
   "cell_type": "markdown",
   "metadata": {
    "deletable": false,
    "editable": false
   },
   "source": [
    "<h3 style=\"color:blue;\"><b>The split and join Methods</b></h3>\n",
    "<ul style=\"color:SlateBlue;\">\n",
    "    <li>The split and join methods are extremely valuable methods that are inverses of each other.</li>\n",
    "    <li>The split method turns a single string into a list of substrings and the join method turns a list of strings into a single string.</li>\n",
    "    </ul>\n",
    "\n",
    "-----------------------------------------"
   ]
  },
  {
   "cell_type": "code",
   "execution_count": null,
   "metadata": {
    "deletable": false,
    "editable": false,
    "scrolled": true
   },
   "outputs": [],
   "source": [
    "print(\"a,b,c\".split(','))      # split the string according to ','\n",
    "print(\"a**b**c\".split('**'))   # split the string according to '**'\n",
    "print(\"a\\nb\\nc\".split())       # split the string according to return as default\n",
    "print(\"a b c\".split())         # split the string according to space"
   ]
  },
  {
   "cell_type": "code",
   "execution_count": null,
   "metadata": {
    "deletable": false,
    "editable": false
   },
   "outputs": [],
   "source": [
    "line = [\"To\", \"be\", \"or\", \"not\", \"to\", \"be.\"]\n",
    "print(' '.join(line))      # join the elements in line with ' '\n",
    "\n",
    "krispies = [\"Snap\", \"Crackle\", \"Pop\"]\n",
    "print(\", \".join(krispies)) # join the elements in krispies with ', '"
   ]
  },
  {
   "cell_type": "markdown",
   "metadata": {
    "deletable": false,
    "editable": false
   },
   "source": [
    "--------------------------------------\n",
    "\n",
    "<h3 style=\"color:blue;\"><b>Slices of Lists</b></h3>\n",
    "<ul style=\"color:SlateBlue;\">\n",
    "    <li>A slice of a list is a sub-list specified with colon notation.</li>\n",
    "    <li>It is analogous to a slice of a string.</li>\n",
    "    <li>Meaning of slice notations:</li>\n",
    "    </ul>\n",
    "<table style=\"color:DodgerBlue;align=left;\">\n",
    "    <tr>\n",
    "        <th style=\"text-align:left;\">Slice Notation</th>\n",
    "        <th style=\"text-align:left;\">Meaning</th>\n",
    "    </tr>\n",
    "    <tr>\n",
    "        <td style=\"text-align:left;\">list1[m:n]</td>\n",
    "        <td style=\"text-align:left;\">list consisting of the items of list1 having indices m through n-1</td>\n",
    "    </tr>\n",
    "    <tr>\n",
    "        <td style=\"text-align:left;\">list1[:]</td>\n",
    "        <td style=\"text-align:left;\">a new list containing the same items as list1</td>\n",
    "    </tr>\n",
    "    <tr>\n",
    "        <td style=\"text-align:left;\">list1[m:]</td>\n",
    "        <td style=\"text-align:left;\">list consisting of the items of list1 from list1[m] through the end of list1</td>\n",
    "    </tr>\n",
    "    <tr>\n",
    "        <td style=\"text-align:left;\">list1[:m]</td>\n",
    "        <td style=\"text-align:left;\">list consisting of the items of list1 from the beginning of list1 to the element having index m-1</td>\n",
    "    </tr>\n",
    "    </table>\n",
    "\n",
    "-----------------------------------------"
   ]
  },
  {
   "cell_type": "markdown",
   "metadata": {
    "deletable": false,
    "editable": false
   },
   "source": [
    "-----------------------------------------\n",
    "\n",
    "<h3 style=\"color:red;\"><b>Student Practice</b></h3>\n",
    "\n",
    "<p style=\"color:SlateBlue;\">The cell below defined a variable countries that contained the names of a number of countries in the world. Try to write the code to perform the following:</p>\n",
    "<ol Style=\"color:DodgerBlue;\">\n",
    "    <li>output the number of countries.</li>\n",
    "    <li>output the 8th and the last country.</li>\n",
    "    <li>output the 3rd to 7th countries.</li>\n",
    "    <li>output the 4th to the last countries.</li>\n",
    "    <li>output the 1st to the 5th countries.</li>\n",
    "    <li>output the 5th to the 10th countries in reverse order.</li>\n",
    "    <li>add Hong Kong and Macau to the end of the list.</li>\n",
    "    <li>remove the countries Angola from the list.</li>\n",
    "    <li>insert Korea after Brazil.</li>\n",
    "    <li>sort the list in ascending order</li>\n",
    "    </ol>\n",
    "\n",
    "----------------------------------------"
   ]
  },
  {
   "cell_type": "code",
   "execution_count": null,
   "metadata": {
    "deletable": false,
    "editable": false
   },
   "outputs": [],
   "source": [
    "countries = [\"Argentina\", \"Japan\", \"Brazil\", \"Angola\", \"England\", \n",
    "             \"India\", \"Portugal\", \"China\", \"Australia\", \"Austria\", \n",
    "             \"Bahamas\", \"Bangladesh\", \"Belgium\", \"Canada\", \"Denmark\"]\n"
   ]
  },
  {
   "cell_type": "code",
   "execution_count": null,
   "metadata": {
    "deletable": false,
    "editable": false
   },
   "outputs": [],
   "source": [
    "## Student Priactice #1\n",
    "## output the number of countries.\n",
    "\n",
    "print(len(countries))\n"
   ]
  },
  {
   "cell_type": "code",
   "execution_count": null,
   "metadata": {
    "deletable": false,
    "editable": false
   },
   "outputs": [],
   "source": [
    "## Student Priactice #2\n",
    "## output the the 8th and the last country.\n",
    "\n",
    "print(countries[7], \",\", countries[-1])\n"
   ]
  },
  {
   "cell_type": "code",
   "execution_count": null,
   "metadata": {
    "deletable": false,
    "editable": false
   },
   "outputs": [],
   "source": [
    "## Student Priactice #3\n",
    "## output the 3rd to 7th countries.\n",
    "\n",
    "print(countries[2:7])\n"
   ]
  },
  {
   "cell_type": "code",
   "execution_count": null,
   "metadata": {
    "deletable": false,
    "editable": false
   },
   "outputs": [],
   "source": [
    "## Student Priactice #4\n",
    "## output the 4th to the last countries.\n",
    "\n",
    "print(countries[3:])\n"
   ]
  },
  {
   "cell_type": "code",
   "execution_count": null,
   "metadata": {
    "deletable": false,
    "editable": false
   },
   "outputs": [],
   "source": [
    "## Student Priactice #5\n",
    "## output the 1st to the 5th countries.\n",
    "\n",
    "print(countries[:5])\n"
   ]
  },
  {
   "cell_type": "code",
   "execution_count": null,
   "metadata": {
    "deletable": false,
    "editable": false
   },
   "outputs": [],
   "source": [
    "## Student Priactice #6\n",
    "## output the 5th to the 10th countries in reverse order.\n",
    "\n",
    "print(countries[-6:-12:-1])\n"
   ]
  },
  {
   "cell_type": "code",
   "execution_count": null,
   "metadata": {
    "deletable": false,
    "editable": false
   },
   "outputs": [],
   "source": [
    "## Student Priactice #7\n",
    "## add Hong Kong and Macau to the end of the list.\n",
    "\n",
    "countries.append(\"Hong Kong\")\n",
    "countries.append(\"Macau\")\n",
    "print(countries)\n"
   ]
  },
  {
   "cell_type": "code",
   "execution_count": null,
   "metadata": {
    "deletable": false,
    "editable": false
   },
   "outputs": [],
   "source": [
    "# Student Priactice #8\n",
    "## remove the countries Angola from the list.\n",
    "\n",
    "del countries[-14]\n",
    "print(countries)\n"
   ]
  },
  {
   "cell_type": "code",
   "execution_count": null,
   "metadata": {
    "deletable": false,
    "editable": false
   },
   "outputs": [],
   "source": [
    "## Student Priactice #9\n",
    "## insert Korea after Brazil.\n",
    "\n",
    "countries.insert(3, \"Korea\")\n",
    "print(countries)\n"
   ]
  },
  {
   "cell_type": "code",
   "execution_count": null,
   "metadata": {
    "deletable": false,
    "editable": false
   },
   "outputs": [],
   "source": [
    "## Student Priactice #10\n",
    "## sort the list in ascending order\n",
    "\n",
    "countries.sort()\n",
    "print(countries)\n"
   ]
  },
  {
   "cell_type": "markdown",
   "metadata": {
    "deletable": false,
    "editable": false
   },
   "source": [
    "---------------------------------\n",
    "\n",
    "<h3 style=\"color:blue;\"><b>Tuple in Python</b></h3>\n",
    "<ul style=\"color:SlateBlue;\">\n",
    "    <li>Tuples, like lists, are ordered sequences of items.</li>\n",
    "    <li>The main difference between tuples and lists are that tuples cannot be modified directly.</li>\n",
    "    <li>Tuples have no append, extend, or insert methods.</li>\n",
    "    <li>The other list functions and methods apply to tuples, and its items can be accessed by indices.</li>\n",
    "    <li>Tuples also can be sliced, concatenated, and repeated.</li>\n",
    "    <li>Tuples are written as comma-separated sequences enclosed in parentheses.</li>\n",
    "    <li>The following two statements used to define a tuple</li>\n",
    "    <span style=\"color:white;\">.....</span><span style=\"color:DodgerBlue;\">t = ('a', 'b', 'c')</span><br>\n",
    "<span style=\"color:white;\">.....</span><span style=\"color:DodgerBlue;\">t = 'a', 'b', 'c'</span>\n",
    "    <li>print functions always display tuples enclosed in parentheses.</li>\n",
    "    </ul>\n"
   ]
  },
  {
   "cell_type": "markdown",
   "metadata": {
    "deletable": false,
    "editable": false
   },
   "source": [
    "<h3 style=\"color:blue;\"><b>Nested Lists</b></h3>\n",
    "<ul style=\"color:SlateBlue;\">\n",
    "    <li>items also can be lists or tuples. Lists of tuples play a prominent role in analyzing data.</li>\n",
    "    </ul>\n",
    "\n",
    "------------------------------"
   ]
  },
  {
   "cell_type": "code",
   "execution_count": null,
   "metadata": {
    "deletable": false,
    "editable": false
   },
   "outputs": [],
   "source": [
    "regions = [(\"Macau\", 55.3), (\"Taipa\", 66.9), (\"Coloane\", 114.6), (\"Cotai\", 71.9)]\n",
    "print(\"The 2010 population of\", regions[1][0], \"was\", regions[1][1], \"thousand.\")\n",
    "print(\"The 2010 population of\", regions[3][0], \"was\", regions[3][1], \"thousand.\")\n",
    "\n",
    "totalPop = regions[0][1] + regions[1][1] + regions[2][1] + regions[3][1]\n",
    "print(\"\\nTotal 2010 population of Macau: {0:.1f} thousand.\".format(totalPop))\n"
   ]
  },
  {
   "cell_type": "markdown",
   "metadata": {
    "deletable": false,
    "editable": false
   },
   "source": [
    "-------------------------------------\n",
    "\n",
    "<h3 style=\"color:blue;\"><b>Copying Lists</b></h3>\n",
    "<ul style=\"color:SlateBlue;\">\n",
    "    <li>If the variable var1 has a mutable value (such as a list), a statement of the form var2 = var1 results in var2 referencing the same object as var1.</li>\n",
    "    <li>Any change to the value of var2 affects the value of var1.</li>\n",
    "    <li>Objects that can be changed in place are called mutable, objects that cannot be changed in place are called immutable.</li>\n",
    "    <li>Consider the four lines of codes in the cell below:</li>\n",
    "    </ul>\n",
    "\n",
    "--------------------------------------"
   ]
  },
  {
   "cell_type": "code",
   "execution_count": null,
   "metadata": {
    "deletable": false,
    "editable": false
   },
   "outputs": [],
   "source": [
    "list1 = ['a', 'b'] # Lists are mutable objects.\n",
    "list2 = list1      # list2 will point to the same memory location as list1\n",
    "list2[1] = 'c'     # Changes the value of the second item in the list object\n",
    "print(list1)\n"
   ]
  },
  {
   "cell_type": "markdown",
   "metadata": {
    "deletable": false,
    "editable": false
   },
   "source": [
    "------------------------\n",
    "\n",
    "<h3 style=\"color:red;\"><b>Student Practice</b></h3>\n",
    "\n",
    "<p style=\"color:SlateBlue;\">In the empty cell below, write a program segment that count the number of words in this practical exercise definition and list all the words out in ascending order as well as in descending.</p> <p style=\"color:red;\">Optional but strongly suggested: Try to use functions for each functionality in your solution.</p>\n",
    "\n",
    "-------------------------------"
   ]
  },
  {
   "cell_type": "code",
   "execution_count": null,
   "metadata": {
    "deletable": false,
    "editable": false
   },
   "outputs": [],
   "source": [
    "sPD = \"\"\"Student Practice - In the empty cell below, write a \n",
    "program segment that count the number of words in this practical \n",
    "exercise definition and list all the words out in ascending \n",
    "order as well as in descending.\"\"\"\n"
   ]
  },
  {
   "cell_type": "code",
   "execution_count": null,
   "metadata": {
    "deletable": false,
    "editable": false
   },
   "outputs": [],
   "source": [
    "## Function remove the punctuations\n",
    "def removePunctuations(list):\n",
    "    punctuations = ('.', ',', ':', \";\", \"?\", \"!\", \"-\", \"$\", \"%\", \"&\", \"#\", \"@\")\n",
    "    for puc in punctuations:\n",
    "        list = list.replace(puc, \"\") \n",
    "    return(list)\n"
   ]
  },
  {
   "cell_type": "code",
   "execution_count": null,
   "metadata": {
    "deletable": false,
    "editable": false
   },
   "outputs": [],
   "source": [
    "## Function capture the unique words from a list of words\n",
    "def collectUniqueWords(list):\n",
    "    uList = []\n",
    "    for word in list:\n",
    "        if word not in uList:  ## word already exist skip\n",
    "            uList.append(word)\n",
    "    \n",
    "    return(uList)        \n",
    "        "
   ]
  },
  {
   "cell_type": "code",
   "execution_count": null,
   "metadata": {
    "deletable": false,
    "editable": false
   },
   "outputs": [],
   "source": [
    "## Function to display the words in a list\n",
    "def displayList(desc, list):\n",
    "    print(desc)\n",
    "    for word in list:\n",
    "        print(\"{} - \".format(word), end=\"\")\n",
    "    print(\"\\n\")\n",
    "    "
   ]
  },
  {
   "cell_type": "code",
   "execution_count": null,
   "metadata": {
    "deletable": false,
    "editable": false
   },
   "outputs": [],
   "source": [
    "## Remove all punctuations, if exists\n",
    "sPD = removePunctuations(sPD) \n",
    "\n",
    "sPD.lower()                    # Convert all words in lower case\n",
    "wList = sPD.split()            # Split the words in string as list of words\n",
    "\n",
    "## Collect all words in list uniquely\n",
    "wList = collectUniqueWords(wList)\n",
    "\n",
    "## Output the result in ascending order\n",
    "wList.sort()\n",
    "displayList(\"The unique words in the paragraph in ascending order:\", wList)\n",
    "\n",
    "# Output the result in descending order\n",
    "wList.reverse()\n",
    "displayList(\"The unique words in the paragraph in descending order:\", wList)\n"
   ]
  }
 ],
 "metadata": {
  "kernelspec": {
   "display_name": "Python 3",
   "language": "python",
   "name": "python3"
  },
  "language_info": {
   "codemirror_mode": {
    "name": "ipython",
    "version": 3
   },
   "file_extension": ".py",
   "mimetype": "text/x-python",
   "name": "python",
   "nbconvert_exporter": "python",
   "pygments_lexer": "ipython3",
   "version": "3.7.6"
  }
 },
 "nbformat": 4,
 "nbformat_minor": 4
}
