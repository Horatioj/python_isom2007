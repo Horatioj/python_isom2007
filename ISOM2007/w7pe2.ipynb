{
 "cells": [
  {
   "cell_type": "markdown",
   "metadata": {
    "deletable": false,
    "editable": false
   },
   "source": [
    "----------------------------------------------\n",
    "\n",
    "<p style=\"color:blue;\">So far, the output of our programs has been displayed on the screen and eventually gone when we refreshed the screen. But most real-life applications, we want the output to be preserved in files in permanent storage (such as on a hard drive) that will be available for later use.</p>\n"
   ]
  },
  {
   "cell_type": "markdown",
   "metadata": {
    "deletable": false,
    "editable": false
   },
   "source": [
    "------------------------------\n",
    "\n",
    "<h3 style=\"color:blue;\"><b>Reading Text File</b></h3>\n",
    "<ul style=\"color:DodgerBlue;\">\n",
    "    <li>A statement of the form</li>\n",
    "    <span style=\"color:white;\">.....</span><span style=\"color:brown;\">infile = open(fileName, 'r')</span><br>\n",
    "<span style=\"color:DodgerBlue;\">establishes a connection between the program and the file that allows the program to read data from the file.</span>\n",
    "    <li> After a text file is opened for reading, a for loop with header</li>\n",
    "    <span style=\"color:white;\">.....</span><span style=\"color:brown;\">for line in infile:</span><br>\n",
    "    <span style=\"color:DodgerBlue;\">accesses the lines of the file in succession.</span>\n",
    "    <li>The statement</li>\n",
    "    <span style=\"color:white;\">.....</span><span style=\"color:brown;\">listVar = [line.rstrip() for line in infile]</span><br>\n",
    "    <span style=\"color:DodgerBlue;\">creates a list of strings where each item of the list is a <span style=\"color:brown;\">line</span> of the file minus its <span style=\"color:brown;\">newline</span> character.</span>\n",
    "    <li>At any time, the connection from the program to the file can be terminated with the statement</li>\n",
    "    <span style=\"color:white;\">.....</span><span style=\"color:brown;\">infile.close()</span>\n",
    "    <li>Files are usually automatically closed when the functions in which they were opened terminate, we will explicitly close all files when we have finished using them.</li>\n",
    "    </ul>\n",
    "\n",
    "----------------------------------------"
   ]
  },
  {
   "cell_type": "code",
   "execution_count": 5,
   "metadata": {},
   "outputs": [
    {
     "name": "stdout",
     "output_type": "stream",
     "text": [
      "So far, the output of our programs has been displayed on the screen and\n",
      "eventually lost. In most real-life applications, we want the output to\n",
      "be preserved in files in permanent storage that will be available for\n",
      "later use. Word processors and spreadsheets are two types of programs\n",
      "whose output must be preserved and accessed at a later time. \n"
     ]
    }
   ],
   "source": [
    "## input line by line that including newline\n",
    "infile = open(\"InputFile.txt\", 'r')\n",
    "\n",
    "for line in infile:\n",
    "    if line[-1] == '\\n':\n",
    "        line = line[:-2]\n",
    "    print (line)\n",
    "    \n",
    "infile.close()"
   ]
  },
  {
   "cell_type": "code",
   "execution_count": 2,
   "metadata": {},
   "outputs": [
    {
     "name": "stdout",
     "output_type": "stream",
     "text": [
      "['So far, the output of our programs has been displayed on the screen and', 'eventually lost. In most real-life applications, we want the output to', 'be preserved in files in permanent storage that will be available for', 'later use. Word processors and spreadsheets are two types of programs', 'whose output must be preserved and accessed at a later time.']\n",
      "\n",
      "So far, the output of our programs has been displayed on the screen and\n",
      "eventually lost. In most real-life applications, we want the output to\n",
      "be preserved in files in permanent storage that will be available for\n",
      "later use. Word processors and spreadsheets are two types of programs\n",
      "whose output must be preserved and accessed at a later time.\n"
     ]
    }
   ],
   "source": [
    "## Input file as a string of lines\n",
    "infile = open(\"InputFile.txt\", 'r')\n",
    "listVar = [line.rstrip() for line in infile]\n",
    "print(listVar)\n",
    "print()\n",
    "\n",
    "for i in range(len(listVar)):\n",
    "    print (listVar[i])\n",
    "    \n",
    "infile.close()"
   ]
  },
  {
   "cell_type": "markdown",
   "metadata": {
    "deletable": false,
    "editable": false
   },
   "source": [
    "-----------------------------\n",
    "\n",
    "<h3 style=\"color:blue;\"><b>Reading Text File (cont'd)</b></h3>\n",
    "<ul style=\"color:DodgerBlue;\">\n",
    "    <li>A file that is open for reading can also be accessed with the <span style=\"color:brown;\">read</span> and <span style=\"color:brown;\">readline</span> methods.</li>\n",
    "    <li>A statement of the form</li>\n",
    "    <span style=\"color:white;\">.....</span><span style=\"color:brown;\">strVar = infile.read()</span><br>\n",
    "    <span style=\"color:Dodger;\">places the entire contents of the file into a single string.</span>\n",
    "    </ul>\n",
    "    \n",
    "------------------------------------"
   ]
  },
  {
   "cell_type": "code",
   "execution_count": 6,
   "metadata": {},
   "outputs": [
    {
     "name": "stdout",
     "output_type": "stream",
     "text": [
      "So far, the output of our programs has been displayed on the screen and \n",
      "eventually lost. In most real-life applications, we want the output to \n",
      "be preserved in files in permanent storage that will be available for \n",
      "later use. Word processors and spreadsheets are two types of programs \n",
      "whose output must be preserved and accessed at a later time. \n",
      "\n",
      "['So far, the output of our programs has been displayed on the screen and ', 'eventually lost. In most real-life applications, we want the output to ', 'be preserved in files in permanent storage that will be available for ', 'later use. Word processors and spreadsheets are two types of programs ', 'whose output must be preserved and accessed at a later time. ']\n"
     ]
    }
   ],
   "source": [
    "## input the file as a long string including the newline\n",
    "infile = open('InputFile.txt', 'r')\n",
    "strVar = infile.read()\n",
    "print (strVar)\n",
    "print ()\n",
    "\n",
    "linVar = strVar.split(\"\\n\")   # split the string by the \"\\n\"\n",
    "print(linVar)\n",
    "\n",
    "infile.close()"
   ]
  },
  {
   "cell_type": "markdown",
   "metadata": {
    "deletable": false,
    "editable": false
   },
   "source": [
    "-----------------------\n",
    "\n",
    "<h3 style=\"color:blue;\"><b>Reading Text File (cont'd)</b></h3>\n",
    "<ul style=\"color:DodgerBlue;\">\n",
    "    <li>When a text file is opened for input, a pointer is set to the beginning of the first line of the file. Each time a statement of the form</li>\n",
    "    <span style=\"color:white;\">.....</span><span style=\"color:brown;\">strVar = infile.readline()</span><br>\n",
    "    <span style=\"color:DodgerBlue;\">is executed, the current line is assigned to <span style=\"color:brown;\">strVar</span> and the pointer advances to the end of that line.</span>\n",
    "    <li>After all the lines of the file have been read, the <span style=\"color:brown;\">readline</span> method returns the empty string.</li>\n",
    "    </ul>\n",
    "    \n",
    "---------------------------------------"
   ]
  },
  {
   "cell_type": "code",
   "execution_count": 9,
   "metadata": {},
   "outputs": [
    {
     "name": "stdout",
     "output_type": "stream",
     "text": [
      "So far, the output of our programs has been displayed on the screen and \n",
      "\n",
      "eventually lost. In most real-life applications, we want the output to \n",
      "\n",
      "be preserved in files in permanent storage that will be available for \n",
      "\n",
      "later use. Word processors and spreadsheets are two types of programs \n",
      "\n",
      "whose output must be preserved and accessed at a later time. \n"
     ]
    }
   ],
   "source": [
    "## input file line by line not including the newline\n",
    "infile = open(\"InputFile.txt\", 'r')\n",
    "\n",
    "line = infile.readline()\n",
    "while line != \"\":\n",
    "    print(line, end=\"\\n\")\n",
    "    line = infile.readline()\n",
    "    \n",
    "infile.close()\n"
   ]
  },
  {
   "cell_type": "markdown",
   "metadata": {
    "deletable": false,
    "editable": false
   },
   "source": [
    "-----------------------------\n",
    "\n",
    "<h3 style=\"color:red;\"><b>Student Practice</b></h3>\n",
    "\n",
    "<p style=\"color:DodgerBlue;\">In the cell below fill-in the missing codings in un-completed functions that for counting the number of words and the occurence of each word from an input text file \"w7pe2TextFile.txt\". Assume it is not case sensitive, that means the word \"An\" and \"an\" are considered to be the same.</p>\n",
    "\n",
    "------------------------------------"
   ]
  },
  {
   "cell_type": "code",
   "execution_count": 8,
   "metadata": {},
   "outputs": [
    {
     "ename": "UnicodeDecodeError",
     "evalue": "'utf-8' codec can't decode byte 0xa1 in position 35: invalid start byte",
     "output_type": "error",
     "traceback": [
      "\u001b[1;31m---------------------------------------------------------------------------\u001b[0m",
      "\u001b[1;31mUnicodeDecodeError\u001b[0m                        Traceback (most recent call last)",
      "\u001b[1;32m<ipython-input-8-fb971abfaa9d>\u001b[0m in \u001b[0;36m<module>\u001b[1;34m\u001b[0m\n\u001b[0;32m     44\u001b[0m '''\n\u001b[0;32m     45\u001b[0m \u001b[1;31m## input the content of text file as a string\u001b[0m\u001b[1;33m\u001b[0m\u001b[1;33m\u001b[0m\u001b[1;33m\u001b[0m\u001b[0m\n\u001b[1;32m---> 46\u001b[1;33m \u001b[0mfileData\u001b[0m \u001b[1;33m=\u001b[0m \u001b[0mInputTextFile\u001b[0m\u001b[1;33m(\u001b[0m\u001b[1;34m\"w7pe2TextFile.txt\"\u001b[0m\u001b[1;33m)\u001b[0m\u001b[1;33m\u001b[0m\u001b[1;33m\u001b[0m\u001b[0m\n\u001b[0m\u001b[0;32m     47\u001b[0m \u001b[1;33m\u001b[0m\u001b[0m\n\u001b[0;32m     48\u001b[0m \u001b[1;31m## remove punctuations\u001b[0m\u001b[1;33m\u001b[0m\u001b[1;33m\u001b[0m\u001b[1;33m\u001b[0m\u001b[0m\n",
      "\u001b[1;32m<ipython-input-8-fb971abfaa9d>\u001b[0m in \u001b[0;36mInputTextFile\u001b[1;34m(FileName)\u001b[0m\n\u001b[0;32m      6\u001b[0m     '''\n\u001b[0;32m      7\u001b[0m     \u001b[1;32mwith\u001b[0m \u001b[0mopen\u001b[0m\u001b[1;33m(\u001b[0m\u001b[0mFileName\u001b[0m\u001b[1;33m,\u001b[0m \u001b[0mencoding\u001b[0m \u001b[1;33m=\u001b[0m \u001b[1;34m'utf-8'\u001b[0m\u001b[1;33m)\u001b[0m \u001b[1;32mas\u001b[0m \u001b[0minfile\u001b[0m\u001b[1;33m:\u001b[0m\u001b[1;33m\u001b[0m\u001b[1;33m\u001b[0m\u001b[0m\n\u001b[1;32m----> 8\u001b[1;33m         \u001b[1;32mfor\u001b[0m \u001b[0mline\u001b[0m \u001b[1;32min\u001b[0m \u001b[0minfile\u001b[0m\u001b[1;33m.\u001b[0m\u001b[0mreadlines\u001b[0m\u001b[1;33m(\u001b[0m\u001b[1;33m)\u001b[0m\u001b[1;33m:\u001b[0m\u001b[1;33m\u001b[0m\u001b[1;33m\u001b[0m\u001b[0m\n\u001b[0m\u001b[0;32m      9\u001b[0m             \u001b[0mprint\u001b[0m\u001b[1;33m(\u001b[0m\u001b[0mline\u001b[0m\u001b[1;33m,\u001b[0m \u001b[0mend\u001b[0m\u001b[1;33m=\u001b[0m\u001b[1;34m'\\n'\u001b[0m\u001b[1;33m)\u001b[0m\u001b[1;33m\u001b[0m\u001b[1;33m\u001b[0m\u001b[0m\n\u001b[0;32m     10\u001b[0m     \u001b[0minfile\u001b[0m\u001b[1;33m.\u001b[0m\u001b[0mclose\u001b[0m\u001b[1;33m(\u001b[0m\u001b[1;33m)\u001b[0m\u001b[1;33m\u001b[0m\u001b[1;33m\u001b[0m\u001b[0m\n",
      "\u001b[1;32mC:\\ProgramData\\Anaconda3\\lib\\codecs.py\u001b[0m in \u001b[0;36mdecode\u001b[1;34m(self, input, final)\u001b[0m\n\u001b[0;32m    320\u001b[0m         \u001b[1;31m# decode input (taking the buffer into account)\u001b[0m\u001b[1;33m\u001b[0m\u001b[1;33m\u001b[0m\u001b[1;33m\u001b[0m\u001b[0m\n\u001b[0;32m    321\u001b[0m         \u001b[0mdata\u001b[0m \u001b[1;33m=\u001b[0m \u001b[0mself\u001b[0m\u001b[1;33m.\u001b[0m\u001b[0mbuffer\u001b[0m \u001b[1;33m+\u001b[0m \u001b[0minput\u001b[0m\u001b[1;33m\u001b[0m\u001b[1;33m\u001b[0m\u001b[0m\n\u001b[1;32m--> 322\u001b[1;33m         \u001b[1;33m(\u001b[0m\u001b[0mresult\u001b[0m\u001b[1;33m,\u001b[0m \u001b[0mconsumed\u001b[0m\u001b[1;33m)\u001b[0m \u001b[1;33m=\u001b[0m \u001b[0mself\u001b[0m\u001b[1;33m.\u001b[0m\u001b[0m_buffer_decode\u001b[0m\u001b[1;33m(\u001b[0m\u001b[0mdata\u001b[0m\u001b[1;33m,\u001b[0m \u001b[0mself\u001b[0m\u001b[1;33m.\u001b[0m\u001b[0merrors\u001b[0m\u001b[1;33m,\u001b[0m \u001b[0mfinal\u001b[0m\u001b[1;33m)\u001b[0m\u001b[1;33m\u001b[0m\u001b[1;33m\u001b[0m\u001b[0m\n\u001b[0m\u001b[0;32m    323\u001b[0m         \u001b[1;31m# keep undecoded input until the next call\u001b[0m\u001b[1;33m\u001b[0m\u001b[1;33m\u001b[0m\u001b[1;33m\u001b[0m\u001b[0m\n\u001b[0;32m    324\u001b[0m         \u001b[0mself\u001b[0m\u001b[1;33m.\u001b[0m\u001b[0mbuffer\u001b[0m \u001b[1;33m=\u001b[0m \u001b[0mdata\u001b[0m\u001b[1;33m[\u001b[0m\u001b[0mconsumed\u001b[0m\u001b[1;33m:\u001b[0m\u001b[1;33m]\u001b[0m\u001b[1;33m\u001b[0m\u001b[1;33m\u001b[0m\u001b[0m\n",
      "\u001b[1;31mUnicodeDecodeError\u001b[0m: 'utf-8' codec can't decode byte 0xa1 in position 35: invalid start byte"
     ]
    }
   ],
   "source": [
    "def InputTextFile (FileName):\n",
    "    '''\n",
    "    \n",
    "    place the coding for this function here\n",
    "    \n",
    "    '''\n",
    "def RemovePunctuations (listData):\n",
    "    punctuations = ('.', ',', ':', \";\", \"?\", \"!\", \"-\", \"$\", \"&\", \"#\", \"@\", \"~\", \")\", \"(\", '\"', \"'\", \"%\")\n",
    "    \n",
    "    listData = listData.lower()\n",
    "    for puc in punctuations:\n",
    "        listData = listData.replace(puc, \" \")\n",
    "    return(listData)\n",
    "    \"\"\"\n",
    "    \n",
    "    place the coding for this function here\n",
    "    \n",
    "    \"\"\"\n",
    "\n",
    "    \n",
    "def DetermineFreq (fileData):\n",
    "    fileData.count()\n",
    "    \"\"\"\n",
    "    \n",
    "    place the coding for this function here\n",
    "    \n",
    "    \"\"\"\n",
    "\n",
    "    \n",
    "def DisplayFreq (dictData):\n",
    "    print(fileData)\n",
    "    \"\"\"\n",
    "    \n",
    "    place the coding for this function here\n",
    "    \n",
    "    \"\"\"    \n",
    "    \n",
    "\n",
    "'''\n",
    "Main program, which call the various funtions to do the works\n",
    "'''\n",
    "## input the content of text file as a string\n",
    "fileData = InputTextFile(\"w7pe2TextFile.txt\")\n",
    "    \n",
    "## remove punctuations\n",
    "fileData = RemovePunctuations(fileData)\n",
    "    \n",
    "## Determine the frequent of words in the file\n",
    "dictFreq = DetermineFreq(fileData)\n",
    "    \n",
    "## Display the frequent of words in the file\n",
    "DisplayFreq (dictFreq)\n",
    "      "
   ]
  },
  {
   "cell_type": "markdown",
   "metadata": {
    "deletable": false,
    "editable": false
   },
   "source": [
    "-----------------------------\n",
    "\n",
    "<h3 style=\"color:red;\"><b>Student Practice</b></h3>\n",
    "\n",
    "<p style=\"color:DodgerBlue;\">In the empty cell below, modify the previous Student Practice that count the number of words and the occurence of each word in the given text file \"w7pe2TextFile.txt\". Assume it is not case sensitive, that means the word \"An\" and \"an\" are considered to be the same. But use another input methods for inputting the contents of the file.</p>\n",
    "\n",
    "------------------------------------"
   ]
  },
  {
   "cell_type": "code",
   "execution_count": null,
   "metadata": {},
   "outputs": [],
   "source": []
  }
 ],
 "metadata": {
  "kernelspec": {
   "display_name": "Python 3",
   "language": "python",
   "name": "python3"
  },
  "language_info": {
   "codemirror_mode": {
    "name": "ipython",
    "version": 3
   },
   "file_extension": ".py",
   "mimetype": "text/x-python",
   "name": "python",
   "nbconvert_exporter": "python",
   "pygments_lexer": "ipython3",
   "version": "3.8.5"
  }
 },
 "nbformat": 4,
 "nbformat_minor": 4
}
